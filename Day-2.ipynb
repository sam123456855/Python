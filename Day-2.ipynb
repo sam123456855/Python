{
 "cells": [
  {
   "cell_type": "code",
   "execution_count": 6,
   "id": "7b94427d-51f8-4736-9309-6c8c674685b0",
   "metadata": {},
   "outputs": [
    {
     "name": "stdout",
     "output_type": "stream",
     "text": [
      "1\n",
      "we\n",
      "99.33\n",
      "7\n",
      "9\n",
      "3\n",
      "2\n",
      "1\n",
      "5\n",
      "True\n",
      "2239560704368\n",
      "2239560704368\n"
     ]
    }
   ],
   "source": [
    "list1 = [1,\"we\", 99.33, 7,9,3,2,1,5, True]\n",
    "\n",
    "for i in list1:\n",
    "    print(i)\n",
    "\n",
    "#id is same for strings but not for lists\n",
    "\n",
    "s1 = \"helooworld\"\n",
    "s2 = s1[:]\n",
    "print(id(s1))\n",
    "print(id(s2))"
   ]
  },
  {
   "cell_type": "code",
   "execution_count": 7,
   "id": "896e6dee-64c8-454e-a0ec-23fe56395903",
   "metadata": {},
   "outputs": [
    {
     "name": "stdout",
     "output_type": "stream",
     "text": [
      "False\n"
     ]
    }
   ],
   "source": [
    "#id is same for strings but not for lists\n",
    "\n",
    "list2 = list1[:]\n",
    "print(id(list1) == id(list2))\n"
   ]
  },
  {
   "cell_type": "code",
   "execution_count": 8,
   "id": "d9363b09-b813-4ce3-bd86-d9d63b4bf27a",
   "metadata": {},
   "outputs": [
    {
     "name": "stdout",
     "output_type": "stream",
     "text": [
      "[1, 2, 3, 'a', 'b', 'c']\n"
     ]
    }
   ],
   "source": [
    "l1 = [1,2,3]\n",
    "l2 = ['a', 'b', 'c']\n",
    "\n",
    "print(l1+l2)"
   ]
  },
  {
   "cell_type": "code",
   "execution_count": 9,
   "id": "7d297f2b-0808-4a03-ac97-8fdbfe37aade",
   "metadata": {},
   "outputs": [
    {
     "name": "stdout",
     "output_type": "stream",
     "text": [
      "['a', 'b', 'c', 'a', 'b', 'c', 'a', 'b', 'c']\n",
      "[1, 2, 3, 1, 2, 3, 1, 2, 3]\n"
     ]
    }
   ],
   "source": [
    "l3 = l2*3\n",
    "print(l3)\n",
    "l3 = l1*3\n",
    "print(l3)"
   ]
  },
  {
   "cell_type": "code",
   "execution_count": 19,
   "id": "3bb1196f-e013-4baa-9234-81fd25936deb",
   "metadata": {},
   "outputs": [
    {
     "name": "stdout",
     "output_type": "stream",
     "text": [
      "Nanthandaleo..leodas\n",
      "Nan,,than,,da,,leo..,,leo,,das\n",
      "Nan than da leo.. leo das\n"
     ]
    }
   ],
   "source": [
    "l3 = ['Nan', 'than', 'da', 'leo..', 'leo', 'das']\n",
    "str=\"\"\n",
    "for i in l3:\n",
    "    str+=i\n",
    "print(str)\n",
    "\n",
    "#\n",
    "print(\",,\".join(l3))\n",
    "\n",
    "print(\" \".join(l3))\n"
   ]
  },
  {
   "cell_type": "code",
   "execution_count": 49,
   "id": "a0583475-9ecc-4233-84fc-28162a97c16c",
   "metadata": {},
   "outputs": [
    {
     "ename": "ModuleNotFoundError",
     "evalue": "No module named 'str'",
     "output_type": "error",
     "traceback": [
      "\u001b[31m---------------------------------------------------------------------------\u001b[39m",
      "\u001b[31mModuleNotFoundError\u001b[39m                       Traceback (most recent call last)",
      "\u001b[36mCell\u001b[39m\u001b[36m \u001b[39m\u001b[32mIn[49]\u001b[39m\u001b[32m, line 1\u001b[39m\n\u001b[32m----> \u001b[39m\u001b[32m1\u001b[39m \u001b[38;5;28;01mimport\u001b[39;00m\u001b[38;5;250m \u001b[39m\u001b[34;01mstr\u001b[39;00m\n\u001b[32m      2\u001b[39m list1 = [\u001b[32m1\u001b[39m,\u001b[33m\"\u001b[39m\u001b[33mwe\u001b[39m\u001b[33m\"\u001b[39m, \u001b[32m99.33\u001b[39m, \u001b[32m7\u001b[39m,\u001b[32m9\u001b[39m,\u001b[32m3\u001b[39m,\u001b[32m2\u001b[39m,\u001b[32m1\u001b[39m,\u001b[32m5\u001b[39m, \u001b[38;5;28;01mTrue\u001b[39;00m]\n\u001b[32m      4\u001b[39m joined = \u001b[33m\"\u001b[39m\u001b[33m \u001b[39m\u001b[33m\"\u001b[39m.join([\u001b[38;5;28mstr\u001b[39m(x) \u001b[38;5;28;01mfor\u001b[39;00m x \u001b[38;5;129;01min\u001b[39;00m list1])\n",
      "\u001b[31mModuleNotFoundError\u001b[39m: No module named 'str'"
     ]
    }
   ],
   "source": [
    "list1 = [1,\"we\", 99.33, 7,9,3,2,1,5, True]\n",
    "\n",
    "joined = \" \".join([str(x) for x in list1])"
   ]
  },
  {
   "cell_type": "code",
   "execution_count": 36,
   "id": "633ee850-2a4d-49f6-868c-afa61b69fdd9",
   "metadata": {},
   "outputs": [
    {
     "name": "stdout",
     "output_type": "stream",
     "text": [
      "2239567132096\n",
      "2239567132096\n",
      "['Nan', 'than', 'da', 'leo..', 'leo', 'boss']\n",
      "['Nan', 'than', 'da', 'leo..', 'leo', 'boss']\n"
     ]
    }
   ],
   "source": [
    "l3 = ['Nan', 'than', 'da', 'leo..', 'leo', 'das']\n",
    "\n",
    "l4 = l3 #same object\n",
    "\n",
    "print(id(l3))\n",
    "print(id(l4))\n",
    "#same id same object\n",
    "\n",
    "l4[-1] = 'boss'\n",
    "print(l3)\n",
    "print(l4)"
   ]
  },
  {
   "cell_type": "code",
   "execution_count": 37,
   "id": "ef58a28e-533e-4787-99d7-c69cb14d0d58",
   "metadata": {},
   "outputs": [
    {
     "name": "stdout",
     "output_type": "stream",
     "text": [
      "2239567259264\n",
      "2239567340416\n",
      "['Nan', 'than', 'da', 'leo..', 'leo', 'das']\n",
      "['Nan', 'than', 'da', 'leo..', 'leo', 'boss']\n"
     ]
    }
   ],
   "source": [
    "l3 = ['Nan', 'than', 'da', 'leo..', 'leo', 'das']\n",
    "\n",
    "l4 = l3[:] #Different object\n",
    "\n",
    "print(id(l3))\n",
    "print(id(l4))\n",
    "#different id different object\n",
    "\n",
    "\n",
    "l4[-1] = 'boss'\n",
    "print(l3)\n",
    "print(l4)"
   ]
  },
  {
   "cell_type": "code",
   "execution_count": 45,
   "id": "9d0248f2-3c22-4b18-869b-8c2a2bd4b058",
   "metadata": {},
   "outputs": [
    {
     "name": "stdout",
     "output_type": "stream",
     "text": [
      "[1, 2, 3, [99, 100], 5, 6, 7]\n",
      "[1, 2, 3, [99, 100], 5, 6, 7]\n",
      "[1, 2, 3, [99, 1000], 5, 6, 7]\n",
      "[1, 2, 3, [99, 1000], 5, 6, 7]\n",
      "[1, 2, 33, [99, 1000], 5, 6, 7]\n",
      "[1, 2, 3, [99, 1000], 5, 6, 7]\n"
     ]
    }
   ],
   "source": [
    "#shallow copy & deep copy (opposites)\n",
    "\n",
    "l1 = [1,2,3,[99,99],5,6,7]\n",
    "l2 = l1[:]\n",
    "\n",
    "l1[3][1] = 100\n",
    "print(l1)\n",
    "print(l2)\n",
    "\n",
    "l2[3][1] = 1000\n",
    "print(l1)\n",
    "print(l2)\n",
    "\n",
    "l1[2] = 33\n",
    "print(l1)\n",
    "print(l2)"
   ]
  },
  {
   "cell_type": "code",
   "execution_count": 52,
   "id": "cfb3ba18-91e7-4c82-876c-2cb80d13f2a1",
   "metadata": {},
   "outputs": [
    {
     "name": "stdout",
     "output_type": "stream",
     "text": [
      "2239568161856\n",
      "2239568123264\n",
      "[1, 2, 3, [99, 100], 5, 6, 7]\n",
      "[1, 2, 3, [99, 99], 5, 6, 7]\n",
      "[1, 2, 3, [99, 100], 5, 6, 7]\n",
      "[1, 2, 3, [99, 1000], 5, 6, 7]\n",
      "[1, 2, 33, [99, 100], 5, 6, 7]\n",
      "[1, 2, 3, [99, 1000], 5, 6, 7]\n"
     ]
    }
   ],
   "source": [
    "from copy import deepcopy\n",
    "\n",
    "l1 = [1,2,3,[99,99],5,6,7]\n",
    "l2 = deepcopy(l1)\n",
    "\n",
    "print(id(l1))\n",
    "print(id(l2))\n",
    "\n",
    "l1[3][1] = 100\n",
    "print(l1)\n",
    "print(l2)\n",
    "\n",
    "l2[3][1] = 1000\n",
    "print(l1)\n",
    "print(l2)\n",
    "\n",
    "l1[2] = 33\n",
    "print(l1)\n",
    "print(l2)\n",
    "#deep copy - both lists and inner elements will get different references \n",
    "\n"
   ]
  },
  {
   "cell_type": "code",
   "execution_count": 72,
   "id": "1d6736a3-b482-4ae5-82fe-9830c4db6314",
   "metadata": {},
   "outputs": [
    {
     "name": "stdout",
     "output_type": "stream",
     "text": [
      "7\n"
     ]
    }
   ],
   "source": [
    "li1 = [1,2,3,4]\n",
    "li1.extend([5,6,7]) # extends expects the parameter to be an sequence\n",
    "print(len(li1))  # only iterable object can be used for extend method"
   ]
  },
  {
   "cell_type": "code",
   "execution_count": 75,
   "id": "3f612782-f7b2-4c2d-90c1-e966454cd148",
   "metadata": {},
   "outputs": [
    {
     "name": "stdout",
     "output_type": "stream",
     "text": [
      "[1, 2, 3, 4, 5, 6, 7]\n",
      "[1, 2, 3, 4, 5, 6, 7, 'H', 'e', 'l', 'l', 'o']\n",
      "[1, 2, 3, 4, 5, 6, 7, 'H', 'e', 'l', 'l', 'o', 1, 2, 3]\n"
     ]
    }
   ],
   "source": [
    "li1 = [1,2,3,4]\n",
    "li1.extend([5,6,7])\n",
    "print(li1)\n",
    "\n",
    "#li1.extend(8)  TypeError: 'int' object is not iterable\n",
    "li1.extend(\"Hello\")\n",
    "print(li1)\n",
    "\n",
    "li1.extend({1:\"hi\", 2:\"hello\", 3:\"bye\"})\n",
    "print(li1)"
   ]
  },
  {
   "cell_type": "code",
   "execution_count": 78,
   "id": "b674d6b0-ea0f-4852-9faa-fb3309dc0439",
   "metadata": {},
   "outputs": [
    {
     "name": "stdout",
     "output_type": "stream",
     "text": [
      "[1, 2, 0, 3, 4]\n",
      "[1, 2, 0, 3, 4, 99]\n"
     ]
    }
   ],
   "source": [
    "li1 = [1,2,3,4]\n",
    "li1.insert(2,0) #2nd index value 0 (index, value to be inserted)\n",
    "print(li1)\n",
    "li1.insert(7,99) #99 gets added at the end of the list\n",
    "print(li1)"
   ]
  },
  {
   "cell_type": "code",
   "execution_count": 84,
   "id": "9901a36b-6292-4d70-9db2-f92b35689888",
   "metadata": {},
   "outputs": [
    {
     "name": "stdout",
     "output_type": "stream",
     "text": [
      "length of the list is 4\n",
      "popped element: 44\n",
      "length of the list is 3\n"
     ]
    }
   ],
   "source": [
    "#methods to remove elements from list\n",
    "\n",
    "#pop - removes the last element if called without any argument\n",
    "li1 = [11,22,33,44]\n",
    "print(f\"length of the list is {len(li1)}\")\n",
    "x=li1.pop()\n",
    "print(f\"popped element: {x}\")\n",
    "print(f\"length of the list is {len(li1)}\")\n",
    "\n",
    "#when the argument in the pop exceeds the index of the list then there will be a error \n",
    "#- IndexError: pop index out of range"
   ]
  },
  {
   "cell_type": "code",
   "execution_count": 88,
   "id": "fcb760b2-d32b-490c-8080-5d6600e7ffb9",
   "metadata": {},
   "outputs": [
    {
     "name": "stdout",
     "output_type": "stream",
     "text": [
      "[11, 33, 44, 22]\n"
     ]
    }
   ],
   "source": [
    "#remove - takes values as arguments and removes the first occurance of the element\n",
    "\n",
    "li1 = [11,22,33,44,22]\n",
    "li1.remove(22)\n",
    "print(li1)\n",
    "\n",
    "#if the value is not in the list.. then  - ValueError: list.remove.(x): x not in the list"
   ]
  },
  {
   "cell_type": "code",
   "execution_count": 91,
   "id": "92c0aeac-4b1d-483b-88ca-daef388080cb",
   "metadata": {},
   "outputs": [
    {
     "name": "stdout",
     "output_type": "stream",
     "text": [
      "[1, 2, 3, 4, 5, 3, 5, 2, 5, 7, 5, 3, 45, 5, 3, 3, 4, 6, 5, 5]\n",
      "[1, 2, 3, 4, 3, 5, 2, 5, 7, 5, 3, 45, 5, 3, 3, 4, 6, 5, 5]\n",
      "[1, 2, 3, 4, 3, 2, 5, 7, 5, 3, 45, 5, 3, 3, 4, 6, 5, 5]\n",
      "[1, 2, 3, 4, 3, 2, 7, 5, 3, 45, 5, 3, 3, 4, 6, 5, 5]\n",
      "[1, 2, 3, 4, 3, 2, 7, 3, 45, 5, 3, 3, 4, 6, 5, 5]\n",
      "[1, 2, 3, 4, 3, 2, 7, 3, 45, 3, 3, 4, 6, 5, 5]\n",
      "[1, 2, 3, 4, 3, 2, 7, 3, 45, 3, 3, 4, 6, 5]\n",
      "[1, 2, 3, 4, 3, 2, 7, 3, 45, 3, 3, 4, 6]\n"
     ]
    }
   ],
   "source": [
    "l1 = [1,2,3,4,5,5,3,5,2,5,7,5,3,45,5,3,3,4,6,5,5]\n",
    "\n",
    "while 5 in l1:\n",
    "    l1.remove(5)\n",
    "    print(l1)"
   ]
  },
  {
   "cell_type": "code",
   "execution_count": 94,
   "id": "079b2897-5510-4799-8e62-c43770ed95d4",
   "metadata": {},
   "outputs": [
    {
     "name": "stdout",
     "output_type": "stream",
     "text": [
      "[1, 2, 3, 4, 3, 2, 7, 3, 45, 3, 3, 4, 6]\n"
     ]
    }
   ],
   "source": [
    "l1 = [1,2,3,4,5,5,3,5,2,5,7,5,3,45,5,3,3,4,6,5,5]\n",
    "\n",
    "while True:\n",
    "    try:\n",
    "        l1.remove(5)\n",
    "    except ValueError:\n",
    "        break\n",
    "print(l1)"
   ]
  },
  {
   "cell_type": "code",
   "execution_count": 95,
   "id": "d47a8640-118d-4060-b7cc-1feb7bbee39a",
   "metadata": {},
   "outputs": [
    {
     "name": "stdout",
     "output_type": "stream",
     "text": [
      "[1, 2, 3, 4, 3, 2, 7, 3, 45, 3, 3, 4, 6]\n"
     ]
    }
   ],
   "source": [
    "l1 = [1,2,3,4,5,5,3,5,2,5,7,5,3,45,5,3,3,4,6,5,5]\n",
    "l1 = [x for x in l1 if x!= 5]\n",
    "print(l1)"
   ]
  },
  {
   "cell_type": "code",
   "execution_count": 96,
   "id": "bdf988ab-d911-466c-a043-38801882a25c",
   "metadata": {},
   "outputs": [
    {
     "name": "stdout",
     "output_type": "stream",
     "text": [
      "<class 'tuple'>\n",
      "(20, 'python', 'ruby', 'cpp', 30)\n"
     ]
    }
   ],
   "source": [
    "#Tuple element cannot be modified\n",
    "#tuple can be override\n",
    "\n",
    "t1 = 20, 'python', 'ruby', 'cpp' , 30\n",
    "print(type(t1))\n",
    "print(t1)\n"
   ]
  },
  {
   "cell_type": "code",
   "execution_count": 99,
   "id": "5050bd38-f8ee-4f08-b9d6-986ec3d10abf",
   "metadata": {},
   "outputs": [
    {
     "name": "stdout",
     "output_type": "stream",
     "text": [
      "4\n",
      "10\n",
      "7.0\n",
      "3\n"
     ]
    }
   ],
   "source": [
    "t2 = (10,9,8,7,6,5,4)\n",
    "\n",
    "print(min(t2))\n",
    "print(max(t2))\n",
    "print(sum(t2)/len(t2))\n",
    "print(t2.index(7))"
   ]
  },
  {
   "cell_type": "code",
   "execution_count": 107,
   "id": "9b0a96e1-22dd-434d-a533-e78a1f2ac073",
   "metadata": {},
   "outputs": [
    {
     "name": "stdout",
     "output_type": "stream",
     "text": [
      "[2, 3, 4, 5, 6, 8, 10]\n",
      "not sequence\n"
     ]
    }
   ],
   "source": [
    "l1 = [2,4,6,8]\n",
    "l2 = [3,5,10]\n",
    "\n",
    "l1.extend(l2)\n",
    "l1.sort()\n",
    "print(l1)\n",
    "\n",
    "i=0\n",
    "x=0\n",
    "for i in range(0,len(l1)-1):\n",
    "    if not l1[i+1]-l1[i] == 1:\n",
    "        x+=1\n",
    "        break\n",
    "if x == 0:\n",
    "    print(\"sequence\")\n",
    "else:\n",
    "    print(\"not sequence\")"
   ]
  },
  {
   "cell_type": "code",
   "execution_count": 108,
   "id": "90204579-7626-4d37-9b8d-09a1b4cf81e4",
   "metadata": {},
   "outputs": [
    {
     "name": "stdout",
     "output_type": "stream",
     "text": [
      "not seq\n"
     ]
    }
   ],
   "source": [
    "l3 = [x for x in range(l1[0], l1[-1]+1)]\n",
    "if l1 == l3:\n",
    "    print(\"seq\")\n",
    "else:\n",
    "    print(\"not seq\")"
   ]
  },
  {
   "cell_type": "code",
   "execution_count": 112,
   "id": "275fdc9e-9b22-48e0-8fe7-1f7acd69caac",
   "metadata": {},
   "outputs": [],
   "source": [
    "li = [1,2,3,4,5,6,\"word\",77,44,77,33,22,\"hi\",23,12,43,45]\n",
    "#li.sort() TypeError: '<' not supported between instances of 'str' and 'int'"
   ]
  },
  {
   "cell_type": "code",
   "execution_count": 111,
   "id": "52fc62b2-6099-4ea3-9c54-45469f5b926e",
   "metadata": {},
   "outputs": [
    {
     "ename": "TypeError",
     "evalue": "'str' object is not callable",
     "output_type": "error",
     "traceback": [
      "\u001b[31m---------------------------------------------------------------------------\u001b[39m",
      "\u001b[31mTypeError\u001b[39m                                 Traceback (most recent call last)",
      "\u001b[36mCell\u001b[39m\u001b[36m \u001b[39m\u001b[32mIn[111]\u001b[39m\u001b[32m, line 3\u001b[39m\n\u001b[32m      1\u001b[39m new = []\n\u001b[32m      2\u001b[39m \u001b[38;5;28;01mfor\u001b[39;00m element \u001b[38;5;129;01min\u001b[39;00m li:\n\u001b[32m----> \u001b[39m\u001b[32m3\u001b[39m     new.append(\u001b[38;5;28;43mstr\u001b[39;49m\u001b[43m(\u001b[49m\u001b[43melement\u001b[49m\u001b[43m)\u001b[49m)\n\u001b[32m      4\u001b[39m \u001b[38;5;28mprint\u001b[39m(new)\n",
      "\u001b[31mTypeError\u001b[39m: 'str' object is not callable"
     ]
    }
   ],
   "source": [
    "new = []\n",
    "for element in li:\n",
    "    new.append(str(element))\n",
    "print(new)"
   ]
  },
  {
   "cell_type": "code",
   "execution_count": 113,
   "id": "1b2f033e-bf88-40c5-9afd-a940f4c58a1f",
   "metadata": {},
   "outputs": [
    {
     "ename": "TypeError",
     "evalue": "'str' object is not callable",
     "output_type": "error",
     "traceback": [
      "\u001b[31m---------------------------------------------------------------------------\u001b[39m",
      "\u001b[31mTypeError\u001b[39m                                 Traceback (most recent call last)",
      "\u001b[36mCell\u001b[39m\u001b[36m \u001b[39m\u001b[32mIn[113]\u001b[39m\u001b[32m, line 1\u001b[39m\n\u001b[32m----> \u001b[39m\u001b[32m1\u001b[39m \u001b[43mli\u001b[49m\u001b[43m.\u001b[49m\u001b[43msort\u001b[49m\u001b[43m(\u001b[49m\u001b[43mkey\u001b[49m\u001b[43m=\u001b[49m\u001b[38;5;28;43mstr\u001b[39;49m\u001b[43m)\u001b[49m\n\u001b[32m      2\u001b[39m \u001b[38;5;28mprint\u001b[39m(li)\n",
      "\u001b[31mTypeError\u001b[39m: 'str' object is not callable"
     ]
    }
   ],
   "source": [
    "li.sort(key=str)\n",
    "print(li)"
   ]
  },
  {
   "cell_type": "code",
   "execution_count": 114,
   "id": "94d94582-c893-45f9-bedb-7c983ab87e03",
   "metadata": {},
   "outputs": [
    {
     "name": "stdout",
     "output_type": "stream",
     "text": [
      "[1, 2, 3, 4, 5, 6, 12, 22, 23, 33, 43, 44, 45, 77, 77]\n"
     ]
    }
   ],
   "source": [
    "li = [1,2,3,4,5,6,\"word\",77,44,77,33,22,\"hi\",23,12,43,45]\n",
    "\n",
    "print(sorted([x for x in li if type(x) is int]))"
   ]
  },
  {
   "cell_type": "code",
   "execution_count": 115,
   "id": "a82b76a9-a448-4506-ab97-388b43e6816b",
   "metadata": {},
   "outputs": [
    {
     "data": {
      "text/plain": [
       "[['ali', 20, 'geo'],\n",
       " ['kar', 33, 'sci'],\n",
       " ['kim', 45, 'bio'],\n",
       " ['ram', 22, 'math']]"
      ]
     },
     "execution_count": 115,
     "metadata": {},
     "output_type": "execute_result"
    }
   ],
   "source": [
    "bigg = [['kim', 45, 'bio'],['kar',33,'sci'],['ali', 20, 'geo'],['ram', 22, 'math']]\n",
    "bigg.sort()\n",
    "bigg"
   ]
  },
  {
   "cell_type": "code",
   "execution_count": 121,
   "id": "6d75e2cb-0ecf-421d-8af9-7e651434440b",
   "metadata": {},
   "outputs": [
    {
     "name": "stdout",
     "output_type": "stream",
     "text": [
      "[['ali', 20, 'geo'], ['ram', 22, 'math'], ['kar', 33, 'sci'], ['kim', 45, 'bio']]\n",
      "[['kim', 45, 'bio'], ['ali', 20, 'geo'], ['ram', 22, 'math'], ['kar', 33, 'sci']]\n"
     ]
    }
   ],
   "source": [
    "#sorting based on the function (particular element in a list)\n",
    "\n",
    "def mark(x):\n",
    "    return x[1]\n",
    "def sub(x):\n",
    "    return x[2]\n",
    "bigg.sort(key = mark)\n",
    "print(bigg)\n",
    "\n",
    "bigg.sort(key = sub)\n",
    "print(bigg)"
   ]
  },
  {
   "cell_type": "code",
   "execution_count": 122,
   "id": "cba4470b-f942-4a3d-8838-63070a037952",
   "metadata": {},
   "outputs": [],
   "source": [
    "#sort() is a list method, only used for lists\n",
    "#sorted() is an inbuilt method which is used for the lists, tuples, dictionaries"
   ]
  },
  {
   "cell_type": "code",
   "execution_count": 125,
   "id": "aea6d9f7-99e2-424f-997c-129239e9d351",
   "metadata": {},
   "outputs": [
    {
     "name": "stdout",
     "output_type": "stream",
     "text": [
      "{'name': 'sam', 'age': 6, 'class': 'first'}\n"
     ]
    }
   ],
   "source": [
    "# dictionary - created with {}\n",
    "#              value can be any valid python object\n",
    "#              key should be unique and immutable\n",
    "\n",
    "d1 = {'name' : 'alice', 'age': 6 , 'class':'first', 'name': 'sam'}\n",
    "\n",
    "print(d1)"
   ]
  },
  {
   "cell_type": "code",
   "execution_count": 126,
   "id": "a4332ba5-1dee-43ce-9d03-3248f46ae153",
   "metadata": {},
   "outputs": [
    {
     "name": "stdout",
     "output_type": "stream",
     "text": [
      "{'name': 'sam', 'age': 22, 'class': 'first'}\n"
     ]
    }
   ],
   "source": [
    "#modify key\n",
    "\n",
    "d1['age'] = 22 #dict[key] = Value\n",
    "print(d1)"
   ]
  },
  {
   "cell_type": "code",
   "execution_count": 127,
   "id": "82be7307-f91f-4e0e-b886-fa60b75020cd",
   "metadata": {},
   "outputs": [
    {
     "data": {
      "text/plain": [
       "{'name': 'sam', 'age': 22, 'class': 'first', 'lname': 'raj'}"
      ]
     },
     "execution_count": 127,
     "metadata": {},
     "output_type": "execute_result"
    }
   ],
   "source": [
    "d1['lname'] = 'raj'\n",
    "d1"
   ]
  },
  {
   "cell_type": "code",
   "execution_count": 130,
   "id": "0a698222-4426-4d99-aa7d-ba50dce96c42",
   "metadata": {},
   "outputs": [
    {
     "data": {
      "text/plain": [
       "{'name': 'alice', 'age': 6, 'class': 'first', 'school': 'velammal', 'rank': 1}"
      ]
     },
     "execution_count": 130,
     "metadata": {},
     "output_type": "execute_result"
    }
   ],
   "source": [
    "#Dictionary concatenation\n",
    "\n",
    "d1 = {'name' : 'alice', 'age': 6 , 'class':'first'}\n",
    "d2 = {'school' : 'velammal', 'rank': 1}\n",
    "\n",
    "'''for k in d2.keys():\n",
    "       d1[k]=d2[k]'''\n",
    "d1.update(d2) #internally, the above mentioned code happens\n",
    "d1"
   ]
  },
  {
   "cell_type": "code",
   "execution_count": 131,
   "id": "3d179561-217a-414f-b98e-97847fd91ebe",
   "metadata": {},
   "outputs": [
    {
     "name": "stdout",
     "output_type": "stream",
     "text": [
      "{'name': 'alice', 'age': 6, 'class': 'first', 'school': 'sboa', 'rank': 20}\n"
     ]
    }
   ],
   "source": [
    "d1 = {'name' : 'alice', 'age': 6 , 'class':'first'}\n",
    "\n",
    "d2 = [('school', 'sboa'),('rank', 20)] # non dictionary\n",
    "#List of tuples of 2 elements\n",
    "\n",
    "d1.update(d2)\n",
    "print(d1)"
   ]
  },
  {
   "cell_type": "code",
   "execution_count": 132,
   "id": "708e68af-bf09-4ece-a54d-500c415f4863",
   "metadata": {},
   "outputs": [
    {
     "name": "stdout",
     "output_type": "stream",
     "text": [
      "{'name': 'alice', 'age': 6, 'class': 'first', 'school': 'velammal', 'rank': 1}\n"
     ]
    }
   ],
   "source": [
    "d1 = {'name' : 'alice', 'age': 6 , 'class':'first'}\n",
    "d2 = {'school' : 'velammal', 'rank': 1}\n",
    "\n",
    "d1 = {**d1, **d2}\n",
    "print(d1)"
   ]
  },
  {
   "cell_type": "code",
   "execution_count": 134,
   "id": "774e78c4-dc0b-42ca-8a3f-68505c7424fa",
   "metadata": {},
   "outputs": [
    {
     "name": "stdout",
     "output_type": "stream",
     "text": [
      "name=alice\n",
      "age=6\n",
      "class=first\n",
      "school=velammal\n",
      "rank=1\n"
     ]
    }
   ],
   "source": [
    "#iteration in dictionaries\n",
    "for k,v in d1.items():\n",
    "    print(f\"{k}={v}\")"
   ]
  },
  {
   "cell_type": "code",
   "execution_count": 136,
   "id": "1b46a8d6-75dd-40e8-a35f-a6bf487a405e",
   "metadata": {},
   "outputs": [
    {
     "name": "stdout",
     "output_type": "stream",
     "text": [
      "name = alice\n",
      "age = 6\n",
      "class = first\n",
      "school = velammal\n",
      "rank = 1\n"
     ]
    }
   ],
   "source": [
    "for k in d1.keys():\n",
    "    print(k,\"=\",d1[k])"
   ]
  },
  {
   "cell_type": "code",
   "execution_count": 139,
   "id": "7e0f7e74-9d18-4ad9-87d5-6bb89a3346d5",
   "metadata": {},
   "outputs": [
    {
     "name": "stdout",
     "output_type": "stream",
     "text": [
      "alice\n",
      "first\n",
      "pimbilikka\n"
     ]
    }
   ],
   "source": [
    "#get method\n",
    "\n",
    "print(d1.get('name'))\n",
    "print(d1.get('class'))\n",
    "print(d1.get('lname', 'pimbilikka')) #Default value"
   ]
  },
  {
   "cell_type": "code",
   "execution_count": 140,
   "id": "d8ed5fb9-bc3b-428c-86d4-c2a3db11dddd",
   "metadata": {},
   "outputs": [
    {
     "ename": "SyntaxError",
     "evalue": "invalid syntax (1791386551.py, line 2)",
     "output_type": "error",
     "traceback": [
      "  \u001b[36mCell\u001b[39m\u001b[36m \u001b[39m\u001b[32mIn[140]\u001b[39m\u001b[32m, line 2\u001b[39m\n\u001b[31m    \u001b[39m\u001b[31mif r.\u001b[39m\n         ^\n\u001b[31mSyntaxError\u001b[39m\u001b[31m:\u001b[39m invalid syntax\n"
     ]
    }
   ],
   "source": [
    "r= requests.get(\"https://reqres.in/api/users?page=2\")\n",
    "if r."
   ]
  },
  {
   "cell_type": "code",
   "execution_count": 146,
   "id": "f21cb2fa-55bc-414f-8554-bc9a51e392a8",
   "metadata": {},
   "outputs": [
    {
     "name": "stdout",
     "output_type": "stream",
     "text": [
      "4\n",
      "4\n",
      "1\n",
      "1\n",
      "balanced\n"
     ]
    }
   ],
   "source": [
    "s1 = \"{{}{{}}()}\"\n",
    "x = len(s1)\n",
    "o1=0\n",
    "o2=0\n",
    "c1=0\n",
    "c2=0\n",
    "for i in range(x):\n",
    "    if(s1[i] == '{'):\n",
    "        o1+=1\n",
    "    elif(s1[i] == '}'):\n",
    "        c1+=1\n",
    "    elif(s1[i] == '('):\n",
    "        o2+=1\n",
    "    elif(s1[i] == ')'):\n",
    "        c2+=1\n",
    "\n",
    "print(o1)\n",
    "print(c1)\n",
    "print(o2)\n",
    "print(c2)\n",
    "\n",
    "if o1==c1 and o2 == c2:\n",
    "    print(\"balanced\")\n",
    "else:\n",
    "    print(\"Not balanced\")"
   ]
  },
  {
   "cell_type": "code",
   "execution_count": 153,
   "id": "be81be8c-1db6-4cbe-a3ed-9e540395978f",
   "metadata": {},
   "outputs": [
    {
     "name": "stdout",
     "output_type": "stream",
     "text": [
      "balanced\n"
     ]
    }
   ],
   "source": [
    "s1 = \"{{}{{{{}\"\n",
    "s=[]\n",
    "d={'{':'}','[':']','(':')'}\n",
    "for char in s1:\n",
    "    if char in d:\n",
    "        s.append(char)\n",
    "    else:\n",
    "        t=s.pop()\n",
    "        if char != d[t]:\n",
    "            print(\"not balanced\")\n",
    "            break\n",
    "else:\n",
    "    print(\"balanced\")\n",
    "    "
   ]
  },
  {
   "cell_type": "code",
   "execution_count": null,
   "id": "be7c4f9d-90e8-4c47-b692-47975eaf023e",
   "metadata": {},
   "outputs": [],
   "source": [
    "s1 = \"{{}{{}}()}\"\n",
    "x = len(s1)\n",
    "\n",
    "for i in range(x):\n",
    "    for j in range(x-i)"
   ]
  },
  {
   "cell_type": "code",
   "execution_count": null,
   "id": "61771b95-fb4a-4e68-b3d2-37dd3a4ba478",
   "metadata": {},
   "outputs": [],
   "source": []
  },
  {
   "cell_type": "code",
   "execution_count": null,
   "id": "3cac33a8-a06e-42ea-83dc-e9c3972a458e",
   "metadata": {},
   "outputs": [],
   "source": []
  },
  {
   "cell_type": "code",
   "execution_count": null,
   "id": "6f4385ba-a72d-4d1e-9fd6-ee28dd02d36d",
   "metadata": {},
   "outputs": [],
   "source": []
  },
  {
   "cell_type": "code",
   "execution_count": null,
   "id": "7d404ee0-c483-4fc2-9b16-f1725803a5ce",
   "metadata": {},
   "outputs": [],
   "source": []
  },
  {
   "cell_type": "code",
   "execution_count": null,
   "id": "ebb1df7b-5d16-4d1a-91e3-8117232cf9d1",
   "metadata": {},
   "outputs": [],
   "source": []
  },
  {
   "cell_type": "code",
   "execution_count": null,
   "id": "4dfe4de6-534e-49a6-85f0-b5ff9e75edc1",
   "metadata": {},
   "outputs": [],
   "source": []
  },
  {
   "cell_type": "code",
   "execution_count": null,
   "id": "08a3d01a-5347-4a7c-9f2b-ba04b096c65e",
   "metadata": {},
   "outputs": [],
   "source": []
  },
  {
   "cell_type": "code",
   "execution_count": null,
   "id": "f4c35a6e-a0e2-42e5-aad5-67467546d9cb",
   "metadata": {},
   "outputs": [],
   "source": []
  },
  {
   "cell_type": "code",
   "execution_count": null,
   "id": "8a798c2b-c9bf-4ca8-a64c-49db20d5e961",
   "metadata": {},
   "outputs": [],
   "source": []
  },
  {
   "cell_type": "code",
   "execution_count": null,
   "id": "6cdc4b24-942f-40ab-a1c8-4fdff88a3cde",
   "metadata": {},
   "outputs": [],
   "source": []
  }
 ],
 "metadata": {
  "kernelspec": {
   "display_name": "Python 3 (ipykernel)",
   "language": "python",
   "name": "python3"
  },
  "language_info": {
   "codemirror_mode": {
    "name": "ipython",
    "version": 3
   },
   "file_extension": ".py",
   "mimetype": "text/x-python",
   "name": "python",
   "nbconvert_exporter": "python",
   "pygments_lexer": "ipython3",
   "version": "3.13.2"
  }
 },
 "nbformat": 4,
 "nbformat_minor": 5
}
