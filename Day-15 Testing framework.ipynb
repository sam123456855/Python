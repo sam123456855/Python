{
 "cells": [
  {
   "cell_type": "code",
   "execution_count": 2,
   "id": "0bb72e19-16f4-4d78-a43f-aade1ac4084f",
   "metadata": {},
   "outputs": [],
   "source": [
    "# any python file is a modules (modules extension is .py)\n",
    "#modules are used for namespace"
   ]
  },
  {
   "cell_type": "code",
   "execution_count": 4,
   "id": "dd5669fa-637d-4d23-84e2-b4fd002035bd",
   "metadata": {},
   "outputs": [
    {
     "name": "stdout",
     "output_type": "stream",
     "text": [
      "Helloooo\n",
      "100\n"
     ]
    }
   ],
   "source": [
    "import hello\n",
    "'''\n",
    "hello.py\n",
    "def hello():\n",
    "    print(\"Helloooo\")\n",
    "\n",
    "def addd(a,b):\n",
    "    return a+b\n",
    "'''\n",
    "hello.hello()\n",
    "\n",
    "print(hello.addd(90,10))"
   ]
  },
  {
   "cell_type": "code",
   "execution_count": 10,
   "id": "eeae029e-2ef2-453a-a3d3-8642668b0684",
   "metadata": {},
   "outputs": [
    {
     "name": "stdout",
     "output_type": "stream",
     "text": [
      "['C:\\\\Users\\\\prince.s\\\\AppData\\\\Local\\\\Programs\\\\Python\\\\Python313\\\\python313.zip', 'C:\\\\Users\\\\prince.s\\\\AppData\\\\Local\\\\Programs\\\\Python\\\\Python313\\\\DLLs', 'C:\\\\Users\\\\prince.s\\\\AppData\\\\Local\\\\Programs\\\\Python\\\\Python313\\\\Lib', 'C:\\\\Users\\\\prince.s\\\\AppData\\\\Local\\\\Programs\\\\Python\\\\Python313', '', 'C:\\\\Users\\\\prince.s\\\\AppData\\\\Local\\\\Programs\\\\Python\\\\Python313\\\\Lib\\\\site-packages', 'C:\\\\Users\\\\prince.s\\\\AppData\\\\Local\\\\Programs\\\\Python\\\\Python313\\\\Lib\\\\site-packages\\\\win32', 'C:\\\\Users\\\\prince.s\\\\AppData\\\\Local\\\\Programs\\\\Python\\\\Python313\\\\Lib\\\\site-packages\\\\win32\\\\lib', 'C:\\\\Users\\\\prince.s\\\\AppData\\\\Local\\\\Programs\\\\Python\\\\Python313\\\\Lib\\\\site-packages\\\\Pythonwin']\n"
     ]
    }
   ],
   "source": [
    "import sys\n",
    "print(sys.path)"
   ]
  },
  {
   "cell_type": "code",
   "execution_count": 1,
   "id": "b75b84e5-5533-4103-be1c-140d0da2af89",
   "metadata": {},
   "outputs": [
    {
     "data": {
      "text/plain": [
       "'Helloooo'"
      ]
     },
     "execution_count": 1,
     "metadata": {},
     "output_type": "execute_result"
    }
   ],
   "source": [
    "#namespace - __name__ - returns the correct namespace\n",
    "#__name__ - will be equal to __main__ when executed as a script\n",
    "#__name__ - will be equal to module name when imported\n",
    "\n",
    "#AFTER RESTARTING KERNEL \n",
    "#COZ WE MADE CHANGE TO THE hello.py \n",
    "\n",
    "import hello\n",
    "\n",
    "'''\n",
    "def hello():\n",
    "    print(\"Helloooo\")\n",
    "\n",
    "def addd(a,b):\n",
    "    return a+b\n",
    "\n",
    "    print(\"calling from module: \", __name__) #value for  __name__ will be equal to __main__\n",
    "    print(\"callig from module: \",addd(10,100))\n",
    "    print(\"calling from module: \",hello())\n",
    "'''\n",
    "\n",
    "hello.hello()"
   ]
  },
  {
   "cell_type": "code",
   "execution_count": 2,
   "id": "c6562ccb-6cc4-46e5-8233-8c0436d6fded",
   "metadata": {},
   "outputs": [],
   "source": [
    "#use CMD"
   ]
  },
  {
   "cell_type": "code",
   "execution_count": 1,
   "id": "7c6300d8-e3e5-44ff-a18c-ffe939bfdeb2",
   "metadata": {},
   "outputs": [
    {
     "name": "stderr",
     "output_type": "stream",
     "text": [
      "E\n",
      "======================================================================\n",
      "ERROR: C:\\Users\\prince (unittest.loader._FailedTest.C:\\Users\\prince)\n",
      "----------------------------------------------------------------------\n",
      "AttributeError: module '__main__' has no attribute 'C:\\Users\\prince'\n",
      "\n",
      "----------------------------------------------------------------------\n",
      "Ran 1 test in 0.002s\n",
      "\n",
      "FAILED (errors=1)\n"
     ]
    },
    {
     "ename": "SystemExit",
     "evalue": "1",
     "output_type": "error",
     "traceback": [
      "An exception has occurred, use %tb to see the full traceback.\n",
      "\u001b[31mSystemExit\u001b[39m\u001b[31m:\u001b[39m 1\n"
     ]
    },
    {
     "name": "stderr",
     "output_type": "stream",
     "text": [
      "C:\\Users\\prince.s\\AppData\\Local\\Programs\\Python\\Python313\\Lib\\site-packages\\IPython\\core\\interactiveshell.py:3557: UserWarning: To exit: use 'exit', 'quit', or Ctrl-D.\n",
      "  warn(\"To exit: use 'exit', 'quit', or Ctrl-D.\", stacklevel=1)\n"
     ]
    }
   ],
   "source": [
    "#UNIT TEST\n",
    "#INSIDE THE FILE WE CREATE CLASS WHICH IS CALLED TEST SUITE\n",
    "#inside the class we create methods which are called test cases\n",
    "\n",
    "#name of test case should begin with 'test'\n",
    "\n",
    "#class will be created by taking unittest.Testcase as a base class\n",
    "\n",
    "import unittest\n",
    "from isprime import is_prime\n",
    "\n",
    "class TestPrime(unittest.TestCase):\n",
    "    def test_prime(self):\n",
    "        self.assertEqual(is_prime(5), True)\n",
    "\n",
    "if __name__ == '__main__':\n",
    "    unittest.main()"
   ]
  },
  {
   "cell_type": "code",
   "execution_count": 3,
   "id": "f0317467-d7d4-4c03-a12e-4dc0f5d0114b",
   "metadata": {},
   "outputs": [
    {
     "ename": "SyntaxError",
     "evalue": "(unicode error) 'unicodeescape' codec can't decode bytes in position 3-4: truncated \\UXXXXXXXX escape (2873661845.py, line 33)",
     "output_type": "error",
     "traceback": [
      "  \u001b[36mCell\u001b[39m\u001b[36m \u001b[39m\u001b[32mIn[3]\u001b[39m\u001b[32m, line 33\u001b[39m\n\u001b[31m    \u001b[39m\u001b[31m'''\u001b[39m\n    ^\n\u001b[31mSyntaxError\u001b[39m\u001b[31m:\u001b[39m (unicode error) 'unicodeescape' codec can't decode bytes in position 3-4: truncated \\UXXXXXXXX escape\n"
     ]
    }
   ],
   "source": [
    "'''\n",
    "isprime.py\n",
    "\n",
    "def is_prime(num):\n",
    "    for n in range(2,num):\n",
    "        if num%n ==0:\n",
    "            return False\n",
    "    return True\n",
    "'''\n",
    "\n",
    "\n",
    "'''\n",
    "test.py\n",
    "\n",
    "import unittest\n",
    "from isprime import is_prime\n",
    "\n",
    "class TestPrime(unittest.TestCase):\n",
    "    def setUp(self):\n",
    "        pass\n",
    "    def test_prime_1(self):\n",
    "        self.assertEqual(is_prime(5), True)\n",
    "    def test_prime_2(self):\n",
    "        self.assertEqual(is_prime(6), True)\n",
    "    def tearDown(self):\n",
    "        pass\n",
    "if __name__ == '__main__':\n",
    "    unittest.main()\n",
    "'''\n",
    "\n",
    "#in cmd run \"python test.py\"\n",
    "\n",
    "'''\n",
    "C:\\Users\\prince.s\\Documents\\jupyter_files>python test.py\n",
    ".F                                                                           '.' -one pass 'F' -one fail\n",
    "======================================================================\n",
    "FAIL: test_prime_2 (__main__.TestPrime.test_prime_2)\n",
    "----------------------------------------------------------------------\n",
    "Traceback (most recent call last):\n",
    "  File \"C:\\Users\\prince.s\\Documents\\jupyter_files\\test.py\", line 10, in test_prime_2\n",
    "    self.assertEqual(is_prime(6), True)\n",
    "    ~~~~~~~~~~~~~~~~^^^^^^^^^^^^^^^^^^^\n",
    "AssertionError: False != True\n",
    "\n",
    "----------------------------------------------------------------------\n",
    "Ran 2 tests in 0.001s\n",
    "\n",
    "FAILED (failures=1)\n",
    "'''"
   ]
  },
  {
   "cell_type": "code",
   "execution_count": 4,
   "id": "b0a596c6-aaa0-416b-af61-e32105bfc452",
   "metadata": {},
   "outputs": [
    {
     "data": {
      "text/plain": [
       "\"\\n\\nimport unittest\\nfrom isprime import is_prime\\n\\nclass TestPrime(unittest.TestCase):\\n    def setUp(self):\\n        pass\\n    def test_prime_1(self):\\n        self.assertEqual(is_prime(5), True)\\n    def test_prime_2(self):\\n        self.assertEqual(is_prime(3), True)\\n    def test_prime_3(self):\\n        self.assertEqual(is_prime(17), True)\\n    def test_prime_4(self):\\n        self.assertEqual(is_prime(43), True)\\n    def tearDown(self):\\n        pass\\nif __name__ == '__main__':\\n    unittest.main()\\n\\n\""
      ]
     },
     "execution_count": 4,
     "metadata": {},
     "output_type": "execute_result"
    }
   ],
   "source": [
    "'''\n",
    "test.py\n",
    "\n",
    "import unittest\n",
    "from isprime import is_prime\n",
    "\n",
    "class TestPrime(unittest.TestCase):\n",
    "    def setUp(self):\n",
    "        pass\n",
    "    def test_prime_1(self):\n",
    "        self.assertEqual(is_prime(5), True)\n",
    "    def test_prime_2(self):\n",
    "        self.assertEqual(is_prime(3), True)\n",
    "    def test_prime_3(self):\n",
    "        self.assertEqual(is_prime(17), True)\n",
    "    def test_prime_4(self):\n",
    "        self.assertEqual(is_prime(43), True)\n",
    "    def tearDown(self):\n",
    "        pass\n",
    "if __name__ == '__main__':\n",
    "    unittest.main()\n",
    "\n",
    "'''\n",
    "\n",
    "# in CMD \"python test.py\"\n",
    "# output in cmd ---  4 test Ran 4 tests in 0.001s\n",
    "#                    OK\n",
    "\n",
    "'''\n",
    "final - test.py\n",
    "\n",
    "import unittest\n",
    "from isprime import is_prime\n",
    "\n",
    "class TestPrime(unittest.TestCase):\n",
    "    def setUp(self):\n",
    "        print(\"\\n[setUp] Setting up before a test\")\n",
    "    def test_prime_1(self):\n",
    "        self.assertEqual(is_prime(5), True)\n",
    "    def test_prime_2(self):\n",
    "        self.assertEqual(is_prime(3), True)\n",
    "    def test_prime_3(self):\n",
    "        self.assertEqual(is_prime(6), False)\n",
    "    def test_prime_4(self):\n",
    "        self.assertEqual(is_prime(43), True)\n",
    "    def tearDown(self):\n",
    "        print(\"\\n[TearDown] Tearing Down before a test\")\n",
    "if __name__ == '__main__':\n",
    "    unittest.main()\n",
    "\n",
    "in CMD\n",
    "'python test .py'\n",
    "\n",
    "C:\\Users\\prince.s\\Documents\\jupyter_files>python test.py\n",
    "\n",
    "O/P:->\n",
    "[setUp] Setting up before a test\n",
    "\n",
    "[TearDown] Tearing Down before a test\n",
    ".\n",
    "[setUp] Setting up before a test\n",
    "\n",
    "[TearDown] Tearing Down before a test\n",
    ".\n",
    "[setUp] Setting up before a test\n",
    "\n",
    "[TearDown] Tearing Down before a test\n",
    ".\n",
    "[setUp] Setting up before a test\n",
    "\n",
    "[TearDown] Tearing Down before a test\n",
    ".\n",
    "----------------------------------------------------------------------\n",
    "Ran 4 tests in 0.003s\n",
    "\n",
    "OK\n",
    "\n",
    "'''"
   ]
  },
  {
   "cell_type": "code",
   "execution_count": 6,
   "id": "34c4a2df-4b8a-4e88-9ac9-8cf02f7eac41",
   "metadata": {},
   "outputs": [],
   "source": [
    "#pytest\n",
    "#pip install pytest\n",
    "#test cases be placed inside a folder\n",
    "# '.py' name should begin with test\n",
    "#name of test cases should begin or end with 'test_' or '_test' respectively\n"
   ]
  },
  {
   "cell_type": "code",
   "execution_count": 8,
   "id": "569fbd13-45a1-4ff6-b1fa-43d2defda59b",
   "metadata": {},
   "outputs": [
    {
     "ename": "SyntaxError",
     "evalue": "(unicode error) 'unicodeescape' codec can't decode bytes in position 307-308: truncated \\UXXXXXXXX escape (317314425.py, line 1)",
     "output_type": "error",
     "traceback": [
      "  \u001b[36mCell\u001b[39m\u001b[36m \u001b[39m\u001b[32mIn[8]\u001b[39m\u001b[32m, line 1\u001b[39m\n\u001b[31m    \u001b[39m\u001b[31m'''\u001b[39m\n    ^\n\u001b[31mSyntaxError\u001b[39m\u001b[31m:\u001b[39m (unicode error) 'unicodeescape' codec can't decode bytes in position 307-308: truncated \\UXXXXXXXX escape\n"
     ]
    }
   ],
   "source": [
    "'''\n",
    "test2.py\n",
    "\n",
    "import pytest\n",
    "\n",
    "def test_example_method2():\n",
    "    x=5\n",
    "    y=6\n",
    "    assert x+1 == y, \"Fail\"\n",
    "    assert x == y, \"Fail\"\n",
    "\n",
    "\n",
    "\n",
    "test3.py\n",
    "\n",
    "import pytest\n",
    "\n",
    "def test_example_method1():\n",
    "    x=5\n",
    "    y=6\n",
    "    assert x < y, \"Fail\"\n",
    "\n",
    "def test_example_method3():\n",
    "    x=10\n",
    "    y=6\n",
    "    assert x > y, \"Fail\"\n",
    "\n",
    "in CMD\n",
    "\n",
    "'cd C:\\Users\\prince.s\\Documents\\jupyter_files\\Testings'  #go to the directory where there are test python files(pytest)\n",
    "\n",
    "\"py.test\"   #runs all the py files and tests the assertion errors\n",
    "\n",
    "\"py.test test_2.py\"   #for particular file\n",
    "(test_2.py contains one method and test_3.py contains 2 methods)\n",
    "\n",
    "\"py.test -k method2\"     #To run a particular method in that directory(C:\\Users\\prince.s\\Documents\\jupyter_files\\Testings)\n",
    "\n",
    "'''"
   ]
  },
  {
   "cell_type": "code",
   "execution_count": null,
   "id": "d55cef2c-3455-4b75-9b56-7730e1ab249a",
   "metadata": {},
   "outputs": [],
   "source": [
    "#fixtures\n",
    "#Fixtures are used when we want to run some code before every test method\n",
    "#so, instead of repeating the same code in every test we define fixtures.\n",
    "#usually, fixtures are used to initialize database connections, pass the base, etc..\n",
    "\n",
    "'''\n",
    "test_4.py\n",
    "\n",
    "import pytest\n",
    "@pytest.fixture\n",
    "\n",
    "def supply_AA_BB_CC():\n",
    "    aa=25\n",
    "    bb=35\n",
    "    cc=45\n",
    "    return [aa,bb,cc]\n",
    "\n",
    "def test_compareAA(supply_AA_BB_CC):\n",
    "    zz=35\n",
    "    assert supply_AA_BB_CC[0] == zz, \"aa and zz comparison failed\"\n",
    "\n",
    "def test_compareBB(supply_AA_BB_CC):\n",
    "    zz=35\n",
    "    assert supply_AA_BB_CC[1] == zz, \"bb and zz comparison failed\"\n",
    "\n",
    "def test_compareCC(supply_AA_BB_CC):\n",
    "    zz=35\n",
    "    assert supply_AA_BB_CC[2] == zz, \"cc and zz comparison failed\"\n",
    "\n",
    "in CMD: py.test test_4.py\n",
    "'''\n",
    "\n",
    "\n",
    "#O/P\n",
    "\n",
    "'''\n",
    "=============================================== test session starts ================================================\n",
    "platform win32 -- Python 3.13.2, pytest-8.3.5, pluggy-1.5.0\n",
    "rootdir: C:\\Users\\prince.s\\Documents\\jupyter_files\\Testings\n",
    "plugins: anyio-4.9.0\n",
    "collected 3 items\n",
    "\n",
    "test_4.py F.F                                                                                                 [100%]\n",
    "\n",
    "===================================================== FAILURES =====================================================\n",
    "__________________________________________________ test_compareAA __________________________________________________\n",
    "\n",
    "supply_AA_BB_CC = [25, 35, 45]\n",
    "\n",
    "    def test_compareAA(supply_AA_BB_CC):\n",
    "        zz=35\n",
    ">       assert supply_AA_BB_CC[0] == zz, \"aa and zz comparison failed\"\n",
    "E       AssertionError: aa and zz comparison failed\n",
    "E       assert 25 == 35\n",
    "\n",
    "test_4.py:12: AssertionError\n",
    "__________________________________________________ test_compareCC __________________________________________________\n",
    "\n",
    "supply_AA_BB_CC = [25, 35, 45]\n",
    "\n",
    "    def test_compareCC(supply_AA_BB_CC):\n",
    "        zz=35\n",
    ">       assert supply_AA_BB_CC[2] == zz, \"cc and zz comparison failed\"\n",
    "E       AssertionError: cc and zz comparison failed\n",
    "E       assert 45 == 35\n",
    "\n",
    "test_4.py:20: AssertionError\n",
    "============================================= short test summary info ==============================================\n",
    "FAILED test_4.py::test_compareAA - AssertionError: aa and zz comparison failed\n",
    "FAILED test_4.py::test_compareCC - AssertionError: cc and zz comparison failed\n",
    "=========================================== 2 failed, 1 passed in 0.18s ============================================\n",
    "\n",
    "'''"
   ]
  }
 ],
 "metadata": {
  "kernelspec": {
   "display_name": "Python 3 (ipykernel)",
   "language": "python",
   "name": "python3"
  },
  "language_info": {
   "codemirror_mode": {
    "name": "ipython",
    "version": 3
   },
   "file_extension": ".py",
   "mimetype": "text/x-python",
   "name": "python",
   "nbconvert_exporter": "python",
   "pygments_lexer": "ipython3",
   "version": "3.13.2"
  }
 },
 "nbformat": 4,
 "nbformat_minor": 5
}
