{
 "cells": [
  {
   "cell_type": "code",
   "execution_count": 3,
   "id": "aa261563-ae10-44aa-9ec3-a57672069457",
   "metadata": {},
   "outputs": [
    {
     "name": "stdout",
     "output_type": "stream",
     "text": [
      "[1, 2, 3]\n"
     ]
    }
   ],
   "source": [
    "res = list(filter(lambda x: x*x,[x for x in range(4)])) # for x=0, x*x is false, so 0 is not in the list\n",
    "print(res)"
   ]
  },
  {
   "cell_type": "code",
   "execution_count": 4,
   "id": "e0f74839-cabd-476c-b2e1-9e97cbea9f5b",
   "metadata": {},
   "outputs": [
    {
     "name": "stdout",
     "output_type": "stream",
     "text": [
      "[0, 2]\n"
     ]
    }
   ],
   "source": [
    "res = list(filter(lambda x: x%2==0,[x for x in range(4)]))\n",
    "print(res)"
   ]
  },
  {
   "cell_type": "code",
   "execution_count": 5,
   "id": "446ba54a-51d8-4139-b97e-33e5beb620d9",
   "metadata": {},
   "outputs": [
    {
     "name": "stdout",
     "output_type": "stream",
     "text": [
      "[True, False, True, False]\n"
     ]
    }
   ],
   "source": [
    "res = list(map(lambda x: x%2==0,[x for x in range(4)]))\n",
    "print(res)"
   ]
  },
  {
   "cell_type": "code",
   "execution_count": 6,
   "id": "fcd16a9c-59bc-4a2d-87a1-668eb1d8ce17",
   "metadata": {},
   "outputs": [
    {
     "name": "stdout",
     "output_type": "stream",
     "text": [
      "[0, 1, 4, 9]\n"
     ]
    }
   ],
   "source": [
    "res = list(map(lambda x: x*x,[x for x in range(4)]))\n",
    "print(res)"
   ]
  },
  {
   "cell_type": "code",
   "execution_count": 7,
   "id": "d8146fbe-5a74-41c0-b515-c4be65927eac",
   "metadata": {},
   "outputs": [
    {
     "name": "stdout",
     "output_type": "stream",
     "text": [
      "15\n"
     ]
    }
   ],
   "source": [
    "def f():\n",
    "    global x\n",
    "    x=15\n",
    "f()\n",
    "print(x)"
   ]
  },
  {
   "cell_type": "code",
   "execution_count": 8,
   "id": "a4228736-dd1f-443e-b014-729224a0cffd",
   "metadata": {},
   "outputs": [
    {
     "name": "stdout",
     "output_type": "stream",
     "text": [
      "[5, 6, 7, 4, 5]\n",
      "[5, 6, 7, 4, 5]\n"
     ]
    }
   ],
   "source": [
    "a=[5,6,7]\n",
    "b=a\n",
    "a+=[4,5] #works like concatrnation #reference of 'a' not modified\n",
    "print(b)\n",
    "print(a)"
   ]
  },
  {
   "cell_type": "code",
   "execution_count": 9,
   "id": "b411dd11-6a6a-4119-9909-8dac2835b97d",
   "metadata": {},
   "outputs": [
    {
     "name": "stdout",
     "output_type": "stream",
     "text": [
      "[5, 6, 7, 4, 5]\n",
      "[5, 6, 7]\n"
     ]
    }
   ],
   "source": [
    "a=[5,6,7]\n",
    "b=a\n",
    "a = a+ [4,5] #works like extend # reference of 'a' gets modified\n",
    "print(a)\n",
    "print(b)"
   ]
  },
  {
   "cell_type": "code",
   "execution_count": 10,
   "id": "cb2f82df-8642-4b12-96b1-af6d53619a35",
   "metadata": {},
   "outputs": [
    {
     "name": "stdout",
     "output_type": "stream",
     "text": [
      "5\n"
     ]
    },
    {
     "ename": "AttributeError",
     "evalue": "'int' object has no attribute '__iadd__'",
     "output_type": "error",
     "traceback": [
      "\u001b[31m---------------------------------------------------------------------------\u001b[39m",
      "\u001b[31mAttributeError\u001b[39m                            Traceback (most recent call last)",
      "\u001b[36mCell\u001b[39m\u001b[36m \u001b[39m\u001b[32mIn[10]\u001b[39m\u001b[32m, line 5\u001b[39m\n\u001b[32m      2\u001b[39m b=\u001b[32m3\u001b[39m\n\u001b[32m      3\u001b[39m \u001b[38;5;28mprint\u001b[39m(a.\u001b[34m__add__\u001b[39m(b)) \u001b[38;5;66;03m#a+b\u001b[39;00m\n\u001b[32m----> \u001b[39m\u001b[32m5\u001b[39m \u001b[43ma\u001b[49m\u001b[43m.\u001b[49m\u001b[34;43m__iadd__\u001b[39;49m(b) \u001b[38;5;66;03m#a =a+b the operation is in line\u001b[39;00m\n\u001b[32m      6\u001b[39m \u001b[38;5;28mprint\u001b[39m(\u001b[33m\"\u001b[39m\u001b[33mafter __iadd__\u001b[39m\u001b[33m\"\u001b[39m)\n\u001b[32m      7\u001b[39m \u001b[38;5;28mprint\u001b[39m(a)\n",
      "\u001b[31mAttributeError\u001b[39m: 'int' object has no attribute '__iadd__'"
     ]
    }
   ],
   "source": [
    "a=2\n",
    "b=3\n",
    "print(a.__add__(b)) #a+b\n",
    "\n",
    "a.__iadd__(b) #a =a+b the operation is in line\n",
    "print(\"after __iadd__\")\n",
    "print(a)\n",
    "print(b)"
   ]
  },
  {
   "cell_type": "code",
   "execution_count": 16,
   "id": "922e0894-f711-497a-a7c4-fa795ee26326",
   "metadata": {},
   "outputs": [],
   "source": [
    "def find_sum_v1(n):\n",
    "    num,nums = 0,[]\n",
    "    while num <n:\n",
    "        num+=1\n",
    "        nums.append(num)\n",
    "    return nums"
   ]
  },
  {
   "cell_type": "code",
   "execution_count": 17,
   "id": "73299a52-8256-427b-9fb4-8aaa1061d708",
   "metadata": {},
   "outputs": [],
   "source": [
    "def find_sum_v2(n):\n",
    "    num = 0\n",
    "    while num < n:\n",
    "        num+=1\n",
    "        yield num"
   ]
  },
  {
   "cell_type": "code",
   "execution_count": 18,
   "id": "53e27638-50d1-489b-a116-9c80e032fdc9",
   "metadata": {},
   "outputs": [
    {
     "name": "stdout",
     "output_type": "stream",
     "text": [
      "[1, 2, 3, 4, 5, 6, 7, 8, 9]\n",
      "1\n",
      "2\n",
      "3\n",
      "4\n",
      "5\n",
      "6\n",
      "7\n",
      "8\n",
      "9\n"
     ]
    }
   ],
   "source": [
    "g = find_sum_v1(9)\n",
    "f = find_sum_v2(9)\n",
    "print(g)\n",
    "\n",
    "for i in f:\n",
    "    print(i)"
   ]
  },
  {
   "cell_type": "code",
   "execution_count": 19,
   "id": "6f72978f-6bb5-4b6c-98b0-79e9b7474dee",
   "metadata": {},
   "outputs": [
    {
     "name": "stdout",
     "output_type": "stream",
     "text": [
      "100:101:102:"
     ]
    }
   ],
   "source": [
    "L1 = ['a','b','c']\n",
    "\n",
    "for i,char in enumerate(L1,100):  # idex starts from 100 for [a,b,c]\n",
    "    print(i, end = \":\")"
   ]
  },
  {
   "cell_type": "code",
   "execution_count": 20,
   "id": "433531e4-2f39-482c-9973-88bfc265ddde",
   "metadata": {},
   "outputs": [
    {
     "name": "stdout",
     "output_type": "stream",
     "text": [
      "[(0, 0), (0, 1), (0, 2), (1, 0), (1, 1), (1, 2), (2, 0), (2, 1), (2, 2)]\n"
     ]
    }
   ],
   "source": [
    "print([(x,y) for x in range(3) for y in range(3)]) # nested"
   ]
  },
  {
   "cell_type": "code",
   "execution_count": 21,
   "id": "ffc77cfc-75db-4029-9878-7a8459281e48",
   "metadata": {},
   "outputs": [
    {
     "name": "stdout",
     "output_type": "stream",
     "text": [
      "0 2 4 "
     ]
    }
   ],
   "source": [
    "i = 0\n",
    "while i < 6:\n",
    "    if i == 5:\n",
    "        break\n",
    "    print(i,end=\" \")\n",
    "    i += 2"
   ]
  },
  {
   "cell_type": "code",
   "execution_count": 22,
   "id": "82e8ebcc-bf26-4421-9764-fa4ff1652957",
   "metadata": {},
   "outputs": [
    {
     "name": "stdout",
     "output_type": "stream",
     "text": [
      "1 3 "
     ]
    }
   ],
   "source": [
    "i = 1\n",
    "while i < 7:\n",
    "     if i == 5:\n",
    "         break\n",
    "     print(i,end=\" \")\n",
    "     i += 2"
   ]
  },
  {
   "cell_type": "code",
   "execution_count": 23,
   "id": "7d43ef0a-70ac-4e92-bc90-1eabce8ac8a0",
   "metadata": {},
   "outputs": [
    {
     "name": "stdout",
     "output_type": "stream",
     "text": [
      "abcdef"
     ]
    }
   ],
   "source": [
    "list1 = ['a','b','c','d','e','f']\n",
    "for i in range(len(list1)):\n",
    "    print(list1[i],end=\"\")\n",
    "    i+=2"
   ]
  },
  {
   "cell_type": "code",
   "execution_count": 24,
   "id": "0ae3a413-27b9-46f5-83fa-4341ad13ae3c",
   "metadata": {},
   "outputs": [
    {
     "name": "stdout",
     "output_type": "stream",
     "text": [
      "[10, 20, 30]\n"
     ]
    }
   ],
   "source": [
    "def f(x):\n",
    "    x = [50,60,70]\n",
    " \n",
    "m = [10,20,30]\n",
    "f(m)\n",
    "print(m)"
   ]
  },
  {
   "cell_type": "code",
   "execution_count": 25,
   "id": "5b92a754-0271-4917-9c21-898388d3c234",
   "metadata": {},
   "outputs": [
    {
     "name": "stdout",
     "output_type": "stream",
     "text": [
      "[10, 20, 30, 50, 60, 70]\n"
     ]
    }
   ],
   "source": [
    "def f(x):\n",
    "    x.extend([50,60,70])\n",
    " \n",
    "m = [10,20,30]\n",
    "f(m)\n",
    "print(m)"
   ]
  },
  {
   "cell_type": "code",
   "execution_count": 26,
   "id": "80c646e2-f626-4b68-bbf0-166ff195610e",
   "metadata": {},
   "outputs": [
    {
     "name": "stdout",
     "output_type": "stream",
     "text": [
      "()\n"
     ]
    }
   ],
   "source": [
    "def f(*args):\n",
    "    print(args)\n",
    "     \n",
    "f()"
   ]
  },
  {
   "cell_type": "code",
   "execution_count": 27,
   "id": "4dd97ac6-21df-48b6-8372-0a532b33a6d4",
   "metadata": {},
   "outputs": [
    {
     "name": "stdout",
     "output_type": "stream",
     "text": [
      "<class 'int'>\n"
     ]
    }
   ],
   "source": [
    "t1 = (10) # (10,) vantha thaan tuple\n",
    " \n",
    "print(type(t1))"
   ]
  },
  {
   "cell_type": "code",
   "execution_count": 28,
   "id": "8f5d8248-8554-422d-86db-3ab153922822",
   "metadata": {},
   "outputs": [
    {
     "name": "stdout",
     "output_type": "stream",
     "text": [
      "Positive odd number\n"
     ]
    }
   ],
   "source": [
    "num = 45\n",
    " \n",
    "if num > 0:\n",
    "    if num % 2 == 0:\n",
    "        print(\"Positive even number\")\n",
    "    else:\n",
    "        print(\"Positive odd number\")\n",
    "elif num == 0:\n",
    "    print(\"Zero\")\n",
    "else:\n",
    "    print(\"Negative number\")"
   ]
  },
  {
   "cell_type": "code",
   "execution_count": 29,
   "id": "8280abda-9d2c-4859-a09d-f8c8aca5d34a",
   "metadata": {},
   "outputs": [
    {
     "name": "stdout",
     "output_type": "stream",
     "text": [
      "-1\n"
     ]
    }
   ],
   "source": [
    "num = 0\n",
    " \n",
    "while num < 6:\n",
    "    num +=2\n",
    "    if num%2==0:\n",
    "        continue #skipps the below part # starts the loop again\n",
    "    print(num)\n",
    "else:\n",
    "    print(-1)\n",
    "    "
   ]
  },
  {
   "cell_type": "code",
   "execution_count": 30,
   "id": "7c44b33e-1ccd-4e8a-bc54-c20ab52c1262",
   "metadata": {},
   "outputs": [
    {
     "name": "stdout",
     "output_type": "stream",
     "text": [
      "6\n"
     ]
    }
   ],
   "source": [
    "while num < 6: #checks after the num becoms '6'\n",
    "    num += 2\n",
    "    if num%2==0:\n",
    "        continue\n",
    "    print(num)\n",
    " \n",
    "print(num)"
   ]
  },
  {
   "cell_type": "code",
   "execution_count": 31,
   "id": "e66217b9-5632-4dd3-8e1a-6929b4e8bf69",
   "metadata": {},
   "outputs": [
    {
     "name": "stdout",
     "output_type": "stream",
     "text": [
      "0\n"
     ]
    }
   ],
   "source": [
    "num=1\n",
    "\n",
    "while num < 7:\n",
    "    num += 2\n",
    "    if num%2==1:\n",
    "        continue\n",
    "    print(num)\n",
    "else:\n",
    "    print(0)"
   ]
  },
  {
   "cell_type": "code",
   "execution_count": 32,
   "id": "f3eddd74-e15c-442d-b8b3-fccc97651c1a",
   "metadata": {},
   "outputs": [
    {
     "name": "stdout",
     "output_type": "stream",
     "text": [
      "7\n"
     ]
    }
   ],
   "source": [
    "num = 1\n",
    " \n",
    "while num < 7:\n",
    "    num += 2\n",
    "    if num%2==1:\n",
    "        continue\n",
    "    print(num)\n",
    " \n",
    "print(num)"
   ]
  },
  {
   "cell_type": "code",
   "execution_count": 33,
   "id": "1941fe73-16c8-4b88-ace0-b5ab2c77b569",
   "metadata": {},
   "outputs": [
    {
     "name": "stdout",
     "output_type": "stream",
     "text": [
      "2 4 6 "
     ]
    }
   ],
   "source": [
    "num = 0\n",
    " \n",
    "while num < 5:\n",
    "    num += 2\n",
    "    if num%2==1:\n",
    "        continue\n",
    "    print(num,end=\" \")"
   ]
  },
  {
   "cell_type": "code",
   "execution_count": 34,
   "id": "313af8d8-1321-4e30-b60f-1210c4b25c0c",
   "metadata": {},
   "outputs": [
    {
     "name": "stdout",
     "output_type": "stream",
     "text": [
      "False False False "
     ]
    }
   ],
   "source": [
    "def f(n):\n",
    "    if n%2==0:\n",
    "        return True\n",
    "    else:\n",
    "        return False\n",
    " \n",
    "for i in range(1,6,2):\n",
    "    print(f(i),end=\" \")"
   ]
  },
  {
   "cell_type": "code",
   "execution_count": 35,
   "id": "8c9b8ad7-fdcc-4679-a2ec-ca7fd03f770d",
   "metadata": {},
   "outputs": [
    {
     "name": "stdout",
     "output_type": "stream",
     "text": [
      "False False "
     ]
    }
   ],
   "source": [
    "def f(n):\n",
    "    if n%6==0:\n",
    "        return True\n",
    "    else:\n",
    "        return False\n",
    " \n",
    "for i in range(1,20,5):\n",
    "    if i%2==0:\n",
    "        continue\n",
    "    print(f(i),end=\" \")\n",
    " "
   ]
  },
  {
   "cell_type": "code",
   "execution_count": 36,
   "id": "fa56cd76-62a4-4404-99e5-aa380b9d89a0",
   "metadata": {},
   "outputs": [
    {
     "name": "stdout",
     "output_type": "stream",
     "text": [
      "False False False "
     ]
    }
   ],
   "source": [
    "def f(n):\n",
    "    if n%3==0:\n",
    "        return True\n",
    "    else:\n",
    "        return False\n",
    " \n",
    "for i in range(1,10,2):\n",
    "    if i%3==0:\n",
    "        continue\n",
    "    print(f(i),end=\" \")"
   ]
  },
  {
   "cell_type": "code",
   "execution_count": 37,
   "id": "93cd3c8d-919c-4685-b9cc-dad6b9459ed2",
   "metadata": {},
   "outputs": [
    {
     "name": "stdout",
     "output_type": "stream",
     "text": [
      "False False "
     ]
    }
   ],
   "source": [
    "def f(n):\n",
    "    if n%7==0:                     #Check with sir          Qno.19\n",
    "        return True\n",
    "    else:\n",
    "        return False\n",
    " \n",
    "for i in range(1,6,2):\n",
    "    if i%3==0:\n",
    "        continue\n",
    "    print(f(i),end=\" \")"
   ]
  },
  {
   "cell_type": "code",
   "execution_count": 38,
   "id": "9247cd01-b8fe-4fb4-a598-a462f32010d7",
   "metadata": {},
   "outputs": [
    {
     "name": "stdout",
     "output_type": "stream",
     "text": [
      "1 5 3 "
     ]
    }
   ],
   "source": [
    "for i in range(1,6,2):\n",
    "    if i%3==0:\n",
    "        continue\n",
    "    print(i,end=\" \")\n",
    "else:\n",
    "    print(3,end=\" \")"
   ]
  },
  {
   "cell_type": "code",
   "execution_count": 39,
   "id": "c9e6a3b0-54b4-4f8c-9081-330b9ed8339a",
   "metadata": {},
   "outputs": [
    {
     "name": "stdout",
     "output_type": "stream",
     "text": [
      "1 5 3 "
     ]
    }
   ],
   "source": [
    "for i in range(1,11,4):\n",
    "    if i%3==0:\n",
    "        continue\n",
    "    print(i,end=\" \")\n",
    "else:\n",
    "    print(3,end=\" \")"
   ]
  },
  {
   "cell_type": "code",
   "execution_count": 40,
   "id": "4906a83b-430d-472b-b6f8-38d2b0ce6fab",
   "metadata": {},
   "outputs": [
    {
     "name": "stdout",
     "output_type": "stream",
     "text": [
      "5\n"
     ]
    }
   ],
   "source": [
    "def y():                               #No. 22\n",
    "    import random\n",
    "    num = random.randrange(5,20,10) # only 5 and 15.....\n",
    "    return num\n",
    "     \n",
    "v = y()\n",
    "print(v)"
   ]
  },
  {
   "cell_type": "code",
   "execution_count": 41,
   "id": "4159a154-8f1c-459e-844f-6ccecf62993e",
   "metadata": {},
   "outputs": [
    {
     "name": "stdout",
     "output_type": "stream",
     "text": [
      "abc\n"
     ]
    }
   ],
   "source": [
    "def f(x):\n",
    "    w = x.split('@')\n",
    "    return w[0]\n",
    " \n",
    "v = f('abc@example.com')\n",
    "print(v)"
   ]
  },
  {
   "cell_type": "code",
   "execution_count": 42,
   "id": "524f1a2f-059d-4aae-a076-43db6742d061",
   "metadata": {},
   "outputs": [
    {
     "name": "stdout",
     "output_type": "stream",
     "text": [
      "[10, 30, 20]\n"
     ]
    }
   ],
   "source": [
    "list1 = [10,20,30,20] #removes the first '20' from the list \n",
    "list1.remove(20)\n",
    "print(list1)"
   ]
  },
  {
   "cell_type": "code",
   "execution_count": 43,
   "id": "58c2ad20-48bb-492c-8164-b2cc64a7b2d1",
   "metadata": {},
   "outputs": [
    {
     "name": "stdout",
     "output_type": "stream",
     "text": [
      "2024\n"
     ]
    }
   ],
   "source": [
    "def y(s):\n",
    "    w = s.split(\"-\")\n",
    "    return w[-1]\n",
    "     \n",
    "v = y(\"10-02-2024\")\n",
    "print(v)"
   ]
  },
  {
   "cell_type": "code",
   "execution_count": 44,
   "id": "a695cdab-a0a8-4978-b08b-f6a666c56992",
   "metadata": {},
   "outputs": [
    {
     "name": "stdout",
     "output_type": "stream",
     "text": [
      "10\n"
     ]
    }
   ],
   "source": [
    "fh = open(\"file.txt\",\"rb\")      #No.27\n",
    "fh.seek(10,1)\n",
    "print(fh.tell())\n",
    "fh.close()"
   ]
  },
  {
   "cell_type": "code",
   "execution_count": 45,
   "id": "f6aa5cd7-8855-45f7-a080-2aed34a99cf9",
   "metadata": {},
   "outputs": [
    {
     "name": "stdout",
     "output_type": "stream",
     "text": [
      "[False, True, False]\n"
     ]
    }
   ],
   "source": [
    "list1 = [x for x in range(1,15,5)]\n",
    "v = list(map(lambda x: x%6==0, list1))\n",
    "print(v)"
   ]
  },
  {
   "cell_type": "code",
   "execution_count": 46,
   "id": "14e3bc66-0949-46c6-a579-74aa904fbb42",
   "metadata": {},
   "outputs": [
    {
     "name": "stdout",
     "output_type": "stream",
     "text": [
      "[6]\n"
     ]
    }
   ],
   "source": [
    "list1 = [x for x in range(1,15,5)]\n",
    "v = list(filter(lambda x: x%6==0, list1))\n",
    "print(v)\n",
    " "
   ]
  },
  {
   "cell_type": "code",
   "execution_count": 47,
   "id": "83c755c8-d9ff-4600-931b-ac6bbe276335",
   "metadata": {},
   "outputs": [
    {
     "name": "stdout",
     "output_type": "stream",
     "text": [
      "e\n"
     ]
    }
   ],
   "source": [
    "names = ['bob','sam','peter']\n",
    "print(names[-1][1])"
   ]
  },
  {
   "cell_type": "code",
   "execution_count": 48,
   "id": "be53dcb9-51ca-4a9e-a101-79a8cedbedf0",
   "metadata": {},
   "outputs": [
    {
     "name": "stdout",
     "output_type": "stream",
     "text": [
      "[6]\n"
     ]
    }
   ],
   "source": [
    "list1 = [x for x in range(1,15,5)]\n",
    "v = list(filter(lambda x: x%6==0, list1))\n",
    "print(v)\n",
    " "
   ]
  },
  {
   "cell_type": "code",
   "execution_count": 49,
   "id": "2cab8276-9da3-4bc4-a811-aad919b2af1f",
   "metadata": {},
   "outputs": [
    {
     "name": "stdout",
     "output_type": "stream",
     "text": [
      "[7]\n"
     ]
    }
   ],
   "source": [
    "list1 = [x for x in range(1,15,6)]\n",
    "v = list(filter(lambda x: x%7==0, list1))\n",
    "print(v)"
   ]
  },
  {
   "cell_type": "markdown",
   "id": "51b04619-4d30-460e-91a1-3b809db95158",
   "metadata": {},
   "source": [
    "NEXT"
   ]
  },
  {
   "cell_type": "code",
   "execution_count": 51,
   "id": "5218a2e6-ccd5-497c-bed9-29480ab10005",
   "metadata": {},
   "outputs": [
    {
     "name": "stdout",
     "output_type": "stream",
     "text": [
      "b'or Debian\\r\\n----'\n",
      "20\n"
     ]
    }
   ],
   "source": [
    "with(open('readme.txt','rb')) as fh:\n",
    "    fh.seek(5,1)\n",
    "    print(fh.read(15))\n",
    "    print(fh.tell())\n",
    "\n",
    "    "
   ]
  },
  {
   "cell_type": "code",
   "execution_count": 52,
   "id": "32865e7e-b521-4aa7-bf3c-b31bf89083b3",
   "metadata": {},
   "outputs": [
    {
     "name": "stdout",
     "output_type": "stream",
     "text": [
      "b\"  1) MzScheme does not build on many of Debian's supported architectures.\\r\\n\"\n"
     ]
    }
   ],
   "source": [
    "with(open('readme.txt','rb')) as fh:\n",
    "    for num, line in enumerate(fh.readlines(), 1):\n",
    "        if num == 20:\n",
    "            print(line)"
   ]
  },
  {
   "cell_type": "code",
   "execution_count": 53,
   "id": "f1c570f9-789c-476d-8e53-b9601848bce8",
   "metadata": {},
   "outputs": [
    {
     "data": {
      "text/plain": [
       "\"\\nfh = open('readme.txt','r')\\n#fh.seek(5,1)             - UnsupportedOperation: can't do nonzero cur-relative seeks\\n\\nprint(fh.read(5))\\nfh.close()\""
      ]
     },
     "execution_count": 53,
     "metadata": {},
     "output_type": "execute_result"
    }
   ],
   "source": [
    "'''\n",
    "fh = open('readme.txt','r')\n",
    "#fh.seek(5,1)             - UnsupportedOperation: can't do nonzero cur-relative seeks\n",
    "\n",
    "print(fh.read(5))\n",
    "fh.close()'''"
   ]
  },
  {
   "cell_type": "code",
   "execution_count": 54,
   "id": "94cfbdb1-9fd8-4d50-8aa5-e36f63a5547a",
   "metadata": {},
   "outputs": [
    {
     "name": "stdout",
     "output_type": "stream",
     "text": [
      "5\t4\t3\t2\t1\t"
     ]
    }
   ],
   "source": [
    "def f(n):\n",
    "   if n==0:\n",
    "      return 1\n",
    "   else:\n",
    "      print(n,end=\"\\t\")\n",
    "      f(n-1)\n",
    "f(5)"
   ]
  },
  {
   "cell_type": "code",
   "execution_count": 55,
   "id": "079a1eb4-9915-4e40-99df-756b9e80ad6d",
   "metadata": {},
   "outputs": [
    {
     "name": "stdout",
     "output_type": "stream",
     "text": [
      "[]\n"
     ]
    }
   ],
   "source": [
    "list1 = [10,20,30,40,50]\n",
    "list2 = list1\n",
    "list2.clear()\n",
    "print(list1)"
   ]
  },
  {
   "cell_type": "code",
   "execution_count": 56,
   "id": "226da505-7cae-4f4f-aa34-9678f1543369",
   "metadata": {},
   "outputs": [
    {
     "name": "stdout",
     "output_type": "stream",
     "text": [
      "file opening succeeded\n"
     ]
    }
   ],
   "source": [
    "open('myyyyyyyyyyyyyyyyyyfilyree.txt','a').close() # append creates a file\n",
    "try:\n",
    "   fh = open('myyyyyyyyyyyyyyyyyyfilyree.txt','r')\n",
    "except:\n",
    "   print(\"file opening failed\")\n",
    "else:\n",
    "   print(\"file opening succeeded\")\n",
    "\n",
    "fh.close()"
   ]
  },
  {
   "cell_type": "code",
   "execution_count": 57,
   "id": "12ba194d-bf46-4436-90f7-6461d03935c7",
   "metadata": {},
   "outputs": [
    {
     "name": "stdout",
     "output_type": "stream",
     "text": [
      "file opening failed\n"
     ]
    }
   ],
   "source": [
    "try:\n",
    "   fh = open('myfile.txt','r')\n",
    "except:\n",
    "   print(\"file opening failed\")\n",
    "else:\n",
    "   print(\"file opening succeeded\")"
   ]
  },
  {
   "cell_type": "code",
   "execution_count": 58,
   "id": "ca662c9a-499c-400f-bae9-aa4a8914581f",
   "metadata": {},
   "outputs": [
    {
     "name": "stderr",
     "output_type": "stream",
     "text": [
      "CRITICAL:root:log info\n"
     ]
    }
   ],
   "source": [
    "import logging\n",
    "logging.basicConfig(level=logging.CRITICAL)\n",
    "                                                 #Q. NO 9 (MCQ 1)\n",
    "logger = logging.getLogger()\n",
    "\n",
    "logger.info(\"log info\")\n",
    "logger.warning(\"log info\")\n",
    "logger.critical(\"log info\")"
   ]
  },
  {
   "cell_type": "code",
   "execution_count": 59,
   "id": "085136d6-4b95-4552-a841-44095337cd49",
   "metadata": {},
   "outputs": [
    {
     "name": "stdout",
     "output_type": "stream",
     "text": [
      "b'Vim for Debian\\r\\n'\n"
     ]
    }
   ],
   "source": [
    "fh = open(\"readme.txt\",\"rb\")\n",
    "fh.seek(len(fh.read())*-1,2)  #length of the file multiplied with -1 give the negative value of the length.... and the cursor starts from end \n",
    "print(fh.readline())          # and prints a line\n",
    "fh.close()"
   ]
  },
  {
   "cell_type": "code",
   "execution_count": 60,
   "id": "83d3f917-f425-4c57-ac1b-481e957d0628",
   "metadata": {},
   "outputs": [
    {
     "name": "stdout",
     "output_type": "stream",
     "text": [
      "False\n"
     ]
    }
   ],
   "source": [
    "def foo(x):     \n",
    "    x = ['def', 'abc']     \n",
    "    return id(x) \n",
    "                                   #local and global has different id\n",
    "q = ['abc', 'def'] \n",
    "print(id(q) == foo(q))"
   ]
  },
  {
   "cell_type": "code",
   "execution_count": 61,
   "id": "dbdf28da-9af3-46ea-af47-e0e6e84c9e42",
   "metadata": {},
   "outputs": [
    {
     "name": "stdout",
     "output_type": "stream",
     "text": [
      "False\tFalse\tFalse\t"
     ]
    }
   ],
   "source": [
    "def f(n):\n",
    "    \n",
    "    while n:\n",
    "        r = n%10\n",
    "        if r==0  or n%r != 0:\n",
    "            return False  \n",
    "        n //= 10\n",
    "    return True\n",
    " \n",
    "for i in range(142,145):\n",
    "    print(f(i),end=\"\\t\")"
   ]
  },
  {
   "cell_type": "code",
   "execution_count": 62,
   "id": "22b54fbd-ccde-41e7-ba1c-f3babbddb5a4",
   "metadata": {},
   "outputs": [
    {
     "name": "stdout",
     "output_type": "stream",
     "text": [
      "True\tTrue\tFalse\t"
     ]
    }
   ],
   "source": [
    "def f(n):\n",
    "    if n<=3:\n",
    "        return True\n",
    "    i =2\n",
    "    j = (n//2)+1\n",
    "    while i<j:\n",
    "        if n%i==0:\n",
    "            return False\n",
    "        i += 1\n",
    "    else:\n",
    "        return True\n",
    "        \n",
    "for num in range(2,5):\n",
    "    print(f(num),end=\"\\t\")"
   ]
  },
  {
   "cell_type": "raw",
   "id": "72812c9a-83c8-4061-9b94-9e1c0a2785cd",
   "metadata": {},
   "source": [
    "Fill in the blank with more appropriate function from random module to complete the code\n",
    "import random\n",
    "\n",
    "s1 = input(\"Enter a fruit name\")\n",
    "\n",
    "s2 = random.___([\"apple\",\"banana\",\"mango\",\"kiwi\",\"cherry\",\"oramge\"])\n",
    "\n",
    "if s1==s2:\n",
    "   print(\"guess is correct\")\n",
    "else:\n",
    "   print(\"oop! it's wrong\")\n",
    "   \n",
    "a. sample  b. random\tc. choice \td. randint"
   ]
  },
  {
   "cell_type": "code",
   "execution_count": 63,
   "id": "a741e3c7-bec8-40bc-9f20-61e7dfbd13fd",
   "metadata": {},
   "outputs": [
    {
     "name": "stdout",
     "output_type": "stream",
     "text": [
      "4\t0\t3\t"
     ]
    }
   ],
   "source": [
    "list1 = [6,0,8]\n",
    "\n",
    "for num in list1:\n",
    "    try:\n",
    "        print(24//num,end=\"\\t\")\n",
    "    except:\n",
    "        print(0,end=\"\\t\")"
   ]
  },
  {
   "cell_type": "code",
   "execution_count": 64,
   "id": "b23f3458-4403-4d60-bfbd-706c9ced9e7a",
   "metadata": {},
   "outputs": [
    {
     "name": "stdout",
     "output_type": "stream",
     "text": [
      "A\n",
      "B\n",
      "None\n",
      "C\n"
     ]
    }
   ],
   "source": [
    "d1 = {1:'A',2:'B',4:'C'}\n",
    "\n",
    "for num in range(1,5):\n",
    "\ttry:\n",
    "\t    print(d1[num])\n",
    "\texcept KeyError: #key error\n",
    "\t    print(d1.get(num))"
   ]
  },
  {
   "cell_type": "code",
   "execution_count": 65,
   "id": "ff402860-d88b-4f80-9eda-b7f3d89131f7",
   "metadata": {},
   "outputs": [
    {
     "name": "stdout",
     "output_type": "stream",
     "text": [
      "4\t0\t3\t"
     ]
    }
   ],
   "source": [
    "list1 = [6,0,8]\n",
    "\n",
    "for num in list1:\n",
    "    try:\n",
    "        print(24//num,end=\"\\t\")\n",
    "    except:\n",
    "        print(0,end=\"\\t\")\n",
    "        "
   ]
  },
  {
   "cell_type": "code",
   "execution_count": 66,
   "id": "6d2d649a-69ca-466e-8954-7bc6b7526fcf",
   "metadata": {},
   "outputs": [
    {
     "name": "stdout",
     "output_type": "stream",
     "text": [
      "['e', 'o', 'o']\n"
     ]
    }
   ],
   "source": [
    "s1 = \"helloworld\"\n",
    "v = ['a','e','i','o','u']\n",
    "\n",
    "result = [x for x in s1 if x in v]\n",
    "print(result)"
   ]
  },
  {
   "cell_type": "code",
   "execution_count": 67,
   "id": "3ab4c5a0-fda1-4c59-87c7-558512d2635a",
   "metadata": {},
   "outputs": [
    {
     "name": "stdout",
     "output_type": "stream",
     "text": [
      "[False, True, False]\n"
     ]
    }
   ],
   "source": [
    "list1 = [x for  x in range(1,15,5)]\n",
    "\n",
    "list2 = list(map(lambda x: x%6==0,list1))\n",
    "print(list2)\n"
   ]
  },
  {
   "cell_type": "code",
   "execution_count": 68,
   "id": "a5bfe984-4595-4e17-95d6-1e7925c17588",
   "metadata": {},
   "outputs": [
    {
     "ename": "ZeroDivisionError",
     "evalue": "",
     "output_type": "error",
     "traceback": [
      "\u001b[31m---------------------------------------------------------------------------\u001b[39m",
      "\u001b[31mZeroDivisionError\u001b[39m                         Traceback (most recent call last)",
      "\u001b[36mCell\u001b[39m\u001b[36m \u001b[39m\u001b[32mIn[68]\u001b[39m\u001b[32m, line 7\u001b[39m\n\u001b[32m      4\u001b[39m     \u001b[38;5;28;01mreturn\u001b[39;00m \u001b[32m5\u001b[39m/x\n\u001b[32m      6\u001b[39m \u001b[38;5;28;01mtry\u001b[39;00m:\n\u001b[32m----> \u001b[39m\u001b[32m7\u001b[39m     \u001b[43mf\u001b[49m\u001b[43m(\u001b[49m\u001b[32;43m0\u001b[39;49m\u001b[43m)\u001b[49m\n\u001b[32m      8\u001b[39m \u001b[38;5;28;01mexcept\u001b[39;00m:\n\u001b[32m      9\u001b[39m     \u001b[38;5;28;01mraise\u001b[39;00m\n",
      "\u001b[36mCell\u001b[39m\u001b[36m \u001b[39m\u001b[32mIn[68]\u001b[39m\u001b[32m, line 3\u001b[39m, in \u001b[36mf\u001b[39m\u001b[34m(x)\u001b[39m\n\u001b[32m      1\u001b[39m \u001b[38;5;28;01mdef\u001b[39;00m\u001b[38;5;250m \u001b[39m\u001b[34mf\u001b[39m(x):\n\u001b[32m      2\u001b[39m     \u001b[38;5;28;01mif\u001b[39;00m x==\u001b[32m0\u001b[39m:\n\u001b[32m----> \u001b[39m\u001b[32m3\u001b[39m         \u001b[38;5;28;01mraise\u001b[39;00m \u001b[38;5;167;01mZeroDivisionError\u001b[39;00m\n\u001b[32m      4\u001b[39m     \u001b[38;5;28;01mreturn\u001b[39;00m \u001b[32m5\u001b[39m/x\n",
      "\u001b[31mZeroDivisionError\u001b[39m: "
     ]
    }
   ],
   "source": [
    "def f(x):\n",
    "    if x==0:\n",
    "        raise ZeroDivisionError\n",
    "    return 5/x\n",
    "\n",
    "try:\n",
    "    f(0)\n",
    "except:\n",
    "    raise"
   ]
  },
  {
   "cell_type": "code",
   "execution_count": 69,
   "id": "e0cafd48-c382-4e4b-b7a5-561b962b294d",
   "metadata": {},
   "outputs": [
    {
     "name": "stdout",
     "output_type": "stream",
     "text": [
      "[1, 2, 3]\n"
     ]
    }
   ],
   "source": [
    "list1 = [x for x in range(4)]\n",
    "\n",
    "list2 = list(filter(lambda x: x*x,list1))\n",
    "print(list2)"
   ]
  },
  {
   "cell_type": "code",
   "execution_count": 70,
   "id": "c67e73af-6b3c-407c-9cef-74838a3e8088",
   "metadata": {},
   "outputs": [
    {
     "name": "stdout",
     "output_type": "stream",
     "text": [
      "[0, 1, 4, 9]\n"
     ]
    }
   ],
   "source": [
    "list1 = [x for x in range(4)]\n",
    "\n",
    "list2 = list(map(lambda x: x*x,list1))\n",
    "print(list2)"
   ]
  },
  {
   "cell_type": "code",
   "execution_count": 71,
   "id": "767ad461-c163-4ab4-a647-d35819cbc35b",
   "metadata": {},
   "outputs": [
    {
     "name": "stdout",
     "output_type": "stream",
     "text": [
      "False\n"
     ]
    }
   ],
   "source": [
    "class A:\n",
    "    def __init__(self,a,b):\n",
    "        self.x = a\n",
    "        self.y = b\n",
    "    \n",
    "    def __eq__(self,other):\n",
    "        return (self.x==other.x) and (self.y==other.y)\n",
    "        \n",
    "p1 = A(10,15)\n",
    "p2 = A(12,13)\n",
    "\n",
    "print(p1==p2)\n"
   ]
  },
  {
   "cell_type": "code",
   "execution_count": 72,
   "id": "e5e5bcb9-4f89-4b0e-b878-a231e6eb6b04",
   "metadata": {},
   "outputs": [
    {
     "name": "stdout",
     "output_type": "stream",
     "text": [
      "['a', 'b', 'c']\n",
      "['a', 'b', 'c']\n"
     ]
    }
   ],
   "source": [
    "list1 = ['a','b','c']\n",
    "\n",
    "list2 = list1.copy()\n",
    "\n",
    "list2[1]=='g'\n",
    "\n",
    "print(list1)\n",
    "print(list2)\n"
   ]
  },
  {
   "cell_type": "code",
   "execution_count": 73,
   "id": "ad52f292-8c79-4517-a787-c2151904f7c6",
   "metadata": {},
   "outputs": [
    {
     "name": "stdout",
     "output_type": "stream",
     "text": [
      "['a', ['b', 'c']]\n"
     ]
    }
   ],
   "source": [
    "list1 = ['a',['b','c']]\n",
    "\n",
    "list2 = list1.copy()\n",
    "\n",
    "list2[1][0]=='g'\n",
    "\n",
    "print(list1)\n"
   ]
  },
  {
   "cell_type": "markdown",
   "id": "f351402f-5cce-4e27-a2fc-5589201d471e",
   "metadata": {},
   "source": [
    "FROM DAY-9"
   ]
  },
  {
   "cell_type": "code",
   "execution_count": 74,
   "id": "6d40496a-641d-40d9-a793-18df3a56506b",
   "metadata": {},
   "outputs": [
    {
     "name": "stdout",
     "output_type": "stream",
     "text": [
      "False\n"
     ]
    }
   ],
   "source": [
    "def bar(x):     \n",
    "    x = ['def', 'abc']     #local\n",
    "    return id(x) \n",
    "\n",
    "q = ['def', 'abc']         #global\n",
    "print(id(q) == bar(q))"
   ]
  },
  {
   "cell_type": "code",
   "execution_count": 76,
   "id": "e086dc60-6da8-46a4-bf5d-f793a059fd31",
   "metadata": {},
   "outputs": [
    {
     "name": "stdout",
     "output_type": "stream",
     "text": [
      "False\n"
     ]
    }
   ],
   "source": [
    "def f(n):\n",
    "    d = []\n",
    "    t = n\n",
    "    while n:\n",
    "        r = n%10\n",
    "        d.append(r) \n",
    "        n //= 10\n",
    "    if 0 in d:\n",
    "        return False\n",
    "    prod = 1\n",
    "    for num in d:\n",
    "        prod *= num\n",
    "    if t%prod == 0:\n",
    "        return True\n",
    "    else:\n",
    "        return False\n",
    " \n",
    "a = f(142)\n",
    "print(a)"
   ]
  },
  {
   "cell_type": "code",
   "execution_count": 77,
   "id": "c7134d1a-1e34-4c4f-b5d6-25ac83cadde6",
   "metadata": {},
   "outputs": [
    {
     "name": "stdout",
     "output_type": "stream",
     "text": [
      "True\tFalse\tFalse\t"
     ]
    }
   ],
   "source": [
    "def f(n):\n",
    "    if n<=3:\n",
    "        return True\n",
    "    i =2\n",
    "    j = (n//2)+1\n",
    "    while i<j:\n",
    "        if n%i==0:\n",
    "            return False\n",
    "        i += 1\n",
    "    else:\n",
    "        return True\n",
    "        \n",
    "for num in range(7,10):\n",
    "    print(f(num),end=\"\\t\")"
   ]
  },
  {
   "cell_type": "code",
   "execution_count": 86,
   "id": "21a39c68-d060-46f2-93a8-e37458c7b5b1",
   "metadata": {},
   "outputs": [
    {
     "name": "stdout",
     "output_type": "stream",
     "text": [
      "apple\n"
     ]
    }
   ],
   "source": [
    "def f():\n",
    "    import re\n",
    "    s2 = [\"apple\",\"banana\",\"mango\",\"kiwi\",\"cherry\",\"orange\"]\n",
    "    for element in s2:\n",
    "        res = re.search(r\"(^[a].*)\",element)\n",
    "        return res.group(1)\n",
    "print(f())"
   ]
  },
  {
   "cell_type": "code",
   "execution_count": 87,
   "id": "e9b0f418-c682-45f8-9425-d86b490b0d6f",
   "metadata": {},
   "outputs": [
    {
     "name": "stdout",
     "output_type": "stream",
     "text": [
      "4\t3\t0\t"
     ]
    }
   ],
   "source": [
    "list1 = [6,8,0]\n",
    "\n",
    "for num in list1:\n",
    "    try:\n",
    "        print(24//num,end=\"\\t\")\n",
    "    except:\n",
    "        print(0,end=\"\\t\")"
   ]
  },
  {
   "cell_type": "code",
   "execution_count": 88,
   "id": "6f621552-2761-451c-a55e-ccf30d5ae40d",
   "metadata": {},
   "outputs": [
    {
     "name": "stdout",
     "output_type": "stream",
     "text": [
      "A None "
     ]
    }
   ],
   "source": [
    "d1 = {1:\"A\",2:\"B\",4:\"C\"}\n",
    "\n",
    "for num in range(1,5,2):\n",
    "\ttry:\n",
    "\t    print(d1[num],end=\" \")\n",
    "\texcept:\n",
    "\t    print(d1.get(num),end=\" \")"
   ]
  },
  {
   "cell_type": "code",
   "execution_count": 89,
   "id": "f74f644a-8adc-45e6-b313-8026e1b8679b",
   "metadata": {},
   "outputs": [
    {
     "name": "stdout",
     "output_type": "stream",
     "text": [
      "['o', 'o']\n"
     ]
    }
   ],
   "source": [
    "s1 = \"helloworld\"\n",
    "v = ['o','u']\n",
    "\n",
    "result = [x for x in s1 if x in v]\n",
    "print(result)\n"
   ]
  },
  {
   "cell_type": "code",
   "execution_count": 90,
   "id": "4650c417-ffaa-4b18-81b7-c10c44879748",
   "metadata": {},
   "outputs": [
    {
     "name": "stdout",
     "output_type": "stream",
     "text": [
      "[False, True, False]\n"
     ]
    }
   ],
   "source": [
    "list1 = [x for  x in range(1,15,6)]\n",
    "\n",
    "list2 = list(map(lambda x: x%7==0,list1))\n",
    "print(list2)"
   ]
  },
  {
   "cell_type": "code",
   "execution_count": 97,
   "id": "08c71ae6-f268-47b9-964c-77d08d1b7d24",
   "metadata": {},
   "outputs": [],
   "source": [
    "def f(x):\n",
    "    if x==0:\n",
    "        raise ZeroDivisionError\n",
    "    return 5/x\n",
    "\n",
    "try:\n",
    "    f(1)\n",
    "except:\n",
    "    raise"
   ]
  },
  {
   "cell_type": "code",
   "execution_count": 98,
   "id": "fd7f006a-62de-4a69-ab1f-21f62a7fc8fd",
   "metadata": {},
   "outputs": [
    {
     "name": "stdout",
     "output_type": "stream",
     "text": [
      "[1, 3]\n"
     ]
    }
   ],
   "source": [
    "list1 = [x for x in range(4)]\n",
    "\n",
    "list2 = list(filter(lambda x: x%2!=0,list1))\n",
    "print(list2)"
   ]
  },
  {
   "cell_type": "code",
   "execution_count": 99,
   "id": "32792a77-8a85-4285-9cbc-018567f1a8b0",
   "metadata": {},
   "outputs": [
    {
     "name": "stdout",
     "output_type": "stream",
     "text": [
      "[0, 1, 8, 27]\n"
     ]
    }
   ],
   "source": [
    "list1 = [x for x in range(4)]\n",
    "\n",
    "list2 = list(map(lambda x: x**3,list1))\n",
    "print(list2)"
   ]
  },
  {
   "cell_type": "code",
   "execution_count": 107,
   "id": "b1a63225-065d-4199-a609-73c367e9992c",
   "metadata": {},
   "outputs": [
    {
     "ename": "TypeError",
     "evalue": "'<' not supported between instances of 'A' and 'A'",
     "output_type": "error",
     "traceback": [
      "\u001b[31m---------------------------------------------------------------------------\u001b[39m",
      "\u001b[31mTypeError\u001b[39m                                 Traceback (most recent call last)",
      "\u001b[36mCell\u001b[39m\u001b[36m \u001b[39m\u001b[32mIn[107]\u001b[39m\u001b[32m, line 11\u001b[39m\n\u001b[32m      8\u001b[39m p1 = A(\u001b[32m13\u001b[39m)\n\u001b[32m      9\u001b[39m p2 = A(\u001b[32m12\u001b[39m)\n\u001b[32m---> \u001b[39m\u001b[32m11\u001b[39m \u001b[38;5;28mprint\u001b[39m(\u001b[43mp1\u001b[49m\u001b[43m<\u001b[49m\u001b[43mp2\u001b[49m)\n",
      "\u001b[31mTypeError\u001b[39m: '<' not supported between instances of 'A' and 'A'"
     ]
    }
   ],
   "source": [
    "class A:\n",
    "    def __init__(self,a):\n",
    "        self.x = a\n",
    "        \n",
    "    def __lt_(self,other):\n",
    "        return self.x<other.x\n",
    "        \n",
    "p1 = A(13)\n",
    "p2 = A(12)\n",
    "\n",
    "print(p1<p2)"
   ]
  },
  {
   "cell_type": "code",
   "execution_count": 109,
   "id": "91be4d5c-0946-4707-a18c-03a765a24537",
   "metadata": {},
   "outputs": [
    {
     "name": "stdout",
     "output_type": "stream",
     "text": [
      "['a', 'b', 'c']\n",
      "['a', 'g', 'c']\n"
     ]
    }
   ],
   "source": [
    "list1 = ['a','b','c']\n",
    "\n",
    "list2 = list1[:]\n",
    "\n",
    "list2[1]='g'\n",
    "\n",
    "print(list1)\n",
    "print(list2)"
   ]
  },
  {
   "cell_type": "code",
   "execution_count": 110,
   "id": "b1af7755-cbe2-428b-81b6-cebd4b3cec9c",
   "metadata": {},
   "outputs": [
    {
     "ename": "TypeError",
     "evalue": "list.append() takes exactly one argument (2 given)",
     "output_type": "error",
     "traceback": [
      "\u001b[31m---------------------------------------------------------------------------\u001b[39m",
      "\u001b[31mTypeError\u001b[39m                                 Traceback (most recent call last)",
      "\u001b[36mCell\u001b[39m\u001b[36m \u001b[39m\u001b[32mIn[110]\u001b[39m\u001b[32m, line 3\u001b[39m\n\u001b[32m      1\u001b[39m list1 = [\u001b[32m10\u001b[39m,\u001b[32m20\u001b[39m,\u001b[32m30\u001b[39m]\n\u001b[32m----> \u001b[39m\u001b[32m3\u001b[39m \u001b[43mlist1\u001b[49m\u001b[43m.\u001b[49m\u001b[43mappend\u001b[49m\u001b[43m(\u001b[49m\u001b[32;43m40\u001b[39;49m\u001b[43m,\u001b[49m\u001b[32;43m50\u001b[39;49m\u001b[43m)\u001b[49m\n\u001b[32m      5\u001b[39m \u001b[38;5;28mprint\u001b[39m(list1)\n",
      "\u001b[31mTypeError\u001b[39m: list.append() takes exactly one argument (2 given)"
     ]
    }
   ],
   "source": [
    "list1 = [10,20,30]\n",
    "\n",
    "list1.append(40,50)\n",
    "\n",
    "print(list1)"
   ]
  },
  {
   "cell_type": "code",
   "execution_count": 111,
   "id": "687cab76-4d73-4799-8d5f-a70cb0110d53",
   "metadata": {},
   "outputs": [
    {
     "name": "stdout",
     "output_type": "stream",
     "text": [
      "{'name': 'bob', 'age': 13}\n"
     ]
    }
   ],
   "source": [
    "list1 =['name','age',]\n",
    "list2=['bob',13,'first']\n",
    "\n",
    "d1 = dict(zip(list1,list2))\n",
    "\n",
    "print(d1)\n"
   ]
  },
  {
   "cell_type": "code",
   "execution_count": 112,
   "id": "d12bc469-ec9a-4c35-a611-d14fa2528189",
   "metadata": {},
   "outputs": [
    {
     "name": "stdout",
     "output_type": "stream",
     "text": [
      "{1: 'bob', 2: 13, 3: 'eigth'}\n"
     ]
    }
   ],
   "source": [
    "list1 =[1,2,3]\n",
    "list2=['bob',13,'eigth']\n",
    "\n",
    "d1 = {x:y for x,y in zip(list1,list2)}\n",
    "\n",
    "print(d1)"
   ]
  },
  {
   "cell_type": "code",
   "execution_count": 113,
   "id": "9d81115d-5b34-4fc2-906e-758d71e3e9cf",
   "metadata": {},
   "outputs": [
    {
     "name": "stdout",
     "output_type": "stream",
     "text": [
      "<function square at 0x0000028343C04E00>\n"
     ]
    }
   ],
   "source": [
    "def square(x):\n",
    "    return x**2\n",
    "    \n",
    "m = square\n",
    "\n",
    "print(m)"
   ]
  },
  {
   "cell_type": "code",
   "execution_count": 115,
   "id": "38e31aaa-6af4-4f14-ba33-2f4d65fcbbac",
   "metadata": {},
   "outputs": [
    {
     "name": "stdout",
     "output_type": "stream",
     "text": [
      "18th Oct 23\n"
     ]
    }
   ],
   "source": [
    "import datetime\n",
    "x = datetime.datetime(2023,10,18)\n",
    "print(x.strftime(\"%dth %b %y\"))\n",
    "\n",
    "#mcq5 19th"
   ]
  },
  {
   "cell_type": "code",
   "execution_count": 4,
   "id": "dad5766c-d7dd-4d9a-a199-05e90cb4dd5e",
   "metadata": {},
   "outputs": [
    {
     "name": "stdout",
     "output_type": "stream",
     "text": [
      "7\n"
     ]
    }
   ],
   "source": [
    "import random\n",
    "\n",
    "v = random.randrange(7,20,10)\n",
    "print(v)"
   ]
  },
  {
   "cell_type": "code",
   "execution_count": 5,
   "id": "1b2c864b-81c6-4681-9784-f50181b1b81b",
   "metadata": {},
   "outputs": [
    {
     "name": "stdout",
     "output_type": "stream",
     "text": [
      "True False "
     ]
    }
   ],
   "source": [
    "def f(num):\n",
    "   for n in range(2,num):\n",
    "       if num%n==0:\n",
    "           return False\n",
    "   return True\n",
    "\n",
    "for i in range(23,27,2):\n",
    "    print(f(i),end=\" \")"
   ]
  },
  {
   "cell_type": "code",
   "execution_count": 6,
   "id": "89d539e9-f104-43e0-978e-655cafee81a6",
   "metadata": {},
   "outputs": [
    {
     "name": "stdout",
     "output_type": "stream",
     "text": [
      "{'Apples', ('Bananas', 'Oranges')}\n"
     ]
    }
   ],
   "source": [
    "third_set = {\"Apples\", (\"Bananas\", \"Oranges\")}\n",
    "print(third_set)"
   ]
  },
  {
   "cell_type": "code",
   "execution_count": 7,
   "id": "39f1dd5d-5727-40fc-afe5-501ee36a01a7",
   "metadata": {},
   "outputs": [
    {
     "name": "stdout",
     "output_type": "stream",
     "text": [
      "{1, 2, 3, 4}\n"
     ]
    }
   ],
   "source": [
    "add_set = set((1,2,3))\n",
    "\n",
    "add_set.update((4,))\n",
    "\n",
    "print(add_set)"
   ]
  },
  {
   "cell_type": "code",
   "execution_count": null,
   "id": "3bb1f773-b330-421a-822d-12ea0bfef1f1",
   "metadata": {},
   "outputs": [],
   "source": []
  }
 ],
 "metadata": {
  "kernelspec": {
   "display_name": "Python 3 (ipykernel)",
   "language": "python",
   "name": "python3"
  },
  "language_info": {
   "codemirror_mode": {
    "name": "ipython",
    "version": 3
   },
   "file_extension": ".py",
   "mimetype": "text/x-python",
   "name": "python",
   "nbconvert_exporter": "python",
   "pygments_lexer": "ipython3",
   "version": "3.13.2"
  }
 },
 "nbformat": 4,
 "nbformat_minor": 5
}
