{
 "cells": [
  {
   "cell_type": "code",
   "execution_count": 1,
   "id": "6e19c209-744f-4366-a6cb-516e047e6177",
   "metadata": {},
   "outputs": [
    {
     "data": {
      "text/plain": [
       "'\\npandas\\nnumpy\\nbeatifulsoup\\nopenpyxl\\nmatplotlib\\nsk-learn\\n'"
      ]
     },
     "execution_count": 1,
     "metadata": {},
     "output_type": "execute_result"
    }
   ],
   "source": [
    "'''\n",
    "pandas\n",
    "numpy\n",
    "beatifulsoup\n",
    "openpyxl\n",
    "matplotlib\n",
    "sk-learn\n",
    "'''"
   ]
  },
  {
   "cell_type": "code",
   "execution_count": 2,
   "id": "3fc60086-7c16-4b47-b37d-6679c8c10baf",
   "metadata": {},
   "outputs": [
    {
     "data": {
      "text/plain": [
       "'\\ninstall pandas\\npip install pandas\\n'"
      ]
     },
     "execution_count": 2,
     "metadata": {},
     "output_type": "execute_result"
    }
   ],
   "source": [
    "'''\n",
    "install pandas\n",
    "pip install pandas\n",
    "'''"
   ]
  },
  {
   "cell_type": "code",
   "execution_count": 4,
   "id": "d7eb1446-b1d3-46c3-a6b4-a6b08da41612",
   "metadata": {},
   "outputs": [
    {
     "name": "stdout",
     "output_type": "stream",
     "text": [
      "Collecting pandas\n",
      "  Using cached pandas-2.2.3-cp313-cp313-win_amd64.whl.metadata (19 kB)\n",
      "Requirement already satisfied: numpy>=1.26.0 in c:\\users\\prince.s\\appdata\\local\\programs\\python\\python313\\lib\\site-packages (from pandas) (2.2.4)\n",
      "Requirement already satisfied: python-dateutil>=2.8.2 in c:\\users\\prince.s\\appdata\\local\\programs\\python\\python313\\lib\\site-packages (from pandas) (2.9.0.post0)\n",
      "Requirement already satisfied: pytz>=2020.1 in c:\\users\\prince.s\\appdata\\local\\programs\\python\\python313\\lib\\site-packages (from pandas) (2025.2)\n",
      "Requirement already satisfied: tzdata>=2022.7 in c:\\users\\prince.s\\appdata\\local\\programs\\python\\python313\\lib\\site-packages (from pandas) (2025.2)\n",
      "Requirement already satisfied: six>=1.5 in c:\\users\\prince.s\\appdata\\local\\programs\\python\\python313\\lib\\site-packages (from python-dateutil>=2.8.2->pandas) (1.17.0)\n",
      "Using cached pandas-2.2.3-cp313-cp313-win_amd64.whl (11.5 MB)\n",
      "Installing collected packages: pandas\n",
      "Successfully installed pandas-2.2.3\n",
      "Note: you may need to restart the kernel to use updated packages.\n"
     ]
    }
   ],
   "source": [
    "pip install pandas"
   ]
  },
  {
   "cell_type": "code",
   "execution_count": 1,
   "id": "17ffc79d-565e-44be-8de4-1dda785e3ca1",
   "metadata": {},
   "outputs": [
    {
     "name": "stdout",
     "output_type": "stream",
     "text": [
      "Welcome to Python 3.13's help utility! If this is your first time using\n",
      "Python, you should definitely check out the tutorial at\n",
      "https://docs.python.org/3.13/tutorial/.\n",
      "\n",
      "Enter the name of any module, keyword, or topic to get help on writing\n",
      "Python programs and using Python modules.  To get a list of available\n",
      "modules, keywords, symbols, or topics, enter \"modules\", \"keywords\",\n",
      "\"symbols\", or \"topics\".\n",
      "\n",
      "Each module also comes with a one-line summary of what it does; to list\n",
      "the modules whose name or summary contain a given string such as \"spam\",\n",
      "enter \"modules spam\".\n",
      "\n",
      "To quit this help utility and return to the interpreter,\n",
      "enter \"q\", \"quit\" or \"exit\".\n",
      "\n"
     ]
    },
    {
     "name": "stdin",
     "output_type": "stream",
     "text": [
      "help>  modules\n"
     ]
    },
    {
     "name": "stdout",
     "output_type": "stream",
     "text": [
      "\n",
      "Please wait a moment while I gather a list of all available modules...\n",
      "\n",
      "test_sqlite3: testing with SQLite version 3.45.3\n",
      "IPython             asyncio             locale              string\n",
      "__future__          atexit              logging             stringprep\n",
      "__hello__           attr                lzma                struct\n",
      "__phello__          attrs               mailbox             subprocess\n",
      "_abc                autocommand         markupsafe          symtable\n",
      "_aix_support        babel               marshal             sys\n",
      "_android_support    backports           math                sysconfig\n",
      "_apple_support      base64              matplotlib_inline   tabnanny\n",
      "_argon2_cffi_bindings bdb                 mimetypes           tarfile\n",
      "_ast                binascii            mistune             tempfile\n",
      "_asyncio            bisect              mmap                terminado\n",
      "_bisect             bleach              mmapfile            test\n",
      "_blake2             bs4                 mmsystem            textwrap\n",
      "_bz2                builtins            modulefinder        this\n",
      "_cffi_backend       bz2                 more_itertools      threading\n",
      "_codecs             cProfile            msvcrt              time\n",
      "_codecs_cn          calendar            multiprocessing     timeit\n",
      "_codecs_hk          certifi             nbclient            timer\n",
      "_codecs_iso2022     cffi                nbconvert           tinycss2\n",
      "_codecs_jp          charset_normalizer  nbformat            tkinter\n",
      "_codecs_kr          cmath               nest_asyncio        token\n",
      "_codecs_tw          cmd                 netbios             tokenize\n",
      "_collections        code                netrc               tomli\n",
      "_collections_abc    codecs              notebook            tomllib\n",
      "_colorize           codeop              notebook_shim       tornado\n",
      "_compat_pickle      collections         nt                  trace\n",
      "_compression        colorama            ntpath              traceback\n",
      "_contextvars        colorsys            ntsecuritycon       tracemalloc\n",
      "_csv                comm                nturl2path          traitlets\n",
      "_ctypes             commctrl            numbers             tty\n",
      "_ctypes_test        compileall          numpy               turtle\n",
      "_datetime           concurrent          odbc                turtledemo\n",
      "_decimal            configparser        opcode              typeguard\n",
      "_distutils_hack     contextlib          operator            types\n",
      "_elementtree        contextvars         optparse            typing\n",
      "_functools          copy                os                  typing_extensions\n",
      "_hashlib            copyreg             overrides           tzdata\n",
      "_heapq              csv                 packaging           unicodedata\n",
      "_imp                ctypes              pandas              unittest\n",
      "_interpchannels     curses              pandocfilters       uri_template\n",
      "_interpqueues       dataclasses         parso               urllib\n",
      "_interpreters       datetime            pathlib             urllib3\n",
      "_io                 dateutil            pdb                 uuid\n",
      "_ios_support        day1                perfmon             venv\n",
      "_json               dbm                 pickle              warnings\n",
      "_locale             dde                 pickletools         wave\n",
      "_lsprof             debugpy             pip                 wcwidth\n",
      "_lzma               decimal             pkg_resources       weakref\n",
      "_markupbase         decorator           pkgutil             webbrowser\n",
      "_md5                defusedxml          platform            webcolors\n",
      "_multibytecodec     difflib             platformdirs        webencodings\n",
      "_multiprocessing    dis                 plistlib            websocket\n",
      "_opcode             doctest             poplib              wheel\n",
      "_opcode_metadata    email               posixpath           widgetsnbextension\n",
      "_operator           encodings           pprint              win2kras\n",
      "_osx_support        ensurepip           profile             win32api\n",
      "_overlapped         enum                prometheus_client   win32clipboard\n",
      "_pickle             errno               prompt_toolkit      win32com\n",
      "_py_abc             executing           pstats              win32con\n",
      "_pydatetime         fastjsonschema      psutil              win32console\n",
      "_pydecimal          faulthandler        pty                 win32cred\n",
      "_pyio               filecmp             pure_eval           win32crypt\n",
      "_pylong             fileinput           py_compile          win32cryptcon\n",
      "_pyrepl             fnmatch             pyclbr              win32event\n",
      "_queue              fqdn                pycparser           win32evtlog\n",
      "_random             fractions           pydoc               win32evtlogutil\n",
      "_sha1               ftplib              pydoc_data          win32file\n",
      "_sha2               functools           pyexpat             win32gui\n",
      "_sha3               gc                  pygments            win32gui_struct\n",
      "_signal             genericpath         python              win32help\n",
      "_sitebuiltins       getopt              pythoncom           win32inet\n",
      "_socket             getpass             pythonjsonlogger    win32inetcon\n",
      "_sqlite3            gettext             pytz                win32job\n",
      "_sre                glob                pywin               win32lz\n",
      "_ssl                graphlib            pywin32_bootstrap   win32net\n",
      "_stat               gzip                pywin32_testutil    win32netcon\n",
      "_statistics         h11                 pywintypes          win32pdh\n",
      "_string             hashlib             queue               win32pdhquery\n",
      "_strptime           heapq               quopri              win32pdhutil\n",
      "_struct             hmac                random              win32pipe\n",
      "_symtable           html                rasutil             win32print\n",
      "_sysconfig          http                re                  win32process\n",
      "_testbuffer         httpcore            referencing         win32profile\n",
      "_testcapi           httpx               regcheck            win32ras\n",
      "_testclinic         idlelib             regutil             win32rcparser\n",
      "_testclinic_limited idna                reprlib             win32security\n",
      "_testconsole        imaplib             requests            win32service\n",
      "_testimportmultiple importlib           rfc3339_validator   win32serviceutil\n",
      "_testinternalcapi   importlib_metadata  rfc3986_validator   win32timezone\n",
      "_testlimitedcapi    inflect             rlcompleter         win32trace\n",
      "_testmultiphase     inspect             rpds                win32traceutil\n",
      "_testsinglephase    io                  runpy               win32transaction\n",
      "_thread             ipaddress           sched               win32ts\n",
      "_threading_local    ipykernel           secrets             win32ui\n",
      "_tkinter            ipykernel_launcher  select              win32uiole\n",
      "_tokenize           ipython_pygments_lexers selectors           win32verstamp\n",
      "_tracemalloc        ipywidgets          send2trash          win32wnet\n",
      "_typing             isapi               servicemanager      winerror\n",
      "_uuid               isoduration         setuptools          winioctlcon\n",
      "_warnings           itertools           shelve              winnt\n",
      "_weakref            jedi                shlex               winperf\n",
      "_weakrefset         jinja2              shutil              winpty\n",
      "_win32sysloader     json                signal              winreg\n",
      "_win32verstamp_pywin32ctypes json5               site                winsound\n",
      "_winapi             jsonpointer         six                 winxpgui\n",
      "_winxptheme         jsonschema          smtplib             winxptheme\n",
      "_wmi                jsonschema_specifications sniffio             wsgiref\n",
      "_yaml               jupyter             socket              xml\n",
      "_zoneinfo           jupyter_client      socketserver        xmlrpc\n",
      "abc                 jupyter_console     soupsieve           xxsubtype\n",
      "adodbapi            jupyter_core        sqlite3             yaml\n",
      "afxres              jupyter_events      sre_compile         zipapp\n",
      "antigravity         jupyter_lsp         sre_constants       zipfile\n",
      "anyio               jupyter_server      sre_parse           zipimport\n",
      "argon2              jupyter_server_terminals ssl                 zipp\n",
      "argparse            jupyterlab          sspi                zlib\n",
      "array               jupyterlab_pygments sspicon             zmq\n",
      "arrow               jupyterlab_server   stack_data          zoneinfo\n",
      "ast                 jupyterlab_widgets  start_pythonwin     \n",
      "asttokens           keyword             stat                \n",
      "async_lru           linecache           statistics          \n",
      "\n",
      "Enter any module name to get more help.  Or, type \"modules spam\" to search\n",
      "for modules whose name or summary contain the string \"spam\".\n",
      "\n",
      "\n",
      "You are now leaving help and returning to the Python interpreter.\n",
      "If you want to ask for help on a particular object directly from the\n",
      "interpreter, you can type \"help(object)\".  Executing \"help('string')\"\n",
      "has the same effect as typing a particular string at the help> prompt.\n"
     ]
    }
   ],
   "source": [
    "help()"
   ]
  },
  {
   "cell_type": "markdown",
   "id": "95fe3cba-9bf6-4153-90e4-11d8c594db00",
   "metadata": {},
   "source": [
    "PANDAS"
   ]
  },
  {
   "cell_type": "code",
   "execution_count": 5,
   "id": "38ffa220-89fb-4541-b206-4e998cce5896",
   "metadata": {},
   "outputs": [
    {
     "data": {
      "text/plain": [
       "0        80\n",
       "1        64\n",
       "2        43\n",
       "3    python\n",
       "4        32\n",
       "5      pyth\n",
       "dtype: object"
      ]
     },
     "execution_count": 5,
     "metadata": {},
     "output_type": "execute_result"
    }
   ],
   "source": [
    "#series and dataframe\n",
    "#series - equivalent to list but has index\n",
    "import pandas as pd\n",
    "\n",
    "Ser = pd.Series([80,64,43,'python',32,'pyth'])\n",
    "Ser"
   ]
  },
  {
   "cell_type": "code",
   "execution_count": 6,
   "id": "c5838347-53f8-406f-8fc3-9d1eecb2ac5a",
   "metadata": {},
   "outputs": [
    {
     "data": {
      "text/plain": [
       "a        80\n",
       "b        64\n",
       "c        43\n",
       "d    python\n",
       "e        32\n",
       "f      pyth\n",
       "dtype: object"
      ]
     },
     "execution_count": 6,
     "metadata": {},
     "output_type": "execute_result"
    }
   ],
   "source": [
    "Ser = pd.Series([80,64,43,'python',32,'pyth'],index=['a','b','c','d','e','f'])\n",
    "Ser"
   ]
  },
  {
   "cell_type": "code",
   "execution_count": 7,
   "id": "d93fa07c-a038-48ad-984b-621602013f8e",
   "metadata": {},
   "outputs": [
    {
     "data": {
      "text/html": [
       "<div>\n",
       "<style scoped>\n",
       "    .dataframe tbody tr th:only-of-type {\n",
       "        vertical-align: middle;\n",
       "    }\n",
       "\n",
       "    .dataframe tbody tr th {\n",
       "        vertical-align: top;\n",
       "    }\n",
       "\n",
       "    .dataframe thead th {\n",
       "        text-align: right;\n",
       "    }\n",
       "</style>\n",
       "<table border=\"1\" class=\"dataframe\">\n",
       "  <thead>\n",
       "    <tr style=\"text-align: right;\">\n",
       "      <th></th>\n",
       "      <th>0</th>\n",
       "      <th>1</th>\n",
       "      <th>2</th>\n",
       "      <th>3</th>\n",
       "    </tr>\n",
       "  </thead>\n",
       "  <tbody>\n",
       "    <tr>\n",
       "      <th>0</th>\n",
       "      <td>acas</td>\n",
       "      <td>1</td>\n",
       "      <td>2</td>\n",
       "      <td>3</td>\n",
       "    </tr>\n",
       "    <tr>\n",
       "      <th>1</th>\n",
       "      <td>bascas</td>\n",
       "      <td>5</td>\n",
       "      <td>6</td>\n",
       "      <td>7</td>\n",
       "    </tr>\n",
       "    <tr>\n",
       "      <th>2</th>\n",
       "      <td>cacas</td>\n",
       "      <td>8</td>\n",
       "      <td>9</td>\n",
       "      <td>4</td>\n",
       "    </tr>\n",
       "  </tbody>\n",
       "</table>\n",
       "</div>"
      ],
      "text/plain": [
       "        0  1  2  3\n",
       "0    acas  1  2  3\n",
       "1  bascas  5  6  7\n",
       "2   cacas  8  9  4"
      ]
     },
     "execution_count": 7,
     "metadata": {},
     "output_type": "execute_result"
    }
   ],
   "source": [
    "# dataframe - equivalent to spreadsheet\n",
    "#             combination of one or more series\n",
    "\n",
    "sales=[('acas',1,2,3),('bascas',5,6,7),('cacas',8,9,4)]\n",
    "df = pd.DataFrame(sales)\n",
    "df"
   ]
  },
  {
   "cell_type": "code",
   "execution_count": 8,
   "id": "db87a399-45d6-4296-b82d-1ae7ccf06c9f",
   "metadata": {},
   "outputs": [
    {
     "name": "stdout",
     "output_type": "stream",
     "text": [
      "     name  jan  feb  mar\n",
      "0    acas    1    2    3\n",
      "1  bascas    5    6    7\n",
      "2   cacas    8    9    4\n"
     ]
    }
   ],
   "source": [
    "# column labels can be customized while creating the dataframe or after creating it\n",
    "# customize columns labels, while creating dataframe by passing the parameter columns\n",
    "\n",
    "\n",
    "df = pd.DataFrame(sales,columns=['name','jan','feb','mar'])\n",
    "print(df)"
   ]
  },
  {
   "cell_type": "code",
   "execution_count": 9,
   "id": "24254e7f-5ce0-47a7-ae93-ab13dd8a8eec",
   "metadata": {},
   "outputs": [
    {
     "name": "stdout",
     "output_type": "stream",
     "text": [
      "        0  1  2  3\n",
      "0    acas  1  2  3\n",
      "1  bascas  5  6  7\n",
      "2   cacas  8  9  4\n",
      "     name  apr  may  jun\n",
      "0    acas    1    2    3\n",
      "1  bascas    5    6    7\n",
      "2   cacas    8    9    4\n"
     ]
    }
   ],
   "source": [
    "df = pd.DataFrame(sales)\n",
    "print(df)\n",
    "df.columns = ['name','apr','may','jun']\n",
    "print(df)"
   ]
  },
  {
   "cell_type": "code",
   "execution_count": 10,
   "id": "2e1cbe95-59e9-44a5-80c8-dcdd976c1281",
   "metadata": {},
   "outputs": [
    {
     "data": {
      "text/html": [
       "<div>\n",
       "<style scoped>\n",
       "    .dataframe tbody tr th:only-of-type {\n",
       "        vertical-align: middle;\n",
       "    }\n",
       "\n",
       "    .dataframe tbody tr th {\n",
       "        vertical-align: top;\n",
       "    }\n",
       "\n",
       "    .dataframe thead th {\n",
       "        text-align: right;\n",
       "    }\n",
       "</style>\n",
       "<table border=\"1\" class=\"dataframe\">\n",
       "  <thead>\n",
       "    <tr style=\"text-align: right;\">\n",
       "      <th></th>\n",
       "      <th>apr</th>\n",
       "      <th>may</th>\n",
       "      <th>jun</th>\n",
       "    </tr>\n",
       "    <tr>\n",
       "      <th>name</th>\n",
       "      <th></th>\n",
       "      <th></th>\n",
       "      <th></th>\n",
       "    </tr>\n",
       "  </thead>\n",
       "  <tbody>\n",
       "    <tr>\n",
       "      <th>acas</th>\n",
       "      <td>1</td>\n",
       "      <td>2</td>\n",
       "      <td>3</td>\n",
       "    </tr>\n",
       "    <tr>\n",
       "      <th>bascas</th>\n",
       "      <td>5</td>\n",
       "      <td>6</td>\n",
       "      <td>7</td>\n",
       "    </tr>\n",
       "    <tr>\n",
       "      <th>cacas</th>\n",
       "      <td>8</td>\n",
       "      <td>9</td>\n",
       "      <td>4</td>\n",
       "    </tr>\n",
       "  </tbody>\n",
       "</table>\n",
       "</div>"
      ],
      "text/plain": [
       "        apr  may  jun\n",
       "name                 \n",
       "acas      1    2    3\n",
       "bascas    5    6    7\n",
       "cacas     8    9    4"
      ]
     },
     "execution_count": 10,
     "metadata": {},
     "output_type": "execute_result"
    }
   ],
   "source": [
    "df.set_index(['name'],inplace=True)\n",
    "df"
   ]
  },
  {
   "cell_type": "code",
   "execution_count": 7,
   "id": "229a7d4d-1274-4fb5-b815-9513af02737f",
   "metadata": {},
   "outputs": [
    {
     "name": "stdout",
     "output_type": "stream",
     "text": [
      "Requirement already satisfied: matplotlib in c:\\users\\prince.s\\appdata\\local\\programs\\python\\python313\\lib\\site-packages (3.10.1)\n",
      "Requirement already satisfied: contourpy>=1.0.1 in c:\\users\\prince.s\\appdata\\local\\programs\\python\\python313\\lib\\site-packages (from matplotlib) (1.3.2)\n",
      "Requirement already satisfied: cycler>=0.10 in c:\\users\\prince.s\\appdata\\local\\programs\\python\\python313\\lib\\site-packages (from matplotlib) (0.12.1)\n",
      "Requirement already satisfied: fonttools>=4.22.0 in c:\\users\\prince.s\\appdata\\local\\programs\\python\\python313\\lib\\site-packages (from matplotlib) (4.57.0)\n",
      "Requirement already satisfied: kiwisolver>=1.3.1 in c:\\users\\prince.s\\appdata\\local\\programs\\python\\python313\\lib\\site-packages (from matplotlib) (1.4.8)\n",
      "Requirement already satisfied: numpy>=1.23 in c:\\users\\prince.s\\appdata\\local\\programs\\python\\python313\\lib\\site-packages (from matplotlib) (2.2.4)\n",
      "Requirement already satisfied: packaging>=20.0 in c:\\users\\prince.s\\appdata\\local\\programs\\python\\python313\\lib\\site-packages (from matplotlib) (24.2)\n",
      "Requirement already satisfied: pillow>=8 in c:\\users\\prince.s\\appdata\\local\\programs\\python\\python313\\lib\\site-packages (from matplotlib) (11.2.1)\n",
      "Requirement already satisfied: pyparsing>=2.3.1 in c:\\users\\prince.s\\appdata\\local\\programs\\python\\python313\\lib\\site-packages (from matplotlib) (3.2.3)\n",
      "Requirement already satisfied: python-dateutil>=2.7 in c:\\users\\prince.s\\appdata\\local\\programs\\python\\python313\\lib\\site-packages (from matplotlib) (2.9.0.post0)\n",
      "Requirement already satisfied: six>=1.5 in c:\\users\\prince.s\\appdata\\local\\programs\\python\\python313\\lib\\site-packages (from python-dateutil>=2.7->matplotlib) (1.17.0)\n",
      "Note: you may need to restart the kernel to use updated packages.\n"
     ]
    }
   ],
   "source": [
    "pip install matplotlib"
   ]
  },
  {
   "cell_type": "code",
   "execution_count": 11,
   "id": "b9d6770d-e35d-4602-9302-f9968c4fe7bb",
   "metadata": {},
   "outputs": [
    {
     "data": {
      "text/plain": [
       "<function matplotlib.pyplot.show(close=None, block=None)>"
      ]
     },
     "execution_count": 11,
     "metadata": {},
     "output_type": "execute_result"
    },
    {
     "data": {
      "image/png": "[encoded data removed]",
      "text/plain": [
       "<Figure size 640x480 with 1 Axes>"
      ]
     },
     "metadata": {},
     "output_type": "display_data"
    }
   ],
   "source": [
    "import matplotlib.pyplot as plt\n",
    "df.plot(kind='bar')\n",
    "plt.show"
   ]
  },
  {
   "cell_type": "code",
   "execution_count": 12,
   "id": "9a962319-6802-48aa-a508-cdc767e1adb7",
   "metadata": {},
   "outputs": [
    {
     "data": {
      "text/plain": [
       "<function matplotlib.pyplot.show(close=None, block=None)>"
      ]
     },
     "execution_count": 12,
     "metadata": {},
     "output_type": "execute_result"
    },
    {
     "data": {
      "image/png": "[encoded data removed]",
      "text/plain": [
       "<Figure size 640x480 with 1 Axes>"
      ]
     },
     "metadata": {},
     "output_type": "display_data"
    }
   ],
   "source": [
    "import matplotlib.pyplot as plt\n",
    "df.plot(kind='line')\n",
    "plt.show"
   ]
  },
  {
   "cell_type": "code",
   "execution_count": 13,
   "id": "d8c37aa8-9289-4f4f-9083-80be24c26278",
   "metadata": {},
   "outputs": [
    {
     "name": "stdout",
     "output_type": "stream",
     "text": [
      "<bound method NDFrame.head of       id first_name   last_name                    company_name  \\\n",
      "0    1.0    Aleshia  Tomkiewicz         Alan D Rosenburg Cpa Pc   \n",
      "1    2.0       Evan   Zigomalas              Cap Gemini America   \n",
      "2    3.0     France     Andrade             Elliott, John W Esq   \n",
      "3    4.0    Ulysses   Mcwalters                  Mcmahan, Ben L   \n",
      "4    5.0     Tyisha      Veness                  Champagne Room   \n",
      "..   ...        ...         ...                             ...   \n",
      "495  NaN      Avery        Veit      Plaza Gourmet Delicatessen   \n",
      "496  NaN       Reid     Euresti            Fitzgerald, Edward J   \n",
      "497  NaN  Charlette    Brenning              Furey & Associates   \n",
      "498  NaN  Celestina       Keeny        Bfg Federal Credit Union   \n",
      "499  NaN         Mi      Richan  Nelson Wright Haworth Golf Crs   \n",
      "\n",
      "                address                            city           county  \\\n",
      "0          14 Taylor St               St. Stephens Ward             Kent   \n",
      "1           5 Binney St                      Abbey Ward  Buckinghamshire   \n",
      "2          8 Moor Place  East Southbourne and Tuckton W      Bournemouth   \n",
      "3         505 Exeter Rd              Hawerby cum Beesby     Lincolnshire   \n",
      "4     5396 Forth Street      Greets Green and Lyng Ward    West Midlands   \n",
      "..                  ...                             ...              ...   \n",
      "495  9166 Devon St #905  Knightsbridge and Belgravia Wa   Greater London   \n",
      "496        70 Foster St        Inverness Ness-Side Ward         Highland   \n",
      "497     714 Fonthill Rd                Darton West Ward  South Yorkshire   \n",
      "498         9 Milton St                Consett North ED    County Durham   \n",
      "499     6 Norwood Grove               Tanworth-in-Arden     Warwickshire   \n",
      "\n",
      "       postal        phone1        phone2                       email  \\\n",
      "0     CT2 7PP  01835-703597  01944-369967     atomkiewicz@hotmail.com   \n",
      "1    HP11 2AX  01937-864715  01714-737668    evan.zigomalas@gmail.com   \n",
      "2     BH6 3BE  01347-368222  01935-821636  france.andrade@hotmail.com   \n",
      "3    DN36 5RP  01912-771311  01302-601380         ulysses@hotmail.com   \n",
      "4     B70 9DT  01547-429341  01290-367248   tyisha.veness@hotmail.com   \n",
      "..        ...           ...           ...                         ...   \n",
      "495  SW1W 8JY  01748-625058  01369-185737            avery@veit.co.uk   \n",
      "496   IV2 6WT  01916-963261  01370-319414      reuresti@euresti.co.uk   \n",
      "497   S75 5EJ  01888-152110  01301-312487    cbrenning@brenning.co.uk   \n",
      "498   DH8 5LP  01877-379681  01600-463475   celestina_keeny@gmail.com   \n",
      "499   B94 5RZ  01451-785624  01202-738406              mi@hotmail.com   \n",
      "\n",
      "                                             web    in  out  \n",
      "0           http://www.alandrosenburgcpapc.co.uk   9:3  NaN  \n",
      "1              http://www.capgeminiamerica.co.uk  9:13  NaN  \n",
      "2               http://www.elliottjohnwesq.co.uk  9:46  NaN  \n",
      "3                   http://www.mcmahanbenl.co.uk   9:4  NaN  \n",
      "4                 http://www.champagneroom.co.uk   8:1  NaN  \n",
      "..                                           ...   ...  ...  \n",
      "495    http://www.plazagourmetdelicatessen.co.uk  9:14  NaN  \n",
      "496           http://www.fitzgeraldedwardj.co.uk  9:47  NaN  \n",
      "497             http://www.fureyassociates.co.uk  8:59  NaN  \n",
      "498       http://www.bfgfederalcreditunion.co.uk  9:21  NaN  \n",
      "499  http://www.nelsonwrighthaworthgolfcrs.co.uk  9:36  NaN  \n",
      "\n",
      "[500 rows x 14 columns]>\n"
     ]
    }
   ],
   "source": [
    "import pandas as pd\n",
    "\n",
    "df = pd.read_csv('uk-500.txt')\n",
    "print(df.head)"
   ]
  },
  {
   "cell_type": "code",
   "execution_count": 14,
   "id": "f917b495-bb3d-4ae5-9dce-0e1121a1c23f",
   "metadata": {},
   "outputs": [
    {
     "name": "stdout",
     "output_type": "stream",
     "text": [
      "Requirement already satisfied: openpyxl in c:\\users\\prince.s\\appdata\\local\\programs\\python\\python313\\lib\\site-packages (3.1.5)\n",
      "Requirement already satisfied: et-xmlfile in c:\\users\\prince.s\\appdata\\local\\programs\\python\\python313\\lib\\site-packages (from openpyxl) (2.0.0)\n",
      "Note: you may need to restart the kernel to use updated packages.\n"
     ]
    }
   ],
   "source": [
    "pip install openpyxl"
   ]
  },
  {
   "cell_type": "markdown",
   "id": "7b4d4bd1-ee83-4d3c-89d5-8fb7fca8cdec",
   "metadata": {},
   "source": [
    "SAVE DATFRAME AS EXCEL"
   ]
  },
  {
   "cell_type": "code",
   "execution_count": 15,
   "id": "05cae84d-f438-45a7-a138-c9ff8371dd87",
   "metadata": {},
   "outputs": [
    {
     "data": {
      "text/html": [
       "<div>\n",
       "<style scoped>\n",
       "    .dataframe tbody tr th:only-of-type {\n",
       "        vertical-align: middle;\n",
       "    }\n",
       "\n",
       "    .dataframe tbody tr th {\n",
       "        vertical-align: top;\n",
       "    }\n",
       "\n",
       "    .dataframe thead th {\n",
       "        text-align: right;\n",
       "    }\n",
       "</style>\n",
       "<table border=\"1\" class=\"dataframe\">\n",
       "  <thead>\n",
       "    <tr style=\"text-align: right;\">\n",
       "      <th></th>\n",
       "      <th>id</th>\n",
       "      <th>first_name</th>\n",
       "      <th>last_name</th>\n",
       "      <th>company_name</th>\n",
       "      <th>address</th>\n",
       "      <th>city</th>\n",
       "      <th>county</th>\n",
       "      <th>postal</th>\n",
       "      <th>phone1</th>\n",
       "      <th>phone2</th>\n",
       "      <th>email</th>\n",
       "      <th>web</th>\n",
       "      <th>in</th>\n",
       "      <th>out</th>\n",
       "    </tr>\n",
       "  </thead>\n",
       "  <tbody>\n",
       "    <tr>\n",
       "      <th>0</th>\n",
       "      <td>1.0</td>\n",
       "      <td>Aleshia</td>\n",
       "      <td>Tomkiewicz</td>\n",
       "      <td>Alan D Rosenburg Cpa Pc</td>\n",
       "      <td>14 Taylor St</td>\n",
       "      <td>St. Stephens Ward</td>\n",
       "      <td>Kent</td>\n",
       "      <td>CT2 7PP</td>\n",
       "      <td>01835-703597</td>\n",
       "      <td>01944-369967</td>\n",
       "      <td>atomkiewicz@hotmail.com</td>\n",
       "      <td>http://www.alandrosenburgcpapc.co.uk</td>\n",
       "      <td>9:3</td>\n",
       "      <td>NaN</td>\n",
       "    </tr>\n",
       "    <tr>\n",
       "      <th>1</th>\n",
       "      <td>2.0</td>\n",
       "      <td>Evan</td>\n",
       "      <td>Zigomalas</td>\n",
       "      <td>Cap Gemini America</td>\n",
       "      <td>5 Binney St</td>\n",
       "      <td>Abbey Ward</td>\n",
       "      <td>Buckinghamshire</td>\n",
       "      <td>HP11 2AX</td>\n",
       "      <td>01937-864715</td>\n",
       "      <td>01714-737668</td>\n",
       "      <td>evan.zigomalas@gmail.com</td>\n",
       "      <td>http://www.capgeminiamerica.co.uk</td>\n",
       "      <td>9:13</td>\n",
       "      <td>NaN</td>\n",
       "    </tr>\n",
       "    <tr>\n",
       "      <th>2</th>\n",
       "      <td>3.0</td>\n",
       "      <td>France</td>\n",
       "      <td>Andrade</td>\n",
       "      <td>Elliott, John W Esq</td>\n",
       "      <td>8 Moor Place</td>\n",
       "      <td>East Southbourne and Tuckton W</td>\n",
       "      <td>Bournemouth</td>\n",
       "      <td>BH6 3BE</td>\n",
       "      <td>01347-368222</td>\n",
       "      <td>01935-821636</td>\n",
       "      <td>france.andrade@hotmail.com</td>\n",
       "      <td>http://www.elliottjohnwesq.co.uk</td>\n",
       "      <td>9:46</td>\n",
       "      <td>NaN</td>\n",
       "    </tr>\n",
       "    <tr>\n",
       "      <th>3</th>\n",
       "      <td>4.0</td>\n",
       "      <td>Ulysses</td>\n",
       "      <td>Mcwalters</td>\n",
       "      <td>Mcmahan, Ben L</td>\n",
       "      <td>505 Exeter Rd</td>\n",
       "      <td>Hawerby cum Beesby</td>\n",
       "      <td>Lincolnshire</td>\n",
       "      <td>DN36 5RP</td>\n",
       "      <td>01912-771311</td>\n",
       "      <td>01302-601380</td>\n",
       "      <td>ulysses@hotmail.com</td>\n",
       "      <td>http://www.mcmahanbenl.co.uk</td>\n",
       "      <td>9:4</td>\n",
       "      <td>NaN</td>\n",
       "    </tr>\n",
       "    <tr>\n",
       "      <th>4</th>\n",
       "      <td>5.0</td>\n",
       "      <td>Tyisha</td>\n",
       "      <td>Veness</td>\n",
       "      <td>Champagne Room</td>\n",
       "      <td>5396 Forth Street</td>\n",
       "      <td>Greets Green and Lyng Ward</td>\n",
       "      <td>West Midlands</td>\n",
       "      <td>B70 9DT</td>\n",
       "      <td>01547-429341</td>\n",
       "      <td>01290-367248</td>\n",
       "      <td>tyisha.veness@hotmail.com</td>\n",
       "      <td>http://www.champagneroom.co.uk</td>\n",
       "      <td>8:1</td>\n",
       "      <td>NaN</td>\n",
       "    </tr>\n",
       "    <tr>\n",
       "      <th>...</th>\n",
       "      <td>...</td>\n",
       "      <td>...</td>\n",
       "      <td>...</td>\n",
       "      <td>...</td>\n",
       "      <td>...</td>\n",
       "      <td>...</td>\n",
       "      <td>...</td>\n",
       "      <td>...</td>\n",
       "      <td>...</td>\n",
       "      <td>...</td>\n",
       "      <td>...</td>\n",
       "      <td>...</td>\n",
       "      <td>...</td>\n",
       "      <td>...</td>\n",
       "    </tr>\n",
       "    <tr>\n",
       "      <th>495</th>\n",
       "      <td>NaN</td>\n",
       "      <td>Avery</td>\n",
       "      <td>Veit</td>\n",
       "      <td>Plaza Gourmet Delicatessen</td>\n",
       "      <td>9166 Devon St #905</td>\n",
       "      <td>Knightsbridge and Belgravia Wa</td>\n",
       "      <td>Greater London</td>\n",
       "      <td>SW1W 8JY</td>\n",
       "      <td>01748-625058</td>\n",
       "      <td>01369-185737</td>\n",
       "      <td>avery@veit.co.uk</td>\n",
       "      <td>http://www.plazagourmetdelicatessen.co.uk</td>\n",
       "      <td>9:14</td>\n",
       "      <td>NaN</td>\n",
       "    </tr>\n",
       "    <tr>\n",
       "      <th>496</th>\n",
       "      <td>NaN</td>\n",
       "      <td>Reid</td>\n",
       "      <td>Euresti</td>\n",
       "      <td>Fitzgerald, Edward J</td>\n",
       "      <td>70 Foster St</td>\n",
       "      <td>Inverness Ness-Side Ward</td>\n",
       "      <td>Highland</td>\n",
       "      <td>IV2 6WT</td>\n",
       "      <td>01916-963261</td>\n",
       "      <td>01370-319414</td>\n",
       "      <td>reuresti@euresti.co.uk</td>\n",
       "      <td>http://www.fitzgeraldedwardj.co.uk</td>\n",
       "      <td>9:47</td>\n",
       "      <td>NaN</td>\n",
       "    </tr>\n",
       "    <tr>\n",
       "      <th>497</th>\n",
       "      <td>NaN</td>\n",
       "      <td>Charlette</td>\n",
       "      <td>Brenning</td>\n",
       "      <td>Furey &amp; Associates</td>\n",
       "      <td>714 Fonthill Rd</td>\n",
       "      <td>Darton West Ward</td>\n",
       "      <td>South Yorkshire</td>\n",
       "      <td>S75 5EJ</td>\n",
       "      <td>01888-152110</td>\n",
       "      <td>01301-312487</td>\n",
       "      <td>cbrenning@brenning.co.uk</td>\n",
       "      <td>http://www.fureyassociates.co.uk</td>\n",
       "      <td>8:59</td>\n",
       "      <td>NaN</td>\n",
       "    </tr>\n",
       "    <tr>\n",
       "      <th>498</th>\n",
       "      <td>NaN</td>\n",
       "      <td>Celestina</td>\n",
       "      <td>Keeny</td>\n",
       "      <td>Bfg Federal Credit Union</td>\n",
       "      <td>9 Milton St</td>\n",
       "      <td>Consett North ED</td>\n",
       "      <td>County Durham</td>\n",
       "      <td>DH8 5LP</td>\n",
       "      <td>01877-379681</td>\n",
       "      <td>01600-463475</td>\n",
       "      <td>celestina_keeny@gmail.com</td>\n",
       "      <td>http://www.bfgfederalcreditunion.co.uk</td>\n",
       "      <td>9:21</td>\n",
       "      <td>NaN</td>\n",
       "    </tr>\n",
       "    <tr>\n",
       "      <th>499</th>\n",
       "      <td>NaN</td>\n",
       "      <td>Mi</td>\n",
       "      <td>Richan</td>\n",
       "      <td>Nelson Wright Haworth Golf Crs</td>\n",
       "      <td>6 Norwood Grove</td>\n",
       "      <td>Tanworth-in-Arden</td>\n",
       "      <td>Warwickshire</td>\n",
       "      <td>B94 5RZ</td>\n",
       "      <td>01451-785624</td>\n",
       "      <td>01202-738406</td>\n",
       "      <td>mi@hotmail.com</td>\n",
       "      <td>http://www.nelsonwrighthaworthgolfcrs.co.uk</td>\n",
       "      <td>9:36</td>\n",
       "      <td>NaN</td>\n",
       "    </tr>\n",
       "  </tbody>\n",
       "</table>\n",
       "<p>500 rows × 14 columns</p>\n",
       "</div>"
      ],
      "text/plain": [
       "      id first_name   last_name                    company_name  \\\n",
       "0    1.0    Aleshia  Tomkiewicz         Alan D Rosenburg Cpa Pc   \n",
       "1    2.0       Evan   Zigomalas              Cap Gemini America   \n",
       "2    3.0     France     Andrade             Elliott, John W Esq   \n",
       "3    4.0    Ulysses   Mcwalters                  Mcmahan, Ben L   \n",
       "4    5.0     Tyisha      Veness                  Champagne Room   \n",
       "..   ...        ...         ...                             ...   \n",
       "495  NaN      Avery        Veit      Plaza Gourmet Delicatessen   \n",
       "496  NaN       Reid     Euresti            Fitzgerald, Edward J   \n",
       "497  NaN  Charlette    Brenning              Furey & Associates   \n",
       "498  NaN  Celestina       Keeny        Bfg Federal Credit Union   \n",
       "499  NaN         Mi      Richan  Nelson Wright Haworth Golf Crs   \n",
       "\n",
       "                address                            city           county  \\\n",
       "0          14 Taylor St               St. Stephens Ward             Kent   \n",
       "1           5 Binney St                      Abbey Ward  Buckinghamshire   \n",
       "2          8 Moor Place  East Southbourne and Tuckton W      Bournemouth   \n",
       "3         505 Exeter Rd              Hawerby cum Beesby     Lincolnshire   \n",
       "4     5396 Forth Street      Greets Green and Lyng Ward    West Midlands   \n",
       "..                  ...                             ...              ...   \n",
       "495  9166 Devon St #905  Knightsbridge and Belgravia Wa   Greater London   \n",
       "496        70 Foster St        Inverness Ness-Side Ward         Highland   \n",
       "497     714 Fonthill Rd                Darton West Ward  South Yorkshire   \n",
       "498         9 Milton St                Consett North ED    County Durham   \n",
       "499     6 Norwood Grove               Tanworth-in-Arden     Warwickshire   \n",
       "\n",
       "       postal        phone1        phone2                       email  \\\n",
       "0     CT2 7PP  01835-703597  01944-369967     atomkiewicz@hotmail.com   \n",
       "1    HP11 2AX  01937-864715  01714-737668    evan.zigomalas@gmail.com   \n",
       "2     BH6 3BE  01347-368222  01935-821636  france.andrade@hotmail.com   \n",
       "3    DN36 5RP  01912-771311  01302-601380         ulysses@hotmail.com   \n",
       "4     B70 9DT  01547-429341  01290-367248   tyisha.veness@hotmail.com   \n",
       "..        ...           ...           ...                         ...   \n",
       "495  SW1W 8JY  01748-625058  01369-185737            avery@veit.co.uk   \n",
       "496   IV2 6WT  01916-963261  01370-319414      reuresti@euresti.co.uk   \n",
       "497   S75 5EJ  01888-152110  01301-312487    cbrenning@brenning.co.uk   \n",
       "498   DH8 5LP  01877-379681  01600-463475   celestina_keeny@gmail.com   \n",
       "499   B94 5RZ  01451-785624  01202-738406              mi@hotmail.com   \n",
       "\n",
       "                                             web    in  out  \n",
       "0           http://www.alandrosenburgcpapc.co.uk   9:3  NaN  \n",
       "1              http://www.capgeminiamerica.co.uk  9:13  NaN  \n",
       "2               http://www.elliottjohnwesq.co.uk  9:46  NaN  \n",
       "3                   http://www.mcmahanbenl.co.uk   9:4  NaN  \n",
       "4                 http://www.champagneroom.co.uk   8:1  NaN  \n",
       "..                                           ...   ...  ...  \n",
       "495    http://www.plazagourmetdelicatessen.co.uk  9:14  NaN  \n",
       "496           http://www.fitzgeraldedwardj.co.uk  9:47  NaN  \n",
       "497             http://www.fureyassociates.co.uk  8:59  NaN  \n",
       "498       http://www.bfgfederalcreditunion.co.uk  9:21  NaN  \n",
       "499  http://www.nelsonwrighthaworthgolfcrs.co.uk  9:36  NaN  \n",
       "\n",
       "[500 rows x 14 columns]"
      ]
     },
     "execution_count": 15,
     "metadata": {},
     "output_type": "execute_result"
    }
   ],
   "source": [
    "import openpyxl\n",
    "\n",
    "df.to_excel('test.xlsx',index=False)\n",
    "df"
   ]
  },
  {
   "cell_type": "code",
   "execution_count": 20,
   "id": "3eeb43dc-af01-462c-8826-50ac1b05efa4",
   "metadata": {},
   "outputs": [
    {
     "name": "stdout",
     "output_type": "stream",
     "text": [
      "      id first_name   last_name                    company_name  \\\n",
      "0    1.0    Aleshia  Tomkiewicz         Alan D Rosenburg Cpa Pc   \n",
      "2    3.0     France     Andrade             Elliott, John W Esq   \n",
      "3    4.0    Ulysses   Mcwalters                  Mcmahan, Ben L   \n",
      "4    5.0     Tyisha      Veness                  Champagne Room   \n",
      "6    7.0       Marg    Grasmick   Wrangle Hill Auto Auct & Slvg   \n",
      "..   ...        ...         ...                             ...   \n",
      "486  NaN     Sophia     Gaucher               T C E Systems Inc   \n",
      "490  NaN     Rosita   Ausdemore               Jurdem, Scott Esq   \n",
      "491  NaN       Huey     Stancil                   Lindner Funds   \n",
      "492  NaN     Elbert     Fiorino            Donald, G Nelson Esq   \n",
      "499  NaN         Mi      Richan  Nelson Wright Haworth Golf Crs   \n",
      "\n",
      "                    address                            city  \\\n",
      "0              14 Taylor St               St. Stephens Ward   \n",
      "2              8 Moor Place  East Southbourne and Tuckton W   \n",
      "3             505 Exeter Rd              Hawerby cum Beesby   \n",
      "4         5396 Forth Street      Greets Green and Lyng Ward   \n",
      "6          7457 Cowl St #70                    Bargate Ward   \n",
      "..                      ...                             ...   \n",
      "486  88 Upper Harrington St                 North East Ward   \n",
      "490    8 Heathfield St #657                        Hailsham   \n",
      "491             275 Peel Sq                       Park Ward   \n",
      "492  726 Westmoreland Place                Ballochmyle Ward   \n",
      "499         6 Norwood Grove               Tanworth-in-Arden   \n",
      "\n",
      "                      county    postal        phone1        phone2  \\\n",
      "0                       Kent   CT2 7PP  01835-703597  01944-369967   \n",
      "2                Bournemouth   BH6 3BE  01347-368222  01935-821636   \n",
      "3               Lincolnshire  DN36 5RP  01912-771311  01302-601380   \n",
      "4              West Midlands   B70 9DT  01547-429341  01290-367248   \n",
      "6                Southampton  SO14 3TY  01865-582516  01362-620532   \n",
      "..                       ...       ...           ...           ...   \n",
      "486        North Lanarkshire   G69 8EL  01504-539114  01254-919378   \n",
      "490              East Sussex  BN27 1AJ  01273-236188  01997-765432   \n",
      "491  North Eart Lincolnshire  DN32 0PT  01502-139578  01468-195646   \n",
      "492            East Ayrshire   KA5 6EL  01724-467889  01992-537553   \n",
      "499             Warwickshire   B94 5RZ  01451-785624  01202-738406   \n",
      "\n",
      "                          email                                          web  \\\n",
      "0       atomkiewicz@hotmail.com         http://www.alandrosenburgcpapc.co.uk   \n",
      "2    france.andrade@hotmail.com             http://www.elliottjohnwesq.co.uk   \n",
      "3           ulysses@hotmail.com                 http://www.mcmahanbenl.co.uk   \n",
      "4     tyisha.veness@hotmail.com               http://www.champagneroom.co.uk   \n",
      "6              marg@hotmail.com     http://www.wranglehillautoauctslvg.co.uk   \n",
      "..                          ...                                          ...   \n",
      "486  sophia.gaucher@hotmail.com               http://www.tcesystemsinc.co.uk   \n",
      "490      rausdemore@hotmail.com              http://www.jurdemscottesq.co.uk   \n",
      "491        hstancil@hotmail.com                http://www.lindnerfunds.co.uk   \n",
      "492          elbert@hotmail.com            http://www.donaldgnelsonesq.co.uk   \n",
      "499              mi@hotmail.com  http://www.nelsonwrighthaworthgolfcrs.co.uk   \n",
      "\n",
      "       in  out  \n",
      "0     9:3  NaN  \n",
      "2    9:46  NaN  \n",
      "3     9:4  NaN  \n",
      "4     8:1  NaN  \n",
      "6    8:28  NaN  \n",
      "..    ...  ...  \n",
      "486  8:29  NaN  \n",
      "490  9:25  NaN  \n",
      "491  9:11  NaN  \n",
      "492  8:52  NaN  \n",
      "499  9:36  NaN  \n",
      "\n",
      "[114 rows x 14 columns]\n"
     ]
    }
   ],
   "source": [
    "# filtering data\n",
    "# loc and iloc\n",
    "# iloc - uses row and column index\n",
    "# loc - uses row values\n",
    "\n",
    "print(df.loc[df['email'].str.endswith('hotmail.com')])\n"
   ]
  },
  {
   "cell_type": "code",
   "execution_count": 16,
   "id": "b975c326-317a-4ab9-bb7c-4f4fc9f3055f",
   "metadata": {},
   "outputs": [
    {
     "name": "stdout",
     "output_type": "stream",
     "text": [
      "        id first_name  last_name                 company_name  \\\n",
      "20    21.0      Peter  Gutierres   Niagara Custombuilt Mfg Co   \n",
      "27    28.0        Pok   Molaison        Portal Metal Products   \n",
      "48    49.0      Pedro    Aschoff            Charlotte Chamber   \n",
      "118  119.0      Paola      Dease     Sunderland Publishing Co   \n",
      "161  162.0    Phillip       Aloi          Duffield, Michael C   \n",
      "210  211.0     Pearly        Ero                  Rug Gallery   \n",
      "317    NaN   Precious    Brabble         Sigmacom Corporation   \n",
      "332    NaN      Patti     Rempel           Meder, Randy F Cpa   \n",
      "345    NaN    Pearlie      Flori  Marine Safety International   \n",
      "376    NaN    Patrick   Teisberg           Dworkin, Michael L   \n",
      "378    NaN      Pilar     Seelig      Demer Normann Smith Ltd   \n",
      "432    NaN      Pansy      Kopan                    Oncor Inc   \n",
      "444    NaN       Paul     Farrin          Dering, James E Esq   \n",
      "467    NaN      Peggy       Khov      Goldberg, Stephen M Esq   \n",
      "479    NaN    Pauline      Fling   Cumberland Vacuum Products   \n",
      "493    NaN       Pura    Manciel               Cia Inspection   \n",
      "\n",
      "                address                 city              county    postal  \\\n",
      "20      4410 Tarlton St  Prestatyn Community        Denbighshire  LL19 9EG   \n",
      "27        211 Hobart St              Newquay            Cornwall   TR7 1LS   \n",
      "48          135 Opie St     Howard Town Ward          Derbyshire  SK13 8BB   \n",
      "118          94 Enid St          Birchington                Kent   CT7 9BG   \n",
      "161        6 Cannock St            Scarcroft      West Yorkshire  LS14 3BW   \n",
      "210      9960 Gilroy Rd       Woodhouse Ward      Greater London   N12 9JT   \n",
      "317    9 Herbert St #77              Shenley       Hertfordshire   WD7 9AQ   \n",
      "332     1346 Vandyke St       Hove Park Ward   Brighton and Hove   BN3 6NS   \n",
      "345       4 Cochrane St                Iwade                Kent   ME9 8UJ   \n",
      "376     2 Whitefield Rd         Leigh-on-Sea               Essex   SS9 2DJ   \n",
      "378          4 Ogwen St           Chichester         West Sussex  PO19 9PF   \n",
      "432    1 Northampton St              Madeley          Shropshire   TF7 4GA   \n",
      "444        7 Varthen St            Town Ward                Kent   DA1 2DL   \n",
      "467       328 Pallas St        Longford Ward  Greater Manchester   M32 8LJ   \n",
      "479  6452 Pilgrim St #5   Seven Sisters Ward      Greater London   N15 6TH   \n",
      "493          7 Water St    Priory Heath Ward             Suffolk   IP3 9RB   \n",
      "\n",
      "           phone1        phone2                           email  \\\n",
      "20   01842-767201  01859-648598       peter_gutierres@yahoo.com   \n",
      "27   01866-248660  01315-284286                   pok@yahoo.com   \n",
      "48   01386-981141  01823-517315              paschoff@yahoo.com   \n",
      "118  01333-642646  01419-231768                pdease@gmail.com   \n",
      "161  01490-898175  01867-710914               paloi@hotmail.com   \n",
      "210  01329-374051  01408-866700                pero@hotmail.com   \n",
      "317  01687-288043  01800-154821  precious_brabble@brabble.co.uk   \n",
      "332  01539-157435  01334-638031              patti@rempel.co.uk   \n",
      "345  01235-935599  01583-844244         pearlie_flori@gmail.com   \n",
      "376  01842-131065  01217-730044             patrick@hotmail.com   \n",
      "378  01356-866584  01814-760513                 pilar@yahoo.com   \n",
      "432  01674-842315  01627-571972               pansy@kopan.co.uk   \n",
      "444  01407-775572  01879-963638        paul.farrin@farrin.co.uk   \n",
      "467  01619-237602  01648-417310            peggy.khov@gmail.com   \n",
      "479  01990-476494  01458-113457              pfling@fling.co.uk   \n",
      "493  01853-412588  01386-437186          pura.manciel@yahoo.com   \n",
      "\n",
      "                                            web    in  out  \n",
      "20     http://www.niagaracustombuiltmfgco.co.uk   8:5  NaN  \n",
      "27         http://www.portalmetalproducts.co.uk  9:19  NaN  \n",
      "48            http://www.charlottechamber.co.uk  9:53  NaN  \n",
      "118     http://www.sunderlandpublishingco.co.uk   8:8  NaN  \n",
      "161           http://www.duffieldmichaelc.co.uk  9:25  NaN  \n",
      "210                 http://www.ruggallery.co.uk  9:36  NaN  \n",
      "317        http://www.sigmacomcorporation.co.uk  9:16  NaN  \n",
      "332             http://www.mederrandyfcpa.co.uk  8:30  NaN  \n",
      "345  http://www.marinesafetyinternational.co.uk  9:57  NaN  \n",
      "376            http://www.dworkinmichaell.co.uk  8:27  NaN  \n",
      "378       http://www.demernormannsmithltd.co.uk   9:1  NaN  \n",
      "432                   http://www.oncorinc.co.uk  9:28  NaN  \n",
      "444            http://www.deringjameseesq.co.uk  8:30  NaN  \n",
      "467        http://www.goldbergstephenmesq.co.uk   8:9  NaN  \n",
      "479   http://www.cumberlandvacuumproducts.co.uk  9:47  NaN  \n",
      "493              http://www.ciainspection.co.uk  9:27  NaN  \n"
     ]
    }
   ],
   "source": [
    "print(df.loc[df['first_name'].str.contains('P')])\n"
   ]
  },
  {
   "cell_type": "code",
   "execution_count": 17,
   "id": "0b614b0d-7c0e-44b0-ba2a-d8d1d053a030",
   "metadata": {},
   "outputs": [
    {
     "name": "stdout",
     "output_type": "stream",
     "text": [
      "    id first_name last_name         company_name       address  \\\n",
      "2  3.0     France   Andrade  Elliott, John W Esq  8 Moor Place   \n",
      "\n",
      "                             city       county   postal        phone1  \\\n",
      "2  East Southbourne and Tuckton W  Bournemouth  BH6 3BE  01347-368222   \n",
      "\n",
      "         phone2                       email                               web  \\\n",
      "2  01935-821636  france.andrade@hotmail.com  http://www.elliottjohnwesq.co.uk   \n",
      "\n",
      "     in  out  \n",
      "2  9:46  NaN  \n"
     ]
    }
   ],
   "source": [
    "print(df.loc[df['first_name']=='France'])"
   ]
  },
  {
   "cell_type": "code",
   "execution_count": 18,
   "id": "e81c31d4-440a-47d9-9dc8-eff182e4bdcf",
   "metadata": {},
   "outputs": [
    {
     "name": "stdout",
     "output_type": "stream",
     "text": [
      "2    01347-368222\n",
      "Name: phone1, dtype: object\n"
     ]
    }
   ],
   "source": [
    "print(df.loc[df['first_name']=='France','phone1'])         #getting phone number of France"
   ]
  },
  {
   "cell_type": "code",
   "execution_count": 19,
   "id": "ede84fb6-a695-49ca-a3fb-8402f340f055",
   "metadata": {},
   "outputs": [
    {
     "name": "stdout",
     "output_type": "stream",
     "text": [
      "2    Andrade\n",
      "Name: last_name, dtype: object\n"
     ]
    }
   ],
   "source": [
    "print(df.loc[df['first_name']=='France','last_name'])        #getting the last name where first name is \"France\""
   ]
  },
  {
   "cell_type": "code",
   "execution_count": 20,
   "id": "9a035112-237e-4cdc-a6af-98052c91c7a4",
   "metadata": {},
   "outputs": [],
   "source": [
    "df.loc[df['first_name']=='France','last_name'] = 'Andrew'    #changes the \"Andrade\" into \"Andrew\""
   ]
  },
  {
   "cell_type": "code",
   "execution_count": 21,
   "id": "2adb1506-934b-4034-a108-4f1dc443213d",
   "metadata": {},
   "outputs": [
    {
     "name": "stdout",
     "output_type": "stream",
     "text": [
      "2    Andrew\n",
      "Name: last_name, dtype: object\n"
     ]
    }
   ],
   "source": [
    "print(df.loc[df['first_name']=='France','last_name'])        #getting the last name where first name is \"France\" which is changed"
   ]
  },
  {
   "cell_type": "code",
   "execution_count": 22,
   "id": "31dc83f9-f0c2-4ab0-b3f7-753e0e5993ca",
   "metadata": {},
   "outputs": [
    {
     "name": "stdout",
     "output_type": "stream",
     "text": [
      "      id   first_name last_name                   company_name  \\\n",
      "5    6.0         Eric     Rampy        Thompson, Michael C Esq   \n",
      "6    7.0         Marg  Grasmick  Wrangle Hill Auto Auct & Slvg   \n",
      "7    8.0      Laquita     Hisaw          In Communications Inc   \n",
      "8    9.0         Lura  Manzella                Bizerba Usa Inc   \n",
      "9   10.0       Yuette    Klapec                      Max Video   \n",
      "10  11.0     Fernanda    Writer           K & R Associates Inc   \n",
      "11  12.0  Charlesetta       Erm               Cain, John M Esq   \n",
      "\n",
      "                 address                  city                 county  \\\n",
      "5           9472 Lind St            Desborough       Northamptonshire   \n",
      "6       7457 Cowl St #70          Bargate Ward            Southampton   \n",
      "7   20 Gloucester Pl #96          Chirton Ward            Tyne & Wear   \n",
      "8       929 Augustine St      Staple Hill Ward  South Gloucestershire   \n",
      "9   45 Bradfield St #166               Parwich             Derbyshire   \n",
      "10    620 Northampton St            Wilmington                   Kent   \n",
      "11           5 Hygeia St  Loundsley Green Ward             Derbyshire   \n",
      "\n",
      "      postal        phone1        phone2                       email  \\\n",
      "5   NN14 2GH  01969-886290  01545-817375          erampy@rampy.co.uk   \n",
      "6   SO14 3TY  01865-582516  01362-620532            marg@hotmail.com   \n",
      "7   NE29 7AD  01746-394243  01590-982428           laquita@yahoo.com   \n",
      "8   BS16 4LL  01907-538509  01340-713951            lura@hotmail.com   \n",
      "9    DE6 1QN  01903-649460  01933-512513  yuette.klapec@klapec.co.uk   \n",
      "10   DA2 7PP  01630-202053  01687-879391       fernanda@writer.co.uk   \n",
      "11   S40 4LY  01276-816806  01517-624517   charlesetta_erm@gmail.com   \n",
      "\n",
      "                                         web    in  out  \n",
      "5       http://www.thompsonmichaelcesq.co.uk  8:59  NaN  \n",
      "6   http://www.wranglehillautoauctslvg.co.uk  8:28  NaN  \n",
      "7       http://www.incommunicationsinc.co.uk  8:30  NaN  \n",
      "8             http://www.bizerbausainc.co.uk  9:12  NaN  \n",
      "9                  http://www.maxvideo.co.uk  9:17  NaN  \n",
      "10          http://www.krassociatesinc.co.uk  8:18  NaN  \n",
      "11             http://www.cainjohnmesq.co.uk  8:50  NaN  \n"
     ]
    }
   ],
   "source": [
    "print(df.iloc[5:12])"
   ]
  },
  {
   "cell_type": "code",
   "execution_count": 23,
   "id": "c95f6a1c-2634-48d8-bd11-9910f4422b66",
   "metadata": {},
   "outputs": [
    {
     "name": "stdout",
     "output_type": "stream",
     "text": [
      "        id first_name   last_name               company_name  \\\n",
      "3      4.0    Ulysses   Mcwalters             Mcmahan, Ben L   \n",
      "17    18.0     Dewitt       Julio       Rittenhouse Motor Co   \n",
      "23    24.0    Tamesha      Veigel        Wilhelm, James E Jr   \n",
      "54    55.0     Lyndia  Moonshower                Bomarko Inc   \n",
      "123  124.0       Sean    Schurman  Cooper Electric Supply Co   \n",
      "\n",
      "                    address                city         county    postal  \\\n",
      "3             505 Exeter Rd  Hawerby cum Beesby   Lincolnshire  DN36 5RP   \n",
      "17            7 Richmond St             Parkham          Devon  EX39 5DJ   \n",
      "23       2200 Nelson St #58             Newport  Isle of Wight  PO30 5AL   \n",
      "54   43 Williamson St #7995          Meads Ward    East Sussex  BN20 7HB   \n",
      "123           2877 Grain St      Caversham Ward      Berkshire   RG4 5DE   \n",
      "\n",
      "           phone1        phone2                               email  \\\n",
      "3    01912-771311  01302-601380                 ulysses@hotmail.com   \n",
      "17   01253-528327  01241-964675            dewitt.julio@hotmail.com   \n",
      "23   01217-342071  01280-786847                tveigel@veigel.co.uk   \n",
      "54   01469-300335  01789-132579  lyndia_moonshower@moonshower.co.uk   \n",
      "123  01773-139510  01423-385669        sean.schurman@schurman.co.uk   \n",
      "\n",
      "                                         web    in  out  \n",
      "3               http://www.mcmahanbenl.co.uk   9:4  NaN  \n",
      "17       http://www.rittenhousemotorco.co.uk  9:48  NaN  \n",
      "23          http://www.wilhelmjamesejr.co.uk  8:10  NaN  \n",
      "54               http://www.bomarkoinc.co.uk   8:8  NaN  \n",
      "123  http://www.cooperelectricsupplyco.co.uk  9:20  NaN  \n"
     ]
    }
   ],
   "source": [
    "print(df.iloc[[3,17,23,54,123]])"
   ]
  },
  {
   "cell_type": "code",
   "execution_count": 24,
   "id": "5d15abfd-5b19-4f1e-ae75-0ae700e0df91",
   "metadata": {},
   "outputs": [
    {
     "name": "stdout",
     "output_type": "stream",
     "text": [
      "    first_name   last_name                    company_name\n",
      "0      Aleshia  Tomkiewicz         Alan D Rosenburg Cpa Pc\n",
      "1         Evan   Zigomalas              Cap Gemini America\n",
      "2       France      Andrew             Elliott, John W Esq\n",
      "3      Ulysses   Mcwalters                  Mcmahan, Ben L\n",
      "4       Tyisha      Veness                  Champagne Room\n",
      "..         ...         ...                             ...\n",
      "495      Avery        Veit      Plaza Gourmet Delicatessen\n",
      "496       Reid     Euresti            Fitzgerald, Edward J\n",
      "497  Charlette    Brenning              Furey & Associates\n",
      "498  Celestina       Keeny        Bfg Federal Credit Union\n",
      "499         Mi      Richan  Nelson Wright Haworth Golf Crs\n",
      "\n",
      "[500 rows x 3 columns]\n"
     ]
    }
   ],
   "source": [
    "#select all rows but only columns with index 1,2 and 3\n",
    "\n",
    "print(df.iloc[:,1:4])  #1:4 -> column index 1,2 and 3\n"
   ]
  },
  {
   "cell_type": "code",
   "execution_count": 29,
   "id": "21269132-b410-4319-ba17-ea28b1d212ad",
   "metadata": {},
   "outputs": [
    {
     "name": "stdout",
     "output_type": "stream",
     "text": [
      "Note: you may need to restart the kernel to use updated packages.\n"
     ]
    },
    {
     "name": "stderr",
     "output_type": "stream",
     "text": [
      "ERROR: Invalid requirement: '#try': Expected package name at the start of dependency specifier\n",
      "    #try\n",
      "    ^\n"
     ]
    }
   ],
   "source": [
    "pip install statsmodels                                                  #try in room"
   ]
  },
  {
   "cell_type": "code",
   "execution_count": null,
   "id": "779c89e4-55c9-480f-9595-48f57aad9532",
   "metadata": {},
   "outputs": [],
   "source": [
    "#Presence of CO2 in air observed over a period of time\n",
    "#statsmodel - has multiple open sourse datasets"
   ]
  },
  {
   "cell_type": "code",
   "execution_count": null,
   "id": "d2a47909-e956-4cfd-9aed-f7b7abd14b49",
   "metadata": {},
   "outputs": [],
   "source": [
    "#to be tried\n",
    "import statsmodels\n",
    "import pandas as pd\n",
    "import matplotlib.pyplot as plt"
   ]
  },
  {
   "cell_type": "code",
   "execution_count": null,
   "id": "13b3b790-66f2-495d-b9c5-872eb0a489b3",
   "metadata": {},
   "outputs": [],
   "source": [
    "#df = pd.DataFrame(statsmodel.api.datasets.co2.load().data)\n",
    "\n",
    "df= pd.read_csv()"
   ]
  },
  {
   "cell_type": "code",
   "execution_count": null,
   "id": "e22ea494-e520-43af-9e9b-c040c9fb2752",
   "metadata": {},
   "outputs": [],
   "source": []
  },
  {
   "cell_type": "code",
   "execution_count": 3,
   "id": "010d317e-c16d-4d6e-b542-977512427d09",
   "metadata": {},
   "outputs": [
    {
     "name": "stdout",
     "output_type": "stream",
     "text": [
      "2002-10-31 00:00:00\n"
     ]
    }
   ],
   "source": [
    "import dateutil as du\n",
    "x = du.parser.parse('20021031')\n",
    "print(x)"
   ]
  },
  {
   "cell_type": "code",
   "execution_count": null,
   "id": "99361ba3-561a-435b-b5e4-312dc55d582b",
   "metadata": {},
   "outputs": [],
   "source": [
    "df['datetime'] = df['date'].apply(lambda x: du.parser.parse(str(x)))\n",
    "print(df.head())"
   ]
  },
  {
   "cell_type": "code",
   "execution_count": null,
   "id": "08d3bc14-a603-46e2-b8a7-2ba1fcc163cd",
   "metadata": {},
   "outputs": [],
   "source": [
    "df.set_index(['datetime'],inplace=True)         #modify the index to datetime\n",
    "print(df.head)"
   ]
  },
  {
   "cell_type": "code",
   "execution_count": null,
   "id": "fc54e349-ac98-4b1f-9fee-ab9a8d868a41",
   "metadata": {},
   "outputs": [],
   "source": [
    "df.drop('date',axis=1,inplace=True)        #\"inplace\"--> modified in the same dataframe"
   ]
  },
  {
   "cell_type": "code",
   "execution_count": null,
   "id": "b99bad32-c6b2-4411-aff0-4610cd0fe446",
   "metadata": {},
   "outputs": [],
   "source": [
    "print(df.head())"
   ]
  },
  {
   "cell_type": "code",
   "execution_count": null,
   "id": "bac6c304-7483-4e98-b53f-5bbfb649a84e",
   "metadata": {},
   "outputs": [],
   "source": [
    "df = df['co2'].resample('MS').mean()"
   ]
  },
  {
   "cell_type": "code",
   "execution_count": 33,
   "id": "920733fb-a8a6-49f6-8233-7c54ac5a5dbf",
   "metadata": {},
   "outputs": [],
   "source": [
    "#fillna - bfill (or) ffill    used for updating NaN value with valid value"
   ]
  },
  {
   "cell_type": "code",
   "execution_count": null,
   "id": "2ee38fdc-f5b6-4e92-ba7d-00457bca3f1d",
   "metadata": {},
   "outputs": [],
   "source": [
    "df1 = df.fillna(df.bfill())\n",
    "print(df1.head())"
   ]
  },
  {
   "cell_type": "code",
   "execution_count": null,
   "id": "21a5cd96-2b73-408e-8b66-5ed0597b2b38",
   "metadata": {},
   "outputs": [],
   "source": [
    "df1.plot()\n",
    "plt.show()"
   ]
  },
  {
   "cell_type": "code",
   "execution_count": null,
   "id": "49952335-6ff4-4378-a4d4-7aabc14124d2",
   "metadata": {},
   "outputs": [],
   "source": []
  },
  {
   "cell_type": "code",
   "execution_count": null,
   "id": "1129a6be-3a19-492e-8d20-19a463dcb748",
   "metadata": {},
   "outputs": [],
   "source": []
  },
  {
   "cell_type": "code",
   "execution_count": null,
   "id": "f1c4dad1-668a-4598-969d-b37019f5ff86",
   "metadata": {},
   "outputs": [],
   "source": []
  },
  {
   "cell_type": "code",
   "execution_count": null,
   "id": "41d78c1e-cae4-4522-9e7b-e8bfe785e0b6",
   "metadata": {},
   "outputs": [],
   "source": []
  },
  {
   "cell_type": "code",
   "execution_count": null,
   "id": "2ebb03ca-50fa-4881-bc8b-0a5b1900e39d",
   "metadata": {},
   "outputs": [],
   "source": []
  },
  {
   "cell_type": "code",
   "execution_count": null,
   "id": "e125ebf4-b4ee-4a64-ad3f-1983738d6a1b",
   "metadata": {},
   "outputs": [],
   "source": []
  },
  {
   "cell_type": "code",
   "execution_count": null,
   "id": "1d3805c5-d075-430b-8e15-ca6ef31f6a79",
   "metadata": {},
   "outputs": [],
   "source": []
  },
  {
   "cell_type": "code",
   "execution_count": null,
   "id": "b04a9ad5-4ba7-4df7-b875-989e05edc583",
   "metadata": {},
   "outputs": [],
   "source": []
  },
  {
   "cell_type": "code",
   "execution_count": null,
   "id": "0accb66f-4e94-483d-8261-29fd77a6a322",
   "metadata": {},
   "outputs": [],
   "source": []
  },
  {
   "cell_type": "code",
   "execution_count": null,
   "id": "71381f6f-dd0b-4542-8a5a-4e0fb9caf68c",
   "metadata": {},
   "outputs": [],
   "source": []
  },
  {
   "cell_type": "code",
   "execution_count": null,
   "id": "26462519-d6c1-43f0-85a9-c2145167a0ff",
   "metadata": {},
   "outputs": [],
   "source": []
  },
  {
   "cell_type": "code",
   "execution_count": null,
   "id": "3a12b25e-f617-40ab-b518-b54e2bebfea9",
   "metadata": {},
   "outputs": [],
   "source": []
  }
 ],
 "metadata": {
  "kernelspec": {
   "display_name": "Python 3 (ipykernel)",
   "language": "python",
   "name": "python3"
  },
  "language_info": {
   "codemirror_mode": {
    "name": "ipython",
    "version": 3
   },
   "file_extension": ".py",
   "mimetype": "text/x-python",
   "name": "python",
   "nbconvert_exporter": "python",
   "pygments_lexer": "ipython3",
   "version": "3.13.2"
  }
 },
 "nbformat": 4,
 "nbformat_minor": 5
}
