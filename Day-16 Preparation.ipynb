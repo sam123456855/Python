{
 "cells": [
  {
   "cell_type": "code",
   "execution_count": 2,
   "id": "7085d105-eeee-45a2-a729-87773dafedf8",
   "metadata": {},
   "outputs": [
    {
     "name": "stdout",
     "output_type": "stream",
     "text": [
      "Destructor called!\n"
     ]
    }
   ],
   "source": [
    "class Test:\n",
    "    def hell():\n",
    "        print(\"hello\")\n",
    "    def __del__(self):\n",
    "        print(\"Destructor called!\")\n",
    "\n",
    "obj = Test()\n",
    "del obj  # Output: Destructor called!\n"
   ]
  },
  {
   "cell_type": "code",
   "execution_count": 6,
   "id": "118cb7c0-41ee-41f6-a229-2fc5117fa72c",
   "metadata": {},
   "outputs": [
    {
     "name": "stdout",
     "output_type": "stream",
     "text": [
      "From E\n",
      "From B\n"
     ]
    }
   ],
   "source": [
    "class E:\n",
    "    def printString(self):\n",
    "        print(\"From E\")\n",
    "class A:\n",
    "    def printString(self):\n",
    "        print(\"From A\")\n",
    "\n",
    "class C(E):       #C's parent E\n",
    "    #def printString(self):\n",
    "     #   print(\"From C\")\n",
    "    pass\n",
    "\n",
    "class B(C,A):\n",
    "    def printString(self):\n",
    "        super().printString()\n",
    "        print(\"From B\")\n",
    "    pass\n",
    "\n",
    "\n",
    "obj = B()\n",
    "obj.printString()"
   ]
  },
  {
   "cell_type": "code",
   "execution_count": 20,
   "id": "2405e617-f609-4786-9fd6-8244ac9b52f1",
   "metadata": {},
   "outputs": [
    {
     "name": "stdout",
     "output_type": "stream",
     "text": [
      "[8, 9, 0, 1, 2, 3, 4, 5, 6, 7]\n"
     ]
    }
   ],
   "source": [
    "'''\n",
    "9. Write a python program to rotate a list by right n times with and without slicing technique. \n",
    "'''\n",
    "def rotateR(L, n):\n",
    "    le = len(L)\n",
    "    j=0\n",
    "    temp = L.copy()\n",
    "    for i in range(n, le):\n",
    "        temp[i] = L[j]\n",
    "        j+=1\n",
    "    j=0\n",
    "    for k in range(n):\n",
    "        temp[k] = L[-1*n+j]\n",
    "        j+=1\n",
    "    print(temp)\n",
    "rotateR([1,2,3,4,5,6,7,8,9,0], 3)"
   ]
  },
  {
   "cell_type": "code",
   "execution_count": 21,
   "id": "7e6eae52-229d-4f85-8a68-c380840e521f",
   "metadata": {},
   "outputs": [
    {
     "name": "stdout",
     "output_type": "stream",
     "text": [
      "['hOw', 'ARe']\n"
     ]
    }
   ],
   "source": [
    "'''\n",
    "1. A list of words is given. Find the words from the list that have their second character in uppercase. ls = ['hello', \n",
    "'Dear', 'hOw', 'ARe', 'You']\n",
    "'''\n",
    "\n",
    "def words(L):\n",
    "    ans=[]\n",
    "    for i in L:\n",
    "        if i[1].isupper():\n",
    "            ans.append(i)\n",
    "    print(ans)\n",
    "\n",
    "words(['hello', 'Dear', 'hOw', 'ARe', 'You'])"
   ]
  },
  {
   "cell_type": "code",
   "execution_count": 24,
   "id": "ed196838-3511-4af8-923f-0f1d54428128",
   "metadata": {},
   "outputs": [
    {
     "name": "stdout",
     "output_type": "stream",
     "text": [
      "2 3 5 7 11 13 17 19 23 29 "
     ]
    }
   ],
   "source": [
    "'''\n",
    "2. Write a python program to find the first n Prime numbers. User to input n.\n",
    "'''\n",
    "def firstNprime(N):\n",
    "    x=0\n",
    "    g=2\n",
    "    while(x<N):\n",
    "        for i in range(2,int(pow(g,0.5))+1):\n",
    "            if(g%i == 0):\n",
    "                break\n",
    "        else:\n",
    "            print(g,end=\" \")\n",
    "            x+=1\n",
    "        g+=1\n",
    "firstNprime(10)"
   ]
  },
  {
   "cell_type": "code",
   "execution_count": 25,
   "id": "d65e7b61-0098-4fae-ab27-300643d2554c",
   "metadata": {},
   "outputs": [
    {
     "data": {
      "text/plain": [
       "8"
      ]
     },
     "execution_count": 25,
     "metadata": {},
     "output_type": "execute_result"
    }
   ],
   "source": [
    "'''\n",
    "3. Write a python program to search for a character and the count of its occurrence in a given string. \n",
    "'''\n",
    "\n",
    "def searchChar(S, ch):\n",
    "    x=0\n",
    "    for i in S:\n",
    "        if i == ch:\n",
    "            x+=1\n",
    "    return x\n",
    "        \n",
    "searchChar(\"Bananananananana\", 'a')"
   ]
  },
  {
   "cell_type": "code",
   "execution_count": 27,
   "id": "3a3d772d-410a-4f45-bcab-6b3419e2f071",
   "metadata": {},
   "outputs": [
    {
     "name": "stdin",
     "output_type": "stream",
     "text": [
      "Enter the string:  PrinceSamRaj\n"
     ]
    },
    {
     "name": "stdout",
     "output_type": "stream",
     "text": [
      "Upper Case: 3; Lower Case 9\n"
     ]
    }
   ],
   "source": [
    "'''\n",
    "4. Write a Python function that accepts a string from user and calculates the number of upper-case letters and \n",
    "lower-case letters.\n",
    "'''\n",
    "St = input(\"Enter the string: \")\n",
    "\n",
    "def getS(S):\n",
    "    u=0\n",
    "    l=0\n",
    "    for i in S:\n",
    "        if i.isupper():\n",
    "            u+=1\n",
    "        elif i.islower():\n",
    "            l+=1\n",
    "    print(f\"Upper Case: {u}; Lower Case {l}\")\n",
    "\n",
    "getS(St)"
   ]
  },
  {
   "cell_type": "code",
   "execution_count": 29,
   "id": "df45baa1-2ac7-40bc-93da-ccbb50d02a8d",
   "metadata": {},
   "outputs": [
    {
     "name": "stdin",
     "output_type": "stream",
     "text": [
      " 2\n",
      " 5\n"
     ]
    },
    {
     "name": "stdout",
     "output_type": "stream",
     "text": [
      "4 3\n"
     ]
    }
   ],
   "source": [
    "'''\n",
    "5. Write a program to accept 2 numbers from users and display the sum of odd numbers and even numbers that \n",
    "fall between them (ex 12 and 37)\n",
    "'''\n",
    "\n",
    "x = int(input())\n",
    "y = int(input())\n",
    "\n",
    "def sumOf(s,e):\n",
    "    sumE = 0\n",
    "    sumO = 0\n",
    "    if s<e:\n",
    "        for i in range(s+1,e):\n",
    "            if i%2 == 0:\n",
    "                sumE+=i\n",
    "            else:\n",
    "                sumO+=i\n",
    "    else:\n",
    "        print(\"Not a propwr range\")\n",
    "    print(sumE, sumO)\n",
    "sumOf(x,y)"
   ]
  },
  {
   "cell_type": "code",
   "execution_count": 31,
   "id": "e4bd1456-6c38-4e9a-ba49-b111967fc268",
   "metadata": {},
   "outputs": [
    {
     "name": "stdin",
     "output_type": "stream",
     "text": [
      "Enter the number:  2\n"
     ]
    },
    {
     "name": "stdout",
     "output_type": "stream",
     "text": [
      "2*1 = 2\n",
      "2*2 = 4\n",
      "2*3 = 6\n",
      "2*4 = 8\n",
      "2*5 = 10\n",
      "2*6 = 12\n",
      "2*7 = 14\n",
      "2*8 = 16\n",
      "2*9 = 18\n",
      "2*10 = 20\n"
     ]
    }
   ],
   "source": [
    "'''\n",
    "6. Write a python Program to print the multiplication table (upto 10) of any number provided by the user\n",
    "'''\n",
    "num = int(input(\"Enter the number: \"))\n",
    "\n",
    "def multi(N):\n",
    "    for i in range(1,11):\n",
    "        print(f\"{N}*{i} = {N*i}\")\n",
    "multi(num)"
   ]
  },
  {
   "cell_type": "code",
   "execution_count": 38,
   "id": "260f3d56-a569-40f1-aed2-0ee863290bb3",
   "metadata": {},
   "outputs": [
    {
     "name": "stdout",
     "output_type": "stream",
     "text": [
      "2\n",
      "3\n",
      "5\n",
      "7\n",
      "17\n"
     ]
    }
   ],
   "source": [
    "'''\n",
    "7. Write a Python program to sum the first n prime numbers. User to input the n.\n",
    "'''\n",
    "def firstNprime(N):\n",
    "    x=0\n",
    "    g=2\n",
    "    sumi=0\n",
    "    while(x<N):\n",
    "        for i in range(2,int(pow(g,0.5))+1):\n",
    "            if(g%i == 0):\n",
    "                break\n",
    "        else:\n",
    "            sumi+=g\n",
    "            print(g)\n",
    "            x+=1\n",
    "        g+=1\n",
    "    print(sumi)\n",
    "firstNprime(4)\n"
   ]
  },
  {
   "cell_type": "code",
   "execution_count": 135,
   "id": "6d440d70-60c9-4bcf-a44b-49e8a1b1102b",
   "metadata": {},
   "outputs": [
    {
     "name": "stdout",
     "output_type": "stream",
     "text": [
      "largest:90 and smallest:1\n"
     ]
    }
   ],
   "source": [
    "'''\n",
    "8. Write a python program to find a maximum and minimum number in a list without using an inbuilt function. \n",
    "'''\n",
    "def maxmin(L):\n",
    "    maxi = mini = L[0] \n",
    "    for i in L:\n",
    "        if i>maxi:\n",
    "            maxi=i\n",
    "        elif i<mini:\n",
    "            mini = i\n",
    "    print(f'largest:{maxi} and smallest:{mini}')\n",
    "maxmin([1,31,7,3,4,90,2,34,5,66,8,77,8,89])"
   ]
  },
  {
   "cell_type": "code",
   "execution_count": 50,
   "id": "750be4a1-ec3b-4c83-a02b-aa59c333f3bc",
   "metadata": {},
   "outputs": [
    {
     "name": "stdin",
     "output_type": "stream",
     "text": [
      "Enter the string sadqdaasdsad\n"
     ]
    },
    {
     "data": {
      "text/plain": [
       "4"
      ]
     },
     "execution_count": 50,
     "metadata": {},
     "output_type": "execute_result"
    }
   ],
   "source": [
    "S = input(\"Enter the string\")\n",
    "F = input(\"Enter the letter to search:\")\n",
    "ans = list(filter(lambda x: x==F,S))\n",
    "len(ans)"
   ]
  },
  {
   "cell_type": "code",
   "execution_count": 65,
   "id": "fcd79fad-18af-4153-b29e-5b98fba67f40",
   "metadata": {},
   "outputs": [
    {
     "name": "stdin",
     "output_type": "stream",
     "text": [
      " 10\n"
     ]
    },
    {
     "data": {
      "text/plain": [
       "([70, 38, 2, 74, 14, 94, 72], [71, 63, 53])"
      ]
     },
     "execution_count": 65,
     "metadata": {},
     "output_type": "execute_result"
    }
   ],
   "source": [
    "'''\n",
    "10. Write a python Function to generate n random numbers and list the even and odd numbers in that list. User to \n",
    "input the n\n",
    "'''\n",
    "import random\n",
    "\n",
    "def randomF(N):\n",
    "    Even = []\n",
    "    odd =[]\n",
    "    L = list(random.randint(1, 101) for i in range(N))\n",
    "    for i in L:\n",
    "        if i%2 == 0:\n",
    "            Even.append(i)\n",
    "        else:\n",
    "            odd.append(i)\n",
    "    return Even,odd\n",
    "num = int(input())\n",
    "randomF(num)"
   ]
  },
  {
   "cell_type": "code",
   "execution_count": 69,
   "id": "eb4edf0e-5937-4227-a537-3443d6b05c94",
   "metadata": {},
   "outputs": [
    {
     "name": "stdin",
     "output_type": "stream",
     "text": [
      " princesamrajaeiou\n"
     ]
    },
    {
     "data": {
      "text/plain": [
       "9"
      ]
     },
     "execution_count": 69,
     "metadata": {},
     "output_type": "execute_result"
    }
   ],
   "source": [
    "'''\n",
    "11. Write a python Function to count the number of vowels in a string.\n",
    "'''\n",
    "\n",
    "def ContString(S):\n",
    "    L = [x for x in S if x in ['a','e','i','o','u']]\n",
    "    return len(L)\n",
    "string=input()\n",
    "ContString(string)"
   ]
  },
  {
   "cell_type": "code",
   "execution_count": null,
   "id": "5c0eb478-45bc-421a-9589-553365d9b925",
   "metadata": {},
   "outputs": [],
   "source": [
    "import re\n",
    "\n",
    "text = ''"
   ]
  },
  {
   "cell_type": "code",
   "execution_count": 71,
   "id": "6269bf4e-0f4d-44da-9300-0959587bed5f",
   "metadata": {},
   "outputs": [
    {
     "name": "stdout",
     "output_type": "stream",
     "text": [
      "876289"
     ]
    }
   ],
   "source": [
    "'''\n",
    "13. Python program to display the given integer in reverse order using the function without an in- built function.\n",
    "'''\n",
    "def revInt(I):\n",
    "    while I>0:\n",
    "        print(I%10,end=\"\")\n",
    "        I//=10\n",
    "revInt(982678)"
   ]
  },
  {
   "cell_type": "code",
   "execution_count": 81,
   "id": "4cfef900-cb6a-4c8d-b024-73d328e387fb",
   "metadata": {},
   "outputs": [
    {
     "name": "stdout",
     "output_type": "stream",
     "text": [
      "False\n",
      "True\n"
     ]
    }
   ],
   "source": [
    "'''\n",
    "14. Write functions called is _sorted that takes a list as a parameter and returns True if the list is sorted in \n",
    "ascending order and False otherwise and has_ duplicates that takes a list and returns True if there is any \n",
    "element that appears more than once. It should not modify the original list.\n",
    "'''\n",
    "def is_sorted(L):\n",
    "    num = L[0]\n",
    "    for i in L:\n",
    "        if(num>i):\n",
    "            return False\n",
    "        num = i\n",
    "    return True\n",
    "\n",
    "def has_duplicates(L):\n",
    "    S= set(L)\n",
    "    if len(S) == len(L):\n",
    "        return False\n",
    "    return True\n",
    "\n",
    "print(is_sorted([9,1,2,3,4,5,6,7,8,9]))\n",
    "print(has_duplicates([1,2,3,4,5,6,7,3,8,9]))\n",
    "        "
   ]
  },
  {
   "cell_type": "code",
   "execution_count": 116,
   "id": "5752ae77-5975-4b88-bd97-f9773b5a7647",
   "metadata": {},
   "outputs": [
    {
     "name": "stdout",
     "output_type": "stream",
     "text": [
      "Collecting rstr\n",
      "  Downloading rstr-3.2.2-py3-none-any.whl.metadata (7.1 kB)\n",
      "Downloading rstr-3.2.2-py3-none-any.whl (10 kB)\n",
      "Installing collected packages: rstr\n",
      "Successfully installed rstr-3.2.2\n",
      "Note: you may need to restart the kernel to use updated packages.\n"
     ]
    }
   ],
   "source": [
    "pip install rstr"
   ]
  },
  {
   "cell_type": "code",
   "execution_count": 125,
   "id": "92a77ef7-2709-48a4-a741-55adfd3c023d",
   "metadata": {},
   "outputs": [
    {
     "name": "stdout",
     "output_type": "stream",
     "text": [
      "random string: Tijvuzxgavj\n"
     ]
    },
    {
     "data": {
      "text/plain": [
       "3"
      ]
     },
     "execution_count": 125,
     "metadata": {},
     "output_type": "execute_result"
    }
   ],
   "source": [
    "'''\n",
    "12. Try above problem using regex to create random string and check if your function works correctly.\n",
    "'''\n",
    "import rstr\n",
    "\n",
    "def generate_random_string():\n",
    "    pattern = r'[A-Z][a-z]{10}'\n",
    "    r_str = rstr.xeger(pattern)\n",
    "    print(\"random string:\",r_str)\n",
    "    return r_str\n",
    "    \n",
    "def CountString(S):\n",
    "    L = [x.lower() for x in S if x in ['a','e','i','o','u']]\n",
    "    return len(L)\n",
    "\n",
    "random_string = generate_random_string()\n",
    "\n",
    "CountString(random_string)"
   ]
  },
  {
   "cell_type": "code",
   "execution_count": 140,
   "id": "2a8935e8-073f-48b5-8690-8193d1e41a85",
   "metadata": {},
   "outputs": [],
   "source": [
    "'''\n",
    "15. Write a python function that copies a file reading and writing up to 50 characters at a time. \n",
    "'''\n",
    "\n",
    "with open(\"existing_file.txt\", 'r+') as f:\n",
    "    fiftyCH = f.read(50)\n",
    "    with open(\"new_file.txt\", 'a') as fh:\n",
    "        fh.write(fiftyCH)\n"
   ]
  },
  {
   "cell_type": "code",
   "execution_count": 153,
   "id": "2dc5f881-80f1-425c-bf94-ce65350dba49",
   "metadata": {},
   "outputs": [],
   "source": [
    "f = open(\"existing_file.txt\", 'r+')\n",
    "fh = open(\"new_tech_file.txt\", 'a')\n"
   ]
  },
  {
   "cell_type": "code",
   "execution_count": 156,
   "id": "7a051750-36af-4163-adf2-9a33dccd9d5b",
   "metadata": {},
   "outputs": [
    {
     "data": {
      "text/plain": [
       "50"
      ]
     },
     "execution_count": 156,
     "metadata": {},
     "output_type": "execute_result"
    }
   ],
   "source": [
    "f.seek(0,1)\n",
    "fiftyCH = f.read(50)\n",
    "fh.write(fiftyCH)\n"
   ]
  },
  {
   "cell_type": "code",
   "execution_count": 160,
   "id": "79e4a31e-0842-47f5-b7ef-79b749a285df",
   "metadata": {},
   "outputs": [
    {
     "name": "stdout",
     "output_type": "stream",
     "text": [
      "File copied successfully.\n"
     ]
    }
   ],
   "source": [
    "def copy_file_in_chunks(source_path, destination_path):\n",
    "    try:\n",
    "        with open(source_path, 'r') as src, open(destination_path, 'w') as dest:\n",
    "            while True:\n",
    "                chunk = src.read(50)  \n",
    "                if not chunk:\n",
    "                    break \n",
    "                dest.write(chunk)     \n",
    "        print(\"File copied successfully.\")\n",
    "    except FileNotFoundError:\n",
    "        print(\"Source file not found.\")\n",
    "    except Exception as e:\n",
    "        print(f\"An error occurred: {e}\")\n",
    "copy_file_in_chunks(\"existing_file.txt\", \"destination_file\")"
   ]
  },
  {
   "cell_type": "code",
   "execution_count": null,
   "id": "74548af8-0645-4790-bc95-38bb9373b605",
   "metadata": {},
   "outputs": [],
   "source": []
  }
 ],
 "metadata": {
  "kernelspec": {
   "display_name": "Python 3 (ipykernel)",
   "language": "python",
   "name": "python3"
  },
  "language_info": {
   "codemirror_mode": {
    "name": "ipython",
    "version": 3
   },
   "file_extension": ".py",
   "mimetype": "text/x-python",
   "name": "python",
   "nbconvert_exporter": "python",
   "pygments_lexer": "ipython3",
   "version": "3.13.2"
  }
 },
 "nbformat": 4,
 "nbformat_minor": 5
}
