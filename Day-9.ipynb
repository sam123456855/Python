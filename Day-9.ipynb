{
 "cells": [
  {
   "cell_type": "code",
   "execution_count": 1,
   "id": "5eaf505b-173f-45e6-837d-74d03cc23aa7",
   "metadata": {},
   "outputs": [
    {
     "name": "stdout",
     "output_type": "stream",
     "text": [
      "50000\n"
     ]
    }
   ],
   "source": [
    "#Object Oriented Programming\n",
    "class BankAccount:\n",
    "    def __init__(self, num, name,doj,curbal):\n",
    "        self.number = num\n",
    "        self.name = name\n",
    "        self.doj = doj\n",
    "        self.curbal = curbal\n",
    "\n",
    "    def deposit(self, amt):\n",
    "        self.curbal += amt\n",
    "    def getCurBal(self):\n",
    "        return self.curbal\n",
    "\n",
    "acc1 = BankAccount(12, 'sam', '2023-10-23',20000)\n",
    "\n",
    "acc1.deposit(30000)\n",
    "\n",
    "print(acc1.getCurBal())\n",
    "\n"
   ]
  },
  {
   "cell_type": "code",
   "execution_count": 16,
   "id": "b9ab943f-ab1f-4979-a9b7-e09fa8baa401",
   "metadata": {},
   "outputs": [],
   "source": [
    "class Point:\n",
    "    '''this is an example class\n",
    "    documentation string can be accessed using __doc__\n",
    "    python function inside the class are called instance methods\n",
    "    '''\n",
    "    def showValues(self): # first parameter will not be passed when calling the method\n",
    "         print(\"Instance method\")"
   ]
  },
  {
   "cell_type": "code",
   "execution_count": 17,
   "id": "1e36d4f2-fe6f-44cc-a910-1a215a12f282",
   "metadata": {},
   "outputs": [],
   "source": [
    "p1 = Point() #creating the instance of the class"
   ]
  },
  {
   "cell_type": "code",
   "execution_count": 18,
   "id": "89bfebb6-711f-47b2-b5ce-3c099475bc88",
   "metadata": {},
   "outputs": [
    {
     "name": "stdout",
     "output_type": "stream",
     "text": [
      "this is an example class\n",
      "documentation string can be accessed using __doc__\n",
      "python function inside the class are called instance methods\n",
      "\n"
     ]
    }
   ],
   "source": [
    "#print the documentation string\n",
    "print(p1.__doc__)"
   ]
  },
  {
   "cell_type": "code",
   "execution_count": 19,
   "id": "b430751b-6774-440a-b284-d62803438fba",
   "metadata": {},
   "outputs": [
    {
     "name": "stdout",
     "output_type": "stream",
     "text": [
      "Instance method\n"
     ]
    }
   ],
   "source": [
    "#calling the instance method\n",
    "p1.showValues()"
   ]
  },
  {
   "cell_type": "code",
   "execution_count": 20,
   "id": "aa99e1e7-7279-44f2-890b-6a4b6929d0cf",
   "metadata": {},
   "outputs": [
    {
     "name": "stdout",
     "output_type": "stream",
     "text": [
      "inside the main method:  <__main__.Point object at 0x00000260801F1400>\n",
      "Inside Instance method:  <__main__.Point object at 0x00000260801F1400>\n",
      "Instance method\n"
     ]
    }
   ],
   "source": [
    "class Point:\n",
    "    def showValues(self): # first parameter will not be passed when calling the method\n",
    "        print(\"Inside Instance method: \",self)\n",
    "        print(\"Instance method\")\n",
    "\n",
    "p1 = Point()\n",
    "print(\"inside the main method: \",p1)\n",
    "p1.showValues()"
   ]
  },
  {
   "cell_type": "code",
   "execution_count": 45,
   "id": "97b48673-0b03-42cc-836f-26a8a06297a7",
   "metadata": {},
   "outputs": [],
   "source": [
    "#Instance attributes\n",
    "class Point:\n",
    "    def showValues(self):\n",
    "        self.x = 10 #Instance attribute created using instance reference\n",
    "        self.y = 20 #Instance attribute created using instance reference\n",
    "        print(f\"x-val: {self.x}, y-val: {self.y}\")\n",
    "    def anotherMethod(self):\n",
    "        print(\"Calling from another method\")\n",
    "        print(f\"x-val: {self.x}, y-val: {self.y}\")\n",
    "\n"
   ]
  },
  {
   "cell_type": "code",
   "execution_count": 46,
   "id": "a12011fa-b0be-491a-861f-6f261647a384",
   "metadata": {},
   "outputs": [
    {
     "name": "stdout",
     "output_type": "stream",
     "text": [
      "Calling from another method\n"
     ]
    },
    {
     "ename": "AttributeError",
     "evalue": "'Point' object has no attribute 'x'",
     "output_type": "error",
     "traceback": [
      "\u001b[31m---------------------------------------------------------------------------\u001b[39m",
      "\u001b[31mAttributeError\u001b[39m                            Traceback (most recent call last)",
      "\u001b[36mCell\u001b[39m\u001b[36m \u001b[39m\u001b[32mIn[46]\u001b[39m\u001b[32m, line 3\u001b[39m\n\u001b[32m      1\u001b[39m p1 = Point()\n\u001b[32m----> \u001b[39m\u001b[32m3\u001b[39m \u001b[38;5;28mprint\u001b[39m(\u001b[43mp1\u001b[49m\u001b[43m.\u001b[49m\u001b[43manotherMethod\u001b[49m\u001b[43m(\u001b[49m\u001b[43m)\u001b[49m) \u001b[38;5;66;03m#AttributeError: 'Point' object has no attribute 'x'\u001b[39;00m\n",
      "\u001b[36mCell\u001b[39m\u001b[36m \u001b[39m\u001b[32mIn[45]\u001b[39m\u001b[32m, line 9\u001b[39m, in \u001b[36mPoint.anotherMethod\u001b[39m\u001b[34m(self)\u001b[39m\n\u001b[32m      7\u001b[39m \u001b[38;5;28;01mdef\u001b[39;00m\u001b[38;5;250m \u001b[39m\u001b[34manotherMethod\u001b[39m(\u001b[38;5;28mself\u001b[39m):\n\u001b[32m      8\u001b[39m     \u001b[38;5;28mprint\u001b[39m(\u001b[33m\"\u001b[39m\u001b[33mCalling from another method\u001b[39m\u001b[33m\"\u001b[39m)\n\u001b[32m----> \u001b[39m\u001b[32m9\u001b[39m     \u001b[38;5;28mprint\u001b[39m(\u001b[33mf\u001b[39m\u001b[33m\"\u001b[39m\u001b[33mx-val: \u001b[39m\u001b[38;5;132;01m{\u001b[39;00m\u001b[38;5;28;43mself\u001b[39;49m\u001b[43m.\u001b[49m\u001b[43mx\u001b[49m\u001b[38;5;132;01m}\u001b[39;00m\u001b[33m, y-val: \u001b[39m\u001b[38;5;132;01m{\u001b[39;00m\u001b[38;5;28mself\u001b[39m.y\u001b[38;5;132;01m}\u001b[39;00m\u001b[33m\"\u001b[39m)\n",
      "\u001b[31mAttributeError\u001b[39m: 'Point' object has no attribute 'x'"
     ]
    }
   ],
   "source": [
    "p1 = Point()\n",
    "\n",
    "print(p1.anotherMethod()) #AttributeError: 'Point' object has no attribute 'x'"
   ]
  },
  {
   "cell_type": "code",
   "execution_count": 53,
   "id": "61983d6f-f762-44b3-acd2-d3af5f481f4a",
   "metadata": {},
   "outputs": [
    {
     "name": "stdout",
     "output_type": "stream",
     "text": [
      "x-val: 14, y-val: 15, sum = 29\n",
      "Calling from another method\n",
      "x-val: 14, y-val: 15, sum = 29\n"
     ]
    }
   ],
   "source": [
    "p1.showValues()\n",
    "p1.anotherMethod() #It works now\n",
    "                          #as per class definition this method need to be called only after calling showValues"
   ]
  },
  {
   "cell_type": "code",
   "execution_count": 54,
   "id": "aa49097f-7e40-4701-b6eb-d43a9305e051",
   "metadata": {},
   "outputs": [
    {
     "name": "stdout",
     "output_type": "stream",
     "text": [
      "x-val: 12, y-val: 13, sum = 25\n",
      "Calling from another method\n",
      "x-val: 14, y-val: 15, sum = 29\n"
     ]
    }
   ],
   "source": [
    "#creating constructor\n",
    "#__init__ is special method called 'constructor' called at the time of creating an instance\n",
    "\n",
    "class Point:\n",
    "    def __init__(self,x,y):  \n",
    "        self.x = x\n",
    "        self.y = y\n",
    "    def showValues(self):\n",
    "        print(f\"x-val: {self.x}, y-val: {self.y}, sum = {self.x+self.y}\")\n",
    "    def anotherMethod(self):\n",
    "        print(\"Calling from another method\")\n",
    "        print(f\"x-val: {self.x}, y-val: {self.y}, sum = {self.x+self.y}\")\n",
    "p2 = Point(12,13)\n",
    "p1 = Point(14,15)\n",
    "p2.showValues()\n",
    "p1.anotherMethod()\n"
   ]
  },
  {
   "cell_type": "code",
   "execution_count": 57,
   "id": "714a8c67-8cc1-4b66-b700-296edfd19516",
   "metadata": {},
   "outputs": [
    {
     "name": "stdout",
     "output_type": "stream",
     "text": [
      "99\n"
     ]
    }
   ],
   "source": [
    "#class attribute or class variable\n",
    "\n",
    "class Point:\n",
    "    num = 99\n",
    "    def __init__(self,x,y):  \n",
    "        self.x = x\n",
    "        self.y = y\n",
    "    def showValues(self):\n",
    "        print(f\"x-val: {self.x}, y-val: {self.y}, sum = {self.x+self.y}\")\n",
    "    def showCount(self):\n",
    "        print(self.num)\n",
    "p1 = Point(1,2)\n",
    "p1.showCount()"
   ]
  },
  {
   "cell_type": "code",
   "execution_count": 58,
   "id": "fe7537b2-386d-4a19-a015-0f88621b3fcc",
   "metadata": {},
   "outputs": [],
   "source": [
    "class Point:\n",
    "    def __init__(self,x,y):  \n",
    "        self.x = x\n",
    "        self.y = y\n",
    "    def showValues(self):\n",
    "        print(f\"x-val: {self.x}, y-val: {self.y}, sum = {self.x+self.y}\")\n",
    "    def __del__(self):\n",
    "        print(f\"{self.__class__.__name__} destroyed\") #self.__class__.__name__ returns the class name"
   ]
  },
  {
   "cell_type": "code",
   "execution_count": 63,
   "id": "0954884d-0bb1-4725-a169-300cfe2df8af",
   "metadata": {},
   "outputs": [
    {
     "name": "stdout",
     "output_type": "stream",
     "text": [
      "x-val: 1, y-val: 2, sum = 3\n",
      "x-val: 6, y-val: 7, sum = 13\n",
      "Point destroyed\n",
      "Point destroyed\n"
     ]
    }
   ],
   "source": [
    "p1 = Point(1,2)\n",
    "p1.showValues()\n",
    "\n",
    "p2 = Point(6,7)\n",
    "p2.showValues()\n",
    "\n",
    "del p1,p2"
   ]
  },
  {
   "cell_type": "code",
   "execution_count": 64,
   "id": "cd53c652-7e0e-45c5-8141-128e13bee6dc",
   "metadata": {},
   "outputs": [],
   "source": [
    "# magic methods - automatically invoked\n",
    "# __repr__ - called when printing the object\n",
    "#            should return string\n",
    "\n",
    "class Point:\n",
    "    def __init__(self,x,y):  \n",
    "        self.x = x\n",
    "        self.y = y\n",
    "    def showValues(self):\n",
    "        print(f\"x-val: {self.x}, y-val: {self.y}, sum = {self.x+self.y}\")"
   ]
  },
  {
   "cell_type": "code",
   "execution_count": 66,
   "id": "369aa951-81be-44dc-8c61-b49812d63541",
   "metadata": {},
   "outputs": [
    {
     "name": "stdout",
     "output_type": "stream",
     "text": [
      "<__main__.Point object at 0x00000260809381A0>\n"
     ]
    }
   ],
   "source": [
    "p1= Point(10,20)\n",
    "print(p1) #returns some hexadecimal value"
   ]
  },
  {
   "cell_type": "code",
   "execution_count": 70,
   "id": "038591c8-d3df-4e7a-ba39-f94c0e99ed73",
   "metadata": {},
   "outputs": [
    {
     "name": "stdout",
     "output_type": "stream",
     "text": [
      "sum = 30\n"
     ]
    }
   ],
   "source": [
    "class Point:\n",
    "    def __init__(self,x,y):  \n",
    "        self.x = x\n",
    "        self.y = y\n",
    "    def showValues(self):\n",
    "        print(f\"x-val: {self.x}, y-val: {self.y}\")\n",
    "    def __repr__(self):\n",
    "        return f\"sum = {self.x+self.y}\"\n",
    "        \n",
    "p1= Point(10,20)\n",
    "print(p1)         #goes to __repr__"
   ]
  },
  {
   "cell_type": "code",
   "execution_count": 71,
   "id": "d064b3cb-c59b-4956-a843-e675e6034f3c",
   "metadata": {},
   "outputs": [],
   "source": [
    "# magic methods - automatically invoked\n",
    "# __str__ - "
   ]
  },
  {
   "cell_type": "code",
   "execution_count": 72,
   "id": "fef25fca-8bdc-4e7c-bade-cea49213a656",
   "metadata": {},
   "outputs": [
    {
     "name": "stdout",
     "output_type": "stream",
     "text": [
      "From A\n"
     ]
    }
   ],
   "source": [
    "#Inheritance\n",
    "\n",
    "class A:\n",
    "    def printString(self):\n",
    "        print(\"From A\")\n",
    "# make A as the parent class for B\n",
    "\n",
    "class B(A):\n",
    "    pass\n",
    "\n",
    "obj = B()\n",
    "obj.printString() #calling the parent class method using child class object"
   ]
  },
  {
   "cell_type": "code",
   "execution_count": 74,
   "id": "e7779663-ea78-4dfa-86d1-81905e40d543",
   "metadata": {},
   "outputs": [
    {
     "name": "stdout",
     "output_type": "stream",
     "text": [
      "From A\n",
      "child method\n"
     ]
    }
   ],
   "source": [
    "\n",
    "class A:\n",
    "    def printString(self):\n",
    "        print(\"From A\")\n",
    "# make A as the parent class for B\n",
    "\n",
    "class B(A): #class B(A,C,D,E)\n",
    "    def displayString(self):\n",
    "        print(\"child method\")\n",
    "\n",
    "obj = B()\n",
    "obj.printString()#calling the parent class method using child class object\n",
    "obj.displayString()"
   ]
  },
  {
   "cell_type": "code",
   "execution_count": 77,
   "id": "84b7416c-65de-4f36-b8dd-64fe3d26f48c",
   "metadata": {},
   "outputs": [
    {
     "name": "stdout",
     "output_type": "stream",
     "text": [
      "From B\n",
      "child method\n"
     ]
    }
   ],
   "source": [
    "#OVERRIDING\n",
    "\n",
    "class A:\n",
    "    def printString(self):\n",
    "        print(\"From A\")\n",
    "# make A as the parent class for B\n",
    "\n",
    "class B(A): #class B(A,C,D,E)\n",
    "    def printString(self):\n",
    "        print(\"From B\")\n",
    "    def displayString(self):\n",
    "        print(\"child method\")\n",
    "\n",
    "obj = B()\n",
    "obj.printString()#child class overrides the parent class\n",
    "obj.displayString()"
   ]
  },
  {
   "cell_type": "code",
   "execution_count": 78,
   "id": "a4b6de11-2a60-4843-aee4-310bf98c72e3",
   "metadata": {},
   "outputs": [
    {
     "name": "stdout",
     "output_type": "stream",
     "text": [
      "From A\n",
      "From B\n",
      "child method\n"
     ]
    }
   ],
   "source": [
    "# SUPER - to invoke parent class version from within child class in case of methos overriding\n",
    "class A:\n",
    "    def printString(self):\n",
    "        print(\"From A\")\n",
    "\n",
    "class B(A): #class B(A,C,D,E)\n",
    "    def printString(self):\n",
    "        super().printString()\n",
    "        print(\"From B\")\n",
    "    def displayString(self):\n",
    "        print(\"child method\")\n",
    "\n",
    "obj = B()\n",
    "obj.printString()#child class overrides the parent class\n",
    "obj.displayString()"
   ]
  },
  {
   "cell_type": "code",
   "execution_count": 82,
   "id": "6472e6a8-4b23-4eb4-a6a0-abd2d9b1d957",
   "metadata": {},
   "outputs": [
    {
     "name": "stdout",
     "output_type": "stream",
     "text": [
      "Going to sleep for 5 seconds\n",
      "resumed from sleep\n",
      "Done!!!\n"
     ]
    }
   ],
   "source": [
    "#use case of method overriding\n",
    "import time\n",
    "def sleeper(n):\n",
    "    print(f\"Going to sleep for {n} seconds\")\n",
    "    time.sleep(n)\n",
    "    print(f\"resumed from sleep\")\n",
    "\n",
    "import threading\n",
    "t = threading.Thread(target=sleeper,args=(5,))\n",
    "t.start() # this will call a method 'run' defined in threading. Thread\n",
    "t.join()\n",
    "print(\"Done!!!\")"
   ]
  },
  {
   "cell_type": "code",
   "execution_count": 93,
   "id": "abd21647-0d77-48ae-bfb5-e316d3a3c880",
   "metadata": {},
   "outputs": [
    {
     "name": "stdout",
     "output_type": "stream",
     "text": [
      "staring thread-1\n",
      "thread-1 - Fri Apr 11 12:33:19 2025\n",
      "thread-1 - Fri Apr 11 12:33:21 2025\n",
      "thread-1 - Fri Apr 11 12:33:23 2025\n",
      "thread-1 - Fri Apr 11 12:33:25 2025\n",
      "thread-1 - Fri Apr 11 12:33:27 2025\n",
      "existing thread-1\n",
      "Done!!\n"
     ]
    }
   ],
   "source": [
    "def print_time(name,delay,counter):\n",
    "    while counter:\n",
    "        print(\"{name} - {curtime}\".format(name=name, curtime=time.ctime()))\n",
    "        time.sleep(delay)\n",
    "        counter-=1\n",
    "\n",
    "class CustomThread(threading.Thread):\n",
    "    def __init__(self, id, name, timegap):\n",
    "        threading.Thread.__init__(self)\n",
    "        self.id = id\n",
    "        self.name = name\n",
    "        self.timegap = timegap\n",
    "    def run(self):\n",
    "        print(f\"staring {self.name}\")\n",
    "        print_time(self.name,self.timegap,5)\n",
    "        print((f\"existing {self.name}\"))\n",
    "\n",
    "t = CustomThread(1,'thread-1',2)\n",
    "t.start()\n",
    "t.join()\n",
    "print(\"Done!!\")"
   ]
  },
  {
   "cell_type": "code",
   "execution_count": 94,
   "id": "a3019682-7b12-419e-9c0a-7981c288b1eb",
   "metadata": {},
   "outputs": [
    {
     "name": "stdout",
     "output_type": "stream",
     "text": [
      "From A\n"
     ]
    }
   ],
   "source": [
    "#method resolution order(MRO) - Given as a class attribute\n",
    "#if multiple parent classes implement the same method and the child has not reimplemented the method MRO is used to invoke appropriate method\n",
    "\n",
    "class A:\n",
    "    def printString(self):\n",
    "        print(\"From A\")\n",
    "\n",
    "class C:\n",
    "    def printString(self):\n",
    "        print(\"From C\")\n",
    "\n",
    "class B(A,C):\n",
    "    pass\n",
    "\n",
    "\n",
    "obj = B()\n",
    "obj.printString() # calls 'A' version"
   ]
  },
  {
   "cell_type": "code",
   "execution_count": 95,
   "id": "51a49c69-c72f-4226-a396-9e931a940f8e",
   "metadata": {},
   "outputs": [
    {
     "name": "stdout",
     "output_type": "stream",
     "text": [
      "From C\n"
     ]
    }
   ],
   "source": [
    "class A:\n",
    "    def printString(self):\n",
    "        print(\"From A\")\n",
    "\n",
    "class C:\n",
    "    def printString(self):\n",
    "        print(\"From C\")\n",
    "\n",
    "class B(C,A):\n",
    "    pass\n",
    "\n",
    "\n",
    "obj = B()\n",
    "obj.printString()"
   ]
  },
  {
   "cell_type": "code",
   "execution_count": 96,
   "id": "73a62b53-5199-47e2-98a2-d5ca2b6b62e8",
   "metadata": {},
   "outputs": [
    {
     "name": "stdout",
     "output_type": "stream",
     "text": [
      "From E\n"
     ]
    }
   ],
   "source": [
    "class E:\n",
    "    def printString(self):\n",
    "        print(\"From E\")\n",
    "class A:\n",
    "    def printString(self):\n",
    "        print(\"From A\")\n",
    "\n",
    "class C(E):       #C's parent E\n",
    "    #def printString(self):\n",
    "     #   print(\"From C\")\n",
    "    pass\n",
    "\n",
    "class B(C,A):\n",
    "    pass\n",
    "\n",
    "\n",
    "obj = B()\n",
    "obj.printString()"
   ]
  },
  {
   "cell_type": "code",
   "execution_count": 99,
   "id": "efc3022a-e678-4240-8cb0-103e57f3ca81",
   "metadata": {},
   "outputs": [
    {
     "name": "stdout",
     "output_type": "stream",
     "text": [
      "(<class '__main__.B'>, <class '__main__.C'>, <class '__main__.E'>, <class '__main__.A'>, <class 'object'>)\n",
      "From E\n"
     ]
    }
   ],
   "source": [
    "print(B.__mro__)\n",
    "obj.printString()"
   ]
  },
  {
   "cell_type": "code",
   "execution_count": null,
   "id": "86169cb5-2ba5-4c07-838e-9054cbb45cc0",
   "metadata": {},
   "outputs": [],
   "source": [
    "#overloading operators\n",
    "#give a special meaning to some operators\n",
    "#"
   ]
  },
  {
   "cell_type": "code",
   "execution_count": 105,
   "id": "8ce4e89d-9003-46a1-b278-9866aa76ff8c",
   "metadata": {},
   "outputs": [],
   "source": [
    "class Point:\n",
    "    def __init__(self,xval,yval):  \n",
    "        self.xval = xval\n",
    "        self.yval = yval\n",
    "    def __add__(self,other):\n",
    "        xval = self.xval+other.xval\n",
    "        yval = self.yval+other.yval\n",
    "        return Point(xval,yval)\n",
    "    def __repr__(self):\n",
    "        return f\"X-val:{self.xval}, y-val: {self.yval}\""
   ]
  },
  {
   "cell_type": "code",
   "execution_count": 107,
   "id": "2bc4ce7e-509d-4718-a147-129a7712d168",
   "metadata": {},
   "outputs": [
    {
     "name": "stdout",
     "output_type": "stream",
     "text": [
      "X-val:12, y-val: 18\n",
      "X-val:24, y-val: 16\n",
      "X-val:36, y-val: 34\n"
     ]
    }
   ],
   "source": [
    "p1 = Point(12,18)\n",
    "p2 = Point(24,16)\n",
    "print(p1)\n",
    "print(p2)\n",
    "print(p1+p2)"
   ]
  },
  {
   "cell_type": "code",
   "execution_count": 108,
   "id": "d39c8c17-9470-40f4-9bae-b544795d7d1f",
   "metadata": {},
   "outputs": [
    {
     "data": {
      "text/plain": [
       "'\\n__add__ +\\n__sub__ -\\n__mul__ *\\n__truediv__ /\\n__floor__ //\\n__eq__ ==\\n__lt__ <\\n__gt__ >\\n\\n'"
      ]
     },
     "execution_count": 108,
     "metadata": {},
     "output_type": "execute_result"
    }
   ],
   "source": [
    "'''\n",
    "__add__ +\n",
    "__sub__ -\n",
    "__mul__ *\n",
    "__truediv__ /\n",
    "__floor__ //\n",
    "__eq__ ==\n",
    "__lt__ <\n",
    "__gt__ >\n",
    "\n",
    "'''"
   ]
  },
  {
   "cell_type": "code",
   "execution_count": null,
   "id": "ea814bd9-ba07-4870-ac26-5470cc309703",
   "metadata": {},
   "outputs": [],
   "source": [
    "'''\n",
    "1. RGB is a color model that defines color by the combination of Red, Green, and Blue. An RGB tuple is composed of three numbers that specify the intensity of each color. Because it uses 8 bits (0s or 1s) for each color, each intensity can be transformed into a hexadecimal number with two digits at most.\n",
    "\n",
    "There are 256 possible shades for each color, since \"11111111\" (or hex \"ff\") corresponds to decimal 255, plus the number 000. The combination of all 256 possible shades for the three primary colors gives 256 cubed, or over 16 million possible colors.\n",
    "\n",
    "Write a function that takes a color in RGB or hex and returns the opposite. If it takes in the three integers in an RGB tuple, it should return a string with the equivalent hexadecimal notation, plus a hash sign (#) at the front. If it takes in a string in hex, it should return a tuple with the three integers corresponding to RGB.\n",
    "\n",
    "Examples\n",
    "rgb_or_hex(150, 50, 76) ➞ \"#96324c\"\n",
    "# 150 is hex 96, 50 is hex 32 and 76 is hex 4c.\n",
    "\n",
    "rgb_or_hex(\"#303749\") ➞ (48, 55, 73)\n",
    "# 30 is dec 48, 37 is dec 55 and 49 is dec 73.\n",
    "\n",
    "rgb_or_hex(170, 14, 0) ➞ \"#aa0e00\"\n",
    "# 170 is hex aa, 14 is hex e and 0 is hex 0.\n",
    "Notes\n",
    "Remember that all three colors should be two-digit hex numbers, so for Green value 14, the hex value should be 0e rather than just e.\n",
    "Try using formatting or filling methods to minimize if statements.\n",
    "\n",
    "'''"
   ]
  },
  {
   "cell_type": "code",
   "execution_count": 120,
   "id": "820438c7-b9f4-41b6-a614-49ca0537df22",
   "metadata": {},
   "outputs": [
    {
     "data": {
      "text/plain": [
       "['1:45', '3:40']"
      ]
     },
     "execution_count": 120,
     "metadata": {},
     "output_type": "execute_result"
    }
   ],
   "source": [
    "'''\n",
    "2. Given a series of lists, with each individual list containing the time of the alarm set and the sleep duration, return what time to sleep.\n",
    "\n",
    "Examples\n",
    "bed_time([\"07:50\", \"07:50\"]) ➞ [\"00:00\"]\n",
    "# The second argument means 7 hours, 50 minutes sleep duration.\n",
    "\n",
    "bed_time([\"06:15\", \"10:00\"], [\"08:00\", \"10:00\"], [\"09:30\", \"10:00\"]) ➞ [\"20:15\", \"22:00\", \"23:30\"]\n",
    "# The second argument of each sub list means 10 hours sleep duration.\n",
    "\n",
    "bed_time([\"05:45\", \"04:00\"], [\"07:10\", \"04:30\"]) ➞ [\"01:45\", \"02:40\"]\n",
    "# Sleep duration can be different among the lists.\n",
    "'''\n",
    "\n",
    "def bed_time(L):\n",
    "    wake = []\n",
    "    for i,T in enumerate(L):\n",
    "        alar = T[0].split(\":\")\n",
    "        dur = T[1].split(\":\")\n",
    "        M = str((int(alar[1])-int(dur[1]))%60)\n",
    "        H = str((int(alar[0])-int(dur[0]))%24)\n",
    "        wake.append(H+':'+M)\n",
    "        \n",
    "    return wake\n",
    "\n",
    "bed_time([[\"05:45\", \"04:00\"], [\"07:10\", \"04:30\"]])"
   ]
  },
  {
   "cell_type": "code",
   "execution_count": 14,
   "id": "f110859b-f20c-4b15-b315-3ad93f30cfce",
   "metadata": {},
   "outputs": [
    {
     "data": {
      "text/plain": [
       "{'@even index 6': 10}"
      ]
     },
     "execution_count": 14,
     "metadata": {},
     "output_type": "execute_result"
    }
   ],
   "source": [
    "'''\n",
    "3. Write a function that returns the largest even integer in a list with its corresponding index and the parity of that index, but determining the parity of that index is limited to not using the modulo operator %.\n",
    "\n",
    "Output Structure:\n",
    "You have to return a Dictionary.\n",
    "\n",
    "{\"@odd|even index \" + index_of_largest: largest_integer}\n",
    "\n",
    "bitwise_index([107, 19, 36, -18, -78, 24, 97]) ➞ {\"@even index 2\": 36}\n",
    "\n",
    "bitwise_index([31, 7, 2, 13, 7, 9, 10, 13]) ➞ {\"@even index 6\": 10}\n",
    "\n",
    "bitwise_index([4, 4, 4, 4, 4, 4]) ➞ {\"@even index 0\": 4}\n",
    "\n",
    "bitwise_index([-31, -7, -13, -7, -9, -13]) ➞ \"No even integer found!\"\n",
    "\n",
    "\n",
    "The use of index() and max() are restricted.\n",
    "If there are no even integers, return \"No even integer found!\".\n",
    "'''\n",
    "\n",
    "def bitwise_index(L):\n",
    "    even = []\n",
    "    index = []\n",
    "    maxi=0\n",
    "    for ki,i in enumerate(L):\n",
    "        if i%2 == 0:\n",
    "            even.append(i)\n",
    "            index.append(ki)\n",
    "    for j,num in enumerate(even):\n",
    "        if num>maxi:\n",
    "            maxi=num\n",
    "            ind = index[j]\n",
    "    if not even:\n",
    "        return \"No even integer found\"\n",
    "    S = f\"@even index {ind}\"\n",
    "    return {S:maxi}\n",
    "    \n",
    "\n",
    "bitwise_index([31, 7, 2, 13, 7, 9, 10, 13]) "
   ]
  },
  {
   "cell_type": "code",
   "execution_count": 96,
   "id": "e1e3fb7f-91a0-441b-aa55-f4a4b47356f0",
   "metadata": {},
   "outputs": [
    {
     "data": {
      "text/plain": [
       "0"
      ]
     },
     "execution_count": 96,
     "metadata": {},
     "output_type": "execute_result"
    }
   ],
   "source": [
    "'''\n",
    "4. You are given two positive integers n and m. You have to perform some basic mathematical operations on n to obtain m. These are your options:\n",
    "\n",
    "(n-1)/2   - if (n-1) is divisible by 2\n",
    "n/2       - if n is divisible by 2\n",
    "n*2\n",
    "Create a function that returns the minimum number of steps required to transform n into m.\n",
    "\n",
    "Examples\n",
    "number_transform(2, 8) ➞ 2\n",
    "// 2 * 2 = 4\n",
    "// 4 * 2 = 8\n",
    "\n",
    "number_transform(9, 2) ➞ 2\n",
    "// (9-1) / 2 = 4\n",
    "// 4 / 2 = 2\n",
    "\n",
    "number_transform(1024, 1024) ➞ 0\n",
    "Notes\n",
    "m will always be a power of 2.\n",
    "'''\n",
    "\n",
    "def number_transform(T,F):\n",
    "    step =0\n",
    "    if T < F:\n",
    "        while T<F:\n",
    "            T = T*2\n",
    "            step+=1\n",
    "    elif T>F and T%2!=0:\n",
    "        T = (T-1)/2\n",
    "        step+=1\n",
    "    while T>F:\n",
    "        T = T/2\n",
    "        step+=1\n",
    "    if T == F:\n",
    "        return step\n",
    "    \n",
    "number_transform(2, 8)        \n",
    "number_transform(9, 2)\n",
    "number_transform(1024, 1024)"
   ]
  },
  {
   "cell_type": "code",
   "execution_count": 83,
   "id": "0f856266-3a4c-4b86-9218-e643300c123f",
   "metadata": {},
   "outputs": [
    {
     "data": {
      "text/plain": [
       "'6 54 321'"
      ]
     },
     "execution_count": 83,
     "metadata": {},
     "output_type": "execute_result"
    }
   ],
   "source": [
    "'''\n",
    "\n",
    "5. Create a function that takes a string and returns the reversed string. However there's a few rules to follow in order to make the challenge interesting:\n",
    "\n",
    "The UPPERCASE/lowercase positions must be kept in the same order as the original string (see example #1 and #2).\n",
    "Spaces must be kept in the same order as the original string (see example #3).\n",
    "Examples\n",
    "special_reverse_string(\"Edabit\") ➞ \"Tibade\"\n",
    "\n",
    "special_reverse_string(\"UPPER lower\") ➞ \"REWOL reppu\"\n",
    "\n",
    "special_reverse_string(\"1 23 456\") ➞ \"6 54 321\"\n",
    "'''\n",
    "\n",
    "def special_reverse_string(S):\n",
    "    caps = []\n",
    "    ncaps=[]\n",
    "    space = []\n",
    "    digit=[]\n",
    "    for i,ch in enumerate(S):\n",
    "        if ch == ' ':\n",
    "            space.append(i)\n",
    "        elif ch.isupper():\n",
    "            caps.append(i)\n",
    "        elif ch.islower():\n",
    "            ncaps.append(i)\n",
    "        else:\n",
    "            digit.append(ch)\n",
    "    digit = digit[::-1]\n",
    "    S = list(S[::-1])\n",
    "    ans = ''\n",
    "    j=0\n",
    "    for i,ch in enumerate(S):\n",
    "        if i in caps and ch!= ' ':\n",
    "            ans+=ch.upper()\n",
    "        elif i in space:\n",
    "            ans+=' '\n",
    "        elif i in ncaps and ch!=' ':\n",
    "            ans+=ch.lower()\n",
    "        else:\n",
    "            ans+=digit[j]\n",
    "            j+=1\n",
    "            \n",
    "    return ans\n",
    "special_reverse_string(\"UPPER lower\")\n",
    "special_reverse_string(\"Edabit\")\n",
    "special_reverse_string(\"1 23 456\") "
   ]
  },
  {
   "cell_type": "code",
   "execution_count": 84,
   "id": "088d728f-8875-4043-b5c5-dfdb02dbb93e",
   "metadata": {},
   "outputs": [
    {
     "data": {
      "text/plain": [
       "False"
      ]
     },
     "execution_count": 84,
     "metadata": {},
     "output_type": "execute_result"
    }
   ],
   "source": [
    "'''\n",
    "6. Starting with either 3 or 5 and given these operations:\n",
    "\n",
    "add 5\n",
    "multiply by 3\n",
    "You should say if it is possible to reach the target number n.\n",
    "\n",
    "Examples\n",
    "only_5_and_3(14) ➞ True\n",
    "# 14 = 3*3 + 5\n",
    "\n",
    "only_5_and_3(25) ➞ True\n",
    "# 25 = 5+5+5+5+5\n",
    "\n",
    "only_5_and_3(7) ➞ False\n",
    "# There exists no path to the target number 7\n",
    "\n",
    "'''\n",
    "def only_5_and_3(I):\n",
    "    if I%3==0 or I%5==0:\n",
    "        return True\n",
    "    else:\n",
    "        x=1\n",
    "        while x<I:\n",
    "            x*=3\n",
    "            if x+5 == I:\n",
    "                return True\n",
    "        else:\n",
    "            return False\n",
    "        \n",
    "only_5_and_3(7)"
   ]
  },
  {
   "cell_type": "code",
   "execution_count": 44,
   "id": "36dee03e-cc3d-49c8-a0ca-65b5ef0c6564",
   "metadata": {},
   "outputs": [
    {
     "name": "stdout",
     "output_type": "stream",
     "text": [
      "1 1\n"
     ]
    },
    {
     "data": {
      "text/plain": [
       "[1, '3-8']"
      ]
     },
     "execution_count": 44,
     "metadata": {},
     "output_type": "execute_result"
    }
   ],
   "source": [
    "'''\n",
    "7. Create a function which converts an ordered number list into a list of ranges (represented as strings). Note how some lists have some numbers missing.\n",
    "\n",
    "Examples\n",
    "numbers_to_ranges([1, 2, 3, 4, 5]) ➞ [\"1-5\"]\n",
    "\n",
    "numbers_to_ranges([3, 4, 5, 10, 11, 12]) ➞ [\"3-5\", \"10-12\"]\n",
    "\n",
    "numbers_to_ranges([1, 2, 3, 4, 99, 100]) ➞ [\"1-4\", \"99-100\"]\n",
    "\n",
    "numbers_to_ranges([1, 3, 4, 5, 6, 7, 8]) ➞ [\"1\", \"3-8\"]\n",
    "Notes\n",
    "If there are no numbers consecutive to a number in the list, represent it as only the string version of that number (see example #4).\n",
    "Return an empty list if the given list is empty.\n",
    "'''\n",
    "\n",
    "def numbers_to_ranges(L):\n",
    "    g = []\n",
    "    ans=[]\n",
    "    for i,ch in enumerate(L):\n",
    "        if len(g) == 0:\n",
    "            temp=ch\n",
    "            print(temp,ch)\n",
    "            g.append(ch)\n",
    "        else:\n",
    "            if ch == temp+1:\n",
    "                g.append(ch)\n",
    "                temp=ch\n",
    "            else:\n",
    "                ans.append(g)\n",
    "                g=[]\n",
    "                g.append(ch)\n",
    "                temp = ch\n",
    "        if i == len(L)-1:\n",
    "            ans.append(g)\n",
    "    final=[]\n",
    "    for item in ans:\n",
    "        if item[0] == item[-1]:\n",
    "            final.append(item[0])\n",
    "        else:\n",
    "            final.append(f\"{item[0]}-{item[-1]}\")\n",
    "        \n",
    "    return final\n",
    "                \n",
    "numbers_to_ranges([1, 3, 4, 5, 6, 7, 8])        "
   ]
  },
  {
   "cell_type": "code",
   "execution_count": 132,
   "id": "d2f54f0a-7f7c-4e5d-8f3d-566bd21359af",
   "metadata": {},
   "outputs": [
    {
     "data": {
      "text/plain": [
       "'Valid'"
      ]
     },
     "execution_count": 132,
     "metadata": {},
     "output_type": "execute_result"
    }
   ],
   "source": [
    "'''\n",
    "8. Sherlock considers a string to be valid if all characters of the string appear the same number of times. It is also valid if he can remove just 1 character at 1 index in the string, and the remaining characters will occur the same number of times. Given a string txt, determine if it is valid. If so, return \"YES\", otherwise return \"NO\".\n",
    "\n",
    "For example, If txt = \"abc\", the string is valid because the frequencies of characters are all the same. If txt = \"abcc\", the string is also valid, because we can remove 1 \"c\" and have one of each character remaining in the string. However, if txt = \"abccc\", the string is not valid, because removing one character does not result in the same frequency of characters.\n",
    "\n",
    "Examples\n",
    "is_valid(\"aabbcd\") ➞ \"NO\"\n",
    "# We would need to remove two characters, both c and d  -> aabb or a and b -> abcd, to make it valid.\n",
    "# We are limited to removing only one character, so it is invalid.\n",
    "\n",
    "is_valid(\"aabbccddeefghi\") ➞ \"NO\"\n",
    "# Frequency counts for the letters are as follows:\n",
    "# {\"a\": 2, \"b\": 2, \"c\": 2, \"d\": 2, \"e\": 2, \"f\": 1, \"g\": 1, \"h\": 1, \"i\": 1}\n",
    "# There are two ways to make the valid string:\n",
    "# Remove 4 characters with a frequency of 1: {f, g, h, i}.\n",
    "# Remove 5 characters of frequency 2: {a, b, c, d, e}.\n",
    "# Neither of these is an option.\n",
    "\n",
    "is_valid(\"abcdefghhgfedecba\") ➞ \"YES\"\n",
    "# All characters occur twice except for e which occurs 3 times.\n",
    "# We can delete one instance of e to have a valid string.\n",
    "'''\n",
    "#COMPLEX SOLN\n",
    "\n",
    "def is_valid(S):\n",
    "    D={}\n",
    "    Lis=[]\n",
    "    for ch in S:\n",
    "        if ch not in D:\n",
    "            D[ch] = 1\n",
    "        if ch in D:\n",
    "            D[ch] +=1\n",
    "    for k,V in D.items():\n",
    "        Lis.append(V)\n",
    "    Di = {}\n",
    "    F=[]\n",
    "    for i in Lis:\n",
    "        if i not in Di:\n",
    "            Di[i] =1\n",
    "        else:\n",
    "            Di[i]+=1\n",
    "    for k,V in Di.items():\n",
    "        F.append(V)\n",
    "    \n",
    "    if len(F)==2 and (F[0] ==1 or F[-1]==1):\n",
    "        return \"Valid\"\n",
    "    else:\n",
    "        return \"Not Valid\"\n",
    "    \n",
    "    \n",
    "is_valid(\"aabbccddeefghi\")\n",
    "is_valid(\"abcdefghhgfedecba\")"
   ]
  },
  {
   "cell_type": "code",
   "execution_count": 75,
   "id": "5b82f79e-2bd6-40bf-9444-ead49bc4b9a6",
   "metadata": {},
   "outputs": [
    {
     "name": "stdout",
     "output_type": "stream",
     "text": [
      "0 4\n",
      "1 4\n",
      "2 2\n",
      "3 3\n",
      "0 3\n",
      "3 2\n"
     ]
    },
    {
     "data": {
      "text/plain": [
       "[True, False, False, False]"
      ]
     },
     "execution_count": 75,
     "metadata": {},
     "output_type": "execute_result"
    }
   ],
   "source": [
    "'''\n",
    "9. Given an array of strings and an original string, write a function to output an array of boolean values - True if the word can be formed from the original word by swapping two letters only once and False otherwise.\n",
    "\n",
    "Examples\n",
    "validate_swaps([\"BACDE\", \"EBCDA\", \"BCDEA\", \"ACBED\"], \"ABCDE\")\n",
    "➞ [True, True, False, False]\n",
    "\n",
    "# Swap \"A\" and \"B\" from \"ABCDE\" to get \"BACDE\".\n",
    "# Swap \"A\" and \"E\" from \"ABCDE\" to get \"EBCDA\".\n",
    "# Both \"BCDEA\" and \"ACBED\" cannot be formed from \"ABCDE\" using only a single swap.\n",
    "\n",
    "validate_swaps([\"32145\", \"12354\", \"15342\", \"12543\"], \"12345\")\n",
    "➞ [True, True, True, True]\n",
    "\n",
    "validate_swaps([\"9786\", \"9788\", \"97865\", \"7689\"], \"9768\")\n",
    "➞ [True, False, False, False]\n",
    "'''\n",
    "\n",
    "\n",
    "'''\n",
    "WRONG APPROACH\n",
    "def validate_swaps(L, S):\n",
    "    S = set(S)\n",
    "    ans = []\n",
    "    for i in L:\n",
    "        if set(i).intersection(S) != {}:\n",
    "            ans.append(True)\n",
    "        else:\n",
    "            ans.append(False)\n",
    "    return ans\n",
    "            \n",
    "validate_swaps([\"BACDE\", \"EBCDA\", \"BCDEA\", \"ACBED\"], \"ABCDE\")\n",
    "'''\n",
    "\n",
    "#CONFUSING APPROACH\n",
    "\n",
    "def validate_swaps(L, S):\n",
    "    S = list(S)\n",
    "    x=0\n",
    "    ans=[]\n",
    "    for i,ch in enumerate(L):\n",
    "        x=0\n",
    "        for j,g in enumerate(ch):\n",
    "            if len(S) > len(ch) or len(ch) > len(S):\n",
    "                ans.append(False)\n",
    "                break\n",
    "            if S[j] != g:\n",
    "                x+=1\n",
    "                if x>2:\n",
    "                    print(i,j)\n",
    "                    ans.append(False)\n",
    "                    break\n",
    "                elif j == len(ch)-1 and x<=2:\n",
    "                    print(i,j)\n",
    "                    ans.append(True)\n",
    "                    break\n",
    "            if S[j]==g and j == len(ch)-1 and x<=2:\n",
    "                print(i,j)\n",
    "                ans.append(True)\n",
    "                    \n",
    "    return ans\n",
    "            \n",
    "        \n",
    "        \n",
    "validate_swaps([\"BACDE\", \"EBCDA\", \"BCDEA\", \"ACBED\"], \"ABCDE\")\n",
    "validate_swaps([\"9786\", \"97888\", \"97865\", \"7689\"], \"9768\")\n"
   ]
  },
  {
   "cell_type": "code",
   "execution_count": 100,
   "id": "d8df3c02-9ab9-4d3b-9326-92097d448ffc",
   "metadata": {},
   "outputs": [
    {
     "data": {
      "text/plain": [
       "2520"
      ]
     },
     "execution_count": 100,
     "metadata": {},
     "output_type": "execute_result"
    }
   ],
   "source": [
    "'''\n",
    "10. Create a function that takes a list of more than three numbers and returns the Least Common Multiple (LCM).\n",
    "\n",
    "Examples\n",
    "lcm_of_list([1, 2, 3, 4, 5, 6, 7, 8, 9, 10]) ➞ 2520\n",
    "\n",
    "lcm_of_list([13, 6, 17, 18, 19, 20, 37]) ➞ 27965340\n",
    "\n",
    "lcm_of_list([44, 64, 12, 17, 65]) ➞ 2333760\n",
    "Notes\n",
    "The LCM of a list of numbers is the smallest positive number that is divisible by each of the numbers in the list\n",
    "'''\n",
    "\n",
    "def lcm_of_list(L):\n",
    "    from math import gcd\n",
    "    lcm = 1\n",
    "    for i in L:\n",
    "        lcm = lcm*i//gcd(lcm, i)\n",
    "    return lcm\n",
    "lcm_of_list([1, 2, 3, 4, 5, 6, 7, 8, 9, 10])\n"
   ]
  },
  {
   "cell_type": "code",
   "execution_count": null,
   "id": "aafeadce-ed2e-4236-b6d5-b7af18ea5154",
   "metadata": {},
   "outputs": [],
   "source": []
  }
 ],
 "metadata": {
  "kernelspec": {
   "display_name": "Python 3 (ipykernel)",
   "language": "python",
   "name": "python3"
  },
  "language_info": {
   "codemirror_mode": {
    "name": "ipython",
    "version": 3
   },
   "file_extension": ".py",
   "mimetype": "text/x-python",
   "name": "python",
   "nbconvert_exporter": "python",
   "pygments_lexer": "ipython3",
   "version": "3.13.2"
  }
 },
 "nbformat": 4,
 "nbformat_minor": 5
}
