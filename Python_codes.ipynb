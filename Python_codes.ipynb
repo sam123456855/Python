{
 "cells": [
  {
   "cell_type": "code",
   "execution_count": 1,
   "id": "2f48dbe7-424c-49fa-9a7b-1d02254e6e0f",
   "metadata": {},
   "outputs": [
    {
     "name": "stdout",
     "output_type": "stream",
     "text": [
      "Fresher management python\n"
     ]
    }
   ],
   "source": [
    "print(\"Fresher management python\")"
   ]
  },
  {
   "cell_type": "code",
   "execution_count": null,
   "id": "87171a86-36b2-4f8a-93d8-df1cb4f03362",
   "metadata": {},
   "outputs": [],
   "source": []
  }
 ],
 "metadata": {
  "kernelspec": {
   "display_name": "Python 3 (ipykernel)",
   "language": "python",
   "name": "python3"
  },
  "language_info": {
   "codemirror_mode": {
    "name": "ipython",
    "version": 3
   },
   "file_extension": ".py",
   "mimetype": "text/x-python",
   "name": "python",
   "nbconvert_exporter": "python",
   "pygments_lexer": "ipython3",
   "version": "3.13.2"
  }
 },
 "nbformat": 4,
 "nbformat_minor": 5
}
