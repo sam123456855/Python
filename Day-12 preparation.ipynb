{
 "cells": [
  {
   "cell_type": "code",
   "execution_count": 129,
   "id": "3ab481c7-0757-46f9-8fbb-effd0d1cfdd4",
   "metadata": {},
   "outputs": [
    {
     "name": "stdout",
     "output_type": "stream",
     "text": [
      "[3, 4, 7, 8, 6, 1, 2]\n"
     ]
    }
   ],
   "source": [
    "lst=[3,4,6,1,2]                                                                        #sir\n",
    "lst[-3:2]=[7,8]\n",
    "print(lst)"
   ]
  },
  {
   "cell_type": "code",
   "execution_count": 6,
   "id": "b8014d26-8632-4467-946d-567c763da451",
   "metadata": {},
   "outputs": [
    {
     "data": {
      "text/plain": [
       "(45, 45, 45, 45)"
      ]
     },
     "execution_count": 6,
     "metadata": {},
     "output_type": "execute_result"
    }
   ],
   "source": [
    "(45,)*4"
   ]
  },
  {
   "cell_type": "code",
   "execution_count": 14,
   "id": "dfcd19b2-0e3b-4cf9-aa06-9259c271101c",
   "metadata": {},
   "outputs": [
    {
     "name": "stdout",
     "output_type": "stream",
     "text": [
      "[1, 2, 3, 4]\n"
     ]
    }
   ],
   "source": [
    "lst=[[1,2],[3,4]]\n",
    "print(sum(lst,[]))"
   ]
  },
  {
   "cell_type": "code",
   "execution_count": 10,
   "id": "953bad81-38bf-4d83-922d-96512a05b29c",
   "metadata": {},
   "outputs": [
    {
     "ename": "TypeError",
     "evalue": "can only concatenate list (not \"int\") to list",
     "output_type": "error",
     "traceback": [
      "\u001b[31m---------------------------------------------------------------------------\u001b[39m",
      "\u001b[31mTypeError\u001b[39m                                 Traceback (most recent call last)",
      "\u001b[36mCell\u001b[39m\u001b[36m \u001b[39m\u001b[32mIn[10]\u001b[39m\u001b[32m, line 1\u001b[39m\n\u001b[32m----> \u001b[39m\u001b[32m1\u001b[39m \u001b[38;5;28mprint\u001b[39m(\u001b[38;5;28;43msum\u001b[39;49m\u001b[43m(\u001b[49m\u001b[43mlst\u001b[49m\u001b[43m,\u001b[49m\u001b[43m[\u001b[49m\u001b[43m]\u001b[49m\u001b[43m)\u001b[49m)\n",
      "\u001b[31mTypeError\u001b[39m: can only concatenate list (not \"int\") to list"
     ]
    }
   ],
   "source": []
  },
  {
   "cell_type": "code",
   "execution_count": 16,
   "id": "66504736-5212-426a-b654-9a59f2046c37",
   "metadata": {},
   "outputs": [
    {
     "name": "stdout",
     "output_type": "stream",
     "text": [
      "True\n",
      "False\n",
      "[1, 2, 3]\n"
     ]
    }
   ],
   "source": [
    "word1=\"Apple\"\n",
    "word2=\"Apple\"\n",
    "list1=[1,2,3]\n",
    "list2=[1,2,3]\n",
    "print(word1 is word2)\n",
    "list1[0]=0\n",
    "print(list1 is list2)\n",
    "print(list2)"
   ]
  },
  {
   "cell_type": "code",
   "execution_count": 19,
   "id": "17fc5200-34d9-46b7-9a10-bade91f643f6",
   "metadata": {},
   "outputs": [
    {
     "data": {
      "text/plain": [
       "[1, 6, 5]"
      ]
     },
     "execution_count": 19,
     "metadata": {},
     "output_type": "execute_result"
    }
   ],
   "source": [
    "a=165\n",
    "\n",
    "x=list(map(int,str(a)))\n",
    "x"
   ]
  },
  {
   "cell_type": "code",
   "execution_count": 29,
   "id": "233d49ab-2e1d-4b56-9c0a-17650f349286",
   "metadata": {},
   "outputs": [
    {
     "name": "stdout",
     "output_type": "stream",
     "text": [
      "5\n",
      "index 1\n",
      "7\n",
      "index 2\n",
      "9\n",
      "index 3\n",
      "9\n",
      "index 4\n"
     ]
    }
   ],
   "source": [
    "a = [1, 5, 7, 9, 9, 1]\n",
    "b=a[0]\n",
    "x= 0\n",
    "for x in range(1, len(a)):                                                            #sir\n",
    "    if a[x] > b:\n",
    "        b = a[x]\n",
    "        b= x\n",
    "print(b)"
   ]
  },
  {
   "cell_type": "code",
   "execution_count": 32,
   "id": "97c20f28-3594-4120-8248-5f7a2b00f543",
   "metadata": {},
   "outputs": [
    {
     "name": "stdout",
     "output_type": "stream",
     "text": [
      "s\n",
      "m\n",
      "r\n",
      "j\n",
      "[None, None, None, None]\n"
     ]
    }
   ],
   "source": [
    "my_string='aeiousamrajaeiou'\n",
    "k = [print(i) for i in my_string if i not in \"aeiou\"]\n",
    "print(k)"
   ]
  },
  {
   "cell_type": "code",
   "execution_count": 36,
   "id": "afe5cfb8-a751-43f8-a59c-22c559b34810",
   "metadata": {},
   "outputs": [
    {
     "data": {
      "text/plain": [
       "9"
      ]
     },
     "execution_count": 36,
     "metadata": {},
     "output_type": "execute_result"
    }
   ],
   "source": [
    "a=2,3,4\n",
    "sum(a)"
   ]
  },
  {
   "cell_type": "code",
   "execution_count": 37,
   "id": "efb7a02c-caf9-4f39-bbf6-130c26af1841",
   "metadata": {},
   "outputs": [
    {
     "ename": "TypeError",
     "evalue": "sum() takes at most 2 arguments (3 given)",
     "output_type": "error",
     "traceback": [
      "\u001b[31m---------------------------------------------------------------------------\u001b[39m",
      "\u001b[31mTypeError\u001b[39m                                 Traceback (most recent call last)",
      "\u001b[36mCell\u001b[39m\u001b[36m \u001b[39m\u001b[32mIn[37]\u001b[39m\u001b[32m, line 1\u001b[39m\n\u001b[32m----> \u001b[39m\u001b[32m1\u001b[39m \u001b[38;5;28;43msum\u001b[39;49m\u001b[43m(\u001b[49m\u001b[32;43m2\u001b[39;49m\u001b[43m,\u001b[49m\u001b[32;43m3\u001b[39;49m\u001b[43m,\u001b[49m\u001b[32;43m4\u001b[39;49m\u001b[43m)\u001b[49m\n",
      "\u001b[31mTypeError\u001b[39m: sum() takes at most 2 arguments (3 given)"
     ]
    }
   ],
   "source": [
    "sum(2,3,4)"
   ]
  },
  {
   "cell_type": "code",
   "execution_count": 40,
   "id": "99aa21bd-2a96-40d6-8ad5-a0ac6141c212",
   "metadata": {},
   "outputs": [
    {
     "name": "stdout",
     "output_type": "stream",
     "text": [
      "<zip object at 0x000001DA2005C680>\n",
      "(2, -2)\n",
      "(4, -4)\n",
      "(6, -6)\n"
     ]
    }
   ],
   "source": [
    "l1=[2,4,6]\n",
    "l2=[-2,-4,-6]\n",
    "print(zip(l1, l2))\n",
    "\n",
    "\n",
    "for i in zip(l1, l2):\n",
    "\tprint(i)"
   ]
  },
  {
   "cell_type": "code",
   "execution_count": 42,
   "id": "50d50a97-5fc4-4cb9-8b3a-e689e07d2f69",
   "metadata": {},
   "outputs": [
    {
     "data": {
      "text/plain": [
       "[4,\n",
       " 6,\n",
       " 8,\n",
       " 10,\n",
       " 12,\n",
       " 14,\n",
       " 16,\n",
       " 18,\n",
       " 20,\n",
       " 22,\n",
       " 24,\n",
       " 26,\n",
       " 28,\n",
       " 30,\n",
       " 32,\n",
       " 34,\n",
       " 36,\n",
       " 38,\n",
       " 40,\n",
       " 42,\n",
       " 44,\n",
       " 46,\n",
       " 48,\n",
       " 6,\n",
       " 9,\n",
       " 12,\n",
       " 15,\n",
       " 18,\n",
       " 21,\n",
       " 24,\n",
       " 27,\n",
       " 30,\n",
       " 33,\n",
       " 36,\n",
       " 39,\n",
       " 42,\n",
       " 45,\n",
       " 48,\n",
       " 8,\n",
       " 12,\n",
       " 16,\n",
       " 20,\n",
       " 24,\n",
       " 28,\n",
       " 32,\n",
       " 36,\n",
       " 40,\n",
       " 44,\n",
       " 48,\n",
       " 10,\n",
       " 15,\n",
       " 20,\n",
       " 25,\n",
       " 30,\n",
       " 35,\n",
       " 40,\n",
       " 45,\n",
       " 12,\n",
       " 18,\n",
       " 24,\n",
       " 30,\n",
       " 36,\n",
       " 42,\n",
       " 48,\n",
       " 14,\n",
       " 21,\n",
       " 28,\n",
       " 35,\n",
       " 42,\n",
       " 49]"
      ]
     },
     "execution_count": 42,
     "metadata": {},
     "output_type": "execute_result"
    }
   ],
   "source": [
    "x= [j for i in range(2,8) for j in range(i*2, 50, i)]\n",
    "x"
   ]
  },
  {
   "cell_type": "code",
   "execution_count": 45,
   "id": "9b6e8b7b-a932-48c4-9087-1099e63fc3fc",
   "metadata": {},
   "outputs": [
    {
     "data": {
      "text/plain": [
       "{1, 2, 3}"
      ]
     },
     "execution_count": 45,
     "metadata": {},
     "output_type": "execute_result"
    }
   ],
   "source": [
    "a={1,2,3}\n",
    "b=a.copy()\n",
    "b.add(4)\n",
    "a"
   ]
  },
  {
   "cell_type": "code",
   "execution_count": 46,
   "id": "44aa7d0e-bbba-47d5-9603-a40acf8ead68",
   "metadata": {},
   "outputs": [
    {
     "name": "stdout",
     "output_type": "stream",
     "text": [
      "True\n"
     ]
    }
   ],
   "source": [
    "a={1,2,3}\n",
    "b={1,2,3}\n",
    "c=a.issubset(b)\n",
    "print(c)"
   ]
  },
  {
   "cell_type": "code",
   "execution_count": 47,
   "id": "24d33057-b60e-40ce-b217-a8f50f5be39b",
   "metadata": {},
   "outputs": [
    {
     "data": {
      "text/plain": [
       "dict"
      ]
     },
     "execution_count": 47,
     "metadata": {},
     "output_type": "execute_result"
    }
   ],
   "source": [
    "type({})\n"
   ]
  },
  {
   "cell_type": "code",
   "execution_count": 50,
   "id": "ffc0877c-fa3e-44a7-a0c4-b32c257fcc75",
   "metadata": {},
   "outputs": [
    {
     "name": "stdout",
     "output_type": "stream",
     "text": [
      "{(3, 1), (4, 1), (4, 2), (5, 2)}\n"
     ]
    }
   ],
   "source": [
    "s1={3, 4}\n",
    "s2={1, 2}\n",
    "s3=set()\n",
    "i=0\n",
    "j=0\n",
    "for i in s1:\n",
    "    for j in s2:\n",
    "        s3.add((i,j))\n",
    "        i+=1\n",
    "        j+=1\n",
    "print(s3)"
   ]
  },
  {
   "cell_type": "code",
   "execution_count": 53,
   "id": "ed11e62a-1140-492e-8bf8-4bcdd92724e7",
   "metadata": {},
   "outputs": [
    {
     "data": {
      "text/plain": [
       "{4, 5, 6}"
      ]
     },
     "execution_count": 53,
     "metadata": {},
     "output_type": "execute_result"
    }
   ],
   "source": [
    "s1={1, 2, 3}\n",
    "s2={3, 4, 5, 6}\n",
    "s1.difference(s2)\n",
    "s2.difference(s1)"
   ]
  },
  {
   "cell_type": "code",
   "execution_count": 56,
   "id": "59854b89-5bac-4a18-a4ad-6e8001eb5b47",
   "metadata": {},
   "outputs": [
    {
     "name": "stdout",
     "output_type": "stream",
     "text": [
      "True\n",
      "True\n"
     ]
    }
   ],
   "source": [
    "s1={1, 2, 3}               #that is if they do not have even a single element in common.\n",
    "s2={4, 5, 6}\n",
    "print(s1.isdisjoint(s2))\n",
    "print(s2.isdisjoint(s1))"
   ]
  },
  {
   "cell_type": "code",
   "execution_count": 57,
   "id": "41a81268-c171-4d25-98eb-aa86d80fbf0c",
   "metadata": {},
   "outputs": [
    {
     "data": {
      "text/plain": [
       "dict_items([(1, 'A'), (2, 'B'), (3, 'C')])"
      ]
     },
     "execution_count": 57,
     "metadata": {},
     "output_type": "execute_result"
    }
   ],
   "source": [
    "a={1:\"A\",2:\"B\",3:\"C\"}\n",
    "a.items()"
   ]
  },
  {
   "cell_type": "code",
   "execution_count": 66,
   "id": "f94030be-4706-41e6-99d3-9ac831085cf9",
   "metadata": {},
   "outputs": [
    {
     "data": {
      "text/plain": [
       "[(4, 3)]"
      ]
     },
     "execution_count": 66,
     "metadata": {},
     "output_type": "execute_result"
    }
   ],
   "source": [
    "import collections\n",
    "b=collections.Counter([2,2,3,4,4,4])\n",
    "b.most_common(1)"
   ]
  },
  {
   "cell_type": "code",
   "execution_count": 68,
   "id": "36d7c275-4746-4dcd-82c8-8253f362a5c6",
   "metadata": {},
   "outputs": [
    {
     "data": {
      "text/plain": [
       "Counter({3: 3, 2: 2, 4: 2})"
      ]
     },
     "execution_count": 68,
     "metadata": {},
     "output_type": "execute_result"
    }
   ],
   "source": [
    "import collections\n",
    "a=collections.Counter([2,2,3,3,3,4])\n",
    "b=collections.Counter([2,2,3,4,4])\n",
    "a|b                                                          #a|b returns the pair of keys and the highest recurring value."
   ]
  },
  {
   "cell_type": "code",
   "execution_count": 70,
   "id": "dcb06cad-78b4-42d4-9762-3c4b8196fe16",
   "metadata": {},
   "outputs": [
    {
     "data": {
      "text/plain": [
       "Counter({3: 1, 4: 1, 5: 1})"
      ]
     },
     "execution_count": 70,
     "metadata": {},
     "output_type": "execute_result"
    }
   ],
   "source": [
    "import collections\n",
    "a=collections.Counter([3,3,4,5])\n",
    "b=collections.Counter([3,4,4,5,5,5])\n",
    "a&b                                                         #a&b returns the pair of keys and the lowest recurring value."
   ]
  },
  {
   "cell_type": "code",
   "execution_count": 73,
   "id": "d076de9a-994f-4562-bb94-2ed585d5dd4b",
   "metadata": {},
   "outputs": [
    {
     "name": "stdout",
     "output_type": "stream",
     "text": [
      "(6, 9)\n",
      "(14, 19)\n",
      "(22, 24)\n",
      "(27, 32)\n",
      "(39, 44)\n"
     ]
    },
    {
     "data": {
      "text/plain": [
       "['222', '88888', '00', '99999', '77777']"
      ]
     },
     "execution_count": 73,
     "metadata": {},
     "output_type": "execute_result"
    }
   ],
   "source": [
    "#RE \n",
    "import re\n",
    "string = '12345622289329888882190029199999129347877777'\n",
    "\n",
    "p = re.compile(r'(\\d)(\\1{1,})')\n",
    "x=[]\n",
    "for res in p.finditer(string):\n",
    "    x.append(''.join(res.groups()))\n",
    "    print(res.span())\n",
    "x"
   ]
  },
  {
   "cell_type": "code",
   "execution_count": 74,
   "id": "42dac7a8-8b03-410a-9b5c-7bc78d0206eb",
   "metadata": {},
   "outputs": [
    {
     "data": {
      "text/plain": [
       "{1: 'check', 2: 'check', 3: 'check'}"
      ]
     },
     "execution_count": 74,
     "metadata": {},
     "output_type": "execute_result"
    }
   ],
   "source": [
    "a={}\n",
    "a.fromkeys([1,2,3],\"check\")"
   ]
  },
  {
   "cell_type": "code",
   "execution_count": 76,
   "id": "e1e0d884-91df-4579-81b2-418cf501c6e5",
   "metadata": {},
   "outputs": [
    {
     "data": {
      "text/plain": [
       "True"
      ]
     },
     "execution_count": 76,
     "metadata": {},
     "output_type": "execute_result"
    }
   ],
   "source": [
    "s = set()\n",
    "all(s)"
   ]
  },
  {
   "cell_type": "code",
   "execution_count": 88,
   "id": "94684e2b-80c9-4d85-82ca-863e5f7d118d",
   "metadata": {},
   "outputs": [
    {
     "data": {
      "text/plain": [
       "''"
      ]
     },
     "execution_count": 88,
     "metadata": {},
     "output_type": "execute_result"
    }
   ],
   "source": [
    "import collections\n",
    "a=dict()\n",
    "a=collections.defaultdict(str)\n",
    "a[1]\n",
    "a[2]\n",
    "a[3]"
   ]
  },
  {
   "cell_type": "code",
   "execution_count": 89,
   "id": "7db6cb3f-2682-4d59-ab48-d42dd30d1394",
   "metadata": {},
   "outputs": [
    {
     "data": {
      "text/plain": [
       "defaultdict(str, {1: '', 2: '', 3: ''})"
      ]
     },
     "execution_count": 89,
     "metadata": {},
     "output_type": "execute_result"
    }
   ],
   "source": [
    "a"
   ]
  },
  {
   "cell_type": "code",
   "execution_count": 93,
   "id": "f786ce37-5089-4af9-acd8-21e86d0f4376",
   "metadata": {},
   "outputs": [
    {
     "data": {
      "text/plain": [
       "7"
      ]
     },
     "execution_count": 93,
     "metadata": {},
     "output_type": "execute_result"
    }
   ],
   "source": [
    "import collections\n",
    "b=dict()\n",
    "b=collections.defaultdict(lambda: 7)\n",
    "b[5]"
   ]
  },
  {
   "cell_type": "code",
   "execution_count": 94,
   "id": "14b6b089-7bdb-4008-b0cf-696b33d14610",
   "metadata": {},
   "outputs": [
    {
     "data": {
      "text/plain": [
       "OrderedDict([('0', 0), ('1', 1), ('2', 2)])"
      ]
     },
     "execution_count": 94,
     "metadata": {},
     "output_type": "execute_result"
    }
   ],
   "source": [
    "import collections\n",
    "a=collections.OrderedDict((str(x),x) for x in range(3))\n",
    "a"
   ]
  },
  {
   "cell_type": "code",
   "execution_count": 100,
   "id": "6728c987-1319-4ad3-9712-2b3ac0c218b0",
   "metadata": {},
   "outputs": [
    {
     "data": {
      "text/plain": [
       "4.5"
      ]
     },
     "execution_count": 100,
     "metadata": {},
     "output_type": "execute_result"
    }
   ],
   "source": [
    "round(4.5276,1)"
   ]
  },
  {
   "cell_type": "code",
   "execution_count": 130,
   "id": "2587b4c1-80e1-4a89-9d59-a8e81b0232f0",
   "metadata": {},
   "outputs": [
    {
     "name": "stdout",
     "output_type": "stream",
     "text": [
      "False\n"
     ]
    },
    {
     "data": {
      "text/plain": [
       "['abc', 'def']"
      ]
     },
     "execution_count": 130,
     "metadata": {},
     "output_type": "execute_result"
    }
   ],
   "source": [
    "def foo(x):\n",
    "    x = ['def', 'abc']\n",
    "    return id(x)\n",
    "q = ['abc', 'def']\n",
    "print(id(q) == foo(q))\n",
    "q"
   ]
  },
  {
   "cell_type": "code",
   "execution_count": null,
   "id": "eff2ef34-7733-4409-8e7a-271f1f8b0b88",
   "metadata": {},
   "outputs": [],
   "source": []
  }
 ],
 "metadata": {
  "kernelspec": {
   "display_name": "Python 3 (ipykernel)",
   "language": "python",
   "name": "python3"
  },
  "language_info": {
   "codemirror_mode": {
    "name": "ipython",
    "version": 3
   },
   "file_extension": ".py",
   "mimetype": "text/x-python",
   "name": "python",
   "nbconvert_exporter": "python",
   "pygments_lexer": "ipython3",
   "version": "3.13.2"
  }
 },
 "nbformat": 4,
 "nbformat_minor": 5
}
