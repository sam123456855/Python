{
 "cells": [
  {
   "cell_type": "code",
   "execution_count": 101,
   "id": "a57e108f-a1d0-4388-9f37-410dfa83ebdc",
   "metadata": {},
   "outputs": [],
   "source": [
    "d = {'name': 'alice', 'age': 6, 'class': 'first', 'school': 'velammal', 'rank': 1}\n",
    "\n",
    "val = d.pop('age')"
   ]
  },
  {
   "cell_type": "code",
   "execution_count": 12,
   "id": "c838f068-5723-48f2-b8da-6fe0d0e6fd1e",
   "metadata": {},
   "outputs": [
    {
     "name": "stdout",
     "output_type": "stream",
     "text": [
      "6\n"
     ]
    }
   ],
   "source": [
    "print(val)"
   ]
  },
  {
   "cell_type": "code",
   "execution_count": 13,
   "id": "4c336497-4b4c-44c5-bf8e-99a163338676",
   "metadata": {},
   "outputs": [
    {
     "name": "stdout",
     "output_type": "stream",
     "text": [
      "{'name': 'alice', 'class': 'first', 'school': 'velammal', 'rank': 1}\n"
     ]
    }
   ],
   "source": [
    "print(d)"
   ]
  },
  {
   "cell_type": "code",
   "execution_count": 14,
   "id": "29796888-21dd-4bc0-ae59-b5c75223cf70",
   "metadata": {},
   "outputs": [
    {
     "name": "stdout",
     "output_type": "stream",
     "text": [
      "Help on method_descriptor:\n",
      "\n",
      "setdefault(self, key, default=None, /) unbound builtins.dict method\n",
      "    Insert key with a value of default if key is not in the dictionary.\n",
      "\n",
      "    Return the value for key if key is in the dictionary, else default.\n",
      "\n"
     ]
    }
   ],
   "source": [
    "#SETDEFAULT\n",
    "\n",
    "help(dict.setdefault)"
   ]
  },
  {
   "cell_type": "code",
   "execution_count": 15,
   "id": "9cbc5d28-05a6-4daa-b6af-a440f324d6a9",
   "metadata": {},
   "outputs": [
    {
     "name": "stdout",
     "output_type": "stream",
     "text": [
      "tom\n",
      "{'name': 'alice', 'class': 'first', 'school': 'velammal', 'rank': 1, 'lname': 'tom'}\n"
     ]
    }
   ],
   "source": [
    "Ans = d.setdefault('lname','tom')\n",
    "\n",
    "print(Ans)\n",
    "print(d)"
   ]
  },
  {
   "cell_type": "code",
   "execution_count": 16,
   "id": "9a3e1dfd-2b34-45ae-84a1-039ffaf02050",
   "metadata": {},
   "outputs": [
    {
     "name": "stdout",
     "output_type": "stream",
     "text": [
      "alice\n",
      "{'name': 'alice', 'class': 'first', 'school': 'velammal', 'rank': 1, 'lname': 'tom'}\n"
     ]
    }
   ],
   "source": [
    "Ans = d.setdefault('name', 'gugugaga') #name is already a existing key so it returns 'alice'(value of 'name') and ignores 'gugugaga'\n",
    "\n",
    "print(Ans)\n",
    "print(d)"
   ]
  },
  {
   "cell_type": "code",
   "execution_count": 18,
   "id": "ec4b9cca-b25f-4e51-bd3e-20079f37e5fd",
   "metadata": {},
   "outputs": [
    {
     "name": "stdout",
     "output_type": "stream",
     "text": [
      "{'school': 'sboa', 'rank': 20, 'name': 'sam'}\n"
     ]
    }
   ],
   "source": [
    "#convert a list to dictionary\n",
    "\n",
    "LoT = [('school', 'sboa'),('rank', 20), ('name', 'sam')] # non dictionary (list of tuples)\n",
    "d1 = dict(LoT)\n",
    "print(d1)"
   ]
  },
  {
   "cell_type": "code",
   "execution_count": 22,
   "id": "6dbb88f3-900c-476e-9fb9-66c79ed9693f",
   "metadata": {},
   "outputs": [
    {
     "name": "stdout",
     "output_type": "stream",
     "text": [
      "{'name': 'Jimmy', 'species': 'Dog', 'HasTail': 'No'}\n",
      "[('name', 'Jimmy'), ('species', 'Dog'), ('HasTail', 'No')]\n"
     ]
    }
   ],
   "source": [
    "# zip - takes 2 lists as arguments and returns a zip object\n",
    "#       zip can be type casted to a list or dictionary\n",
    "\n",
    "attributes = ['name','species', 'HasTail']\n",
    "values = ['Jimmy', 'Dog', 'No']\n",
    "\n",
    "D = dict(zip(attributes,values))\n",
    "L = list(zip(attributes,values))\n",
    "\n",
    "\n",
    "print(D)\n",
    "print(L)\n"
   ]
  },
  {
   "cell_type": "code",
   "execution_count": 45,
   "id": "fe8ba5e7-10ff-459c-8763-8f507dedf981",
   "metadata": {},
   "outputs": [
    {
     "name": "stdout",
     "output_type": "stream",
     "text": [
      "[['name', 'species', 'HasTail'], ['Jimmy', 'Dog', 'No'], ['Tom', 'cat', 'Yes'], ['Pasu', 'Cow', 'Yes']]\n",
      "{'s1': {'name': 'Jimmy', 'species': 'Dog', 'HasTail': 'No'}, 's2': {'name': 'Tom', 'species': 'cat', 'HasTail': 'Yes'}, 's3': {'name': 'Pasu', 'species': 'Cow', 'HasTail': 'Yes'}}\n"
     ]
    }
   ],
   "source": [
    "#Nested Dictionary\n",
    "s1 = \"name,species,HasTail\\nJimmy,Dog,No\\nTom,cat,Yes\\nPasu,Cow,Yes\"\n",
    "DMain = {}\n",
    "info = s1.split(\"\\n\")\n",
    "#print(info)\n",
    "l1=[]\n",
    "for element in info:\n",
    "    l1.append(element.split(\",\"))\n",
    "print(l1)\n",
    "l2=['s1','s2','s3']\n",
    "\n",
    "\n",
    "for i in range(1,4):\n",
    "    D = dict(zip((l1[0]),l1[i]))\n",
    "    DMain.setdefault(l2[i-1],D)\n",
    "    #DMain=dict(zip(l2[i-1],D))\n",
    "    #print(D)\n",
    "print(DMain)\n",
    "    \n"
   ]
  },
  {
   "cell_type": "code",
   "execution_count": 57,
   "id": "04283b03-0d69-4219-9698-81b1ef3cac80",
   "metadata": {},
   "outputs": [
    {
     "name": "stdout",
     "output_type": "stream",
     "text": [
      "['name', 'species', 'HasTail']\n"
     ]
    }
   ],
   "source": [
    "s1 = \"name,species,HasTail\\nJimmy,Dog,No\\nTom,cat,Yes\\nPasu,Cow,Yes\"\n",
    "\n",
    "data=s1.split(\"\\n\")\n",
    "\n",
    "d1 = {}\n",
    "head = data[0].split(\",\")\n",
    "print(head)"
   ]
  },
  {
   "cell_type": "code",
   "execution_count": 58,
   "id": "c4462d77-ca4f-4f00-a57a-c1a90a542e1d",
   "metadata": {},
   "outputs": [
    {
     "name": "stdout",
     "output_type": "stream",
     "text": [
      "{'s1': {'name': 'Jimmy', 'species': 'Dog', 'HasTail': 'No'}, 's2': {'name': 'Tom', 'species': 'cat', 'HasTail': 'Yes'}, 's3': {'name': 'Pasu', 'species': 'Cow', 'HasTail': 'Yes'}}\n"
     ]
    }
   ],
   "source": [
    "c = 1\n",
    "for d in data[1:]:\n",
    "    v=d.split(',')\n",
    "    d2=dict(zip(head,v))\n",
    "    key = f's{c}'\n",
    "    d1.setdefault(key,d2)\n",
    "    c+=1\n",
    "print(d1)"
   ]
  },
  {
   "cell_type": "code",
   "execution_count": 89,
   "id": "2e4b0764-b1d1-4640-8967-c4cadd92181b",
   "metadata": {},
   "outputs": [
    {
     "name": "stdout",
     "output_type": "stream",
     "text": [
      "<class 'set'>\n",
      "{1, 2, 4, 5, 6, 7, 8, 9}\n"
     ]
    }
   ],
   "source": [
    "# set - removes duplicate values in the list\n",
    "#       set is unordered\n",
    "dupe = [1,1,1,1,1,1,1,1,1,2,2,2,2,2,2,2,4,5,6,7,8,9]\n",
    "sett = set(dupe)\n",
    "\n",
    "print(type(sett))\n",
    "print(sett)\n",
    "#print(sett[0]) - TypeError: 'set' object is not subscriptable\n"
   ]
  },
  {
   "cell_type": "code",
   "execution_count": 90,
   "id": "14562558-c245-46b1-8052-c1f79a4d4e95",
   "metadata": {},
   "outputs": [
    {
     "name": "stdout",
     "output_type": "stream",
     "text": [
      "Not present\n"
     ]
    }
   ],
   "source": [
    "if 3 in sett:\n",
    "    print(\"present\")\n",
    "else:\n",
    "    print(\"Not present\")"
   ]
  },
  {
   "cell_type": "code",
   "execution_count": 91,
   "id": "a53da8a1-c716-4821-9956-20d7c4149c30",
   "metadata": {},
   "outputs": [
    {
     "name": "stdout",
     "output_type": "stream",
     "text": [
      "{1, 2, 4, 5, 6, 7, 8, 9}\n",
      "{1, 2, 3, 4, 5, 6, 7, 8, 9}\n",
      "{1, 2, 3, 4, 5, 6, 7, 8, 9}\n"
     ]
    }
   ],
   "source": [
    "#adding elements to set\n",
    "\n",
    "print(sett)\n",
    "sett.add(3)\n",
    "print(sett)\n",
    "sett.add(2)\n",
    "print(sett)"
   ]
  },
  {
   "cell_type": "code",
   "execution_count": 92,
   "id": "027e407a-0698-4374-9ea9-2206369aca58",
   "metadata": {},
   "outputs": [
    {
     "name": "stdout",
     "output_type": "stream",
     "text": [
      "1\n",
      "{2, 3, 4, 5, 6, 7, 8, 9}\n"
     ]
    }
   ],
   "source": [
    "#removing elements from set\n",
    "#       pop\n",
    "#       remove\n",
    "#       discard\n",
    "\n",
    "popped = sett.pop() #first element is popped\n",
    "print(popped)\n",
    "print(sett)"
   ]
  },
  {
   "cell_type": "code",
   "execution_count": 93,
   "id": "f82e3ae4-69e0-47ea-8035-aed6f833bb7e",
   "metadata": {},
   "outputs": [
    {
     "data": {
      "text/plain": [
       "{2, 4, 5, 6, 7, 8, 9}"
      ]
     },
     "execution_count": 93,
     "metadata": {},
     "output_type": "execute_result"
    }
   ],
   "source": [
    "sett.remove(3)\n",
    "sett"
   ]
  },
  {
   "cell_type": "code",
   "execution_count": 120,
   "id": "40fcc1df-7dc1-4a27-98f0-976f43395679",
   "metadata": {},
   "outputs": [
    {
     "name": "stdout",
     "output_type": "stream",
     "text": [
      "union of s1 and s2 {1, 2, 4, 5, 6, 7, 8, 9}\n",
      "intersection of s1 and s2 {4, 6}\n"
     ]
    }
   ],
   "source": [
    "# union(|), intersection(&) in sett\n",
    "\n",
    "s1 = {2,4,5,6}\n",
    "s2 = {1,4,6,7,8,9}\n",
    "\n",
    "s3 = s1.union(s2) # s1 | s2\n",
    "print(f\"union of s1 and s2 {s3}\")\n",
    "s4 = s1.intersection(s2) # s1 & s2\n",
    "print(f\"intersection of s1 and s2 {s4}\")"
   ]
  },
  {
   "cell_type": "code",
   "execution_count": 121,
   "id": "fdb29f82-3f4b-47bf-bbd3-440792d7d0e9",
   "metadata": {},
   "outputs": [
    {
     "name": "stdout",
     "output_type": "stream",
     "text": [
      "[{2, 4, 6}, {4, 6}, {5, 6}]\n"
     ]
    }
   ],
   "source": [
    "lis = [[2,3,4,6,8],[1,2,4,6,9],[3,4,5,6,7],[2,5,6,8,9]]\n",
    "\n",
    "L=[]\n",
    "for i in range(3):\n",
    "    set1 = set(lis[i])\n",
    "    set2 = set(lis[i+1])\n",
    "    L.append(set1.intersection(set2))\n",
    "    \n",
    "print(L)\n",
    "    \n",
    "    \n",
    "    "
   ]
  },
  {
   "cell_type": "code",
   "execution_count": 122,
   "id": "9b3c5c20-b86d-4334-b13c-ccf5a39797f7",
   "metadata": {},
   "outputs": [
    {
     "name": "stdout",
     "output_type": "stream",
     "text": [
      "{6}\n"
     ]
    }
   ],
   "source": [
    "#PROBLEM\n",
    "\n",
    "lis = [set(x) for x in lis]\n",
    "c = lis[0]\n",
    "for k in lis[1:]:\n",
    "    c = c & k\n",
    "print(c)"
   ]
  },
  {
   "cell_type": "code",
   "execution_count": 131,
   "id": "97cf4028-3df1-4daa-ae03-c1ad6662cb99",
   "metadata": {},
   "outputs": [
    {
     "name": "stdout",
     "output_type": "stream",
     "text": [
      "Hello guys\n",
      "hi da Shreenath uh\n"
     ]
    }
   ],
   "source": [
    "def Helloo(n):\n",
    "    \"\"\"doc is used\"\"\"\n",
    "    print(\"Hello guys\")\n",
    "    print(f\"hi da {n} uh\")\n",
    "\n",
    "Helloo(\"Shreenath\")\n",
    "#Helloo() - Helloo() missing 1 required positional argument: 'n'\n"
   ]
  },
  {
   "cell_type": "code",
   "execution_count": 132,
   "id": "a42b863c-9ff5-435d-9c99-8057bde45a26",
   "metadata": {},
   "outputs": [
    {
     "name": "stdout",
     "output_type": "stream",
     "text": [
      "doc is used\n"
     ]
    }
   ],
   "source": [
    "print(Helloo.__doc__)"
   ]
  },
  {
   "cell_type": "code",
   "execution_count": 140,
   "id": "fd38f4b9-d0ff-4f03-9ef2-94bd76c273a4",
   "metadata": {},
   "outputs": [
    {
     "name": "stdout",
     "output_type": "stream",
     "text": [
      "24.0 48.0\n"
     ]
    }
   ],
   "source": [
    "#user defined function with default parameter if not mentioned\n",
    "\n",
    "def interest(p,n,r=12): # 'r' is the default parameter, as it has been defined in function definition\n",
    "    return (p*n*r)/100\n",
    "    \n",
    "r1 = interest(100,2)\n",
    "r2 = interest(100,2,24)\n",
    "print(r1,r2)"
   ]
  },
  {
   "cell_type": "code",
   "execution_count": 142,
   "id": "094bb68f-c149-414f-896d-e4802f6d70c5",
   "metadata": {},
   "outputs": [
    {
     "name": "stdout",
     "output_type": "stream",
     "text": [
      "Name:13\n",
      "Age:bob\n",
      "Name:sam\n",
      "Age:22\n"
     ]
    }
   ],
   "source": [
    "def display(name,age):\n",
    "    print(f\"Name:{name}\")\n",
    "    print(f\"Age:{age}\")\n",
    "\n",
    "display(13, 'bob')\n",
    "display(age = 22, name = 'sam')"
   ]
  },
  {
   "cell_type": "code",
   "execution_count": 145,
   "id": "7a1b5800-0120-4616-aeba-7a695ec24321",
   "metadata": {},
   "outputs": [
    {
     "name": "stdout",
     "output_type": "stream",
     "text": [
      "10\n",
      "20\n",
      "[30, 40, 50, 60, 70, 80]\n"
     ]
    }
   ],
   "source": [
    "#a,b = 1,2,3,4,5,6 - ValueError: too many values to unpack (expected 2)\n",
    "\n",
    "a,b,*c = [10,20,30,40,50,60,70,80]\n",
    "print(a)\n",
    "print(b)\n",
    "print(c)"
   ]
  },
  {
   "cell_type": "code",
   "execution_count": 150,
   "id": "75712f8f-5fbb-40ed-9559-f28e51c9ef50",
   "metadata": {},
   "outputs": [],
   "source": [
    "def find_max(*args):\n",
    "    print(type(args))\n",
    "    print(args)\n",
    "\n",
    "#def find_max(*args, *k): - SyntaxError: * argument may appear only once\n",
    "#    print(\"hi\")"
   ]
  },
  {
   "cell_type": "code",
   "execution_count": 151,
   "id": "c9451b63-7d95-4e2c-8ed6-1650e08550f7",
   "metadata": {},
   "outputs": [
    {
     "name": "stdout",
     "output_type": "stream",
     "text": [
      "<class 'tuple'>\n",
      "()\n"
     ]
    }
   ],
   "source": [
    "find_max()"
   ]
  },
  {
   "cell_type": "code",
   "execution_count": 152,
   "id": "28c38710-7ba7-4878-88da-826a2f8d51df",
   "metadata": {},
   "outputs": [
    {
     "name": "stdout",
     "output_type": "stream",
     "text": [
      "<class 'tuple'>\n",
      "(8, 99, 34, 2, 1, 34, 56, 76, 879, 2, 3, 1, 2, 13, 34, 5, 45)\n"
     ]
    }
   ],
   "source": [
    "find_max(8,99,34,2,1,34,56,76,879,2,3,1,2,13,34,5,45)"
   ]
  },
  {
   "cell_type": "code",
   "execution_count": 154,
   "id": "e9c38a81-83a6-409e-a2d7-5b99a5940816",
   "metadata": {},
   "outputs": [
    {
     "name": "stdout",
     "output_type": "stream",
     "text": [
      "{'name': 'bobby', 'age': 30, 'lname': 'simha'}\n"
     ]
    }
   ],
   "source": [
    "#variable length key and value pair\n",
    "def display(**kwargs):\n",
    "    print(kwargs) #kwargs treated as dictionary\n",
    "display(name = 'bobby', age = 30, lname = 'simha')"
   ]
  },
  {
   "cell_type": "code",
   "execution_count": 165,
   "id": "2cb5d9bc-febf-453a-a416-57080df4304c",
   "metadata": {},
   "outputs": [
    {
     "name": "stdout",
     "output_type": "stream",
     "text": [
      "reference of myList: 1771386177856\n",
      "reference of the list: 1771386187008\n",
      "inside the function: [20, 40, 50]\n",
      "Outside the function [1, 2, 3]\n"
     ]
    }
   ],
   "source": [
    "#pass by value\n",
    "#pass by reference\n",
    "# changes made inside a function is visible for mutable object if the reference is not modified\n",
    "\n",
    "\n",
    "def changeVal(thelist):\n",
    "    thelist = [20,40,50]\n",
    "    print(\"reference of the list:\", id(thelist))\n",
    "    print(\"inside the function:\", thelist)\n",
    "\n",
    "myList = [1,2,3]\n",
    "print(\"reference of myList:\", id(myList))\n",
    "changeVal(myList) #fuction call\n",
    "print(\"Outside the function\",myList)\n",
    "#print(thelist) - NameError: name 'thelist' is not defined\n"
   ]
  },
  {
   "cell_type": "code",
   "execution_count": 166,
   "id": "7b609469-d8fd-4523-98f5-f15317f0bcd2",
   "metadata": {},
   "outputs": [
    {
     "name": "stdout",
     "output_type": "stream",
     "text": [
      "reference of s1: 1771386149808\n",
      "reference to s1: 1771386149808\n",
      "inside the function Welcome\n",
      "outside the function: hi python\n"
     ]
    }
   ],
   "source": [
    "def change(some):\n",
    "    some = \"Welcome\"\n",
    "    print(\"reference to s1:\", id(s1))\n",
    "    print(\"inside the function\", some)\n",
    "\n",
    "s1 = \"hi python\"\n",
    "print(\"reference of s1:\", id(s1))\n",
    "change(s1)\n",
    "print(\"outside the function:\", s1)\n"
   ]
  },
  {
   "cell_type": "code",
   "execution_count": 167,
   "id": "b54bb4a4-099e-4daa-bc33-07a5966a4b6b",
   "metadata": {},
   "outputs": [
    {
     "name": "stdout",
     "output_type": "stream",
     "text": [
      "['appl', 'banan', 'mang']\n"
     ]
    }
   ],
   "source": [
    "#comprehensions\n",
    "# shorter syntax to generate a list from an existing list\n",
    "\n",
    "fruits = [\"appl\", \"banan\", \"mang\", \"kiw\"]\n",
    "\n",
    "new = []\n",
    "\n",
    "for i in fruits:\n",
    "    if 'a' in i:\n",
    "        new.append(i)\n",
    "\n",
    "print(new)"
   ]
  },
  {
   "cell_type": "code",
   "execution_count": 169,
   "id": "f289e626-a486-42be-bb32-50cf8c2fda1b",
   "metadata": {},
   "outputs": [
    {
     "data": {
      "text/plain": [
       "['appl', 'banan', 'mang']"
      ]
     },
     "execution_count": 169,
     "metadata": {},
     "output_type": "execute_result"
    }
   ],
   "source": [
    "new = [f for f in fruits if 'a' in f]\n",
    "new"
   ]
  },
  {
   "cell_type": "code",
   "execution_count": 171,
   "id": "87ca06c6-620c-44f0-9fd5-34b9b035e889",
   "metadata": {},
   "outputs": [
    {
     "data": {
      "text/plain": [
       "['banan', 'mang', 'kiw']"
      ]
     },
     "execution_count": 171,
     "metadata": {},
     "output_type": "execute_result"
    }
   ],
   "source": [
    "without_appl = [f for f in fruits if f != 'appl']\n",
    "without_appl"
   ]
  },
  {
   "cell_type": "code",
   "execution_count": 172,
   "id": "6480f6e8-69bd-4045-bfd1-3d50a6761906",
   "metadata": {},
   "outputs": [
    {
     "data": {
      "text/plain": [
       "[5, 5, 5, 5]"
      ]
     },
     "execution_count": 172,
     "metadata": {},
     "output_type": "execute_result"
    }
   ],
   "source": [
    "x=5\n",
    "res = [x for f in fruits if f != 'apple' ]\n",
    "res"
   ]
  },
  {
   "cell_type": "code",
   "execution_count": 1,
   "id": "fd258da3-d89b-4b5c-a0f9-717dad1e6e8c",
   "metadata": {},
   "outputs": [
    {
     "data": {
      "text/plain": [
       "[0,\n",
       " 1,\n",
       " 8,\n",
       " 27,\n",
       " 64,\n",
       " 125,\n",
       " 216,\n",
       " 343,\n",
       " 512,\n",
       " 729,\n",
       " 1000,\n",
       " 1331,\n",
       " 1728,\n",
       " 2197,\n",
       " 2744,\n",
       " 3375,\n",
       " 4096,\n",
       " 4913,\n",
       " 5832,\n",
       " 6859,\n",
       " 8000,\n",
       " 9261,\n",
       " 10648,\n",
       " 12167,\n",
       " 13824,\n",
       " 15625,\n",
       " 17576,\n",
       " 19683,\n",
       " 21952,\n",
       " 24389,\n",
       " 27000,\n",
       " 29791,\n",
       " 32768,\n",
       " 35937,\n",
       " 39304,\n",
       " 42875,\n",
       " 46656,\n",
       " 50653,\n",
       " 54872,\n",
       " 59319,\n",
       " 64000,\n",
       " 68921,\n",
       " 74088,\n",
       " 79507,\n",
       " 85184,\n",
       " 91125,\n",
       " 97336,\n",
       " 103823,\n",
       " 110592,\n",
       " 117649]"
      ]
     },
     "execution_count": 1,
     "metadata": {},
     "output_type": "execute_result"
    }
   ],
   "source": [
    "num = [x**3 for x in range(50)]\n",
    "num"
   ]
  },
  {
   "cell_type": "code",
   "execution_count": 3,
   "id": "a397525e-0ebb-4d67-be87-49d9c9dc847f",
   "metadata": {},
   "outputs": [
    {
     "name": "stdout",
     "output_type": "stream",
     "text": [
      "['e', 'o']\n"
     ]
    }
   ],
   "source": [
    "s1 = \"hello\"\n",
    "s2 = [x for x in s1 if x=='a' or x =='e' or x=='i' or x=='o' or x=='u']\n",
    "print(s2)"
   ]
  },
  {
   "cell_type": "code",
   "execution_count": 4,
   "id": "906da539-c2bb-441e-9c66-210548b63c91",
   "metadata": {},
   "outputs": [
    {
     "name": "stdout",
     "output_type": "stream",
     "text": [
      "[102, 108, 114, 120, 126, 132, 138, 144, 150, 156, 162, 168, 174, 180, 186, 192, 198, 204, 210, 216, 222, 228, 234, 240, 246, 252, 258, 264, 270, 276, 282, 288, 294, 300, 306, 312, 318, 324, 330, 336, 342, 348, 354, 360, 366, 372, 378, 384, 390, 396, 402, 408, 414, 420, 426, 432, 438, 444, 450, 456, 462, 468, 474, 480, 486, 492, 498]\n"
     ]
    }
   ],
   "source": [
    "l2 = [i for i in range(100,501) if i%6==0]\n",
    "print(l2)"
   ]
  },
  {
   "cell_type": "code",
   "execution_count": 6,
   "id": "8e312548-d7b8-46b8-983b-59b585f9f574",
   "metadata": {},
   "outputs": [
    {
     "data": {
      "text/plain": [
       "{'a', 'f', 'h', 'o', 'u'}"
      ]
     },
     "execution_count": 6,
     "metadata": {},
     "output_type": "execute_result"
    }
   ],
   "source": [
    "#set comprehension\n",
    "\n",
    "str = 'afhfuhaofhaohfa'\n",
    "sett = {x for x in str}\n",
    "sett"
   ]
  },
  {
   "cell_type": "code",
   "execution_count": 7,
   "id": "f5266b69-d6d7-4c87-8936-a8de9032f7d8",
   "metadata": {},
   "outputs": [
    {
     "data": {
      "text/plain": [
       "{'a': 1, 'b': 2, 'c': 3, 'd': 4}"
      ]
     },
     "execution_count": 7,
     "metadata": {},
     "output_type": "execute_result"
    }
   ],
   "source": [
    "#set comprehension\n",
    "\n",
    "l6 = ['a','b','c','d']\n",
    "val = [1,2,3,4]\n",
    "d1 = {x:y for x,y in zip(l6,val)}\n",
    "d1\n",
    "\n",
    "#enumerate - fetches index and value from a list"
   ]
  },
  {
   "cell_type": "code",
   "execution_count": 10,
   "id": "bc79104e-8445-4fba-99e1-59f18795b711",
   "metadata": {},
   "outputs": [
    {
     "data": {
      "text/plain": [
       "25"
      ]
     },
     "execution_count": 10,
     "metadata": {},
     "output_type": "execute_result"
    }
   ],
   "source": [
    "#Function reference -- function name returns function reference\n",
    "#                      function reference can be assigned to a variable and function can be called through that variables \n",
    "\n",
    "def square(x):\n",
    "    return x*x\n",
    "square(5)"
   ]
  },
  {
   "cell_type": "code",
   "execution_count": 11,
   "id": "b534ec17-bd29-4dbe-9325-2342b359e236",
   "metadata": {},
   "outputs": [
    {
     "name": "stdout",
     "output_type": "stream",
     "text": [
      "<function square at 0x000001C6D5499D00>\n"
     ]
    }
   ],
   "source": [
    "print(square) #hexadecimal value"
   ]
  },
  {
   "cell_type": "code",
   "execution_count": 12,
   "id": "b12d5ffa-3b39-4b4b-9cfd-a2930dd561ad",
   "metadata": {},
   "outputs": [],
   "source": [
    "#lambda- used for creating anonymous function\n",
    "#        returns function reference\n",
    "#syntax:\n",
    "#lambda p1,p2,p3... : body of lambda funtion\n",
    "#last evaluated expression is automatically returned"
   ]
  },
  {
   "cell_type": "code",
   "execution_count": 13,
   "id": "b6d30cd9-083a-4a6e-9a83-cfc4b80c3cb5",
   "metadata": {},
   "outputs": [],
   "source": [
    "g = lambda x: x*x"
   ]
  },
  {
   "cell_type": "code",
   "execution_count": 14,
   "id": "475812b5-70a9-4124-825d-16d158f2f44b",
   "metadata": {},
   "outputs": [
    {
     "name": "stdout",
     "output_type": "stream",
     "text": [
      "<function <lambda> at 0x000001C6D549A160>\n"
     ]
    }
   ],
   "source": [
    "print(g)"
   ]
  },
  {
   "cell_type": "code",
   "execution_count": 15,
   "id": "e02adc4d-3f18-4c1e-b293-4c44bc23a205",
   "metadata": {},
   "outputs": [],
   "source": [
    "#filter - takes 2 parameters\n",
    "#        1st parameter is a function reference. The function should return true/false\n",
    "#        2nd parameter is a sequence/sequences\n",
    "#        takes one element from the sequence and passes it to the function referred in 1st parameter\n",
    "#        if the 1st parameter (i.e function returns true) the element is added to filter object\n",
    "#        filter object is type casted to a list"
   ]
  },
  {
   "cell_type": "code",
   "execution_count": 21,
   "id": "aa738597-ba7f-43e9-85fd-2a9467dccb1a",
   "metadata": {},
   "outputs": [],
   "source": [
    "#filter to return list of numbers divisible by 6"
   ]
  },
  {
   "cell_type": "code",
   "execution_count": 22,
   "id": "3edb902f-8247-4e51-9b2e-29439f51dd19",
   "metadata": {},
   "outputs": [
    {
     "data": {
      "text/plain": [
       "[0,\n",
       " 1,\n",
       " 2,\n",
       " 3,\n",
       " 4,\n",
       " 5,\n",
       " 6,\n",
       " 7,\n",
       " 8,\n",
       " 9,\n",
       " 10,\n",
       " 11,\n",
       " 12,\n",
       " 13,\n",
       " 14,\n",
       " 15,\n",
       " 16,\n",
       " 17,\n",
       " 18,\n",
       " 19,\n",
       " 20,\n",
       " 21,\n",
       " 22,\n",
       " 23,\n",
       " 24,\n",
       " 25,\n",
       " 26,\n",
       " 27,\n",
       " 28,\n",
       " 29,\n",
       " 30,\n",
       " 31,\n",
       " 32,\n",
       " 33,\n",
       " 34,\n",
       " 35,\n",
       " 36,\n",
       " 37,\n",
       " 38,\n",
       " 39,\n",
       " 40,\n",
       " 41,\n",
       " 42,\n",
       " 43,\n",
       " 44,\n",
       " 45,\n",
       " 46,\n",
       " 47,\n",
       " 48,\n",
       " 49,\n",
       " 50,\n",
       " 51,\n",
       " 52,\n",
       " 53,\n",
       " 54,\n",
       " 55,\n",
       " 56,\n",
       " 57,\n",
       " 58,\n",
       " 59,\n",
       " 60,\n",
       " 61,\n",
       " 62,\n",
       " 63,\n",
       " 64,\n",
       " 65,\n",
       " 66,\n",
       " 67,\n",
       " 68,\n",
       " 69,\n",
       " 70,\n",
       " 71,\n",
       " 72,\n",
       " 73,\n",
       " 74,\n",
       " 75,\n",
       " 76,\n",
       " 77,\n",
       " 78,\n",
       " 79,\n",
       " 80,\n",
       " 81,\n",
       " 82,\n",
       " 83,\n",
       " 84,\n",
       " 85,\n",
       " 86,\n",
       " 87,\n",
       " 88,\n",
       " 89,\n",
       " 90,\n",
       " 91,\n",
       " 92,\n",
       " 93,\n",
       " 94,\n",
       " 95,\n",
       " 96,\n",
       " 97,\n",
       " 98,\n",
       " 99,\n",
       " 100,\n",
       " 101,\n",
       " 102,\n",
       " 103,\n",
       " 104,\n",
       " 105,\n",
       " 106,\n",
       " 107,\n",
       " 108,\n",
       " 109,\n",
       " 110,\n",
       " 111,\n",
       " 112,\n",
       " 113,\n",
       " 114,\n",
       " 115,\n",
       " 116,\n",
       " 117,\n",
       " 118,\n",
       " 119,\n",
       " 120,\n",
       " 121,\n",
       " 122,\n",
       " 123,\n",
       " 124,\n",
       " 125,\n",
       " 126,\n",
       " 127,\n",
       " 128,\n",
       " 129,\n",
       " 130,\n",
       " 131,\n",
       " 132,\n",
       " 133,\n",
       " 134,\n",
       " 135,\n",
       " 136,\n",
       " 137,\n",
       " 138,\n",
       " 139,\n",
       " 140,\n",
       " 141,\n",
       " 142,\n",
       " 143,\n",
       " 144,\n",
       " 145,\n",
       " 146,\n",
       " 147,\n",
       " 148,\n",
       " 149,\n",
       " 150,\n",
       " 151,\n",
       " 152,\n",
       " 153,\n",
       " 154,\n",
       " 155,\n",
       " 156,\n",
       " 157,\n",
       " 158,\n",
       " 159,\n",
       " 160,\n",
       " 161,\n",
       " 162,\n",
       " 163,\n",
       " 164,\n",
       " 165,\n",
       " 166,\n",
       " 167,\n",
       " 168,\n",
       " 169,\n",
       " 170,\n",
       " 171,\n",
       " 172,\n",
       " 173,\n",
       " 174,\n",
       " 175,\n",
       " 176,\n",
       " 177,\n",
       " 178,\n",
       " 179,\n",
       " 180,\n",
       " 181,\n",
       " 182,\n",
       " 183,\n",
       " 184,\n",
       " 185,\n",
       " 186,\n",
       " 187,\n",
       " 188,\n",
       " 189,\n",
       " 190,\n",
       " 191,\n",
       " 192,\n",
       " 193,\n",
       " 194,\n",
       " 195,\n",
       " 196,\n",
       " 197,\n",
       " 198,\n",
       " 199]"
      ]
     },
     "execution_count": 22,
     "metadata": {},
     "output_type": "execute_result"
    }
   ],
   "source": [
    "num = [x for x in range(200)]\n",
    "num"
   ]
  },
  {
   "cell_type": "code",
   "execution_count": 41,
   "id": "1bed7bf7-cc9d-4c88-b556-52cad34b091f",
   "metadata": {},
   "outputs": [],
   "source": [
    "def div_b_6(x):\n",
    "    return x%6==0 # returns true or false"
   ]
  },
  {
   "cell_type": "code",
   "execution_count": 42,
   "id": "116a7cc6-7b61-44e8-b3f0-3b51d44fb618",
   "metadata": {},
   "outputs": [
    {
     "data": {
      "text/plain": [
       "[0]"
      ]
     },
     "execution_count": 42,
     "metadata": {},
     "output_type": "execute_result"
    }
   ],
   "source": [
    "newL = list(filter(div_b_6, num)) #filter(true or false,list) iterates through list\n",
    "newL"
   ]
  },
  {
   "cell_type": "code",
   "execution_count": 43,
   "id": "b9474979-e765-4a17-8113-68c696dcaf47",
   "metadata": {},
   "outputs": [],
   "source": [
    "numBy6 = list(filter(lambda x: x%6==0,num))"
   ]
  },
  {
   "cell_type": "code",
   "execution_count": 44,
   "id": "d61376ab-d566-41af-9ddc-c1b23792829d",
   "metadata": {},
   "outputs": [
    {
     "data": {
      "text/plain": [
       "[0]"
      ]
     },
     "execution_count": 44,
     "metadata": {},
     "output_type": "execute_result"
    }
   ],
   "source": [
    "numBy6"
   ]
  },
  {
   "cell_type": "code",
   "execution_count": 45,
   "id": "f0038ec0-561a-4b2a-b292-37466b835cea",
   "metadata": {},
   "outputs": [
    {
     "name": "stdout",
     "output_type": "stream",
     "text": [
      "[1, 2, 3]\n"
     ]
    }
   ],
   "source": [
    "num = [x for x in range(4)]\n",
    "#num = [0,1,2,3]\n",
    "res = list(filter(lambda x: x*x,num))\n",
    "#0 is false and rest is added\n",
    "print(res)"
   ]
  },
  {
   "cell_type": "code",
   "execution_count": 46,
   "id": "56bf051f-25e2-49e6-a761-7710efc08c5a",
   "metadata": {},
   "outputs": [],
   "source": [
    "#map - Take 2 parameter\n",
    "#      1st parameter is the function reference\n",
    "#      2nd parameter is a sequence or sequences\n",
    "#      passes the element from sequence to function (referred in 1st parameter)\n",
    "#      return value of function is added to map object\n",
    "#      map object can be type casted to a list"
   ]
  },
  {
   "cell_type": "code",
   "execution_count": 47,
   "id": "5969d066-ab8b-4e08-a82b-c7670921313f",
   "metadata": {},
   "outputs": [
    {
     "data": {
      "text/plain": [
       "[0, 1, 4, 9]"
      ]
     },
     "execution_count": 47,
     "metadata": {},
     "output_type": "execute_result"
    }
   ],
   "source": [
    "num = [x for x in range(4)]\n",
    "\n",
    "res = list(map(lambda x: x*x,num))\n",
    "res"
   ]
  },
  {
   "cell_type": "code",
   "execution_count": 48,
   "id": "2de82200-f506-45e6-b790-6bc4b137acb0",
   "metadata": {},
   "outputs": [
    {
     "data": {
      "text/plain": [
       "[0,\n",
       " 1,\n",
       " 4,\n",
       " 9,\n",
       " 16,\n",
       " 25,\n",
       " 36,\n",
       " 49,\n",
       " 64,\n",
       " 81,\n",
       " 100,\n",
       " 121,\n",
       " 144,\n",
       " 169,\n",
       " 196,\n",
       " 225,\n",
       " 256,\n",
       " 289,\n",
       " 324,\n",
       " 361,\n",
       " 400,\n",
       " 441,\n",
       " 484,\n",
       " 529,\n",
       " 576,\n",
       " 625,\n",
       " 676,\n",
       " 729,\n",
       " 784,\n",
       " 841,\n",
       " 900,\n",
       " 961,\n",
       " 1024,\n",
       " 1089,\n",
       " 1156,\n",
       " 1225,\n",
       " 1296,\n",
       " 1369,\n",
       " 1444,\n",
       " 1521,\n",
       " 1600,\n",
       " 1681,\n",
       " 1764,\n",
       " 1849,\n",
       " 1936,\n",
       " 2025,\n",
       " 2116,\n",
       " 2209,\n",
       " 2304,\n",
       " 2401]"
      ]
     },
     "execution_count": 48,
     "metadata": {},
     "output_type": "execute_result"
    }
   ],
   "source": [
    "sqOfNum = list(map(lambda x: x*x, [x for x in range(50)]))\n",
    "sqOfNum"
   ]
  },
  {
   "cell_type": "code",
   "execution_count": 49,
   "id": "3e1c31a3-1cd8-44b0-8be4-83d1bcd1d345",
   "metadata": {},
   "outputs": [],
   "source": [
    "#reduce - converts a sequenc to a single value\n",
    "#it is moved to functools from python 3\n",
    "#from functools import reduce"
   ]
  },
  {
   "cell_type": "code",
   "execution_count": 56,
   "id": "1bb06d2d-5186-47ff-a393-5a608138677c",
   "metadata": {},
   "outputs": [
    {
     "name": "stdout",
     "output_type": "stream",
     "text": [
      "[0, 1, 2, 3, 4, 5, 6, 7, 8, 9, 10, 11, 12, 13, 14, 15, 16, 17, 18, 19]\n"
     ]
    },
    {
     "data": {
      "text/plain": [
       "121645100408832000"
      ]
     },
     "execution_count": 56,
     "metadata": {},
     "output_type": "execute_result"
    }
   ],
   "source": [
    "from functools import reduce\n",
    "\n",
    "total = reduce(lambda x,y: x*y, [x for x in range(1,20)])\n",
    "\n",
    "print([x for x in range(20)])\n",
    "total"
   ]
  },
  {
   "cell_type": "code",
   "execution_count": 66,
   "id": "64a20ee6-fa4c-42c3-ae04-8de73df415d0",
   "metadata": {},
   "outputs": [
    {
     "name": "stdout",
     "output_type": "stream",
     "text": [
      "inside x:  20\n",
      "inside y:  10\n",
      "inside z:  15\n",
      "inside z:  15\n",
      "outside x:  20\n"
     ]
    }
   ],
   "source": [
    "#scope of a variable\n",
    "#local and global variable\n",
    "#any variable declared will have global scope\n",
    "#variable declared inside a function will have local scope\n",
    "#to create a global variable from within a function used the 'global' keyword\n",
    "\n",
    "x=20 # x in GLOBAL SCOPE\n",
    "\n",
    "def f():\n",
    "    y=10\n",
    "    global z\n",
    "    z=15\n",
    "    print(\"inside x: \", x)\n",
    "    print(\"inside y: \", y)\n",
    "    print(\"inside z: \", z)\n",
    "\n",
    "\n",
    "f()\n",
    "print(\"inside z: \", z)\n",
    "print(\"outside x: \",x)\n",
    "#print(\"in \", y) -- NameError: name 'y' is not defined -- not in scope -- only within the function\n",
    "\n"
   ]
  },
  {
   "cell_type": "markdown",
   "id": "9c66a8df-2980-464f-8859-d3e7996cab09",
   "metadata": {},
   "source": [
    "#COMING UP NEXT.... ITERATOR, GENERATOR, DECORATOR"
   ]
  },
  {
   "cell_type": "raw",
   "id": "bb14d38d-4287-4f14-8fae-138b631f4e6a",
   "metadata": {},
   "source": [
    "Problem 14: days = {'January':31, 'February':28, 'March':31, 'April':30,\n",
    "        'May':31, 'June':30, 'July':31, 'August':31,\n",
    "        'September':30, 'October':31, 'November':30, 'December':31}\n",
    "        For this problem, use the dictionary above\n",
    "        whose keys are month names and whose values are the number \n",
    "        of days in the corresponding months.\n",
    "        Ask the user to enter a month name and use the dictionary to tell them how many days are in the month.\n",
    "        Print out all of the keys in alphabetical order.\n",
    "        Print out all of the months with 31 days.\n",
    "        Print out the (key-value) pairs sorted by the number of days in each month\n",
    "        Modify the program from part (a) and the dictionary so that the user does not \n",
    "        have to know how to spell the month name exactly. That is, \n",
    "        all they have to do is spell the first three letters of the month name correctly."
   ]
  },
  {
   "cell_type": "code",
   "execution_count": 68,
   "id": "8941d411-cca3-4d50-907d-4d373e90dfea",
   "metadata": {},
   "outputs": [
    {
     "name": "stdin",
     "output_type": "stream",
     "text": [
      "Enter the month January\n"
     ]
    },
    {
     "name": "stdout",
     "output_type": "stream",
     "text": [
      "31\n"
     ]
    }
   ],
   "source": [
    "days = {'January':31, 'February':28, 'March':31, 'April':30,\n",
    "        'May':31, 'June':30, 'July':31, 'August':31,\n",
    "        'September':30, 'October':31, 'November':30, 'December':31}\n",
    "\n",
    "month = input(\"Enter the month\")\n",
    "\n",
    "if month in days:\n",
    "    print(days[month])\n",
    "else:\n",
    "    print(\"there is no such month\")\n",
    "\n",
    "    "
   ]
  },
  {
   "cell_type": "code",
   "execution_count": 69,
   "id": "c6fdc6c1-adbb-4fce-99a3-c0b794f40d67",
   "metadata": {},
   "outputs": [
    {
     "name": "stdout",
     "output_type": "stream",
     "text": [
      "January\n",
      "March\n",
      "May\n",
      "July\n",
      "August\n",
      "October\n",
      "December\n"
     ]
    }
   ],
   "source": [
    "\n",
    "for i in days:\n",
    "    if days[i] == 31:\n",
    "        print(i)\n",
    "        "
   ]
  },
  {
   "cell_type": "code",
   "execution_count": 78,
   "id": "0298d377-38b5-4dc4-be36-9479a470d6a0",
   "metadata": {},
   "outputs": [
    {
     "name": "stdout",
     "output_type": "stream",
     "text": [
      "Last number is 8: \n",
      "Helga\n",
      "LJ\n",
      "Without email: \n",
      "Princess\n"
     ]
    }
   ],
   "source": [
    "D=[{'name':'Todd', 'phone':'555-1414', 'email':'todd@mail.net'},\n",
    "            {'name':'Helga', 'phone':'555-1618', 'email':'helga@mail.net'},\n",
    "            {'name':'Princess', 'phone':'555-3141', 'email':''},\n",
    "            {'name':'LJ', 'phone':'555-2718', 'email':'lj@mail.net'}]\n",
    "print(\"Last number is 8: \")\n",
    "for i in D:\n",
    "    o = i['phone']\n",
    "    if o[-1] == '8':\n",
    "        print(i['name'])\n",
    "\n",
    "print(\"Without email: \")\n",
    "for i in D:\n",
    "    if i['email'] == '':\n",
    "        print(i['name'])\n",
    "        "
   ]
  },
  {
   "cell_type": "raw",
   "id": "54737abc-b9f1-48b0-8f56-6c76a90a441f",
   "metadata": {},
   "source": [
    "Problem 16: Write a program that gets a string from the user containing a potential telephone number.\n",
    "The program should print Valid if it decides the phone number is a real phone number, and Invalid otherwise. \n",
    "A phone number is considered valid as long as it is written in the form abc-def-hijk or 1-abc-def-hijk. \n",
    "The dashes must be included, the phone number should contain only numbers and dashes, \n",
    "and the number of digits in each group must be correct. "
   ]
  },
  {
   "cell_type": "code",
   "execution_count": 82,
   "id": "8c5b41b6-1f0f-410c-80f4-db938227f545",
   "metadata": {},
   "outputs": [
    {
     "name": "stdin",
     "output_type": "stream",
     "text": [
      "Enter the number:  asjcjasn\n"
     ]
    },
    {
     "name": "stdout",
     "output_type": "stream",
     "text": [
      "asjcjasn\n"
     ]
    }
   ],
   "source": [
    "number = input(\"Enter the number: \")\n",
    "print(number)\n",
    "\n"
   ]
  },
  {
   "cell_type": "code",
   "execution_count": 86,
   "id": "05ba7c83-2909-4433-8ab0-95cc6cdd83b3",
   "metadata": {},
   "outputs": [
    {
     "name": "stdin",
     "output_type": "stream",
     "text": [
      "Enter the word hhhhhhhhhhh\n"
     ]
    },
    {
     "name": "stdout",
     "output_type": "stream",
     "text": [
      "44\n"
     ]
    }
   ],
   "source": [
    "points = {'A':1, 'B':3, 'C':3, 'D':2, 'E':1, 'F':4, 'G':2,\n",
    "          'H':4, 'I':1, 'J':8, 'K':5, 'L':1, 'M':3, 'N':1,\n",
    "          'O':1, 'P':3, 'Q':10, 'R':1, 'S':1, 'T':1, 'U':1,\n",
    "          'V':4, 'W':4, 'X':8, 'Y':4, 'Z':10}\n",
    "total =0\n",
    "\n",
    "word = input(\"Enter the word\")\n",
    "\n",
    "for i in word:\n",
    "    store = i.upper()\n",
    "    total = total+points[store]\n",
    "\n",
    "print(total)"
   ]
  },
  {
   "cell_type": "code",
   "execution_count": 90,
   "id": "752f351d-f2b6-47b2-b74f-d65d8eede0fc",
   "metadata": {},
   "outputs": [
    {
     "name": "stdin",
     "output_type": "stream",
     "text": [
      " 123fds\n"
     ]
    },
    {
     "name": "stdout",
     "output_type": "stream",
     "text": [
      "not pali\n"
     ]
    }
   ],
   "source": [
    "f = input() \n",
    "if f[::-1] == f:\n",
    "    print(\"pali\")\n",
    "else:\n",
    "    print(\"not pali\")"
   ]
  },
  {
   "cell_type": "code",
   "execution_count": null,
   "id": "154628fb-01f3-42cd-9b7b-c2fb5f7530eb",
   "metadata": {},
   "outputs": [],
   "source": []
  }
 ],
 "metadata": {
  "kernelspec": {
   "display_name": "Python 3 (ipykernel)",
   "language": "python",
   "name": "python3"
  },
  "language_info": {
   "codemirror_mode": {
    "name": "ipython",
    "version": 3
   },
   "file_extension": ".py",
   "mimetype": "text/x-python",
   "name": "python",
   "nbconvert_exporter": "python",
   "pygments_lexer": "ipython3",
   "version": "3.13.2"
  }
 },
 "nbformat": 4,
 "nbformat_minor": 5
}
