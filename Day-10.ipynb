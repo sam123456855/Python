{
 "cells": [
  {
   "cell_type": "code",
   "execution_count": 4,
   "id": "26cf9d35-bb2f-46cb-94a3-611587e74d32",
   "metadata": {},
   "outputs": [
    {
     "name": "stdout",
     "output_type": "stream",
     "text": [
      "1000\n"
     ]
    }
   ],
   "source": [
    "# @property\n",
    "# @setter\n",
    "class P:\n",
    "    def __init__(self,x):\n",
    "        self.x=x\n",
    "\n",
    "    @property\n",
    "    def x(self):\n",
    "        return self.__x\n",
    "\n",
    "    @x.setter\n",
    "    def x(self,val):\n",
    "        if val>1000:\n",
    "            self.__x = 1000\n",
    "        elif val<0:\n",
    "            self.__x = 0\n",
    "        else:\n",
    "            self.__x = val\n",
    "p1 = P(1200)\n",
    "print(p1.x)"
   ]
  },
  {
   "cell_type": "code",
   "execution_count": 5,
   "id": "4e44cd06-9d34-4924-b843-8501b63839fb",
   "metadata": {},
   "outputs": [
    {
     "name": "stdout",
     "output_type": "stream",
     "text": [
      "0\n"
     ]
    }
   ],
   "source": [
    "p1.x=-20\n",
    "print(p1.x)"
   ]
  },
  {
   "cell_type": "code",
   "execution_count": null,
   "id": "6608e492-3e2d-4936-8344-7ee2814065ae",
   "metadata": {},
   "outputs": [],
   "source": []
  }
 ],
 "metadata": {
  "kernelspec": {
   "display_name": "Python 3 (ipykernel)",
   "language": "python",
   "name": "python3"
  },
  "language_info": {
   "codemirror_mode": {
    "name": "ipython",
    "version": 3
   },
   "file_extension": ".py",
   "mimetype": "text/x-python",
   "name": "python",
   "nbconvert_exporter": "python",
   "pygments_lexer": "ipython3",
   "version": "3.13.2"
  }
 },
 "nbformat": 4,
 "nbformat_minor": 5
}
