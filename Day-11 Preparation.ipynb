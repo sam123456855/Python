{
 "cells": [
  {
   "cell_type": "code",
   "execution_count": 1,
   "id": "005db639-52ea-4ed4-a562-a052be79b34f",
   "metadata": {},
   "outputs": [
    {
     "name": "stdout",
     "output_type": "stream",
     "text": [
      "('[0] [1]',)\n"
     ]
    }
   ],
   "source": [
    "x = [[0], [1]]\n",
    "print((' '.join(list(map(str, x))),))"
   ]
  },
  {
   "cell_type": "code",
   "execution_count": 5,
   "id": "a718b58d-2ab7-4d67-a40b-2bfcd1cbb627",
   "metadata": {},
   "outputs": [
    {
     "data": {
      "text/plain": [
       "['[0]', '[1]']"
      ]
     },
     "execution_count": 5,
     "metadata": {},
     "output_type": "execute_result"
    }
   ],
   "source": [
    "x = [[0], [1]]\n",
    "x = map(str, x)\n",
    "x = list(x)\n",
    "x"
   ]
  },
  {
   "cell_type": "code",
   "execution_count": 8,
   "id": "836b54cd-d26d-4a59-9d08-c7c9573e7fb1",
   "metadata": {},
   "outputs": [
    {
     "name": "stdout",
     "output_type": "stream",
     "text": [
      "Hello foo and bin\n"
     ]
    }
   ],
   "source": [
    "print(\"Hello {0[0]} and {0[1]}\".format(('foo', 'bin')))\n"
   ]
  },
  {
   "cell_type": "code",
   "execution_count": 9,
   "id": "b07ddc5f-766a-485b-8b91-6ab486d9f192",
   "metadata": {},
   "outputs": [
    {
     "data": {
      "text/plain": [
       "4"
      ]
     },
     "execution_count": 9,
     "metadata": {},
     "output_type": "execute_result"
    }
   ],
   "source": [
    "round(4.476)"
   ]
  },
  {
   "cell_type": "code",
   "execution_count": 46,
   "id": "8a0367b6-8934-4035-8e9f-47b8f372a563",
   "metadata": {},
   "outputs": [
    {
     "data": {
      "text/plain": [
       "True"
      ]
     },
     "execution_count": 46,
     "metadata": {},
     "output_type": "execute_result"
    }
   ],
   "source": [
    "z=set('abc$de')\n",
    "'a' in z\n"
   ]
  },
  {
   "cell_type": "code",
   "execution_count": 82,
   "id": "8ff49765-de30-4239-aba4-9e67b266fb28",
   "metadata": {},
   "outputs": [
    {
     "name": "stdout",
     "output_type": "stream",
     "text": [
      "*  abcde  *\n"
     ]
    }
   ],
   "source": [
    "print('*', \"abcde\".center(9),'*', sep='')"
   ]
  },
  {
   "cell_type": "code",
   "execution_count": 84,
   "id": "d72513ef-8c55-4585-b877-8d5f55a28441",
   "metadata": {},
   "outputs": [
    {
     "ename": "TypeError",
     "evalue": "can't multiply sequence by non-int of type 'str'",
     "output_type": "error",
     "traceback": [
      "\u001b[31m---------------------------------------------------------------------------\u001b[39m",
      "\u001b[31mTypeError\u001b[39m                                 Traceback (most recent call last)",
      "\u001b[36mCell\u001b[39m\u001b[36m \u001b[39m\u001b[32mIn[84]\u001b[39m\u001b[32m, line 3\u001b[39m\n\u001b[32m      1\u001b[39m a = \u001b[33m\"\u001b[39m\u001b[33msam\u001b[39m\u001b[33m\"\u001b[39m\n\u001b[32m      2\u001b[39m b=\u001b[33m\"\u001b[39m\u001b[33mmas\u001b[39m\u001b[33m\"\u001b[39m\n\u001b[32m----> \u001b[39m\u001b[32m3\u001b[39m \u001b[38;5;28mprint\u001b[39m(\u001b[43ma\u001b[49m\u001b[43m*\u001b[49m\u001b[43mb\u001b[49m)\n",
      "\u001b[31mTypeError\u001b[39m: can't multiply sequence by non-int of type 'str'"
     ]
    }
   ],
   "source": [
    "a = \"sam\"\n",
    "b=\"mas\"\n",
    "print(a*b)"
   ]
  },
  {
   "cell_type": "code",
   "execution_count": 85,
   "id": "bbc63b4d-533a-463e-8b15-701b6610da0b",
   "metadata": {},
   "outputs": [
    {
     "name": "stdout",
     "output_type": "stream",
     "text": [
      "*****\n",
      "%%%%%\n",
      "hello\n",
      "%%%%%\n",
      "*****\n"
     ]
    }
   ],
   "source": [
    "def f(x):\n",
    "    def f1(*args, **kwargs):\n",
    "        print(\"*\"* 5)        \n",
    "        x(*args, **kwargs)\n",
    "        print(\"*\"* 5)\n",
    "    return f1\n",
    "def a(x):\n",
    "    def f1(*args, **kwargs):\n",
    "        print(\"%\"* 5)        \n",
    "        x(*args, **kwargs)\n",
    "        print(\"%\"* 5)\n",
    "    return f1\n",
    "@f #p = f(p)\n",
    "@a #p = a(p)\n",
    "def p(m):\n",
    "    print(m)\n",
    "p(\"hello\")"
   ]
  },
  {
   "cell_type": "code",
   "execution_count": 23,
   "id": "61d3ee95-6df0-4ac0-8382-005204d4c07a",
   "metadata": {},
   "outputs": [
    {
     "name": "stdout",
     "output_type": "stream",
     "text": [
      "<re.Match object; span=(0, 16), match='asagaknsbk#63565'>\n",
      "63565\n",
      "<re.Match object; span=(0, 16), match='jhajhdsakj#31287'>\n",
      "31287\n",
      "<re.Match object; span=(0, 16), match='dfjkssjadf#34890'>\n",
      "34890\n"
     ]
    }
   ],
   "source": [
    "#RE\n",
    "import re\n",
    "\n",
    "with(open('read.txt','r')) as fh:\n",
    "    for line in fh.readlines():\n",
    "        res = re.search(r'(.*)(#)(\\d+)',line)\n",
    "        print(res)\n",
    "        if res:\n",
    "            print(res.group(3))\n",
    "    "
   ]
  },
  {
   "cell_type": "code",
   "execution_count": 32,
   "id": "d395976b-e9af-4f2b-bd3a-096ca31e24b9",
   "metadata": {},
   "outputs": [
    {
     "name": "stdin",
     "output_type": "stream",
     "text": [
      "Enter a URL www.sam.com\n"
     ]
    },
    {
     "name": "stdout",
     "output_type": "stream",
     "text": [
      "sam\n"
     ]
    }
   ],
   "source": [
    "import re\n",
    "\n",
    "S = input(\"Enter a URL\")\n",
    "res = re.search(r'.*\\.(.*)\\..*', S)\n",
    "if res:\n",
    "    print(res.group(1))\n",
    "else:\n",
    "    pirnt(\"No match\")"
   ]
  },
  {
   "cell_type": "code",
   "execution_count": 48,
   "id": "bdf61d2c-8c81-4fa2-9bd4-e5eca026c312",
   "metadata": {},
   "outputs": [
    {
     "name": "stdin",
     "output_type": "stream",
     "text": [
      "Enter a URL www.sam.com\n"
     ]
    },
    {
     "name": "stdout",
     "output_type": "stream",
     "text": [
      "sam\n"
     ]
    }
   ],
   "source": [
    "import re\n",
    "\n",
    "S = input(\"Enter a URL\")\n",
    "p = re.compile(r'.*\\.(.*)\\..*')\n",
    "res = p.search(S)\n",
    "if res:\n",
    "    print(res.group(1))\n",
    "else:\n",
    "    pirnt(\"No match\")"
   ]
  },
  {
   "cell_type": "code",
   "execution_count": 57,
   "id": "90526fdb-7678-48de-90e6-69e090eceeb5",
   "metadata": {},
   "outputs": [
    {
     "name": "stdout",
     "output_type": "stream",
     "text": [
      "Sam Raj\n",
      "Jana Rdhanan\n"
     ]
    }
   ],
   "source": [
    "text = \"Hi guys iam Sam Raj from kjkak and here is my frnd named Jana Rdhanan from ghikah used for extracting and sont know wat to say\"\n",
    "import re\n",
    "\n",
    "p = re.compile(r'\\b[A-Z][a-z]+\\s[A-Z][a-z]+\\b')\n",
    "for i in p.finditer(text):\n",
    "    print(i.group(0))"
   ]
  },
  {
   "cell_type": "code",
   "execution_count": 64,
   "id": "e2c49e5f-54da-4e37-a0dd-a60a9f248b2b",
   "metadata": {},
   "outputs": [
    {
     "name": "stdout",
     "output_type": "stream",
     "text": [
      "sam@gmail.com\n",
      "rhanan@gmail.net\n"
     ]
    }
   ],
   "source": [
    "text = \"Hi guys iam Sam Raj from sam@gmail.com and here is my frnd named Jana Rdhanan from rhanan@gmail.net used for extracting and sont know wat to say\"\n",
    "import re\n",
    "\n",
    "p = re.compile(r'\\b([\\w]+@.*?\\.(com|net))\\b')     # '?' - prevents the \n",
    "for i in p.finditer(text):\n",
    "    print(i.group(1))"
   ]
  },
  {
   "cell_type": "code",
   "execution_count": 74,
   "id": "f0ab2d62-3197-4652-8586-ae991ea657f8",
   "metadata": {},
   "outputs": [
    {
     "name": "stdin",
     "output_type": "stream",
     "text": [
      "Enter a string:  www.sam.co.in\n"
     ]
    },
    {
     "name": "stdout",
     "output_type": "stream",
     "text": [
      "sam\n"
     ]
    }
   ],
   "source": [
    "#example for non greedy match\n",
    "\n",
    "s1 = input(\"Enter a string: \")\n",
    "res = re.search(r'.*?\\.(.*?)\\.(.*)',s1)\n",
    "if res:\n",
    "    print(res.group(1))"
   ]
  },
  {
   "cell_type": "code",
   "execution_count": null,
   "id": "fcba52c8-6364-4394-884f-2041e94e09f9",
   "metadata": {},
   "outputs": [],
   "source": [
    "def is_prime(num):\n",
    "    for n in range(2,(num//2)+1):"
   ]
  },
  {
   "cell_type": "code",
   "execution_count": 86,
   "id": "2c988164-02fa-462b-9962-cb518f044cfb",
   "metadata": {},
   "outputs": [
    {
     "data": {
      "text/plain": [
       "{'sam': 2, 'pat': 5, 'bob': 8}"
      ]
     },
     "execution_count": 86,
     "metadata": {},
     "output_type": "execute_result"
    }
   ],
   "source": [
    "names = ['sam','pat','bob']\n",
    "age = [2,5,8]\n",
    "D = {x:y for x,y in zip(names, age)}\n",
    "D"
   ]
  },
  {
   "cell_type": "code",
   "execution_count": 87,
   "id": "da9a647e-1ebe-42b1-9956-010dd102b90c",
   "metadata": {},
   "outputs": [
    {
     "name": "stdout",
     "output_type": "stream",
     "text": [
      "10 9\n"
     ]
    }
   ],
   "source": [
    "x=10\n",
    "y=9\n",
    "print(x,y)"
   ]
  },
  {
   "cell_type": "code",
   "execution_count": 90,
   "id": "cd004558-2c6a-43a8-864e-96a5a519ca0b",
   "metadata": {},
   "outputs": [
    {
     "name": "stdout",
     "output_type": "stream",
     "text": [
      "True\n",
      "[['def'], ['abc']]\n"
     ]
    }
   ],
   "source": [
    "def foo(x):\n",
    "    x[0] = ['def']\n",
    "    x[1] = ['abc']\n",
    "    return id(x)\n",
    "q = ['abc', 'def']\n",
    "print(id(q) == foo(q))\n",
    "print(q)"
   ]
  },
  {
   "cell_type": "code",
   "execution_count": 92,
   "id": "2b580593-51d7-4c87-9cf6-098a24bc492e",
   "metadata": {},
   "outputs": [
    {
     "name": "stdout",
     "output_type": "stream",
     "text": [
      "56.24\n"
     ]
    }
   ],
   "source": [
    "x=56.236\n",
    "print(\"%.2f\"%x)\n",
    "\n",
    "\n",
    "\n",
    "# The expression shown above rounds off the given number to the number of decimal places specified\n"
   ]
  },
  {
   "cell_type": "code",
   "execution_count": 96,
   "id": "605f3d81-1aa7-400c-b357-b8b7bf6a70a1",
   "metadata": {},
   "outputs": [
    {
     "name": "stdout",
     "output_type": "stream",
     "text": [
      "0\n",
      "1\n",
      "2\n",
      "2\n"
     ]
    }
   ],
   "source": [
    "#sir's logic\n",
    "\n",
    "a = [0,1,2,3]\n",
    "for x in a:         \n",
    "    a[-1] = x\n",
    "    print(a[-1])\n",
    "    "
   ]
  },
  {
   "cell_type": "code",
   "execution_count": 97,
   "id": "4525d215-c3ae-4dfc-8c18-d1db63dd6830",
   "metadata": {},
   "outputs": [
    {
     "data": {
      "text/plain": [
       "7"
      ]
     },
     "execution_count": 97,
     "metadata": {},
     "output_type": "execute_result"
    }
   ],
   "source": [
    "4 + 3 % 5"
   ]
  },
  {
   "cell_type": "code",
   "execution_count": 98,
   "id": "1e06f2f3-32c5-4b4b-ae5b-6d2b2327998b",
   "metadata": {},
   "outputs": [
    {
     "name": "stdout",
     "output_type": "stream",
     "text": [
      "True\n"
     ]
    }
   ],
   "source": [
    "print('1'.isdigit())"
   ]
  },
  {
   "cell_type": "code",
   "execution_count": 103,
   "id": "dd3542fb-c76b-4498-a133-a1dee6ba8b9f",
   "metadata": {},
   "outputs": [
    {
     "name": "stdout",
     "output_type": "stream",
     "text": [
      "Helloworld\n"
     ]
    }
   ],
   "source": [
    "print(\"HelloWorld\".capitalize())      #istitle()"
   ]
  },
  {
   "cell_type": "code",
   "execution_count": 117,
   "id": "0ae14256-70c9-4578-a53e-b2f7c2a2708d",
   "metadata": {},
   "outputs": [
    {
     "name": "stdout",
     "output_type": "stream",
     "text": [
      "\n"
     ]
    }
   ],
   "source": [
    "print('''fooo'''.lstrip('fo'))"
   ]
  },
  {
   "cell_type": "code",
   "execution_count": 118,
   "id": "b5f52949-a31b-4a5d-80b0-58047415f34e",
   "metadata": {},
   "outputs": [
    {
     "data": {
      "text/plain": [
       "49"
      ]
     },
     "execution_count": 118,
     "metadata": {},
     "output_type": "execute_result"
    }
   ],
   "source": [
    "ch = ord('1')\n",
    "ch"
   ]
  },
  {
   "cell_type": "code",
   "execution_count": 123,
   "id": "92b9859b-cfc0-4e4e-9f2a-bb493113fd89",
   "metadata": {},
   "outputs": [
    {
     "name": "stdout",
     "output_type": "stream",
     "text": [
      "banana\n",
      "banana\n"
     ]
    }
   ],
   "source": [
    "print('janana'.replace('j','b'))\n",
    "S = 'janana'\n",
    "print(S.replace(S[0],'b'))\n"
   ]
  },
  {
   "cell_type": "code",
   "execution_count": 125,
   "id": "bb0bb91a-9381-40fb-b6da-f93b864979dc",
   "metadata": {},
   "outputs": [
    {
     "name": "stdout",
     "output_type": "stream",
     "text": [
      "('', 'cd', '')\n"
     ]
    }
   ],
   "source": [
    "x = 'cd'.partition('cd')  #atleast 3 partitions\n",
    "type(x)\n",
    "print(x)"
   ]
  },
  {
   "cell_type": "code",
   "execution_count": 127,
   "id": "d573cb9b-f229-4efe-843e-58c44a06cfbc",
   "metadata": {},
   "outputs": [
    {
     "name": "stdout",
     "output_type": "stream",
     "text": [
      "['ab', 'jash', 'askjl;k', 'kjsa']\n"
     ]
    }
   ],
   "source": [
    "print('abcdjashcdaskjl;kcdkjsa'.split('cd'))"
   ]
  },
  {
   "cell_type": "code",
   "execution_count": 131,
   "id": "7a251356-a5d5-4be6-9a84-6a531b5f4a56",
   "metadata": {},
   "outputs": [
    {
     "name": "stdout",
     "output_type": "stream",
     "text": [
      "['ab', 'jash', 'askjl;k', 'kjsa']\n"
     ]
    }
   ],
   "source": [
    "print('abcdjashcdaskjl;kcdkjsa'.split('cd'))"
   ]
  },
  {
   "cell_type": "code",
   "execution_count": 137,
   "id": "e8f3de6a-c277-4495-9b5c-4ce99825eb07",
   "metadata": {},
   "outputs": [
    {
     "name": "stdout",
     "output_type": "stream",
     "text": [
      "123\n"
     ]
    }
   ],
   "source": [
    "print('abc'.translate({97:49,98:50,99:51}))"
   ]
  },
  {
   "cell_type": "code",
   "execution_count": 139,
   "id": "74912fd8-dd12-4544-81a2-76d6ed0f64a7",
   "metadata": {},
   "outputs": [
    {
     "ename": "SyntaxError",
     "evalue": "invalid character '‘' (U+2018) (2429458311.py, line 1)",
     "output_type": "error",
     "traceback": [
      "  \u001b[36mCell\u001b[39m\u001b[36m \u001b[39m\u001b[32mIn[139]\u001b[39m\u001b[32m, line 1\u001b[39m\n\u001b[31m    \u001b[39m\u001b[31mprint(‘”Once upon a time…”, she said.’)\u001b[39m\n          ^\n\u001b[31mSyntaxError\u001b[39m\u001b[31m:\u001b[39m invalid character '‘' (U+2018)\n"
     ]
    }
   ],
   "source": [
    "print(‘”Once upon a time…”, she said.’)"
   ]
  },
  {
   "cell_type": "code",
   "execution_count": 147,
   "id": "29ca1557-e885-4c32-8d48-d3c860de5978",
   "metadata": {},
   "outputs": [
    {
     "name": "stdout",
     "output_type": "stream",
     "text": [
      "0.30000000000000004\n"
     ]
    }
   ],
   "source": [
    "print(0.1 + 0.2)"
   ]
  },
  {
   "cell_type": "code",
   "execution_count": null,
   "id": "729f7156-eb0f-4f6b-9da7-f7ef5b20d986",
   "metadata": {},
   "outputs": [],
   "source": []
  },
  {
   "cell_type": "code",
   "execution_count": null,
   "id": "83049857-3f57-4394-9f7d-18d38ada583f",
   "metadata": {},
   "outputs": [],
   "source": []
  }
 ],
 "metadata": {
  "kernelspec": {
   "display_name": "Python 3 (ipykernel)",
   "language": "python",
   "name": "python3"
  },
  "language_info": {
   "codemirror_mode": {
    "name": "ipython",
    "version": 3
   },
   "file_extension": ".py",
   "mimetype": "text/x-python",
   "name": "python",
   "nbconvert_exporter": "python",
   "pygments_lexer": "ipython3",
   "version": "3.13.2"
  }
 },
 "nbformat": 4,
 "nbformat_minor": 5
}
