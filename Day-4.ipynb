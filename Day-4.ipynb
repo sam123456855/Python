{
 "cells": [
  {
   "cell_type": "markdown",
   "id": "612655c6-eb23-4c0c-9c2d-10146117b90a",
   "metadata": {},
   "source": [
    "-- Itarable -- iterate over elements in the object(eg list, set, tuple etc) \n",
    "\n",
    "-- Iterator -- returns one element at agiven time to the memeory. raises Stopiteration error if accessing all elements \n",
    "\n",
    "-- Generator -- funtion working like a iterable object. 'yield' is the keyword that makes a function work like a iterable object\n",
    "                returns one element at a given time memory\n"
   ]
  },
  {
   "cell_type": "code",
   "execution_count": 2,
   "id": "60cead4e-a079-42cd-a851-5156894042cb",
   "metadata": {},
   "outputs": [
    {
     "name": "stdout",
     "output_type": "stream",
     "text": [
      "10\n",
      "20\n",
      "30\n",
      "40\n",
      "50\n",
      "60\n"
     ]
    }
   ],
   "source": [
    "L = [10,20,30,40,50,60]\n",
    "#fetches all elements to the memory. if a list has large no. of elements then it will not be memory\n",
    "#efficient to iterate over the list\n",
    "\n",
    "for num in L:\n",
    "    print(num)"
   ]
  },
  {
   "cell_type": "code",
   "execution_count": 3,
   "id": "72166830-1927-44c3-9d36-3684a02d84eb",
   "metadata": {
    "scrolled": true
   },
   "outputs": [
    {
     "name": "stdout",
     "output_type": "stream",
     "text": [
      "<list_iterator object at 0x000001886F461B70>\n",
      "<class 'list_iterator'>\n"
     ]
    }
   ],
   "source": [
    "ia = iter(L)\n",
    "print(ia)\n",
    "print(type(ia))"
   ]
  },
  {
   "cell_type": "code",
   "execution_count": 4,
   "id": "631edddb-d4cb-4f0f-b9c8-02b97d6be9cf",
   "metadata": {},
   "outputs": [
    {
     "name": "stdout",
     "output_type": "stream",
     "text": [
      "10\n",
      "20\n",
      "30\n",
      "40\n",
      "50\n",
      "60\n"
     ]
    }
   ],
   "source": [
    "print(next(ia)) # print(ia.__next__())\n",
    "print(next(ia))\n",
    "print(next(ia))\n",
    "print(next(ia))\n",
    "print(next(ia))\n",
    "print(next(ia))\n",
    "#list over"
   ]
  },
  {
   "cell_type": "code",
   "execution_count": 5,
   "id": "03c546b3-8f72-48be-b0d9-735e294180da",
   "metadata": {},
   "outputs": [],
   "source": [
    "#print(next(ia)) - StopIteration: error "
   ]
  },
  {
   "cell_type": "code",
   "execution_count": 6,
   "id": "983b5217-b6d7-4a02-a339-4c70ce6790d7",
   "metadata": {},
   "outputs": [
    {
     "name": "stdout",
     "output_type": "stream",
     "text": [
      "10\n",
      "20\n",
      "30\n",
      "40\n",
      "50\n",
      "60\n"
     ]
    }
   ],
   "source": [
    "L = [10,20,30,40,50,60]\n",
    "\n",
    "ia = iter(L)\n",
    "\n",
    "while True:\n",
    "    try:\n",
    "        print(next(ia))\n",
    "    except StopIteration:\n",
    "        break"
   ]
  },
  {
   "cell_type": "code",
   "execution_count": 15,
   "id": "e13044ad-34bd-4d52-b4a6-569ad11affdb",
   "metadata": {},
   "outputs": [
    {
     "data": {
      "text/plain": [
       "<generator object genSequence at 0x000001C42BC2C720>"
      ]
     },
     "execution_count": 15,
     "metadata": {},
     "output_type": "execute_result"
    }
   ],
   "source": [
    "#GENERATOR\n",
    "'''\n",
    "def genSequence():\n",
    "    return 1\n",
    "    return 2 #unnreachable code\n",
    "    return 3\n",
    "\n",
    "for i in genSequence(): #TypeError: 'int' object is not iterable\n",
    "    print(i)\n",
    "'''\n",
    "def genSequence():\n",
    "    yield 1\n",
    "    yield 2\n",
    "    yield 3\n",
    "    \n",
    "genSequence()\n"
   ]
  },
  {
   "cell_type": "code",
   "execution_count": 16,
   "id": "43c5df2f-7d09-4fb0-88f1-abb395190532",
   "metadata": {},
   "outputs": [
    {
     "name": "stdout",
     "output_type": "stream",
     "text": [
      "1\n",
      "2\n",
      "3\n"
     ]
    }
   ],
   "source": [
    "gen = genSequence()\n",
    "print(next(gen))\n",
    "print(next(gen))\n",
    "print(next(gen))"
   ]
  },
  {
   "cell_type": "code",
   "execution_count": 17,
   "id": "f01cb820-7a94-4c23-a0a1-9b368b8ff63d",
   "metadata": {},
   "outputs": [
    {
     "ename": "StopIteration",
     "evalue": "",
     "output_type": "error",
     "traceback": [
      "\u001b[31m---------------------------------------------------------------------------\u001b[39m",
      "\u001b[31mStopIteration\u001b[39m                             Traceback (most recent call last)",
      "\u001b[36mCell\u001b[39m\u001b[36m \u001b[39m\u001b[32mIn[17]\u001b[39m\u001b[32m, line 1\u001b[39m\n\u001b[32m----> \u001b[39m\u001b[32m1\u001b[39m \u001b[38;5;28mprint\u001b[39m(\u001b[38;5;28;43mnext\u001b[39;49m\u001b[43m(\u001b[49m\u001b[43mgen\u001b[49m\u001b[43m)\u001b[49m)\n",
      "\u001b[31mStopIteration\u001b[39m: "
     ]
    }
   ],
   "source": [
    "print(next(gen))"
   ]
  },
  {
   "cell_type": "code",
   "execution_count": 5,
   "id": "e8bc4080-7728-404c-97a4-c4877d54a255",
   "metadata": {},
   "outputs": [
    {
     "name": "stdout",
     "output_type": "stream",
     "text": [
      "1\n",
      "2\n",
      "3\n"
     ]
    }
   ],
   "source": [
    "for i in genSequence():\n",
    "    print(i)"
   ]
  },
  {
   "cell_type": "code",
   "execution_count": 10,
   "id": "1940b66a-f791-43a3-9815-0cf5d2e9b93b",
   "metadata": {},
   "outputs": [
    {
     "data": {
      "text/plain": [
       "[0, 1, 4, 9, 16, 25, 36, 49, 64, 81]"
      ]
     },
     "execution_count": 10,
     "metadata": {},
     "output_type": "execute_result"
    }
   ],
   "source": [
    "squares = [x*x for x in range(10)]\n",
    "squares"
   ]
  },
  {
   "cell_type": "code",
   "execution_count": 11,
   "id": "4bce9bfd-1e43-48b2-b50c-096f6e76f748",
   "metadata": {},
   "outputs": [
    {
     "data": {
      "text/plain": [
       "<generator object <genexpr> at 0x000001C42BC3D490>"
      ]
     },
     "execution_count": 11,
     "metadata": {},
     "output_type": "execute_result"
    }
   ],
   "source": [
    "squares = (x*x for x in range(10))\n",
    "squares"
   ]
  },
  {
   "cell_type": "code",
   "execution_count": 14,
   "id": "ed5b563f-593a-496d-8d5b-0ee108376bed",
   "metadata": {},
   "outputs": [
    {
     "name": "stdout",
     "output_type": "stream",
     "text": [
      "1\n",
      "2\n",
      "3\n",
      "4\n",
      "5\n"
     ]
    }
   ],
   "source": [
    "import itertools\n",
    "\n",
    "counter = itertools.count(start=1, step=1)\n",
    "print(next(counter))\n",
    "for number in counter:\n",
    "    if number > 5:\n",
    "        break\n",
    "    print(number)"
   ]
  },
  {
   "cell_type": "code",
   "execution_count": 3,
   "id": "4c6a1b32-c6dc-4f7f-94b8-c822e49e31e0",
   "metadata": {},
   "outputs": [
    {
     "name": "stdout",
     "output_type": "stream",
     "text": [
      "210\n",
      "1\n",
      "2\n",
      "3\n",
      "4\n",
      "5\n",
      "6\n",
      "7\n",
      "8\n",
      "9\n",
      "10\n",
      "11\n",
      "12\n",
      "13\n",
      "14\n",
      "15\n",
      "16\n",
      "17\n",
      "18\n",
      "19\n",
      "20\n"
     ]
    }
   ],
   "source": [
    "#by using yield we make a function as iterable\n",
    "\n",
    "numbers = [x for x in range(1,21)]\n",
    "print(sum(numbers))\n",
    "\n",
    "def print_num(n):\n",
    "    num=0\n",
    "    while num<n:\n",
    "        num+=1\n",
    "        yield num\n",
    "for i in print_num(20):\n",
    "    print(i)"
   ]
  },
  {
   "cell_type": "code",
   "execution_count": 4,
   "id": "05b93658-9b7a-4dce-b0f8-98867cf3968d",
   "metadata": {},
   "outputs": [
    {
     "name": "stdout",
     "output_type": "stream",
     "text": [
      "1\t2\t3\t4\t5\t6\t7\t8\t9\t10\t11\t12\t13\t14\t15\t16\t17\t18\t19\t20\t21\t22\t23\t24\t25\t26\t27\t28\t29\t30\t31\t32\t33\t34\t35\t36\t37\t38\t39\t40\t41\t42\t43\t44\t45\t46\t47\t48\t49\t50\t51\t52\t53\t54\t55\t56\t57\t58\t59\t60\t61\t62\t63\t64\t65\t66\t67\t68\t69\t70\t71\t72\t73\t74\t75\t76\t77\t78\t79\t80\t81\t82\t83\t84\t85\t86\t87\t88\t89\t90\t91\t92\t93\t94\t95\t96\t97\t98\t99\t100\t101\t102\t103\t104\t105\t106\t107\t108\t109\t110\t111\t112\t113\t114\t115\t116\t117\t118\t119\t120\t121\t122\t123\t124\t125\t126\t127\t128\t129\t130\t131\t132\t133\t134\t135\t136\t137\t138\t139\t140\t141\t142\t143\t144\t145\t146\t147\t148\t149\t150\t151\t152\t153\t154\t155\t156\t157\t158\t159\t160\t161\t162\t163\t164\t165\t166\t167\t168\t169\t170\t171\t172\t173\t174\t175\t176\t177\t178\t179\t180\t181\t182\t183\t184\t185\t186\t187\t188\t189\t190\t191\t192\t193\t194\t195\t196\t197\t198\t199\t200\t"
     ]
    }
   ],
   "source": [
    "for num in print_num(200):\n",
    "    print(num, end=\"\\t\")"
   ]
  },
  {
   "cell_type": "code",
   "execution_count": 10,
   "id": "906289ea-7c88-44c4-969f-d17692fa3e0a",
   "metadata": {},
   "outputs": [
    {
     "name": "stdout",
     "output_type": "stream",
     "text": [
      "210\n"
     ]
    }
   ],
   "source": [
    "print(sum(find_sum(20)))"
   ]
  },
  {
   "cell_type": "code",
   "execution_count": 11,
   "id": "800a7d8c-ba03-4d28-861b-b7b843f10e9a",
   "metadata": {
    "scrolled": true
   },
   "outputs": [
    {
     "name": "stdout",
     "output_type": "stream",
     "text": [
      "Requirement already satisfied: numpy in c:\\users\\prince.s\\appdata\\local\\programs\\python\\python313\\lib\\site-packages (2.2.4)\n"
     ]
    }
   ],
   "source": [
    "!pip install numpy\n",
    "\n"
   ]
  },
  {
   "cell_type": "code",
   "execution_count": 12,
   "id": "6cf1d3aa-1911-4ccd-87d9-a3dd1723b50f",
   "metadata": {},
   "outputs": [
    {
     "data": {
      "text/plain": [
       "[12, 34, 54, 324, 234, 34, 45, 1, 4, 45, 300, 34, 12, 76]"
      ]
     },
     "execution_count": 12,
     "metadata": {},
     "output_type": "execute_result"
    }
   ],
   "source": [
    "#make this list of lists as a linear list using generator\n",
    "\n",
    "LoL = [12,34,54,[324,[234,34,45,[1,4,45]],300],34,12,76] \n",
    "\n",
    "def make_liner(L):\n",
    "    for k in L:\n",
    "        if type(k) is list:  # if k is list then it goes into the funtion again\n",
    "            for e in make_liner(k): \n",
    "                yield e\n",
    "        else:\n",
    "            yield k\n",
    "result = [x for x in make_liner(LoL)]\n",
    "result"
   ]
  },
  {
   "cell_type": "code",
   "execution_count": 13,
   "id": "ebeb8063-e770-4e0f-aa0a-e9964b186595",
   "metadata": {},
   "outputs": [],
   "source": [
    "#DECORATOR\n",
    "\n",
    "#nested function - function inside a function\n",
    "\n",
    "#closure - a nested function that returns the reference of the inner function\n"
   ]
  },
  {
   "cell_type": "code",
   "execution_count": 14,
   "id": "1c071eab-b87a-494d-aaa4-6948101beb40",
   "metadata": {},
   "outputs": [
    {
     "data": {
      "text/plain": [
       "110"
      ]
     },
     "execution_count": 14,
     "metadata": {},
     "output_type": "execute_result"
    }
   ],
   "source": [
    "def f(x):\n",
    "    def g(y):\n",
    "        return y*y\n",
    "    return x+g(x)\n",
    "\n",
    "f(10)"
   ]
  },
  {
   "cell_type": "code",
   "execution_count": 15,
   "id": "11a3e8b9-6c78-4bd2-861f-25fa25283641",
   "metadata": {},
   "outputs": [
    {
     "name": "stdout",
     "output_type": "stream",
     "text": [
      "100\n"
     ]
    }
   ],
   "source": [
    "#closure - a nested function that returns the reference of the inner function\n",
    "def f(x):\n",
    "    def g(): # for g the parameter passed to outer function is a global variable\n",
    "        return x*x\n",
    "    return g # returning the reference of the inner function\n",
    "\n",
    "res = f(10)\n",
    "\n",
    "print(res()) "
   ]
  },
  {
   "cell_type": "markdown",
   "id": "252bb062-ac79-4752-8ba9-05498ab16b2f",
   "metadata": {},
   "source": [
    "#DECORATOR\n",
    "\n",
    "IS A TECHNIQUE TO IMPROVE A FUNCTION WITHOUT MODIFYING CODE INSIDE IT. DECORATOR RELIES ON CLOSURE\n"
   ]
  },
  {
   "cell_type": "code",
   "execution_count": 16,
   "id": "b1c102ed-55a9-448d-bcd5-e15fc1954626",
   "metadata": {},
   "outputs": [
    {
     "name": "stdout",
     "output_type": "stream",
     "text": [
      "welcome bob e\n",
      "welcome sam e\n",
      "<function s_deco.<locals>.inner_wrapper at 0x000001886F459B20>\n",
      "<s>welcome sam e</s>\n"
     ]
    }
   ],
   "source": [
    "def display(name):\n",
    "    return f\"welcome {name} e\"\n",
    "    \n",
    "print(display('bob'))\n",
    "'''\n",
    "-decorator takes reference of a function to be improved as argument\n",
    "-inner function of decorator will take the argument passed to the function to be improved'''\n",
    "\n",
    "\n",
    "def s_deco(d):\n",
    "    def inner_wrapper(name):\n",
    "        return f\"<s>{d(name)}</s>\"\n",
    "    return inner_wrapper\n",
    "\n",
    "my_display = s_deco(display) #variable = function in function\n",
    "\n",
    "print(display('sam'))\n",
    "\n",
    "print(my_display)\n",
    "\n",
    "print(my_display('sam')) #variable(the argument to use for inside function)"
   ]
  },
  {
   "cell_type": "code",
   "execution_count": 17,
   "id": "a19992af-2508-4891-937f-a76e795de478",
   "metadata": {},
   "outputs": [
    {
     "name": "stdout",
     "output_type": "stream",
     "text": [
      "<dfdfd><s>welcome sam eh</s><dfdfd>\n"
     ]
    }
   ],
   "source": [
    "\n",
    "def s_deco(d):\n",
    "    def inner_wrapper(name):\n",
    "        return f\"<s>{d(name)}</s>\"\n",
    "    return inner_wrapper\n",
    "\n",
    "def d_deco(d):\n",
    "    def inner_wrapper(name):\n",
    "        return f\"<dfdfd>{d(name)}<dfdfd>\"\n",
    "    return inner_wrapper\n",
    "@d_deco\n",
    "@s_deco #display = s_deco(display)\n",
    "def display(name):\n",
    "    return f\"welcome {name} eh\"\n",
    "\n",
    "print(display('sam')) #variable(the argument to use for inside function)"
   ]
  },
  {
   "cell_type": "code",
   "execution_count": 21,
   "id": "90361e32-7727-4b23-b399-3eb2fe4548cd",
   "metadata": {},
   "outputs": [
    {
     "name": "stdin",
     "output_type": "stream",
     "text": [
      " 7\n"
     ]
    },
    {
     "name": "stdout",
     "output_type": "stream",
     "text": [
      "***7***\n"
     ]
    }
   ],
   "source": [
    "# write a decorator which will add \"*\" n times, on both sides of a output.\n",
    "# pass 'n' as argument to the inner function of the decorator\n",
    "\n",
    "\n",
    "# ***num***\n",
    "\n",
    "fin = int(input())\n",
    "\n",
    "def star_decorator(s):\n",
    "    def inner_wrapper(name):\n",
    "        return f\"***{name}***\"\n",
    "    return inner_wrapper\n",
    "\n",
    "@star_decorator\n",
    "def f(num):\n",
    "    return num\n",
    "\n",
    "print(f(fin))\n"
   ]
  },
  {
   "cell_type": "code",
   "execution_count": 33,
   "id": "f6d64b91-004d-4309-a51e-b411bde145b0",
   "metadata": {},
   "outputs": [
    {
     "name": "stdin",
     "output_type": "stream",
     "text": [
      " 6\n"
     ]
    },
    {
     "name": "stdout",
     "output_type": "stream",
     "text": [
      "*****6*****\n"
     ]
    }
   ],
   "source": [
    "fin = int(input())\n",
    "\n",
    "\n",
    "def star(f):\n",
    "    def innerwrap(num, *args):\n",
    "        return f\"{str(f(num)).center(args[0], '*')}\"\n",
    "    return innerwrap\n",
    "\n",
    "@star # f= star(f)\n",
    "def f(num):\n",
    "    return num\n",
    "\n",
    "print(f(fin,11))"
   ]
  },
  {
   "cell_type": "code",
   "execution_count": 40,
   "id": "c3b1afee-d11b-42f5-8df4-e0120854bc71",
   "metadata": {},
   "outputs": [
    {
     "name": "stdout",
     "output_type": "stream",
     "text": [
      "[14, 41, 93, 100, 72, 32, 43, 6, 85, 94, 36, 87, 9, 13, 55, 49, 6, 29, 97, 12, 59, 10, 3, 4, 74, 98, 13, 29, 75, 11, 58, 46, 35, 52, 21, 67, 91, 93, 48, 54, 38, 7, 29, 33, 38, 98, 8, 22, 19, 10, 78, 7, 74, 94, 72, 95, 25, 44, 51, 36, 93, 62, 46, 67, 94, 97, 21, 80, 59, 69, 61, 55, 38, 76, 24, 96, 13, 2, 98, 59, 85, 100, 29, 62, 79, 100, 80, 65, 79, 58, 95, 82, 49, 92, 89, 39, 50, 27, 70, 15]\n",
      "100\n",
      "65\n"
     ]
    }
   ],
   "source": [
    "import random\n",
    "\n",
    "rand_num = [random.randint(1,100) for x in range(100)]\n",
    "print(rand_num)\n",
    "print(len(rand_num))\n",
    "num = set(rand_num)\n",
    "print(len(num))\n",
    "\n"
   ]
  },
  {
   "cell_type": "code",
   "execution_count": 42,
   "id": "7c469d1e-9351-482d-9048-ca5c20a0dc7c",
   "metadata": {},
   "outputs": [
    {
     "data": {
      "text/plain": [
       "[[2, 1], [4, 3], [6, 5]]"
      ]
     },
     "execution_count": 42,
     "metadata": {},
     "output_type": "execute_result"
    }
   ],
   "source": [
    "L = [[1,2],[3,4],[5,6]]\n",
    "\n",
    "for i in range(len(L)):\n",
    "    L[i] = L[i][::-1]\n",
    "L\n"
   ]
  },
  {
   "cell_type": "code",
   "execution_count": 47,
   "id": "b9c2bb65-bee2-4811-81a9-5af3d51dbbed",
   "metadata": {},
   "outputs": [
    {
     "name": "stdin",
     "output_type": "stream",
     "text": [
      "enter the word to search for frequency team\n"
     ]
    },
    {
     "name": "stdout",
     "output_type": "stream",
     "text": [
      "3\n"
     ]
    }
   ],
   "source": [
    "#Write a program to count the frequency of words in given text\n",
    "\n",
    "st=\"Afternoon team A sample test will be assigned to you the score for this test of 15 questions will not be considered for your performance as it is for you to understand how the tool works , come on team you can do it team\"\n",
    "\n",
    "L = list(st.split(\" \"))\n",
    "L\n",
    "dic = {}\n",
    "for i in L:\n",
    "    if i in dic:\n",
    "        dic[i] += 1\n",
    "    else:\n",
    "        dic[i] = 1\n",
    "word = input(\"enter the word to search for frequency\")\n",
    "print(dic[word])\n"
   ]
  },
  {
   "cell_type": "code",
   "execution_count": 50,
   "id": "6814a83a-f2de-42f1-bed9-a27f6597298e",
   "metadata": {},
   "outputs": [
    {
     "data": {
      "text/plain": [
       "{'Afternoon': 1,\n",
       " 'team': 3,\n",
       " 'A': 1,\n",
       " 'sample': 1,\n",
       " 'test': 2,\n",
       " 'will': 2,\n",
       " 'be': 2,\n",
       " 'assigned': 1,\n",
       " 'to': 2,\n",
       " 'you': 3,\n",
       " 'the': 2,\n",
       " 'score': 1,\n",
       " 'for': 3,\n",
       " 'this': 1,\n",
       " 'of': 1,\n",
       " '15': 1,\n",
       " 'questions': 1,\n",
       " 'not': 1,\n",
       " 'considered': 1,\n",
       " 'your': 1,\n",
       " 'performance': 1,\n",
       " 'as': 1,\n",
       " 'it': 2,\n",
       " 'is': 1,\n",
       " 'understand': 1,\n",
       " 'how': 1,\n",
       " 'tool': 1,\n",
       " 'works': 1,\n",
       " ',': 1,\n",
       " 'come': 1,\n",
       " 'on': 1,\n",
       " 'can': 1,\n",
       " 'do': 1}"
      ]
     },
     "execution_count": 50,
     "metadata": {},
     "output_type": "execute_result"
    }
   ],
   "source": [
    "dic"
   ]
  },
  {
   "cell_type": "code",
   "execution_count": 49,
   "id": "c3e0b65f-32c6-4514-abe2-43468554ec3c",
   "metadata": {},
   "outputs": [
    {
     "data": {
      "text/plain": [
       "['you', 'the', 'for', 'not', 'for', 'for', 'you', 'how', 'the', 'you', 'can']"
      ]
     },
     "execution_count": 49,
     "metadata": {},
     "output_type": "execute_result"
    }
   ],
   "source": [
    "three = [x for x in L if len(x) ==3 ]\n",
    "three"
   ]
  },
  {
   "cell_type": "code",
   "execution_count": 75,
   "id": "4bb6fa8d-5210-4824-a840-f4187f0fc3c1",
   "metadata": {},
   "outputs": [
    {
     "name": "stdout",
     "output_type": "stream",
     "text": [
      "{'Afternoon': 1, 'team': 3, 'A': 1, 'sample': 1, 'test': 2, 'will': 2, 'be': 2, 'assigned': 1, 'to': 2, 'you': 3, 'the': 2, 'score': 1, 'for': 3, 'this': 1, 'of': 1, '15': 1, 'questions': 1, 'not': 1, 'considered': 1, 'your': 1, 'performance': 1, 'as': 1, 'it': 2, 'is': 1, 'understand': 1, 'how': 1, 'tool': 1, 'works': 1, ',': 1, 'come': 1, 'on': 1, 'can': 1, 'do': 1}\n"
     ]
    }
   ],
   "source": [
    "#Write a program to count the frequency of words in given text\n",
    "#SIR'S APPROACH\n",
    "\n",
    "import collections\n",
    "\n",
    "c = collections.Counter(L)\n",
    "print(dict(c))"
   ]
  },
  {
   "cell_type": "code",
   "execution_count": 76,
   "id": "93d396a6-cca8-4b34-ac96-7e27bebb4f36",
   "metadata": {},
   "outputs": [
    {
     "data": {
      "text/plain": [
       "[27, 18, 48, 49, 6]"
      ]
     },
     "execution_count": 76,
     "metadata": {},
     "output_type": "execute_result"
    }
   ],
   "source": [
    "#given the list [22, 13, 45, 50, 98, 69, 43, 44, 1] write a list comprehension \n",
    "#          to form a list by adding 5 to numbers less than 45.\n",
    "\n",
    "kim = [22, 13, 45, 50, 98, 69, 43, 44, 1]\n",
    "\n",
    "kar = [x+5 for x in kim if x<45]\n",
    "kar"
   ]
  },
  {
   "cell_type": "code",
   "execution_count": 79,
   "id": "78b44523-fcb6-4fff-beee-613c316d13d6",
   "metadata": {},
   "outputs": [
    {
     "name": "stdin",
     "output_type": "stream",
     "text": [
      "enter alphabets: sam\n"
     ]
    },
    {
     "name": "stdout",
     "output_type": "stream",
     "text": [
      "oxy"
     ]
    }
   ],
   "source": [
    "'''Take input from user and convert it to cipher by using substitution cipher.\n",
    "           Every alphabet is replaced with corresponding alphabet in key.\n",
    "           alphabet = 'abcdefghijklmnopqrstuvwxyz'\n",
    "           key = 'xznlwebgjhqdyvtkfuompciasr' \n",
    "           if the input has letter 'a' it will be replaced with 'x' and for 'b' it\n",
    "           will be replaced with 'z' and it goes on'''\n",
    "alphabet = 'abcdefghijklmnopqrstuvwxyz'\n",
    "key = 'xznlwebgjhqdyvtkfuompciasr' \n",
    "al = alphabet.split()\n",
    "ke = key.split()\n",
    "dic={}\n",
    "n=0\n",
    "for i in al[:]:\n",
    "    dic=dict(zip(i,ke[n]))\n",
    "dic\n",
    "inpu = input(\"enter alphabets:\")\n",
    "\n",
    "for i in inpu:\n",
    "    print(dic[i],end=\"\")"
   ]
  },
  {
   "cell_type": "code",
   "execution_count": 1,
   "id": "2da7b857-47b8-4786-a387-a218392bf72a",
   "metadata": {},
   "outputs": [
    {
     "name": "stdin",
     "output_type": "stream",
     "text": [
      " 121\n"
     ]
    },
    {
     "name": "stdout",
     "output_type": "stream",
     "text": [
      "1\n",
      "11\n",
      "121\n"
     ]
    }
   ],
   "source": [
    "#Write a program that asks the user to enter a number and \n",
    "#            prints out all the divisors of that number\n",
    "\n",
    "x = int(input())\n",
    "for i in range(1,x+1):\n",
    "    if x%i == 0:\n",
    "        print(i)"
   ]
  },
  {
   "cell_type": "code",
   "execution_count": 29,
   "id": "f6607d58-1a9a-4f9f-8caa-d492406eb337",
   "metadata": {},
   "outputs": [
    {
     "name": "stdout",
     "output_type": "stream",
     "text": [
      "sea\n"
     ]
    }
   ],
   "source": [
    "'''An anagram of a word is a word that is created by \n",
    "            rearranging the letters of the original. For instance, \n",
    "            two anagrams of idle are deli and lied. \n",
    "            Write a program that asks the user for a string and \n",
    "            returns a random anagram of the string—in other words, \n",
    "            a random rearrangement of the letters of that string.'''\n",
    "\n",
    "\n",
    "import random\n",
    "w = \"sae\"\n",
    "L = [x for x in w]\n",
    "random.shuffle(L)\n",
    "print(\"\".join(L))"
   ]
  },
  {
   "cell_type": "code",
   "execution_count": 7,
   "id": "784925e0-7a90-4925-aecd-98f87906b49f",
   "metadata": {},
   "outputs": [
    {
     "name": "stdin",
     "output_type": "stream",
     "text": [
      "enter the message sammeh\n"
     ]
    },
    {
     "name": "stdout",
     "output_type": "stream",
     "text": [
      "smeamh\n"
     ]
    }
   ],
   "source": [
    "#ENCRYPTION\n",
    "\n",
    "st = input(\"enter the message\")\n",
    "ans = \"\"\n",
    "for i in range(len(st)):\n",
    "    if i%2 == 0:\n",
    "        print(st[i],end=\"\")\n",
    "\n",
    "for j in range(len(st)):\n",
    "    if j%2 == 1:\n",
    "        print(st[j],end=\"\")\n",
    "        \n",
    "print(ans)\n"
   ]
  },
  {
   "cell_type": "code",
   "execution_count": 13,
   "id": "4d1e2d4c-2e2d-464d-bfc4-6c975ccdf9b6",
   "metadata": {},
   "outputs": [
    {
     "ename": "IndexError",
     "evalue": "string index out of range",
     "output_type": "error",
     "traceback": [
      "\u001b[31m---------------------------------------------------------------------------\u001b[39m",
      "\u001b[31mIndexError\u001b[39m                                Traceback (most recent call last)",
      "\u001b[36mCell\u001b[39m\u001b[36m \u001b[39m\u001b[32mIn[13]\u001b[39m\u001b[32m, line 8\u001b[39m\n\u001b[32m      6\u001b[39m i=\u001b[32m0\u001b[39m\n\u001b[32m      7\u001b[39m \u001b[38;5;28;01mwhile\u001b[39;00m i <= \u001b[38;5;28mlen\u001b[39m(ans)//\u001b[32m2\u001b[39m:\n\u001b[32m----> \u001b[39m\u001b[32m8\u001b[39m     \u001b[38;5;28mprint\u001b[39m(\u001b[43mans\u001b[49m\u001b[43m[\u001b[49m\u001b[43mi\u001b[49m\u001b[43m]\u001b[49m,end=\u001b[33m\"\u001b[39m\u001b[33m\"\u001b[39m)\n\u001b[32m      9\u001b[39m     \u001b[38;5;28mprint\u001b[39m(ans[j],end=\u001b[33m\"\u001b[39m\u001b[33m\"\u001b[39m)\n\u001b[32m     10\u001b[39m     i+=\u001b[32m1\u001b[39m\n",
      "\u001b[31mIndexError\u001b[39m: string index out of range"
     ]
    }
   ],
   "source": [
    "#DECRYPTION\n",
    "\n",
    "\n",
    "i=0\n",
    "j=len(ans)//2\n",
    "i=0\n",
    "while i <= len(ans)//2:\n",
    "    print(ans[i],end=\"\")\n",
    "    print(ans[j],end=\"\")\n",
    "    i+=1\n",
    "    j+=1\n",
    "    \n",
    "    \n",
    "    \n",
    "\n"
   ]
  },
  {
   "cell_type": "code",
   "execution_count": 19,
   "id": "16501667-6de8-4c85-bf39-04f95490e58b",
   "metadata": {},
   "outputs": [
    {
     "name": "stdin",
     "output_type": "stream",
     "text": [
      "Enter the user name:  satheesh\n",
      "Enter the password:  maranthuten@abc\n"
     ]
    },
    {
     "name": "stdout",
     "output_type": "stream",
     "text": [
      "successfully logged in\n"
     ]
    }
   ],
   "source": [
    "'''Write a program that uses a dictionary that contains ten user names and passwords. \n",
    "The program should ask the user to enter their username and password. \n",
    "If the username is not in the dictionary, the program should \n",
    "indicate that the person is not a valid user of the system. \n",
    "If the username is in the dictionary, but the user does not enter the right password, \n",
    "the program should say that the password is invalid. \n",
    "If the password is correct, then the program should tell the user that they are now logged in to the system.'''\n",
    "\n",
    "D = {'sam':'pass', 'jana':'mphasis', 'bob':'bob@123', 'satheesh':'maranthuten@abc'}\n",
    "\n",
    "usrn = input(\"Enter the user name: \")\n",
    "\n",
    "if usrn in D:\n",
    "    passw = input(\"Enter the password: \")\n",
    "    if D[usrn] == passw:\n",
    "        print(\"successfully logged in\")\n",
    "    else:\n",
    "        print(\"wrong password\")\n",
    "    \n",
    "else:\n",
    "    print(\"no such user\")"
   ]
  },
  {
   "cell_type": "code",
   "execution_count": 26,
   "id": "85a3d7a6-1413-42c3-af3c-4936d4127320",
   "metadata": {},
   "outputs": [
    {
     "name": "stdin",
     "output_type": "stream",
     "text": [
      " 9\n"
     ]
    },
    {
     "name": "stdout",
     "output_type": "stream",
     "text": [
      "1\n",
      "2\n",
      "3\n",
      "4\n",
      "5\n",
      "6\n",
      "7\n",
      "8\n",
      "9\n"
     ]
    }
   ],
   "source": [
    "x = int(input())\n",
    "\n",
    "def func(n):\n",
    "    if n>1:\n",
    "        func(n-1)\n",
    "        print(n)\n",
    "    else:\n",
    "        print(n)\n",
    "func(x)"
   ]
  },
  {
   "cell_type": "code",
   "execution_count": 28,
   "id": "1a544ae9-0f09-4b03-9709-c1f3225199f9",
   "metadata": {},
   "outputs": [
    {
     "data": {
      "text/plain": [
       "[False, True, False, True]"
      ]
     },
     "execution_count": 28,
     "metadata": {},
     "output_type": "execute_result"
    }
   ],
   "source": [
    "results = list(map(lambda x: x%2==0, [x for x in range(21,25)])) #21 divided by 2 is false, 22 true, 23 false, 24 true\n",
    "results"
   ]
  },
  {
   "cell_type": "code",
   "execution_count": 32,
   "id": "c07a9f05-f387-4cbe-8e5f-334bdaec0a3c",
   "metadata": {},
   "outputs": [
    {
     "name": "stdout",
     "output_type": "stream",
     "text": [
      "[1, 2, 'h', 'e', 'l', 'l', 'o']\n"
     ]
    }
   ],
   "source": [
    "li = [1,2]\n",
    "li.extend('hello')\n",
    "print(li)"
   ]
  },
  {
   "cell_type": "code",
   "execution_count": 42,
   "id": "60d6b56e-86d8-4232-83c8-ebbae6209376",
   "metadata": {},
   "outputs": [
    {
     "data": {
      "text/plain": [
       "[0, 6, 12, 18, 24, 30, 36, 42, 48, 54, 60, 66, 72, 78, 84, 90, 96]"
      ]
     },
     "execution_count": 42,
     "metadata": {},
     "output_type": "execute_result"
    }
   ],
   "source": [
    "nums = [x for x in range(100) if x%6==0]\n",
    "nums"
   ]
  },
  {
   "cell_type": "code",
   "execution_count": 43,
   "id": "3c7e012a-ec18-4a99-8097-c7254787df70",
   "metadata": {},
   "outputs": [
    {
     "name": "stdout",
     "output_type": "stream",
     "text": [
      "cd\n"
     ]
    }
   ],
   "source": [
    "print('abcd'[2:])"
   ]
  },
  {
   "cell_type": "code",
   "execution_count": 44,
   "id": "c97040c5-570d-459b-83d8-43a64326f947",
   "metadata": {},
   "outputs": [
    {
     "name": "stdout",
     "output_type": "stream",
     "text": [
      "helloworld\n"
     ]
    }
   ],
   "source": [
    "print('hello'.__add__('world'))"
   ]
  },
  {
   "cell_type": "code",
   "execution_count": 54,
   "id": "5a3822b7-d325-463e-84d0-179cb9f44f5e",
   "metadata": {},
   "outputs": [],
   "source": [
    "def checkbal(s1):\n",
    "    t=[]\n",
    "    d = {'{':'}','(':')', '[':']'}\n",
    "    for char in s1:\n",
    "        if char in d:\n",
    "            t.append(char)\n",
    "        else:\n",
    "            #c = t.pop()\n",
    "            \n",
    "            if c == [] or char!= d[t.pop()]:\n",
    "                return False\n",
    "    \n",
    "    if t!=[]:\n",
    "        return False\n",
    "    else:\n",
    "        return True"
   ]
  },
  {
   "cell_type": "code",
   "execution_count": 55,
   "id": "1a986a52-d362-4942-a5b8-d3086b2b1a41",
   "metadata": {},
   "outputs": [
    {
     "ename": "NameError",
     "evalue": "name 'c' is not defined",
     "output_type": "error",
     "traceback": [
      "\u001b[31m---------------------------------------------------------------------------\u001b[39m",
      "\u001b[31mNameError\u001b[39m                                 Traceback (most recent call last)",
      "\u001b[36mCell\u001b[39m\u001b[36m \u001b[39m\u001b[32mIn[55]\u001b[39m\u001b[32m, line 1\u001b[39m\n\u001b[32m----> \u001b[39m\u001b[32m1\u001b[39m \u001b[43mcheckbal\u001b[49m\u001b[43m(\u001b[49m\u001b[33;43m'\u001b[39;49m\u001b[33;43m{\u001b[39;49m\u001b[33;43m)(}\u001b[39;49m\u001b[33;43m'\u001b[39;49m\u001b[43m)\u001b[49m\n",
      "\u001b[36mCell\u001b[39m\u001b[36m \u001b[39m\u001b[32mIn[54]\u001b[39m\u001b[32m, line 10\u001b[39m, in \u001b[36mcheckbal\u001b[39m\u001b[34m(s1)\u001b[39m\n\u001b[32m      6\u001b[39m         t.append(char)\n\u001b[32m      7\u001b[39m     \u001b[38;5;28;01melse\u001b[39;00m:\n\u001b[32m      8\u001b[39m         \u001b[38;5;66;03m#c = t.pop()\u001b[39;00m\n\u001b[32m---> \u001b[39m\u001b[32m10\u001b[39m         \u001b[38;5;28;01mif\u001b[39;00m \u001b[43mc\u001b[49m == [] \u001b[38;5;129;01mor\u001b[39;00m char!= d[t.pop()]:\n\u001b[32m     11\u001b[39m             \u001b[38;5;28;01mreturn\u001b[39;00m \u001b[38;5;28;01mFalse\u001b[39;00m\n\u001b[32m     13\u001b[39m \u001b[38;5;28;01mif\u001b[39;00m t!=[]:\n",
      "\u001b[31mNameError\u001b[39m: name 'c' is not defined"
     ]
    }
   ],
   "source": [
    "checkbal('{)(}')"
   ]
  },
  {
   "cell_type": "code",
   "execution_count": null,
   "id": "efd67e77-063a-40fd-a2f5-c87afcfd3ade",
   "metadata": {},
   "outputs": [],
   "source": [
    "__iter__()"
   ]
  }
 ],
 "metadata": {
  "kernelspec": {
   "display_name": "Python 3 (ipykernel)",
   "language": "python",
   "name": "python3"
  },
  "language_info": {
   "codemirror_mode": {
    "name": "ipython",
    "version": 3
   },
   "file_extension": ".py",
   "mimetype": "text/x-python",
   "name": "python",
   "nbconvert_exporter": "python",
   "pygments_lexer": "ipython3",
   "version": "3.13.2"
  }
 },
 "nbformat": 4,
 "nbformat_minor": 5
}
