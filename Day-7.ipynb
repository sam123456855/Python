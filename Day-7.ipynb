{
 "cells": [
  {
   "cell_type": "code",
   "execution_count": 1,
   "id": "caf79803-1599-4f56-a0c7-0b956c396550",
   "metadata": {},
   "outputs": [],
   "source": [
    "#DATA SERIALIZATION - convert python object to json\n",
    "#JSON - java script object notation\n",
    "#       standard for exchanging information between application\n",
    "#module called 'json' can be used to do serialization between json and python objects\n",
    "\n",
    "#dump - stores a python object into file object as json string\n",
    "#load - returns a python object from a file object\n",
    "#dumps - returns a json string from python object\n",
    "#loads - returns a python object from json string"
   ]
  },
  {
   "cell_type": "code",
   "execution_count": 10,
   "id": "24dfb574-f129-4b37-9cec-4aede3451e9c",
   "metadata": {},
   "outputs": [],
   "source": [
    "import json\n",
    "\n",
    "d1 = {'name': 'alice','age':10,'class':'first'}\n",
    "with(open('d1.json','w')) as fh:\n",
    "    json.dump(d1,fh)"
   ]
  },
  {
   "cell_type": "code",
   "execution_count": 11,
   "id": "2b6e1cb5-eef0-473a-b423-829b41653b20",
   "metadata": {},
   "outputs": [
    {
     "name": "stdout",
     "output_type": "stream",
     "text": [
      "<class 'dict'>\n",
      "{'name': 'alice', 'age': 10, 'class': 'first'}\n"
     ]
    }
   ],
   "source": [
    "with(open('d1.json','r')) as fh:\n",
    "    d2 = json.load(fh)\n",
    "    print(type(d2))\n",
    "    print(d2)"
   ]
  },
  {
   "cell_type": "code",
   "execution_count": 15,
   "id": "3cabe550-5f56-43e5-ac70-cf8b24b5c05f",
   "metadata": {},
   "outputs": [
    {
     "name": "stdout",
     "output_type": "stream",
     "text": [
      "<class 'dict'>\n",
      "{'name': 'sam', 'age': 22, 'Gender': 'M'}\n"
     ]
    }
   ],
   "source": [
    "s3 = '{\"name\": \"sam\", \"age\": 22, \"Gender\": \"M\"}'\n",
    "d4 = json.loads(s3)         #loads string to the dictionary\n",
    "print(type(d4))\n",
    "print(d4)"
   ]
  },
  {
   "cell_type": "code",
   "execution_count": 17,
   "id": "ba13c02d-742a-4f70-ba6e-0d4eb62648a9",
   "metadata": {},
   "outputs": [
    {
     "name": "stdout",
     "output_type": "stream",
     "text": [
      "<class 'str'>\n",
      "{\"name\": \"sam\", \"age\": 22, \"Gender\": \"M\"}\n"
     ]
    }
   ],
   "source": [
    "d3 = {\"name\": \"sam\", \"age\": 22, \"Gender\": \"M\"}\n",
    "s2 = json.dumps(d3)          #dumps dictionary to the string\n",
    "print(type(s2))\n",
    "print(s2)"
   ]
  },
  {
   "cell_type": "code",
   "execution_count": 23,
   "id": "10da92b3-8a31-4536-b69c-64b8f2b51806",
   "metadata": {},
   "outputs": [
    {
     "name": "stdout",
     "output_type": "stream",
     "text": [
      "{\"page\":1,\"per_page\":6,\"total\":12,\"total_pages\":2,\"data\":[{\"id\":1,\"email\":\"george.bluth@reqres.in\",\"first_name\":\"George\",\"last_name\":\"Bluth\",\"avatar\":\"https://reqres.in/img/faces/1-image.jpg\"},{\"id\":2,\"email\":\"janet.weaver@reqres.in\",\"first_name\":\"Janet\",\"last_name\":\"Weaver\",\"avatar\":\"https://reqres.in/img/faces/2-image.jpg\"},{\"id\":3,\"email\":\"emma.wong@reqres.in\",\"first_name\":\"Emma\",\"last_name\":\"Wong\",\"avatar\":\"https://reqres.in/img/faces/3-image.jpg\"},{\"id\":4,\"email\":\"eve.holt@reqres.in\",\"first_name\":\"Eve\",\"last_name\":\"Holt\",\"avatar\":\"https://reqres.in/img/faces/4-image.jpg\"},{\"id\":5,\"email\":\"charles.morris@reqres.in\",\"first_name\":\"Charles\",\"last_name\":\"Morris\",\"avatar\":\"https://reqres.in/img/faces/5-image.jpg\"},{\"id\":6,\"email\":\"tracey.ramos@reqres.in\",\"first_name\":\"Tracey\",\"last_name\":\"Ramos\",\"avatar\":\"https://reqres.in/img/faces/6-image.jpg\"}],\"support\":{\"url\":\"https://contentcaddy.io?utm_source=reqres&utm_medium=json&utm_campaign=referral\",\"text\":\"Tired of writing endless social media content? Let Content Caddy generate it for you.\"}}\n",
      "{'page': 1, 'per_page': 6, 'total': 12, 'total_pages': 2, 'data': [{'id': 1, 'email': 'george.bluth@reqres.in', 'first_name': 'George', 'last_name': 'Bluth', 'avatar': 'https://reqres.in/img/faces/1-image.jpg'}, {'id': 2, 'email': 'janet.weaver@reqres.in', 'first_name': 'Janet', 'last_name': 'Weaver', 'avatar': 'https://reqres.in/img/faces/2-image.jpg'}, {'id': 3, 'email': 'emma.wong@reqres.in', 'first_name': 'Emma', 'last_name': 'Wong', 'avatar': 'https://reqres.in/img/faces/3-image.jpg'}, {'id': 4, 'email': 'eve.holt@reqres.in', 'first_name': 'Eve', 'last_name': 'Holt', 'avatar': 'https://reqres.in/img/faces/4-image.jpg'}, {'id': 5, 'email': 'charles.morris@reqres.in', 'first_name': 'Charles', 'last_name': 'Morris', 'avatar': 'https://reqres.in/img/faces/5-image.jpg'}, {'id': 6, 'email': 'tracey.ramos@reqres.in', 'first_name': 'Tracey', 'last_name': 'Ramos', 'avatar': 'https://reqres.in/img/faces/6-image.jpg'}], 'support': {'url': 'https://contentcaddy.io?utm_source=reqres&utm_medium=json&utm_campaign=referral', 'text': 'Tired of writing endless social media content? Let Content Caddy generate it for you.'}}\n"
     ]
    },
    {
     "name": "stderr",
     "output_type": "stream",
     "text": [
      "C:\\Users\\prince.s\\AppData\\Local\\Programs\\Python\\Python313\\Lib\\site-packages\\urllib3\\connectionpool.py:1097: InsecureRequestWarning: Unverified HTTPS request is being made to host 'reqres.in'. Adding certificate verification is strongly advised. See: https://urllib3.readthedocs.io/en/latest/advanced-usage.html#tls-warnings\n",
      "  warnings.warn(\n"
     ]
    }
   ],
   "source": [
    "# https://reqres.in/api/users?pag=2\n",
    "import requests \n",
    "r = requests.get(\"https://reqres.in/api/users?pag=2\",verify=False)\n",
    "if r.status_code == 200:\n",
    "    print(r.text)\n",
    "    results_dict = json.loads(r.text)\n",
    "    print(results_dict)"
   ]
  },
  {
   "cell_type": "code",
   "execution_count": 32,
   "id": "55992abe-46a1-4f55-9f2e-bdc2d631f76e",
   "metadata": {},
   "outputs": [
    {
     "name": "stderr",
     "output_type": "stream",
     "text": [
      "C:\\Users\\prince.s\\AppData\\Local\\Programs\\Python\\Python313\\Lib\\site-packages\\urllib3\\connectionpool.py:1097: InsecureRequestWarning: Unverified HTTPS request is being made to host 'reqres.in'. Adding certificate verification is strongly advised. See: https://urllib3.readthedocs.io/en/latest/advanced-usage.html#tls-warnings\n",
      "  warnings.warn(\n"
     ]
    },
    {
     "name": "stdout",
     "output_type": "stream",
     "text": [
      "NO.1  EMAIL:george.bluth@reqres.in  NAME:George Bluth\n",
      "NO.2  EMAIL:janet.weaver@reqres.in  NAME:Janet Weaver\n",
      "NO.3  EMAIL:emma.wong@reqres.in  NAME:Emma Wong\n",
      "NO.4  EMAIL:eve.holt@reqres.in  NAME:Eve Holt\n",
      "NO.5  EMAIL:charles.morris@reqres.in  NAME:Charles Morris\n",
      "NO.6  EMAIL:tracey.ramos@reqres.in  NAME:Tracey Ramos\n"
     ]
    }
   ],
   "source": [
    "import requests \n",
    "r = requests.get(\"https://reqres.in/api/users?pag=2\",verify=False)  \n",
    "if r.status_code == 200:\n",
    "    results_dict = json.loads(r.text)\n",
    "    for obj in results_dict.get('data'):\n",
    "        print(f\"NO.{obj.get('id')}  EMAIL:{obj.get('email')}  NAME:{obj.get('first_name')} {obj.get('last_name')}\")"
   ]
  },
  {
   "cell_type": "code",
   "execution_count": 36,
   "id": "3105e01f-f848-4fc7-a9ad-ff9230612cfa",
   "metadata": {},
   "outputs": [
    {
     "name": "stdout",
     "output_type": "stream",
     "text": [
      "97\n"
     ]
    }
   ],
   "source": [
    "gu = 'a'\n",
    "print(ord(gu))"
   ]
  },
  {
   "cell_type": "code",
   "execution_count": 149,
   "id": "2d88818f-1f72-483c-bba7-8e90aa680884",
   "metadata": {},
   "outputs": [
    {
     "name": "stdout",
     "output_type": "stream",
     "text": [
      "5\n",
      "5\n",
      "True\n"
     ]
    }
   ],
   "source": [
    "'''\n",
    "1. Given the month and year as numbers, return whether that month contains a Friday 13th.\n",
    "\n",
    "Examples\n",
    "has_friday_13(3, 2020) ➞ True\n",
    "\n",
    "has_friday_13(10, 2017) ➞ True\n",
    "\n",
    "has_friday_13(1, 1985) ➞ False\n",
    "'''\n",
    "\n",
    "def has_friday_13(M, Y):\n",
    "    ext = 0\n",
    "    Mon = [3,0,3,2,3,2,3,3,2,3,2,3]\n",
    "    if Y%4 ==0 and Y%100 != 0:\n",
    "        ext +=2\n",
    "    else:\n",
    "        ext +=1\n",
    "        print(ext)\n",
    "\n",
    "    for i,ch in enumerate(Mon):\n",
    "        if i+1 <= M-1:\n",
    "            ext+=Mon[i]\n",
    "            print(ext)\n",
    "            \n",
    "    return ext+13 \n",
    "ans = has_friday_13(3, 2020)   \n",
    "\n",
    "if ans%7 == 4:\n",
    "    print(\"True\")\n",
    "else:\n",
    "    print(\"False\")\n",
    "        "
   ]
  },
  {
   "cell_type": "code",
   "execution_count": 5,
   "id": "74c2f770-2ebc-4065-bd4c-979c19df9ac8",
   "metadata": {},
   "outputs": [
    {
     "data": {
      "text/plain": [
       "False"
      ]
     },
     "execution_count": 5,
     "metadata": {},
     "output_type": "execute_result"
    }
   ],
   "source": [
    "#straight forward approach\n",
    "# SIR'S APPROACH\n",
    "\n",
    "def has_friday_13(m,y):\n",
    "    import datetime\n",
    "    if datetime.datetime(y,m,13).weekday == 4:\n",
    "        return True\n",
    "    else:\n",
    "        return False\n",
    "has_friday_13(3, 2020)   \n"
   ]
  },
  {
   "cell_type": "code",
   "execution_count": 9,
   "id": "5286c78a-e72f-424b-9ebe-cc69df7e5fee",
   "metadata": {},
   "outputs": [
    {
     "name": "stdout",
     "output_type": "stream",
     "text": [
      "6\n"
     ]
    }
   ],
   "source": [
    "import datetime\n",
    "x = datetime.datetime(2025,4,13)\n",
    "print(x.weekday())"
   ]
  },
  {
   "cell_type": "code",
   "execution_count": 10,
   "id": "3c11b21f-6e18-47b1-a384-f975b8e529b1",
   "metadata": {},
   "outputs": [
    {
     "name": "stdout",
     "output_type": "stream",
     "text": [
      "Sunday\n"
     ]
    }
   ],
   "source": [
    "print(x.strftime(\"%A\"))"
   ]
  },
  {
   "cell_type": "code",
   "execution_count": 14,
   "id": "72a15019-d520-498c-bb3a-142500985153",
   "metadata": {},
   "outputs": [
    {
     "name": "stdin",
     "output_type": "stream",
     "text": [
      "Enter the word:  Flavio\n"
     ]
    },
    {
     "name": "stdout",
     "output_type": "stream",
     "text": [
      "22v\n"
     ]
    }
   ],
   "source": [
    "'''\n",
    "2.Given a name, return the letter with the highest index in alphabetical order, with its corresponding index, in the form of a string. You are prohibited to use max() nor is reassigning a value to the alphabet list allowed.\n",
    "\n",
    "Examples\n",
    "alphabet = [\"a\", \"b\", \"c\", \"d\", \"e\", \"f\", \"g\", \"h\", \"i\", \"j\", \"k\", \"l\", \"m\", \"n\", \"o\", \"p\", \"q\", \"r\", \"s\", \"t\", \"u\", \"v\", \"w\", \"x\", \"y\", \"z\"]\n",
    "\n",
    "\n",
    "alphabet_index(alphabet, \"Flavio\") ➞ \"22v\"\n",
    "\n",
    "alphabet_index(alphabet, \"Andrey\") ➞ \"25y\"\n",
    "\n",
    "alphabet_index(alphabet, \"Oscar\") ➞ \"19s\"\n",
    "'''\n",
    "\n",
    "alphabet = [\"a\", \"b\", \"c\", \"d\", \"e\", \"f\", \"g\", \"h\", \"i\", \"j\", \"k\", \"l\", \"m\", \"n\", \"o\", \"p\", \"q\", \"r\", \"s\", \"t\", \"u\", \"v\", \"w\", \"x\", \"y\", \"z\"]\n",
    "String = input(\"Enter the word: \")\n",
    "def alphabet_index(alph,st):\n",
    "    st.lower()\n",
    "    num=0\n",
    "    maxi = ''\n",
    "\n",
    "    for i,ch in enumerate(st):\n",
    "        if ord(ch) > num:\n",
    "            num = ord(ch)\n",
    "            maxi = ch\n",
    "    res = str(num-96)+maxi\n",
    "    print(res)\n",
    "            \n",
    "alphabet_index(alphabet,String)"
   ]
  },
  {
   "cell_type": "code",
   "execution_count": 99,
   "id": "3601c78f-4c77-433a-929e-f80ad1e298dd",
   "metadata": {},
   "outputs": [
    {
     "data": {
      "text/plain": [
       "['b', 'g', 'w']"
      ]
     },
     "execution_count": 99,
     "metadata": {},
     "output_type": "execute_result"
    }
   ],
   "source": [
    "'''\n",
    "3. Create a function that takes a list and string. The function should remove the letters in the string from the list, and return the list.\n",
    "\n",
    "Examples\n",
    "remove_letters([\"s\", \"t\", \"r\", \"i\", \"n\", \"g\", \"w\"], \"string\") ➞ [\"w\"]\n",
    "\n",
    "remove_letters([\"b\", \"b\", \"l\", \"l\", \"g\", \"n\", \"o\", \"a\", \"w\"], \"balloon\") ➞ [\"b\", \"g\", \"w\"]\n",
    "\n",
    "remove_letters([\"d\", \"b\", \"t\", \"e\", \"a\", \"i\"], \"edabit\") ➞ []\n",
    "'''\n",
    "def remove_letters(L, S):\n",
    "    for i in S:\n",
    "        if i in L:\n",
    "            L.remove(i)\n",
    "    return L\n",
    "remove_letters([\"b\", \"b\", \"l\", \"l\", \"g\", \"n\", \"o\", \"a\", \"w\"], \"balloon\")"
   ]
  },
  {
   "cell_type": "code",
   "execution_count": 16,
   "id": "0e9a979d-1742-4268-b0b1-cf1bc9e44b6c",
   "metadata": {},
   "outputs": [
    {
     "data": {
      "text/plain": [
       "'OPHARD'"
      ]
     },
     "execution_count": 16,
     "metadata": {},
     "output_type": "execute_result"
    }
   ],
   "source": [
    "'''\n",
    "4. Given a string, reverse its order, change lowercase letters to uppercase and increment uppercase letters by one (e.g. A becomes B, C becomes D, Z becomes A).\n",
    "\n",
    "Examples\n",
    "change_string(\"ApPle\") ➞ \"ELQPB\"\n",
    "\n",
    "change_string(\"draGON\") ➞ \"OPHARD\"\n",
    "\n",
    "change_string(\"ZebrA\") ➞ \"BRBEA\"\n",
    "'''\n",
    "def change_string(S):\n",
    "    L =[]\n",
    "    for i,ch in enumerate(S):\n",
    "        if ch.isupper():\n",
    "            if ch == 'Z':\n",
    "                L.append('A')\n",
    "            else:\n",
    "                ch = chr(ord(ch)+1)\n",
    "                L.append(ch)\n",
    "        elif ch.islower():\n",
    "            L.append(ch.upper())\n",
    "    return \"\".join(L[::-1])\n",
    "change_string(\"draGON\")"
   ]
  },
  {
   "cell_type": "code",
   "execution_count": 21,
   "id": "6ee6d416-dd9d-4295-801d-68eb2cf4519e",
   "metadata": {},
   "outputs": [
    {
     "data": {
      "text/plain": [
       "'ELQPB'"
      ]
     },
     "execution_count": 21,
     "metadata": {},
     "output_type": "execute_result"
    }
   ],
   "source": [
    "#SIR's LOGIC\n",
    "\n",
    "def change_string(string):\n",
    "    chars = [chr(ord(x)+1) if x.isupper() and x!='Z' else x.upper() for x in string]\n",
    "    rev = ''.join(chars)\n",
    "    rev = rev.replace('Z','A')\n",
    "    return rev[::-1]\n",
    "change_string(\"ApPle\") "
   ]
  },
  {
   "cell_type": "code",
   "execution_count": 148,
   "id": "6c1b7484-1509-486b-a14f-58b7e99520e0",
   "metadata": {},
   "outputs": [
    {
     "data": {
      "text/plain": [
       "[27.0, 75.0]"
      ]
     },
     "execution_count": 148,
     "metadata": {},
     "output_type": "execute_result"
    }
   ],
   "source": [
    "'''\n",
    "5. Given a list of numbers, create a function that removes 25% from every number in the list except the smallest number, and adds the total amount removed to the smallest number.\n",
    "\n",
    "Examples\n",
    "add_to_smallest([4, 1, 4]) ➞ [3, 3, 3]\n",
    "\n",
    "add_to_smallest([16, 10, 8]) ➞ [12, 7.5, 14.5]\n",
    "\n",
    "add_to_smallest([2, 100]) ➞ [27, 75]\n",
    "Notes\n",
    "There will only be one smallest number in a given list.\n",
    "'''\n",
    "\n",
    "def add_to_smallest(L):\n",
    "    mini = 999\n",
    "    for i,nu in enumerate(L):\n",
    "        if nu < mini:\n",
    "            mini = nu\n",
    "            miniI = i\n",
    "    su=0\n",
    "    for j,num in enumerate(L):\n",
    "        if num!= mini and j!=miniI:\n",
    "            su = su+(L[j]*(1/4)) \n",
    "            L[j] = L[j]*(3/4)\n",
    "    L[miniI] += su\n",
    "    return L\n",
    "\n",
    "add_to_smallest([2, 100])           "
   ]
  },
  {
   "cell_type": "code",
   "execution_count": 122,
   "id": "4f7137bf-2abd-4262-bbc1-23f9b3790756",
   "metadata": {},
   "outputs": [
    {
     "name": "stdout",
     "output_type": "stream",
     "text": [
      "matched\n",
      "Prince Sam\n"
     ]
    }
   ],
   "source": [
    "#REGULAR EXPRESSION\n",
    "\n",
    "#user defined expression to extract or match a pattern in the given input\n",
    "#re - module to work with regular expression\n",
    "#match - will return match object or false\n",
    "#search - will return search object or false\n",
    "\n",
    "import re\n",
    "\n",
    "text = \"Today morning i( Prince Sam Raj ) asked the support team regarding the status and they said these steps are needed to followed by you sir!\"\n",
    "result = re.search(r'(\\b[A-Z][a-z]+\\s[A-Z][a-z]+\\b)',text)\n",
    "\n",
    "if result:\n",
    "    print(\"matched\")\n",
    "    print(result.group())\n",
    "else:\n",
    "    print(\"not matched\")"
   ]
  },
  {
   "cell_type": "code",
   "execution_count": 107,
   "id": "79c33ad4-55bf-49e7-9d8b-ada4ed4bc14d",
   "metadata": {},
   "outputs": [],
   "source": [
    "#  . -> refers any character\n",
    "#  * -> 0 or more chars\n",
    "#         to*tal - ttal tootal tooooooootal\n",
    "#         tatal (not match)\n",
    "#  + -> 1 or more\n",
    "#         to+tal  --  total, tootal, toooootal\n",
    "#  ? -> zero or one\n",
    "#         https?://www....... -- s can be present or absent(0 or 1)\n",
    "#  {} -> exact no. of times {n} -- pattern can appear n times\n",
    "#  () -> grouping\n",
    "#  /w -> a-z A-z _\n",
    "#  /d -> one or more digits\n",
    "#  /s -> space\n",
    "#  ^ -> search at begining\n",
    "#  $ -> search at the end\n",
    "\n",
    "\n",
    "#  \\b -> boundary - word should be embedded"
   ]
  },
  {
   "cell_type": "code",
   "execution_count": 108,
   "id": "efae3ccb-797f-477b-8bdc-e1fbc26a98f4",
   "metadata": {},
   "outputs": [
    {
     "name": "stdin",
     "output_type": "stream",
     "text": [
      "Enter a word:  toooooooooootal\n"
     ]
    },
    {
     "name": "stdout",
     "output_type": "stream",
     "text": [
      "matched\n"
     ]
    }
   ],
   "source": [
    "s1 = input(\"Enter a word: \")\n",
    "\n",
    "res = re.search(r'to*tal',s1)\n",
    "\n",
    "if res:\n",
    "    print(\"matched\")\n",
    "else:\n",
    "    print(\"not a match\")"
   ]
  },
  {
   "cell_type": "code",
   "execution_count": 117,
   "id": "23aaa0a0-8dd7-47a9-babf-1f12105d930d",
   "metadata": {},
   "outputs": [
    {
     "name": "stdin",
     "output_type": "stream",
     "text": [
      "Enter a url www.samraj jak.com\n"
     ]
    },
    {
     "name": "stdout",
     "output_type": "stream",
     "text": [
      "samraj jak\n"
     ]
    }
   ],
   "source": [
    "# www.mydomain.com\n",
    "# .*\\.(.*)\\..*\n",
    "import re\n",
    "s1 = input(\"Enter a url\")\n",
    "result = re.search(r'.*\\.(.*)\\..*',s1)\n",
    "if result:\n",
    "    print(result.group(1))\n",
    "else:\n",
    "    print(\"not matched\")"
   ]
  },
  {
   "cell_type": "code",
   "execution_count": 115,
   "id": "9297541c-da98-4496-a4ac-93e200bce061",
   "metadata": {},
   "outputs": [
    {
     "name": "stdin",
     "output_type": "stream",
     "text": [
      "Enter a url hello mnnr\n"
     ]
    },
    {
     "name": "stdout",
     "output_type": "stream",
     "text": [
      "matched\n"
     ]
    }
   ],
   "source": [
    "import re\n",
    "s1 = input(\"Enter a url\")\n",
    "result = re.search(r'hello\\s[a-n]',s1)\n",
    "if result:\n",
    "    print(\"matched\")\n",
    "else:\n",
    "    print(\"not matched\")"
   ]
  },
  {
   "cell_type": "code",
   "execution_count": 116,
   "id": "89f6dc39-f6b8-4c61-9584-df905549421f",
   "metadata": {},
   "outputs": [
    {
     "name": "stdin",
     "output_type": "stream",
     "text": [
      "Enter a url hello Wgrg\n"
     ]
    },
    {
     "name": "stdout",
     "output_type": "stream",
     "text": [
      "matched\n"
     ]
    }
   ],
   "source": [
    "import re\n",
    "s1 = input(\"Enter a url:\")\n",
    "result = re.search(r'hello\\s[A-Za-z]',s1)\n",
    "if result:\n",
    "    print(\"matched\")\n",
    "else:\n",
    "    print(\"not matched\")"
   ]
  },
  {
   "cell_type": "code",
   "execution_count": null,
   "id": "f2939844-7b9f-426f-b8f1-d9067b4804be",
   "metadata": {},
   "outputs": [],
   "source": []
  },
  {
   "cell_type": "code",
   "execution_count": null,
   "id": "5e35532d-e9d1-4958-a0f3-a09710ac3e87",
   "metadata": {},
   "outputs": [],
   "source": [
    "\n"
   ]
  },
  {
   "cell_type": "code",
   "execution_count": null,
   "id": "3594d78b-5423-4c57-93da-a37857c67ca9",
   "metadata": {},
   "outputs": [],
   "source": []
  },
  {
   "cell_type": "code",
   "execution_count": null,
   "id": "8a327874-8eb3-4583-839c-3827044daea5",
   "metadata": {},
   "outputs": [],
   "source": []
  }
 ],
 "metadata": {
  "kernelspec": {
   "display_name": "Python 3 (ipykernel)",
   "language": "python",
   "name": "python3"
  },
  "language_info": {
   "codemirror_mode": {
    "name": "ipython",
    "version": 3
   },
   "file_extension": ".py",
   "mimetype": "text/x-python",
   "name": "python",
   "nbconvert_exporter": "python",
   "pygments_lexer": "ipython3",
   "version": "3.13.2"
  }
 },
 "nbformat": 4,
 "nbformat_minor": 5
}
