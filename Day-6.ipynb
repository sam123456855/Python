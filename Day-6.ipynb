{
 "cells": [
  {
   "cell_type": "raw",
   "id": "6a817f80-3407-47ad-abc8-c7139002fbca",
   "metadata": {},
   "source": [
    "#FILE HANDLING\n",
    "# fh = open(FILEPATH, FILEMODE, BUFFER)\n",
    "\n",
    "# filepath - C:\\user\\admin\\deskto\\a.txt\n",
    "#windows\n",
    "#r\"C:\\user\\admin\\deskto\\a.txt\"\n",
    "#\"C:\\\\user\\\\admin\\\\deskto\\\\a.txt\"\n",
    "#C:/user/admin/deskto/a.txt\n",
    "\n",
    "#linux or mac the file path is given as it is\n",
    "\n",
    "#filemode\n",
    "#read and write - r, r+, rb, rb+ (to work with binary content 'b' is required)      +  -> both read and write\n",
    "#                 leads to error if the file is not present                         b  -> binary\n",
    "\n",
    "#write and read - w, w+, wb, wb+\n",
    "                  creates the file if the file is not present\n",
    "                  overwrites the file if the file is present\n",
    "\n",
    "#append and read - a, a+, ab, ab+\n",
    "                  creates the file if the file is not present\n",
    "                  appends the content if the file is present\n",
    "\n",
    "#buffering\n",
    "default - -1(os defined)\n",
    "           0(no buffering)\n",
    "           1(custom buffer size)"
   ]
  },
  {
   "cell_type": "code",
   "execution_count": 13,
   "id": "0611800b-dc30-405d-b210-801b193a6046",
   "metadata": {},
   "outputs": [],
   "source": [
    "fh = open(r'C:\\Users\\prince.s\\Documents\\jupyter_files\\readme.txt','r')"
   ]
  },
  {
   "cell_type": "code",
   "execution_count": 5,
   "id": "8d14fe0f-8327-45e9-a552-ddab9564eecd",
   "metadata": {},
   "outputs": [
    {
     "name": "stdout",
     "output_type": "stream",
     "text": [
      "C:\\Users\\prince.s\\Documents\\jupyter_files\\readme.txt\n"
     ]
    }
   ],
   "source": [
    "print(fh.name)"
   ]
  },
  {
   "cell_type": "code",
   "execution_count": 6,
   "id": "4aee1ffd-f4ef-4ff7-b861-aa2b7324e690",
   "metadata": {},
   "outputs": [
    {
     "name": "stdout",
     "output_type": "stream",
     "text": [
      "r\n"
     ]
    }
   ],
   "source": [
    "print(fh.mode)"
   ]
  },
  {
   "cell_type": "code",
   "execution_count": 7,
   "id": "e2955d61-c963-42b7-b5d4-c824f71adca6",
   "metadata": {},
   "outputs": [
    {
     "name": "stdout",
     "output_type": "stream",
     "text": [
      "False\n"
     ]
    }
   ],
   "source": [
    "print(fh.closed) # returns the status of file is closed or open"
   ]
  },
  {
   "cell_type": "code",
   "execution_count": 10,
   "id": "d6f709ca-659b-46e3-be11-8907cc2beb9f",
   "metadata": {},
   "outputs": [
    {
     "name": "stdout",
     "output_type": "stream",
     "text": [
      "True\n"
     ]
    }
   ],
   "source": [
    "#close the file handler\n",
    "fh.close()\n",
    "print(fh.closed) "
   ]
  },
  {
   "cell_type": "code",
   "execution_count": 11,
   "id": "2f92e0fc-ede0-4315-a61d-b02b70af93b0",
   "metadata": {},
   "outputs": [],
   "source": [
    "# fh = open(FILEPATH, FILEMODE, BUFFER)\n",
    "#read - without argument returns the entire argument. works with both text and binary content\n",
    "#       with argument returns the number of bytes as specified by the argument from current curser position"
   ]
  },
  {
   "cell_type": "code",
   "execution_count": 14,
   "id": "23b56166-52d7-4642-95c8-d7833f361a8c",
   "metadata": {},
   "outputs": [
    {
     "name": "stdout",
     "output_type": "stream",
     "text": [
      "Vim for Debian\n",
      "---------------\n",
      "\n",
      "1. The current Debian Vim scripts policy can be found in the vim-doc package\n",
      "   under /usr/share/doc/vim-common and\n",
      "   <http://pkg-vim.alioth.debian.org/vim-policy.html/>.\n",
      "\n",
      "2. Before reporting bugs, check if the bug also exists if you run vim\n",
      "   with \"vim -u NONE -U NONE\". If not, make sure that the \"bug\" is not\n",
      "   a result of a setting in your ~/.vimrc before reporting it.\n",
      "\n",
      " -- Stefano Zacchiroli <zack@debian.org>   Mon, 10 Apr 2006 09:59:41 -0400\n",
      "\n",
      "MzScheme Vim variant\n",
      "--------------------\n",
      "\n",
      "As requested by the current MzScheme maintainer (Ari Pollak <ari@debian.org>),\n",
      "a vim-mzscheme variant is not being built.  The reasons stated are as follows:\n",
      "\n",
      "  1) MzScheme does not build on many of Debian's supported architectures.\n",
      "\n",
      "  2) The MzScheme package is not versioned based on the library.\n",
      "\n",
      "  3) The MzScheme ABI changes with every upstream version.\n",
      "\n",
      " -- James Vega <jamessan@debian.org> Mon, 10  Apr  2006  09:48:25  -0400\n",
      "\n",
      "Modeline support disabled by default\n",
      "------------------------------------\n",
      "\n",
      "Modelines have historically been a source of security/resource vulnerabilities\n",
      "and are therefore disabled by default in $VIMRUNTIME/debian.vim.\n",
      "\n",
      "You can enable them in ~/.vimrc or /etc/vim/vimrc with \"set modeline\".\n",
      "\n",
      "In order to mimic Vim's default setting (modelines disabled when root, enabled\n",
      "otherwise), you may instead want to use the following snippet:\n",
      "\n",
      "  if $USER != 'root'\n",
      "    set modeline\n",
      "  else\n",
      "    set nomodeline\n",
      "  endif\n",
      "\n",
      "The securemodelines script from vim.org (and in the vim-scripts package) may\n",
      "also be of interest as it provides a way to whitelist exactly which options\n",
      "may be set from a modeline.\n",
      "\n",
      " -- James Vega <jamessan@debian.org>  Sun, 04 May 2008 03:11:51 -0400\n"
     ]
    }
   ],
   "source": [
    "print(fh.read())  # returns the entire content"
   ]
  },
  {
   "cell_type": "code",
   "execution_count": 35,
   "id": "ae29dac8-2da7-43bf-96d3-16abe57d37cb",
   "metadata": {},
   "outputs": [
    {
     "name": "stdout",
     "output_type": "stream",
     "text": [
      "Vim for Debian\n",
      "---------------\n",
      "\n",
      "1. The current Debian Vim scripts policy can be found in the vim-doc\n"
     ]
    }
   ],
   "source": [
    "fh = open(r'C:\\Users\\prince.s\\Documents\\jupyter_files\\readme.txt','r')\n",
    "\n",
    "print(fh.read(100)) #returns 100 bytes from current cursor position "
   ]
  },
  {
   "cell_type": "code",
   "execution_count": 36,
   "id": "8a778e20-5898-4b00-8798-12ad5cc359e0",
   "metadata": {},
   "outputs": [
    {
     "name": "stdout",
     "output_type": "stream",
     "text": [
      "Vim for Debian\n",
      "---------------\n",
      "\n",
      "1. The current Debian Vim scripts policy can be found in the vim-doc\n"
     ]
    }
   ],
   "source": [
    "with(open(r'C:\\Users\\prince.s\\Documents\\jupyter_files\\readme.txt','r')) as fh:\n",
    "    print(fh.read(100)) #file is closed after this"
   ]
  },
  {
   "cell_type": "code",
   "execution_count": 56,
   "id": "d781239c-cea0-41a7-a977-16ea9622fb86",
   "metadata": {},
   "outputs": [
    {
     "name": "stdout",
     "output_type": "stream",
     "text": [
      "Vim for Debian\n",
      "\n"
     ]
    }
   ],
   "source": [
    "#print(fh.readline())  #ValueError: I/O operation on closed file.\n",
    "fh = open(r'C:\\Users\\prince.s\\Documents\\jupyter_files\\readme.txt','r')\n",
    "print(fh.readline()) \n",
    "# readline -  returns the current line where the cursor is present\n",
    "#readlines - returns entire content as list"
   ]
  },
  {
   "cell_type": "code",
   "execution_count": 57,
   "id": "0ff574cc-db53-43bc-8b3b-9f62c1eff9fd",
   "metadata": {},
   "outputs": [
    {
     "name": "stdout",
     "output_type": "stream",
     "text": [
      "---------------\n",
      "\n",
      "1. The current Debian Vim scripts policy can be found in the vim-doc package\n"
     ]
    }
   ],
   "source": [
    "print(fh.readline(),end='')\n",
    "print(fh.readline(),end='')\n",
    "print(fh.readline(),end='')"
   ]
  },
  {
   "cell_type": "code",
   "execution_count": 58,
   "id": "39773e0b-2066-44ca-976a-b784d0a77dc9",
   "metadata": {},
   "outputs": [
    {
     "name": "stdout",
     "output_type": "stream",
     "text": [
      "   under /usr/share/doc/vim-common and\n",
      "\n",
      "   <http://pkg-vim.alioth.debian.org/vim-policy.html/>.\n",
      "\n"
     ]
    }
   ],
   "source": [
    "print(fh.readline())\n",
    "print(fh.readline())"
   ]
  },
  {
   "cell_type": "code",
   "execution_count": 59,
   "id": "6a66a501-5665-4626-baf1-10d1a0426164",
   "metadata": {},
   "outputs": [
    {
     "name": "stdout",
     "output_type": "stream",
     "text": [
      "\n",
      "\n",
      "2. Before reporting bugs, check if the bug also exists if you run vim\n",
      "\n"
     ]
    }
   ],
   "source": [
    "print(fh.readline())\n",
    "print(fh.readline())"
   ]
  },
  {
   "cell_type": "code",
   "execution_count": 60,
   "id": "b3ea349d-cf89-4cdc-8cc4-1002421dce42",
   "metadata": {},
   "outputs": [
    {
     "name": "stdout",
     "output_type": "stream",
     "text": [
      "   with \"vim -u NONE -U NONE\". If not, make sure that the \"bug\" is not\n",
      "\n",
      "   a result of a setting in your ~/.vimrc before reporting it.\n",
      "\n"
     ]
    }
   ],
   "source": [
    "print(fh.readline())\n",
    "print(fh.readline())"
   ]
  },
  {
   "cell_type": "code",
   "execution_count": 61,
   "id": "dd829d2f-d14d-4998-8586-be977557b443",
   "metadata": {},
   "outputs": [
    {
     "name": "stdout",
     "output_type": "stream",
     "text": [
      "Vim for Debian\n",
      "---------------\n"
     ]
    }
   ],
   "source": [
    "with(open(r'C:\\Users\\prince.s\\Documents\\jupyter_files\\readme.txt','r')) as fh:\n",
    "    print(fh.readline().rstrip('\\n'))\n",
    "    print(fh.readline().rstrip('\\n'))\n",
    "\n",
    "    "
   ]
  },
  {
   "cell_type": "code",
   "execution_count": 62,
   "id": "46830587-08c5-492d-ba6a-c8ac92875841",
   "metadata": {},
   "outputs": [
    {
     "name": "stdout",
     "output_type": "stream",
     "text": [
      "['Vim for Debian\\n', '---------------\\n', '\\n', '1. The current Debian Vim scripts policy can be found in the vim-doc package\\n', '   under /usr/share/doc/vim-common and\\n', '   <http://pkg-vim.alioth.debian.org/vim-policy.html/>.\\n', '\\n', '2. Before reporting bugs, check if the bug also exists if you run vim\\n', '   with \"vim -u NONE -U NONE\". If not, make sure that the \"bug\" is not\\n', '   a result of a setting in your ~/.vimrc before reporting it.\\n', '\\n', ' -- Stefano Zacchiroli <zack@debian.org>   Mon, 10 Apr 2006 09:59:41 -0400\\n', '\\n', 'MzScheme Vim variant\\n', '--------------------\\n', '\\n', 'As requested by the current MzScheme maintainer (Ari Pollak <ari@debian.org>),\\n', 'a vim-mzscheme variant is not being built.  The reasons stated are as follows:\\n', '\\n', \"  1) MzScheme does not build on many of Debian's supported architectures.\\n\", '\\n', '  2) The MzScheme package is not versioned based on the library.\\n', '\\n', '  3) The MzScheme ABI changes with every upstream version.\\n', '\\n', ' -- James Vega <jamessan@debian.org> Mon, 10  Apr  2006  09:48:25  -0400\\n', '\\n', 'Modeline support disabled by default\\n', '------------------------------------\\n', '\\n', 'Modelines have historically been a source of security/resource vulnerabilities\\n', 'and are therefore disabled by default in $VIMRUNTIME/debian.vim.\\n', '\\n', 'You can enable them in ~/.vimrc or /etc/vim/vimrc with \"set modeline\".\\n', '\\n', \"In order to mimic Vim's default setting (modelines disabled when root, enabled\\n\", 'otherwise), you may instead want to use the following snippet:\\n', '\\n', \"  if $USER != 'root'\\n\", '    set modeline\\n', '  else\\n', '    set nomodeline\\n', '  endif\\n', '\\n', 'The securemodelines script from vim.org (and in the vim-scripts package) may\\n', 'also be of interest as it provides a way to whitelist exactly which options\\n', 'may be set from a modeline.\\n', '\\n', ' -- James Vega <jamessan@debian.org>  Sun, 04 May 2008 03:11:51 -0400']\n"
     ]
    }
   ],
   "source": [
    "with(open(r'C:\\Users\\prince.s\\Documents\\jupyter_files\\readme.txt','r')) as fh:\n",
    "    print(fh.readlines())"
   ]
  },
  {
   "cell_type": "code",
   "execution_count": 63,
   "id": "14969dfd-6796-4a03-bad6-0e345be23ff6",
   "metadata": {},
   "outputs": [
    {
     "name": "stdout",
     "output_type": "stream",
     "text": [
      "Vim for Debian\n",
      "---------------\n",
      "\n",
      "1. The current Debian Vim scripts policy can be found in the vim-doc package\n",
      "under /usr/share/doc/vim-common and\n",
      "<http://pkg-vim.alioth.debian.org/vim-policy.html/>.\n",
      "\n",
      "2. Before reporting bugs, check if the bug also exists if you run vim\n",
      "with \"vim -u NONE -U NONE\". If not, make sure that the \"bug\" is not\n",
      "a result of a setting in your ~/.vimrc before reporting it.\n",
      "\n",
      "-- Stefano Zacchiroli <zack@debian.org>   Mon, 10 Apr 2006 09:59:41 -0400\n",
      "\n",
      "MzScheme Vim variant\n",
      "--------------------\n",
      "\n",
      "As requested by the current MzScheme maintainer (Ari Pollak <ari@debian.org>),\n",
      "a vim-mzscheme variant is not being built.  The reasons stated are as follows:\n",
      "\n",
      "1) MzScheme does not build on many of Debian's supported architectures.\n",
      "\n",
      "2) The MzScheme package is not versioned based on the library.\n",
      "\n",
      "3) The MzScheme ABI changes with every upstream version.\n",
      "\n",
      "-- James Vega <jamessan@debian.org> Mon, 10  Apr  2006  09:48:25  -0400\n",
      "\n",
      "Modeline support disabled by default\n",
      "------------------------------------\n",
      "\n",
      "Modelines have historically been a source of security/resource vulnerabilities\n",
      "and are therefore disabled by default in $VIMRUNTIME/debian.vim.\n",
      "\n",
      "You can enable them in ~/.vimrc or /etc/vim/vimrc with \"set modeline\".\n",
      "\n",
      "In order to mimic Vim's default setting (modelines disabled when root, enabled\n",
      "otherwise), you may instead want to use the following snippet:\n",
      "\n",
      "if $USER != 'root'\n",
      "set modeline\n",
      "else\n",
      "set nomodeline\n",
      "endif\n",
      "\n",
      "The securemodelines script from vim.org (and in the vim-scripts package) may\n",
      "also be of interest as it provides a way to whitelist exactly which options\n",
      "may be set from a modeline.\n",
      "\n",
      "-- James Vega <jamessan@debian.org>  Sun, 04 May 2008 03:11:51 -0400\n"
     ]
    }
   ],
   "source": [
    "with(open(r'C:\\Users\\prince.s\\Documents\\jupyter_files\\readme.txt','r')) as fh:\n",
    "    for line in fh.readlines():\n",
    "        print(line.strip())"
   ]
  },
  {
   "cell_type": "code",
   "execution_count": 64,
   "id": "71e38277-44d1-4127-a859-7c7deb385320",
   "metadata": {},
   "outputs": [
    {
     "name": "stdout",
     "output_type": "stream",
     "text": [
      "Vim for Debian\n",
      "---------------\n",
      "\n",
      "1. The current Debian Vim scripts policy can be found in the vim-doc package\n",
      "under /usr/share/doc/vim-common and\n",
      "<http://pkg-vim.alioth.debian.org/vim-policy.html/>.\n",
      "\n",
      "2. Before reporting bugs, check if the bug also exists if you run vim\n",
      "with \"vim -u NONE -U NONE\". If not, make sure that the \"bug\" is not\n",
      "a result of a setting in your ~/.vimrc before reporting it.\n",
      "\n",
      "-- Stefano Zacchiroli <zack@debian.org>   Mon, 10 Apr 2006 09:59:41 -0400\n",
      "\n",
      "MzScheme Vim variant\n",
      "--------------------\n",
      "\n",
      "As requested by the current MzScheme maintainer (Ari Pollak <ari@debian.org>),\n",
      "a vim-mzscheme variant is not being built.  The reasons stated are as follows:\n",
      "\n",
      "1) MzScheme does not build on many of Debian's supported architectures.\n",
      "\n",
      "2) The MzScheme package is not versioned based on the library.\n",
      "\n",
      "3) The MzScheme ABI changes with every upstream version.\n",
      "\n",
      "-- James Vega <jamessan@debian.org> Mon, 10  Apr  2006  09:48:25  -0400\n",
      "\n",
      "Modeline support disabled by default\n",
      "------------------------------------\n",
      "\n",
      "Modelines have historically been a source of security/resource vulnerabilities\n",
      "and are therefore disabled by default in $VIMRUNTIME/debian.vim.\n",
      "\n",
      "You can enable them in ~/.vimrc or /etc/vim/vimrc with \"set modeline\".\n",
      "\n",
      "In order to mimic Vim's default setting (modelines disabled when root, enabled\n",
      "otherwise), you may instead want to use the following snippet:\n",
      "\n",
      "if $USER != 'root'\n",
      "set modeline\n",
      "else\n",
      "set nomodeline\n",
      "endif\n",
      "\n",
      "The securemodelines script from vim.org (and in the vim-scripts package) may\n",
      "also be of interest as it provides a way to whitelist exactly which options\n",
      "may be set from a modeline.\n",
      "\n",
      "-- James Vega <jamessan@debian.org>  Sun, 04 May 2008 03:11:51 -0400\n"
     ]
    }
   ],
   "source": [
    "with(open(r'C:\\Users\\prince.s\\Documents\\jupyter_files\\readme.txt','r')) as fh:\n",
    "    for line in fh.readlines():\n",
    "        print(line.strip())"
   ]
  },
  {
   "cell_type": "code",
   "execution_count": 89,
   "id": "2bb18bd7-23e4-457d-8c87-9b047ccf2859",
   "metadata": {},
   "outputs": [],
   "source": [
    "##ADD CONTENT TO THE FILE\n",
    "\n",
    "#write - to add content to a file.can work with both binary and text\n",
    "\n",
    "#writelines - takes list as argument and writes each element into the file\n",
    "#             works with text"
   ]
  },
  {
   "cell_type": "code",
   "execution_count": 90,
   "id": "3376212d-5c65-461a-a684-0a8f355ea1e0",
   "metadata": {},
   "outputs": [
    {
     "name": "stdout",
     "output_type": "stream",
     "text": [
      "\n",
      "Hi guys\n",
      "\n",
      "Hi guys(next line)\n",
      "\n"
     ]
    }
   ],
   "source": [
    "with(open(r'C:\\Users\\prince.s\\Documents\\jupyter_files\\writing.txt', 'w+')) as fh: #both read and write\n",
    "    fh.write('Hi guys\\n')\n",
    "    fh.write('Hi guys(next line)\\n')\n",
    "    print(fh.readline()) #can not read the file as the cursor is below\n",
    "    fh.seek(0,0) # resets the cursor position\n",
    "    print(fh.readline())\n",
    "    print(fh.readline())"
   ]
  },
  {
   "cell_type": "code",
   "execution_count": 93,
   "id": "311762ad-947d-4cec-bd8d-b3ebdd32b7db",
   "metadata": {},
   "outputs": [
    {
     "name": "stdout",
     "output_type": "stream",
     "text": [
      "python is simple to learn\n",
      "\n",
      "portable python\n",
      "\n"
     ]
    }
   ],
   "source": [
    "with(open(r'C:\\Users\\prince.s\\Documents\\jupyter_files\\file.txt', 'w+')) as fh:\n",
    "    fh.writelines(['python is simple to learn\\n', 'portable python\\n'])\n",
    "    fh.seek(0,0)\n",
    "    print(fh.readline())\n",
    "    print(fh.readline())"
   ]
  },
  {
   "cell_type": "code",
   "execution_count": 96,
   "id": "469b4190-8685-48ed-96b5-c59fff8dc789",
   "metadata": {},
   "outputs": [],
   "source": [
    "fh = open('demo_2.jpg', 'rb') \n",
    "content = fh.read()             #reading the binary content\n",
    "oh = open('new_img.jpg', 'wb')  #writing the binary content\n",
    "oh.write(content)\n",
    "fh.close()\n",
    "oh.close()"
   ]
  },
  {
   "cell_type": "code",
   "execution_count": 98,
   "id": "dae4aa9a-23c2-41d5-bf24-4feafa8bbaf5",
   "metadata": {},
   "outputs": [],
   "source": [
    "with(open('readme.txt','r')) as fh:\n",
    "    fh.read() #reaches the end of the file\n",
    "    for line in fh.readlines(): \n",
    "        print(line) # no output after the cursor reaches last line"
   ]
  },
  {
   "cell_type": "code",
   "execution_count": 103,
   "id": "4735f82a-cb9c-47e8-a99d-0318b1513fee",
   "metadata": {},
   "outputs": [
    {
     "name": "stdout",
     "output_type": "stream",
     "text": [
      "Vim for Debian\n",
      "\n",
      "---------------\n",
      "\n",
      "\n",
      "\n",
      "1. The current Debian Vim scripts policy can be found in the vim-doc package\n",
      "\n",
      "   under /usr/share/doc/vim-common and\n",
      "\n",
      "   <http://pkg-vim.alioth.debian.org/vim-policy.html/>.\n",
      "\n",
      "\n",
      "\n",
      "2. Before reporting bugs, check if the bug also exists if you run vim\n",
      "\n",
      "   with \"vim -u NONE -U NONE\". If not, make sure that the \"bug\" is not\n",
      "\n",
      "   a result of a setting in your ~/.vimrc before reporting it.\n",
      "\n",
      "\n",
      "\n",
      " -- Stefano Zacchiroli <zack@debian.org>   Mon, 10 Apr 2006 09:59:41 -0400\n",
      "\n",
      "\n",
      "\n",
      "MzScheme Vim variant\n",
      "\n",
      "--------------------\n",
      "\n",
      "\n",
      "\n",
      "As requested by the current MzScheme maintainer (Ari Pollak <ari@debian.org>),\n",
      "\n",
      "a vim-mzscheme variant is not being built.  The reasons stated are as follows:\n",
      "\n",
      "\n",
      "\n",
      "  1) MzScheme does not build on many of Debian's supported architectures.\n",
      "\n",
      "\n",
      "\n",
      "  2) The MzScheme package is not versioned based on the library.\n",
      "\n",
      "\n",
      "\n",
      "  3) The MzScheme ABI changes with every upstream version.\n",
      "\n",
      "\n",
      "\n",
      " -- James Vega <jamessan@debian.org> Mon, 10  Apr  2006  09:48:25  -0400\n",
      "\n",
      "\n",
      "\n",
      "Modeline support disabled by default\n",
      "\n",
      "------------------------------------\n",
      "\n",
      "\n",
      "\n",
      "Modelines have historically been a source of security/resource vulnerabilities\n",
      "\n",
      "and are therefore disabled by default in $VIMRUNTIME/debian.vim.\n",
      "\n",
      "\n",
      "\n",
      "You can enable them in ~/.vimrc or /etc/vim/vimrc with \"set modeline\".\n",
      "\n",
      "\n",
      "\n",
      "In order to mimic Vim's default setting (modelines disabled when root, enabled\n",
      "\n",
      "otherwise), you may instead want to use the following snippet:\n",
      "\n",
      "\n",
      "\n",
      "  if $USER != 'root'\n",
      "\n",
      "    set modeline\n",
      "\n",
      "  else\n",
      "\n",
      "    set nomodeline\n",
      "\n",
      "  endif\n",
      "\n",
      "\n",
      "\n",
      "The securemodelines script from vim.org (and in the vim-scripts package) may\n",
      "\n",
      "also be of interest as it provides a way to whitelist exactly which options\n",
      "\n",
      "may be set from a modeline.\n",
      "\n",
      "\n",
      "\n",
      " -- James Vega <jamessan@debian.org>  Sun, 04 May 2008 03:11:51 -0400\n"
     ]
    }
   ],
   "source": [
    "with(open('readme.txt','r')) as fh:\n",
    "    fh.read()\n",
    "    fh.seek(0,0)  #resets the cursor position\n",
    "    for line in fh.readlines():  #content id diplayed after resetting the \n",
    "        print(line)"
   ]
  },
  {
   "cell_type": "code",
   "execution_count": 104,
   "id": "59397251-7684-43bb-a38e-585fdc0eeaf5",
   "metadata": {},
   "outputs": [],
   "source": [
    "#seek - reset cursor position\n",
    "#       takes 2 parameters\n",
    "#       1st param - offset in bytes\n",
    "#       2nd param - position to calculate the offset\n",
    "#                    0 - Beggining of the file\n",
    "#                    1 - current Cursor position\n",
    "#                    2 - End of the file"
   ]
  },
  {
   "cell_type": "code",
   "execution_count": 105,
   "id": "838911d0-9f17-45ff-8922-7cd9a75669e6",
   "metadata": {},
   "outputs": [],
   "source": [
    "#reset my current cursor position to the 10th byte from the beginning of the file\n",
    "#fh(file object)\n",
    "#fh.seek(10,0)"
   ]
  },
  {
   "cell_type": "code",
   "execution_count": 106,
   "id": "7eaf7a07-cbd2-4cac-8634-c8d79cd28cab",
   "metadata": {},
   "outputs": [],
   "source": [
    "#reset my current cursor position to the 10th byte from current cursor position \n",
    "#fh(file object)\n",
    "#fh.seek(10,1)\n",
    "\n",
    "\n",
    "\n",
    "#tell - returns the current cursor position"
   ]
  },
  {
   "cell_type": "code",
   "execution_count": 109,
   "id": "6b05e8fe-9160-4c13-a1ee-3a745cbb5117",
   "metadata": {},
   "outputs": [
    {
     "name": "stdout",
     "output_type": "stream",
     "text": [
      "bian\n",
      "\n"
     ]
    }
   ],
   "source": [
    "with(open('readme.txt','r')) as fh:\n",
    "    fh.seek(10,0)\n",
    "    print(fh.readline())\n",
    "    "
   ]
  },
  {
   "cell_type": "code",
   "execution_count": 117,
   "id": "37e64ee6-05fb-4b7b-9d19-69dea132c1f0",
   "metadata": {},
   "outputs": [
    {
     "name": "stdout",
     "output_type": "stream",
     "text": [
      "42\n"
     ]
    }
   ],
   "source": [
    "fh = open('file.txt','r')\n",
    "print(len(fh.read()))"
   ]
  },
  {
   "cell_type": "code",
   "execution_count": 116,
   "id": "4dc2221d-99a0-4788-9df9-7ede7854e1ab",
   "metadata": {},
   "outputs": [
    {
     "name": "stdout",
     "output_type": "stream",
     "text": [
      "os.stat_result(st_mode=33206, st_ino=5629499534280890, st_dev=11554013209461105240, st_nlink=1, st_uid=0, st_gid=0, st_size=44, st_atime=1744092341, st_mtime=1744088732, st_ctime=1744088585)\n"
     ]
    }
   ],
   "source": [
    "import os\n",
    "print(os.stat('file.txt'))"
   ]
  },
  {
   "cell_type": "code",
   "execution_count": 113,
   "id": "f04f8156-c408-41a8-91cd-56610083070b",
   "metadata": {},
   "outputs": [
    {
     "name": "stdout",
     "output_type": "stream",
     "text": [
      "os.stat_result(st_mode=33206, st_ino=2533274790463971, st_dev=11554013209461105240, st_nlink=1, st_uid=0, st_gid=0, st_size=43789, st_atime=1744091109, st_mtime=1744089155, st_ctime=1744089155)\n"
     ]
    }
   ],
   "source": [
    "import os\n",
    "print(os.stat('demo_2.jpg'))"
   ]
  },
  {
   "cell_type": "code",
   "execution_count": 115,
   "id": "37a7cbe4-4b35-43db-9c63-408cbaaddff6",
   "metadata": {},
   "outputs": [
    {
     "name": "stdout",
     "output_type": "stream",
     "text": [
      "44\n"
     ]
    }
   ],
   "source": [
    "print(os.stat('file.txt')[6])"
   ]
  },
  {
   "cell_type": "code",
   "execution_count": 119,
   "id": "d4a5602a-a5cf-4adf-84d7-1c668f4e32ce",
   "metadata": {},
   "outputs": [
    {
     "name": "stdout",
     "output_type": "stream",
     "text": [
      "Vim f\n",
      "5\n",
      "10\n"
     ]
    }
   ],
   "source": [
    "fh = open(\"readme.txt\",\"r\") \n",
    "print(fh.read(5))\n",
    "print(fh.tell())\n",
    "fh.seek(10,0)\n",
    "print(fh.tell())\n"
   ]
  },
  {
   "cell_type": "code",
   "execution_count": 2,
   "id": "e7e681c9-7fe5-47b4-8e0a-2ac121909824",
   "metadata": {},
   "outputs": [
    {
     "data": {
      "text/plain": [
       "-1"
      ]
     },
     "execution_count": 2,
     "metadata": {},
     "output_type": "execute_result"
    }
   ],
   "source": [
    "'''\n",
    "1. Create a function to perform basic arithmetic operations that includes addition, subtraction, multiplication and division on a string number (e.g. \"12 + 24\" or \"23 - 21\" or \"12 // 12\" or \"12 * 21\").\n",
    "\n",
    "Here, we have 1 followed by a space, operator followed by another space and 2. For the challenge, we are going to have only two numbers between 1 valid operator. The return value should be a number.\n",
    "\n",
    "eval() is not allowed. In case of division, whenever the second number equals \"0\" return -1.\n",
    "\n",
    "For example:\n",
    "\n",
    "\"15 // 0\"  ➞ -1\n",
    "Examples\n",
    "arithmetic_operation(\"12 + 12\") ➞ 24 // 12 + 12 = 24\n",
    "\n",
    "arithmetic_operation(\"12 - 12\") ➞ 24 // 12 - 12 = 0\n",
    "\n",
    "arithmetic_operation(\"12 * 12\") ➞ 144 // 12 * 12 = 144\n",
    "\n",
    "arithmetic_operation(\"12 // 0\") ➞ -1 // 12 / 0 = -1\n",
    "\n",
    "'''\n",
    "\n",
    "def arith(string):\n",
    "    strlist = string.split(\" \")\n",
    "    ans = 0\n",
    "    a,b = int(strlist[0]), int(strlist[2])\n",
    "    if strlist[1] == '+':\n",
    "        ans = a+b\n",
    "    elif strlist[1] == '-':\n",
    "        ans = a-b\n",
    "    elif strlist[1] == '*':\n",
    "        ans = a*b\n",
    "    elif strlist[1] == '//':\n",
    "        if b ==0:\n",
    "            ans = -1\n",
    "        else:\n",
    "            ans = a/b\n",
    "    else:\n",
    "        ans = -1\n",
    "    return ans\n",
    "\n",
    "arith(\"12 // 0\")\n",
    "    "
   ]
  },
  {
   "cell_type": "code",
   "execution_count": 1,
   "id": "ba91c52b-981d-492b-998b-5cf88a5fd980",
   "metadata": {},
   "outputs": [
    {
     "data": {
      "text/plain": [
       "False"
      ]
     },
     "execution_count": 1,
     "metadata": {},
     "output_type": "execute_result"
    }
   ],
   "source": [
    "'''2. You are given three inputs: a string, one letter, and a second letter.\n",
    "\n",
    "Write a function that returns True if every instance of the first letter occurs before every instance of the second letter.\n",
    "\n",
    "Examples\n",
    "first_before_second(\"a rabbit jumps joyfully\", \"a\", \"j\") ➞ True\n",
    "# Every instance of \"a\" occurs before every instance of \"j\".\n",
    "\n",
    "first_before_second(\"knaves knew about waterfalls\", \"k\", \"w\") ➞  True\n",
    "\n",
    "first_before_second(\"happy birthday\", \"a\", \"y\") ➞ False\n",
    "# The \"a\" in \"birthday\" occurs after the \"y\" in \"happy\".\n",
    "\n",
    "first_before_second(\"precarious kangaroos\", \"k\", \"a\") ➞ False\n",
    "'''\n",
    "\n",
    "def funct(string, fc, lc):\n",
    "    for i,ch in enumerate(string):\n",
    "        if(ch == lc):\n",
    "            for j in range(i,len(string)):\n",
    "                if string[j] == fc:\n",
    "                    return False\n",
    "    return True\n",
    "funct(\"precarious kangaroos\", \"k\", \"a\")"
   ]
  },
  {
   "cell_type": "code",
   "execution_count": null,
   "id": "28b02339-79af-4f35-adac-2618fc413932",
   "metadata": {},
   "outputs": [],
   "source": [
    "'''\n",
    "3. A fulcrum of a list is an integer such that all elements to the left of it and all elements to the right of it sum to the same value. Write a function that finds the fulcrum of a list.\n",
    "\n",
    "To illustrate:\n",
    "\n",
    "find_fulcrum([3, 1, 5, 2, 4, 6, -1]) ➞ 2\n",
    "// Since [3, 1, 5] and [4, 6, -1] both sum to 9\n",
    "\n",
    "find_fulcrum([1, 2, 4, 9, 10, -10, -9, 3]) ➞ 4\n",
    "\n",
    "find_fulcrum([9, 1, 9]) ➞ 1\n",
    "\n",
    "find_fulcrum([7, -1, 0, -1, 1, 1, 2, 3]) ➞ 0\n",
    "\n",
    "find_fulcrum([8, 8, 8, 8]) ➞ -1\n",
    "'''\n",
    "\n",
    "listy =[1, 2, 4, 9, 10, -10, -9, 3]\n",
    "\n",
    "def find_fulcrum(L):\n",
    "    \n",
    "    n=len(L)-1\n",
    "    fro = L[0]\n",
    "    la = L[n]\n",
    "    i=1\n",
    "    n-=1\n",
    "    while True:\n",
    "        if fro > la:\n",
    "            \n",
    "            la+=L[n]\n",
    "            n-=1\n",
    "            \n",
    "        elif la > fro:\n",
    "            \n",
    "            fro += L[i]\n",
    "            i+=1\n",
    "            \n",
    "        elif la >= fro and i == n:\n",
    "            return L[i]\n",
    "        \n",
    "\n",
    "find_fulcrum(listy)\n",
    "\n",
    "\n",
    "\n",
    "\n"
   ]
  },
  {
   "cell_type": "code",
   "execution_count": 1,
   "id": "99a177e0-d9bd-4278-98c4-8b69a8ca2532",
   "metadata": {},
   "outputs": [
    {
     "name": "stdout",
     "output_type": "stream",
     "text": [
      "4\n"
     ]
    }
   ],
   "source": [
    "# SIR'S LOGIC\n",
    "\n",
    "def find_fulcrum(num):\n",
    "    left = 0\n",
    "    right = 0\n",
    "    for i in range(1,len(num)):\n",
    "        left = sum(num[:i])\n",
    "        right = sum(num[i+1:])\n",
    "        if left == right:\n",
    "            return num[i]\n",
    "    else:\n",
    "        return -1\n",
    "print(find_fulcrum([1, 2, 4, 9, 10, -10, -9, 3]))"
   ]
  },
  {
   "cell_type": "code",
   "execution_count": 17,
   "id": "975c7c5c-e759-4fba-9389-032a201b1f55",
   "metadata": {},
   "outputs": [
    {
     "name": "stdout",
     "output_type": "stream",
     "text": [
      "[2, 3]\n"
     ]
    },
    {
     "data": {
      "text/plain": [
       "True"
      ]
     },
     "execution_count": 17,
     "metadata": {},
     "output_type": "execute_result"
    }
   ],
   "source": [
    "'''\n",
    "4. Given a positive number x:\n",
    "\n",
    "p = (p1, p2, …)\n",
    "# Set of *prime* factors of x\n",
    "If the square of every item in p is also a factor of x, then x is said to be a powerful number.\n",
    "\n",
    "Create a function that takes a number and returns True if it's powerful, False if it's not.\n",
    "\n",
    "Examples\n",
    "is_powerful(36) ➞ True\n",
    "# p = (2, 3) (prime factors of 36)\n",
    "# 2^2 = 4 (factor of 36)\n",
    "# 3^2 = 9 (factor of 36)\n",
    "\n",
    "is_powerful(27) ➞ True\n",
    "\n",
    "is_powerful(674) ➞ False\n",
    "'''\n",
    "def powerfful(n):\n",
    "    prime_f = []\n",
    "    x=0\n",
    "    for i in range(2,n//2):\n",
    "        if n%i == 0:\n",
    "            for k in range(2,i):\n",
    "                if(i%k == 0):\n",
    "                    x+=1\n",
    "                    break\n",
    "            if x==0:\n",
    "                prime_f.append(i)\n",
    "            \n",
    "    print(prime_f)\n",
    "    for j in prime_f:\n",
    "        if n%(j*j) != 0:\n",
    "            return False\n",
    "    return True\n",
    "powerfful(36)       "
   ]
  },
  {
   "cell_type": "code",
   "execution_count": 3,
   "id": "78c347ce-6da6-4871-98ea-0dcd835fc762",
   "metadata": {},
   "outputs": [
    {
     "name": "stdout",
     "output_type": "stream",
     "text": [
      "[4, 9]\n",
      "[True, True]\n"
     ]
    },
    {
     "data": {
      "text/plain": [
       "True"
      ]
     },
     "execution_count": 3,
     "metadata": {},
     "output_type": "execute_result"
    }
   ],
   "source": [
    "#SIR'S LOGIC\n",
    "\n",
    "def is_p(num):\n",
    "    prime_f = []\n",
    "    def is_prime(n):\n",
    "        for i in range(2,n//2+1):\n",
    "            if n%i==0:\n",
    "                return False\n",
    "        return True\n",
    "    prime_f = [x*x for x in range(2,num//2+1) if is_prime(x) and num%x==0] #it should be prime and it should be a factor\n",
    "    print(prime_f)\n",
    "    res = [num%x==0 for x in prime_f]\n",
    "    print(res)\n",
    "    return all(res)\n",
    "is_p(36)"
   ]
  },
  {
   "cell_type": "code",
   "execution_count": 3,
   "id": "9411c3f7-2cf8-40e0-b763-d244486ca4f7",
   "metadata": {},
   "outputs": [
    {
     "data": {
      "text/plain": [
       "False"
      ]
     },
     "execution_count": 3,
     "metadata": {},
     "output_type": "execute_result"
    }
   ],
   "source": [
    "\n",
    "\n",
    "def ifPowerful(num):\n",
    "    def is_prime(n):\n",
    "        for i in range(2,n//2+1):\n",
    "            if n%i==0:\n",
    "                return False\n",
    "        return True\n",
    "    square_p_f = [x*x for x in range(2,(num//2+1)) if is_prime(x) and num%x==0]\n",
    "    check_f = [num%x for x in square_p_f]\n",
    "    return all(check_f) #all([True, True, True]) -> True --  all([True, False, True]) -> False\n",
    "ifPowerful(36)\n"
   ]
  },
  {
   "cell_type": "code",
   "execution_count": 16,
   "id": "fcac9323-360a-442c-b7f4-d55b6220d701",
   "metadata": {},
   "outputs": [
    {
     "name": "stdin",
     "output_type": "stream",
     "text": [
      " 28\n"
     ]
    },
    {
     "data": {
      "text/plain": [
       "29"
      ]
     },
     "execution_count": 16,
     "metadata": {},
     "output_type": "execute_result"
    }
   ],
   "source": [
    "'''5. Given an integer, create a function that returns the next prime. If the number is prime, return the number itself.\n",
    "\n",
    "Examples\n",
    "next_prime(12) ➞ 13\n",
    "\n",
    "next_prime(24) ➞ 29\n",
    "\n",
    "next_prime(11) ➞ 11\n",
    "# 11 is a prime, so we return the number itself.\n",
    "'''\n",
    "\n",
    "n = int(input())\n",
    "def is_prime(g):\n",
    "    x=0\n",
    "    #s = int(math.sqrt(g))\n",
    "    for i in range(2,int(pow(g,0.5))+1):\n",
    "        if(g%i == 0):\n",
    "            return False\n",
    "    else:\n",
    "        return True\n",
    "  \n",
    "def next_prime(n):\n",
    "    jj=0\n",
    "    for i in range(2,n):\n",
    "        if(n%i == 0):\n",
    "            jj+=1\n",
    "            while True:\n",
    "                n+=1\n",
    "                if is_prime(n):\n",
    "                    return n\n",
    "                \n",
    "    if jj==0:\n",
    "        return n\n",
    "next_prime(n)"
   ]
  },
  {
   "cell_type": "code",
   "execution_count": null,
   "id": "2d2d695c-faea-420a-9fa9-18e7c7d2cadb",
   "metadata": {},
   "outputs": [],
   "source": []
  },
  {
   "cell_type": "code",
   "execution_count": 19,
   "id": "b885c2ce-864e-47b7-b5eb-cd4215475213",
   "metadata": {},
   "outputs": [
    {
     "data": {
      "text/plain": [
       "True"
      ]
     },
     "execution_count": 19,
     "metadata": {},
     "output_type": "execute_result"
    }
   ],
   "source": [
    "import math\n",
    "\n",
    "def is_prime(g):\n",
    "    x=0\n",
    "    #s = int(math.sqrt(g))\n",
    "    for i in range(2,int(pow(g,0.5))+1):\n",
    "        if(g%i == 0):\n",
    "            return False\n",
    "    else:\n",
    "        return True\n",
    "\n",
    "is_prime(1)"
   ]
  },
  {
   "cell_type": "code",
   "execution_count": 4,
   "id": "8487a8f7-83bf-4da7-80e8-a070ebcdeb74",
   "metadata": {},
   "outputs": [
    {
     "name": "stdout",
     "output_type": "stream",
     "text": [
      "0\n",
      "0 1\n",
      "hi 1\n",
      "0 2\n",
      "hi 12\n",
      "0 3\n",
      "1\n",
      "2\n",
      "3\n",
      "4\n",
      "5\n",
      "6\n",
      "7\n",
      "8\n",
      "9\n",
      "10\n",
      "10 11\n",
      "hi 1\n",
      "10 12\n",
      "hi 11\n",
      "10 13\n",
      "11\n",
      "12\n",
      "13\n",
      "[12, 11]\n",
      "-23\n"
     ]
    }
   ],
   "source": [
    "'''\n",
    "6. Create a function that takes a string containing integers as well as other characters and return the sum of the negative integers only.\n",
    "\n",
    "Examples\n",
    "negative_sum(\"-12 13%14&-11\") ➞ -23\n",
    "# -12 + -11 = -23\n",
    "\n",
    "negative_sum(\"22 13%14&-11-22 13 12\") ➞ -33\n",
    "# -11 + -22 = -33\n",
    "'''\n",
    "\n",
    "def negative_sum(string):\n",
    "    L = []\n",
    "    x=0\n",
    "    length = len(string)\n",
    "    for i,ch in enumerate(string):\n",
    "        print(i)\n",
    "        if ch == '-':\n",
    "            for j in range(i+1, length):\n",
    "                print(i,j)\n",
    "                if string[j].isdigit():\n",
    "                    x = (x*10)+int(string[j])\n",
    "                    print(f\"hi {x}\")\n",
    "                elif j == length-1 and x>0:\n",
    "                    L.append(x)\n",
    "                    x=0\n",
    "                    break\n",
    "                else:\n",
    "                    L.append(x)\n",
    "                    x=0\n",
    "                    break\n",
    "    return L  \n",
    "    \n",
    "kim = negative_sum(\"-12 13%14&-11@\")\n",
    "print(kim)\n",
    "sum = 0\n",
    "for o in kim:\n",
    "    sum = sum +o\n",
    "print(sum*-1)\n",
    "            \n",
    "            \n",
    "            "
   ]
  },
  {
   "cell_type": "code",
   "execution_count": 8,
   "id": "dae995c2-973e-443d-b04e-3cc9a75ee2c6",
   "metadata": {},
   "outputs": [
    {
     "name": "stdout",
     "output_type": "stream",
     "text": [
      "Captured -ve:  -11\n",
      "Captured -ve:  -22\n"
     ]
    },
    {
     "data": {
      "text/plain": [
       "-33"
      ]
     },
     "execution_count": 8,
     "metadata": {},
     "output_type": "execute_result"
    }
   ],
   "source": [
    "#SIR'S LOGIC\n",
    "\n",
    "def negative(string):\n",
    "    sumN = 0\n",
    "    import re\n",
    "    p = re.compile(r'(-\\d+)')\n",
    "    for res in p.finditer(string):\n",
    "        print(\"Captured -ve: \",res.group(1))\n",
    "        sumN += int(res.group(1))\n",
    "    return sumN\n",
    "\n",
    "negative(\"22 13%14&-11-22 13 12\")"
   ]
  },
  {
   "cell_type": "code",
   "execution_count": 20,
   "id": "5d361a29-f411-4821-a5e5-e2c6fc5f3169",
   "metadata": {},
   "outputs": [
    {
     "name": "stdout",
     "output_type": "stream",
     "text": [
      "[1009, 3, 61, 1087, 1091, 1093, 1097]\n"
     ]
    }
   ],
   "source": [
    "'''\n",
    "7. Create a function that takes a list and returns a new list containing only prime numbers.\n",
    "\n",
    "Examples\n",
    "filter_primes([7, 9, 3, 9, 10, 11, 27]) ➞ [7, 3, 11]\n",
    "\n",
    "filter_primes([10007, 1009, 1007, 27, 147, 77, 1001, 70]) ➞ [10007, 1009]\n",
    "\n",
    "filter_primes([1009, 10, 10, 10, 3, 33, 9, 4, 1, 61, 63, 69, 1087, 1091, 1093, 1097]) ➞ [1009, 3, 61, 1087, 1091, 1093, 1097]\n",
    "'''\n",
    "\n",
    "import math\n",
    "\n",
    "def is_prime(g):\n",
    "    x=0\n",
    "    #s = int(math.sqrt(g))\n",
    "    if g == 1:\n",
    "        return False\n",
    "    for i in range(2,int(pow(g,0.5))+1):\n",
    "        if(g%i == 0):\n",
    "            return False\n",
    "    else:\n",
    "        return True\n",
    "\n",
    "\n",
    "\n",
    "def filter_primes(L):\n",
    "    p_list = []\n",
    "    for i in L:\n",
    "        if is_prime(i):\n",
    "            p_list.append(i)\n",
    "    return p_list\n",
    "        \n",
    "res = filter_primes([1009, 10, 10, 10, 3, 33, 9, 4, 1, 61, 63, 69, 1087, 1091, 1093, 1097])\n",
    "print(res)"
   ]
  },
  {
   "cell_type": "code",
   "execution_count": 9,
   "id": "b33cdb01-a2cf-48fa-b777-8c498c5fde6e",
   "metadata": {},
   "outputs": [
    {
     "data": {
      "text/plain": [
       "[1009, 3, 1, 61, 1087, 1091, 1093, 1097]"
      ]
     },
     "execution_count": 9,
     "metadata": {},
     "output_type": "execute_result"
    }
   ],
   "source": [
    "#SIR'S LOGIC\n",
    "\n",
    "def filter_primes(nums):\n",
    "    def is_p(num):\n",
    "        for n in range(2,(num//2+1)):\n",
    "            if num%n == 0:\n",
    "                return False\n",
    "        return True\n",
    "    primes = list(filter(is_p,nums))\n",
    "    return primes\n",
    "filter_primes([1009, 10, 10, 10, 3, 33, 9, 4, 1, 61, 63, 69, 1087, 1091, 1093, 1097])"
   ]
  },
  {
   "cell_type": "code",
   "execution_count": 14,
   "id": "3e65aebf-07fb-4931-9e0c-15235f69a67e",
   "metadata": {},
   "outputs": [
    {
     "name": "stdin",
     "output_type": "stream",
     "text": [
      "Enter a fruit name k\n"
     ]
    },
    {
     "name": "stdout",
     "output_type": "stream",
     "text": [
      "guess is correct\n"
     ]
    }
   ],
   "source": [
    "import random\n",
    "\n",
    "s1 = input(\"Enter a fruit name\")\n",
    "\n",
    "s2 = random.choice([\"apple\",\"k\"]) #random.choice is correct answer\n",
    "\n",
    "if s1==s2:\n",
    "   print(\"guess is correct\")\n",
    "else:\n",
    "   print(\"oop! it's wrong\")"
   ]
  }
 ],
 "metadata": {
  "kernelspec": {
   "display_name": "Python 3 (ipykernel)",
   "language": "python",
   "name": "python3"
  },
  "language_info": {
   "codemirror_mode": {
    "name": "ipython",
    "version": 3
   },
   "file_extension": ".py",
   "mimetype": "text/x-python",
   "name": "python",
   "nbconvert_exporter": "python",
   "pygments_lexer": "ipython3",
   "version": "3.13.2"
  }
 },
 "nbformat": 4,
 "nbformat_minor": 5
}
