{
 "cells": [
  {
   "cell_type": "code",
   "execution_count": 2,
   "id": "8ab922f3-782b-4a46-aafd-b1a409306c49",
   "metadata": {},
   "outputs": [
    {
     "name": "stdout",
     "output_type": "stream",
     "text": [
      "File not found\n",
      "Continues..\n"
     ]
    }
   ],
   "source": [
    "#EXCEPTION HANDLING\n",
    "'''\n",
    "try:\n",
    "    TODO\n",
    "except ErrorClass: # if errorClass not specified it will work as catch all exceptions\n",
    "    TODO\n",
    "else:\n",
    "    TODO\n",
    "finally:       #will be executed always\n",
    "    TODO\n",
    "'''\n",
    "\n",
    "try:\n",
    "    fh = open('myfile1.txt','r')\n",
    "except:\n",
    "    print(\"File not found\")\n",
    "\n",
    "print(\"Continues..\")  #Executes con·tinu·ous·ly without error and prints this line\n",
    "\n"
   ]
  },
  {
   "cell_type": "code",
   "execution_count": 11,
   "id": "21fcaf87-7a41-408d-a27a-ef1eb2d8a7a5",
   "metadata": {},
   "outputs": [
    {
     "name": "stdin",
     "output_type": "stream",
     "text": [
      "Enter the num sam\n"
     ]
    },
    {
     "ename": "ValueError",
     "evalue": "invalid literal for int() with base 10: 'sam'",
     "output_type": "error",
     "traceback": [
      "\u001b[31m---------------------------------------------------------------------------\u001b[39m",
      "\u001b[31mValueError\u001b[39m                                Traceback (most recent call last)",
      "\u001b[36mCell\u001b[39m\u001b[36m \u001b[39m\u001b[32mIn[11]\u001b[39m\u001b[32m, line 1\u001b[39m\n\u001b[32m----> \u001b[39m\u001b[32m1\u001b[39m num = \u001b[38;5;28;43mint\u001b[39;49m\u001b[43m(\u001b[49m\u001b[38;5;28;43minput\u001b[39;49m\u001b[43m(\u001b[49m\u001b[33;43m\"\u001b[39;49m\u001b[33;43mEnter the num\u001b[39;49m\u001b[33;43m\"\u001b[39;49m\u001b[43m)\u001b[49m\u001b[43m)\u001b[49m\n\u001b[32m      2\u001b[39m \u001b[38;5;28mprint\u001b[39m(num)                \u001b[38;5;66;03m#ValueError: invalid literal for int() with base 10: 'sam'\u001b[39;00m\n\u001b[32m      3\u001b[39m \u001b[38;5;28mprint\u001b[39m(\u001b[33m\"\u001b[39m\u001b[33mContinues..\u001b[39m\u001b[33m\"\u001b[39m) \n",
      "\u001b[31mValueError\u001b[39m: invalid literal for int() with base 10: 'sam'"
     ]
    }
   ],
   "source": [
    "num = int(input(\"Enter the num\"))\n",
    "print(num)                #ValueError: invalid literal for int() with base 10: 'sam'\n",
    "print(\"Continues..\") "
   ]
  },
  {
   "cell_type": "code",
   "execution_count": 10,
   "id": "c7486351-6da3-456c-9d6b-bebd9b9882e3",
   "metadata": {},
   "outputs": [
    {
     "name": "stdin",
     "output_type": "stream",
     "text": [
      "Enter a number:  word\n"
     ]
    },
    {
     "name": "stdout",
     "output_type": "stream",
     "text": [
      "Can't convert your input to integer\n",
      "Continues..\n"
     ]
    }
   ],
   "source": [
    "try:\n",
    "    num = int(input(\"Enter a number: \"))\n",
    "    print(num)\n",
    "except:\n",
    "    print(\"Can't convert your input to integer\")\n",
    "\n",
    "print(\"Continues..\")    #Executes con·tinu·ous·ly without error and prints this line"
   ]
  },
  {
   "cell_type": "code",
   "execution_count": 20,
   "id": "07578e3c-5d29-43a4-ad7e-ded41134ba0d",
   "metadata": {},
   "outputs": [
    {
     "name": "stdin",
     "output_type": "stream",
     "text": [
      "Enter a number sam\n"
     ]
    },
    {
     "name": "stdout",
     "output_type": "stream",
     "text": [
      "error in converting to integer\n",
      "(<class 'ValueError'>, ValueError(\"invalid literal for int() with base 10: 'sam'\"), <traceback object at 0x000001B43EEDA600>)\n"
     ]
    }
   ],
   "source": [
    "#to get the error class from with in the script\n",
    "import sys #exc_info - returns the associated error class\n",
    "\n",
    "try:\n",
    "    num = int(input(\"Enter a number\"))\n",
    "    print(num)\n",
    "except:\n",
    "    print(\"error in converting to integer\")\n",
    "    print(sys.exc_info())\n",
    "    "
   ]
  },
  {
   "cell_type": "code",
   "execution_count": 25,
   "id": "e187a53d-9434-40db-beea-b3b77ff9ba80",
   "metadata": {},
   "outputs": [
    {
     "name": "stdin",
     "output_type": "stream",
     "text": [
      "Enter a number: sam\n"
     ]
    },
    {
     "name": "stdout",
     "output_type": "stream",
     "text": [
      "error in converting to integer\n"
     ]
    }
   ],
   "source": [
    "import sys #exc_info - returns the associated error class\n",
    "\n",
    "try:\n",
    "    num = int(input(\"Enter a number:\"))\n",
    "    print(num)\n",
    "except ValueError:\n",
    "    print(\"error in converting to integer\")"
   ]
  },
  {
   "cell_type": "markdown",
   "id": "46ea739c-e99d-4c82-b85a-489bff3d5b6a",
   "metadata": {},
   "source": [
    "\n",
    "\n",
    "\n",
    "\n",
    "MULTIPLE EXCEPT BLOCKS "
   ]
  },
  {
   "cell_type": "code",
   "execution_count": 48,
   "id": "1e15321c-fd82-480e-908d-ccecec44f060",
   "metadata": {},
   "outputs": [
    {
     "name": "stdout",
     "output_type": "stream",
     "text": [
      "2: No such file or directory\n"
     ]
    }
   ],
   "source": [
    "#NO. 1\n",
    "# a try block with multiple except block\n",
    "import sys\n",
    "try:\n",
    "    fh = open('file1.txt','r')     #this file is not available\n",
    "    s = fh.readline().strip()\n",
    "    n = int(s) \n",
    "except FileNotFoundError as e:\n",
    "    print(f\"{e.errno}: {e.strerror}\")\n",
    "except ValueError:\n",
    "    print(\"error in converting to integer\")\n",
    "except:\n",
    "    print(\"unknown error\", sys.exc_info)"
   ]
  },
  {
   "cell_type": "code",
   "execution_count": 49,
   "id": "621fd713-f54a-4bfb-98f9-1b85b69af320",
   "metadata": {},
   "outputs": [
    {
     "name": "stdout",
     "output_type": "stream",
     "text": [
      "error in converting to integer\n"
     ]
    }
   ],
   "source": [
    "#NO. 2\n",
    "\n",
    "import sys\n",
    "try:\n",
    "    fh = open('readme.txt','r') #file is available\n",
    "    s = fh.readline().strip() \n",
    "    n = int(s)                  #now this line raises an error\n",
    "except FileNotFoundError as e:\n",
    "    print(f\"{e.errno}: {e.strerror}\")\n",
    "except ValueError:\n",
    "    print(\"error in converting to integer\") #comes into ValueError block\n",
    "except:\n",
    "    print(\"unknown error\", sys.exc_info)"
   ]
  },
  {
   "cell_type": "code",
   "execution_count": 50,
   "id": "e1e0ed25-eee7-41ea-bc5a-a673596dedc9",
   "metadata": {},
   "outputs": [
    {
     "name": "stdout",
     "output_type": "stream",
     "text": [
      "unknown error <built-in function exc_info>\n"
     ]
    }
   ],
   "source": [
    "#NO. 3\n",
    "\n",
    "import sys\n",
    "try:\n",
    "    fh = open('readme.txt','r') \n",
    "    s = fh.readline().strip   # strip() error in this line\n",
    "    n = int(s)                  \n",
    "except FileNotFoundError as e:\n",
    "    print(f\"{e.errno}: {e.strerror}\")\n",
    "except ValueError:\n",
    "    print(\"error in converting to integer\") \n",
    "except:\n",
    "    print(\"unknown error\", sys.exc_info)  #comes into this block"
   ]
  },
  {
   "cell_type": "code",
   "execution_count": 52,
   "id": "f21df9f1-8908-46c4-b687-30b13e1e0ffb",
   "metadata": {},
   "outputs": [
    {
     "name": "stdout",
     "output_type": "stream",
     "text": [
      "456\n"
     ]
    }
   ],
   "source": [
    "#NO. 4\n",
    "#works fine\n",
    "import sys\n",
    "try:\n",
    "    fh = open('intfile.txt','r')  #file contains 456 in first line\n",
    "    s = fh.readline().strip()   \n",
    "    n = int(s)\n",
    "    print(n)\n",
    "#Does not go to the Exception blocks\n",
    "except FileNotFoundError as e:\n",
    "    print(f\"{e.errno}: {e.strerror}\")\n",
    "except ValueError:\n",
    "    print(\"error in converting to integer\") \n",
    "except:\n",
    "    print(\"unknown error\", sys.exc_info)  "
   ]
  },
  {
   "cell_type": "code",
   "execution_count": 55,
   "id": "8621d17e-3f0e-4f74-9dc6-5f7c28e3a356",
   "metadata": {},
   "outputs": [
    {
     "name": "stdout",
     "output_type": "stream",
     "text": [
      "456\n",
      "Success\n"
     ]
    }
   ],
   "source": [
    "#NO. 5\n",
    "#else part\n",
    "import sys\n",
    "try:\n",
    "    fh = open('intfile.txt','r')  #file contains 456 in first line\n",
    "    s = fh.readline().strip()   \n",
    "    n = int(s)\n",
    "#Does not go to the Exception blocks\n",
    "except FileNotFoundError as e:\n",
    "    print(f\"{e.errno}: {e.strerror}\")\n",
    "except ValueError:\n",
    "    print(\"error in converting to integer\") \n",
    "except:\n",
    "    print(\"unknown error\", sys.exc_info)  \n",
    "else:\n",
    "    print(n)\n",
    "    print(\"Success\")"
   ]
  },
  {
   "cell_type": "code",
   "execution_count": 82,
   "id": "5203c5ad-1d02-42b3-a99c-fdb7dbc0639a",
   "metadata": {},
   "outputs": [
    {
     "ename": "SyntaxError",
     "evalue": "None (<string>)",
     "output_type": "error",
     "traceback": [
      "Traceback \u001b[36m(most recent call last)\u001b[39m:\n",
      "  File \u001b[92m~\\AppData\\Local\\Programs\\Python\\Python313\\Lib\\site-packages\\IPython\\core\\interactiveshell.py:3549\u001b[39m in \u001b[95mrun_code\u001b[39m\n    exec(code_obj, self.user_global_ns, self.user_ns)\n",
      "  Cell \u001b[92mIn[82]\u001b[39m\u001b[92m, line 7\u001b[39m\n    CalculateInterest(100,-1,3)\n",
      "\u001b[36m  \u001b[39m\u001b[36mCell\u001b[39m\u001b[36m \u001b[39m\u001b[32mIn[82]\u001b[39m\u001b[32m, line 3\u001b[39m\u001b[36m in \u001b[39m\u001b[35mCalculateInterest\u001b[39m\n\u001b[31m    \u001b[39m\u001b[31mraise SyntaxError\u001b[39m\n",
      "  \u001b[36mFile \u001b[39m\u001b[32m<string>\u001b[39m\n\u001b[31mSyntaxError\u001b[39m\n"
     ]
    }
   ],
   "source": [
    "def CalculateInterest(p,r,t):\n",
    "    if r<= 0:\n",
    "        raise SyntaxError\n",
    "    if t<=0:\n",
    "        raise ValueError\n",
    "    return (p*r*t)/100\n",
    "CalculateInterest(100,-1,3)"
   ]
  },
  {
   "cell_type": "code",
   "execution_count": 83,
   "id": "9eb4e5fd-898b-4fda-98c7-8fa919d8bea2",
   "metadata": {},
   "outputs": [
    {
     "name": "stdout",
     "output_type": "stream",
     "text": [
      "negative value not accepted\n"
     ]
    }
   ],
   "source": [
    "try:\n",
    "    CalculateInterest(100,1,-3)\n",
    "except ValueError:\n",
    "    print(\"negative value not accepted\")\n"
   ]
  },
  {
   "cell_type": "code",
   "execution_count": 84,
   "id": "a5be9c1d-6e00-4cfe-a11f-e4d2518e336f",
   "metadata": {},
   "outputs": [
    {
     "name": "stdout",
     "output_type": "stream",
     "text": [
      "value error detected\n"
     ]
    }
   ],
   "source": [
    "try:\n",
    "    raise ValueError\n",
    "except ValueError:\n",
    "    print(\"value error detected\")"
   ]
  },
  {
   "cell_type": "code",
   "execution_count": 89,
   "id": "72ab6be7-906e-41b7-98a2-3f85091a2bd5",
   "metadata": {},
   "outputs": [
    {
     "name": "stdout",
     "output_type": "stream",
     "text": [
      "number of years negative\n"
     ]
    }
   ],
   "source": [
    "class CustomException(Exception):\n",
    "    def __init__(self,msg):\n",
    "        self.msg = msg\n",
    "    def __repr__(self):\n",
    "        return self.msg\n",
    "\n",
    "def CalculateInterest(p,r,t):\n",
    "    if r<= 0:\n",
    "        raise CustomException(\"rate of interest negative\")\n",
    "    if t<=0:\n",
    "        raise CustomException(\"number of years negative\")\n",
    "    return p*r*t/100\n",
    "\n",
    "try:\n",
    "    CalculateInterest(1000,8,-2)\n",
    "except CustomException as e:\n",
    "    print(e)"
   ]
  },
  {
   "cell_type": "code",
   "execution_count": 99,
   "id": "88e9d994-c966-4718-aeb7-d91069c4a8a2",
   "metadata": {},
   "outputs": [
    {
     "name": "stdout",
     "output_type": "stream",
     "text": [
      "hello\n",
      "hello\n",
      "stopped\n",
      "always....\n"
     ]
    }
   ],
   "source": [
    "import time\n",
    "\n",
    "try:\n",
    "    count=0\n",
    "    while True:\n",
    "        count+=1\n",
    "        print('hello')\n",
    "        if count == 5:\n",
    "            break\n",
    "        else:\n",
    "            time.sleep(2) # 2 sec pause\n",
    "except KeyboardInterrupt:\n",
    "    print(\"stopped\")\n",
    "finally:\n",
    "    print(\"always....\")"
   ]
  },
  {
   "cell_type": "code",
   "execution_count": 100,
   "id": "cac1954e-9f9c-4dcb-b074-0931f90dfefb",
   "metadata": {},
   "outputs": [
    {
     "name": "stdout",
     "output_type": "stream",
     "text": [
      "['C:\\\\Users\\\\prince.s\\\\AppData\\\\Local\\\\Programs\\\\Python\\\\Python313\\\\Lib\\\\site-packages\\\\ipykernel_launcher.py', '-f', 'C:\\\\Users\\\\prince.s\\\\AppData\\\\Roaming\\\\jupyter\\\\runtime\\\\kernel-90cda4bd-a764-4438-83d9-92c3935c82c6.json']\n"
     ]
    }
   ],
   "source": [
    "import sys\n",
    "\n",
    "print(sys.argv) # is a list which returns the command line parameters passed to the script\n",
    "                # the first value will be the name of the script followed by command line parameters\n"
   ]
  },
  {
   "cell_type": "code",
   "execution_count": 108,
   "id": "a9ee987b-f537-4318-9970-a03b9d93223b",
   "metadata": {},
   "outputs": [
    {
     "name": "stdout",
     "output_type": "stream",
     "text": [
      "[[5, 2], [9, 1], [8, 8]]\n",
      "[[1, 6], [2, 5], [3, 4], [4, 3]]\n",
      "[[1, 7], [2, 6], [3, 5], [4, 4]]\n"
     ]
    }
   ],
   "source": [
    "'''\n",
    "1. Write a function that pairs the first number in an array with the last, the second number with the second to last, etc.\n",
    "\n",
    "Examples\n",
    "pairs([1, 2, 3, 4, 5, 6, 7]) ➞ [[1, 7], [2, 6], [3, 5], [4, 4]]\n",
    "\n",
    "pairs([1, 2, 3, 4, 5, 6]) ➞ [[1, 6], [2, 5], [3, 4]]\n",
    "\n",
    "pairs([5, 9, 8, 1, 2]) ➞ [[5, 2], [9, 1], [8, 8]]\n",
    "\n",
    "pairs([]) ➞ []\n",
    "'''\n",
    "def pairs(L):\n",
    "    le = len(L)-1\n",
    "    fl = len(L)\n",
    "    final = []\n",
    "    x=0\n",
    "    for i,ch in enumerate(L):\n",
    "        if x <= fl//2:\n",
    "            sub = []\n",
    "            sub.append(ch)\n",
    "            sub.append(L[le])\n",
    "            le-=1\n",
    "            final.append(sub)\n",
    "            x+=1\n",
    "        else:\n",
    "            break\n",
    "    return final\n",
    "print(pairs([5, 9, 8, 1, 2]))    \n",
    "print(pairs([1, 2, 3, 4, 5, 6]))\n",
    "print(pairs([1, 2, 3, 4, 5, 6, 7]))"
   ]
  },
  {
   "cell_type": "code",
   "execution_count": 3,
   "id": "e2500c79-543a-44a4-a29c-0d3aca56102d",
   "metadata": {},
   "outputs": [
    {
     "name": "stdout",
     "output_type": "stream",
     "text": [
      "[[5, 2], [9, 1], [8, 8]]\n",
      "[[1, 6], [2, 5], [3, 4]]\n",
      "[[1, 7], [2, 6], [3, 5], [4, 4]]\n"
     ]
    }
   ],
   "source": [
    "#SIR'S Approach\n",
    "\n",
    "def pairs(list1):\n",
    "    list2=[]\n",
    "    for i in range(len(list1)//2):\n",
    "        v= -1 if i==0 else(i+1)*-1\n",
    "        list2.append([list1[i],list1[v]])\n",
    "    else:\n",
    "        if len(list1)%2 != 0:\n",
    "            list2.append([list1[len(list1)//2]]*2)\n",
    "    return list2\n",
    "print(pairs([5, 9, 8, 1, 2]))    \n",
    "print(pairs([1, 2, 3, 4, 5, 6]))\n",
    "print(pairs([1, 2, 3, 4, 5, 6, 7]))"
   ]
  },
  {
   "cell_type": "code",
   "execution_count": 7,
   "id": "62e71f36-6e39-41b0-97ed-2f60467d8022",
   "metadata": {},
   "outputs": [
    {
     "name": "stdout",
     "output_type": "stream",
     "text": [
      "True\n"
     ]
    }
   ],
   "source": [
    "'''\n",
    "2. Write a function that returns True if you can use the letters of the first string to create the second string. Letters are case sensitive.\n",
    "\n",
    "can_build(\"aPPleAL\", \"PAL\") ➞ True\n",
    "\n",
    "can_build(\"aPPleAL\", \"apple\") ➞ False\n",
    "\n",
    "can_build(\"a\", \"\") ➞ True\n",
    "\n",
    "can_build(\"aa\", \"aaa\") ➞ False\n",
    "'''\n",
    "\n",
    "def can_build(S, sub):\n",
    "    x=0\n",
    "    if len(S) > len(sub):\n",
    "        if len(sub) == 0:\n",
    "            return True\n",
    "        for i,ch in enumerate(sub):\n",
    "            if not ch in S:\n",
    "                return False\n",
    "            elif x==len(sub)-1:\n",
    "                return True\n",
    "                \n",
    "            else:\n",
    "                x+=1\n",
    "            \n",
    "    else:\n",
    "        return False\n",
    "\n",
    "z = can_build(\"aPPleAL\", \"PAL\")\n",
    "\n",
    "print(z)"
   ]
  },
  {
   "cell_type": "code",
   "execution_count": 10,
   "id": "b81150b0-6cf1-4be2-9e81-fa31a6cedb74",
   "metadata": {},
   "outputs": [
    {
     "name": "stdout",
     "output_type": "stream",
     "text": [
      "[True, True, True]\n",
      "True\n"
     ]
    }
   ],
   "source": [
    "#Sir's approach\n",
    "\n",
    "def can_build(s1,s2):\n",
    "    res = [x in s1 for x in s2]\n",
    "    print(res)\n",
    "    print(all(res))\n",
    "can_build(\"aPPleAL\", \"PAL\")\n"
   ]
  },
  {
   "cell_type": "code",
   "execution_count": 131,
   "id": "53fc8fe3-df37-4b31-a2de-8b37ea6076b8",
   "metadata": {},
   "outputs": [
    {
     "data": {
      "text/plain": [
       "'a'"
      ]
     },
     "execution_count": 131,
     "metadata": {},
     "output_type": "execute_result"
    }
   ],
   "source": [
    "'''\n",
    "3. You are given two strings s and t. String t is generated by randomly shuffling string s and then adding one more letter at a random position. Return the letter that was added to t.\n",
    "\n",
    "Examples\n",
    "find_the_difference(\"abcd\", \"abcde\") ➞ \"e\"\n",
    "\n",
    "find_the_difference(\"\", \"y\") ➞ \"y\"\n",
    "\n",
    "find_the_difference(\"ae\", \"aea\") ➞ \"a\"\n",
    "'''\n",
    "def find_the_difference(sub, S):\n",
    "    if len(sub) == 0:\n",
    "        return S\n",
    "    L = list(S)\n",
    "    for i,ch in enumerate(sub):\n",
    "        if ch in L:\n",
    "            L.remove(ch)\n",
    "    return ''.join(L)\n",
    "        \n",
    "find_the_difference(\"ae\", \"aea\")\n"
   ]
  },
  {
   "cell_type": "code",
   "execution_count": 133,
   "id": "bc3c6a2b-7a82-44ee-a26d-3e712387b90a",
   "metadata": {},
   "outputs": [
    {
     "data": {
      "text/plain": [
       "-10"
      ]
     },
     "execution_count": 133,
     "metadata": {},
     "output_type": "execute_result"
    }
   ],
   "source": [
    "'''\n",
    "4. Create a function that sums up all the elements in the list recursively. The use of the sum() built-in function is not allowed, thus, the approach is recursive.\n",
    "\n",
    "Examples\n",
    "recur_add([1, 2, 3, 4, 10, 11]) ➞ 31\n",
    "\n",
    "recur_add([-3, 4, 11, 10, 21, 32, -9]) ➞ 66\n",
    "\n",
    "recur_add([-21, -7, 19, 3, 4, -8]) ➞ -10\n",
    "Notes\n",
    "You're expected to solve this challenge using a recursive approach.\n",
    "'''\n",
    "\n",
    "def recur_add(L):\n",
    "    if not L:\n",
    "        return 0\n",
    "    return L[0] + recur_add(L[1:])\n",
    "\n",
    "recur_add([-3, 4, 11, 10, 21, 32, -9])\n",
    "recur_add([-21, -7, 19, 3, 4, -8])"
   ]
  },
  {
   "cell_type": "code",
   "execution_count": 11,
   "id": "794b0184-e9a3-47d5-a93c-58f339bfca44",
   "metadata": {},
   "outputs": [
    {
     "name": "stdout",
     "output_type": "stream",
     "text": [
      "Chapter 2\n",
      "The End?\n",
      "Chapter 1b\n"
     ]
    }
   ],
   "source": [
    "'''\n",
    "5. Create a function that returns which chapter is nearest to the page you're on. If two chapters are equidistant, return the chapter with the higher page number.\n",
    "\n",
    "Examples\n",
    "nearest_chapter({\n",
    "  \"Chapter 1\" : 1,\n",
    "  \"Chapter 2\" : 15,\n",
    "  \"Chapter 3\" : 37\n",
    "}, 10) ➞ \"Chapter 2\"\n",
    "\n",
    "\n",
    "nearest_chapter({\n",
    "  \"New Beginnings\" : 1,\n",
    "  \"Strange Developments\" : 62,\n",
    "  \"The End?\" : 194,\n",
    "  \"The True Ending\" : 460\n",
    "}, 200) ➞ \"The End?\"\n",
    "\n",
    "\n",
    "nearest_chapter({\n",
    "  \"Chapter 1a\" : 1,\n",
    "  \"Chapter 1b\" : 5\n",
    "}, 3) ➞ \"Chapter 1b\"\n",
    "Notes\n",
    "All page numbers in the dictionary will be valid integers.\n",
    "'''\n",
    "\n",
    "def nearest_chapter(D, I):\n",
    "    mini = 9999999\n",
    "    for k in D:\n",
    "        if (abs(I-D[k])) <= mini:\n",
    "            ans = k\n",
    "            mini = abs(I-D[k])\n",
    "    return ans\n",
    "x = nearest_chapter({\"Chapter 1\" : 1,\"Chapter 2\" : 15,\"Chapter 3\" : 37}, 10)\n",
    "y = nearest_chapter({\"Chapter 1a\" : 1,\"Chapter 1b\" : 5}, 3)\n",
    "z = nearest_chapter({\"New Beginnings\" : 1,\"Strange Developments\" : 62,\"The End?\" : 194,\"The True Ending\" : 460}, 200)\n",
    "\n",
    "print(x)\n",
    "print(z)\n",
    "print(y)"
   ]
  },
  {
   "cell_type": "code",
   "execution_count": 19,
   "id": "610d648c-770e-4bdd-8bc8-4d834bcaa875",
   "metadata": {},
   "outputs": [
    {
     "data": {
      "text/plain": [
       "[2, 47, 94811]"
      ]
     },
     "execution_count": 19,
     "metadata": {},
     "output_type": "execute_result"
    }
   ],
   "source": [
    "'''\n",
    "6. Create a function that returns a list containing the prime factors of whatever integer is passed to it.\n",
    "\n",
    "Examples\n",
    "prime_factors(20) ➞ [2, 2, 5]\n",
    "\n",
    "prime_factors(100) ➞ [2, 2, 5, 5]\n",
    "\n",
    "prime_factors(8912234) ➞ [2, 47, 94811]\n",
    "Notes\n",
    "Implement your solution using trial division.\n",
    "Your solution should not require recursion.\n",
    "'''\n",
    "def is_prime(g):\n",
    "    x=0\n",
    "    for i in range(2,int(pow(g,0.5))+1):\n",
    "        if(g%i == 0):\n",
    "            return False\n",
    "    else:\n",
    "        return True\n",
    "\n",
    "def prime_factors(I):\n",
    "    i = 2\n",
    "    L = []\n",
    "    temp = I\n",
    "    while i<I//2:\n",
    "        if is_prime(i) and temp%i == 0:\n",
    "            L.append(i)\n",
    "            temp = temp/i\n",
    "        elif temp%i !=0:\n",
    "            i+=1\n",
    "        elif not is_prime(i):\n",
    "            i+=1\n",
    "    return L\n",
    "\n",
    "prime_factors(8912234)\n",
    "            \n",
    "    \n",
    "    \n",
    "\n"
   ]
  },
  {
   "cell_type": "code",
   "execution_count": 2,
   "id": "86360c0c-9c0a-4b25-962c-739f9aaa2d13",
   "metadata": {},
   "outputs": [
    {
     "data": {
      "text/plain": [
       "True"
      ]
     },
     "execution_count": 2,
     "metadata": {},
     "output_type": "execute_result"
    }
   ],
   "source": [
    "def is_prime(g):\n",
    "    x=0\n",
    "    for i in range(2,int(pow(g,0.5))+1):\n",
    "        if(g%i == 0):\n",
    "            return False\n",
    "    else:\n",
    "        return True\n",
    "is_prime(2)"
   ]
  },
  {
   "cell_type": "code",
   "execution_count": 47,
   "id": "b4aa12dc-d360-4ce6-a560-aa9c307e9fc1",
   "metadata": {},
   "outputs": [
    {
     "data": {
      "text/plain": [
       "2"
      ]
     },
     "execution_count": 47,
     "metadata": {},
     "output_type": "execute_result"
    }
   ],
   "source": [
    "'''\n",
    "7. Write a function that returns the length of the shortest contiguous sublist whose sum of all elements strictly exceeds n.\n",
    "\n",
    "Examples\n",
    "min_length([5, 8, 2, -1, 3, 4], 9) ➞ 2\n",
    "\n",
    "min_length([3, -1, 4, -2, -7, 2], 4) ➞ 3\n",
    "# Shortest sublist whose sum exceeds 4 is: [3, -1, 4]\n",
    "\n",
    "min_length([1, 0, 0, 0, 1], 1) ➞ 5\n",
    "\n",
    "min_length([0, 1, 1, 0], 2) ➞ -1\n",
    "Notes\n",
    "The sublist should be composed of contiguous elements from the original list.\n",
    "If no such sublist exists, return -1.\n",
    "\n",
    "WRONG UNDERSTANDING\n",
    "\n",
    "def min_length(L, I):\n",
    "    L.sort()\n",
    "    L = L[::-1]\n",
    "    su=0\n",
    "    A = []\n",
    "    for i in range(len(L)):\n",
    "        su = su + L[i]\n",
    "        A.append(L[i])\n",
    "        if su > I:\n",
    "            return A\n",
    "        print(A)\n",
    "  '''          \n",
    "        \n",
    "\n",
    "def min_length(L, I):\n",
    "    i=0\n",
    "    lengths = []\n",
    "    while i<len(L):\n",
    "        Bo = []\n",
    "        sumi=0\n",
    "        for j in range(i,len(L)):\n",
    "            sumi = sumi+L[j]\n",
    "            Bo.append(L[j])\n",
    "            if sumi > I:\n",
    "                lengths.append(len(Bo))\n",
    "                break\n",
    "        i+=1\n",
    "    if not lengths:\n",
    "        return -1\n",
    "    return min(lengths)\n",
    "        \n",
    "                \n",
    "                \n",
    "min_length([5, 8, 2, -1, 3, 4], 9)\n",
    "    \n",
    "            "
   ]
  },
  {
   "cell_type": "code",
   "execution_count": 49,
   "id": "1e22dc2d-cae6-4235-a9d6-e87d78baa783",
   "metadata": {},
   "outputs": [
    {
     "data": {
      "text/plain": [
       "False"
      ]
     },
     "execution_count": 49,
     "metadata": {},
     "output_type": "execute_result"
    }
   ],
   "source": [
    "'''\n",
    "8. Create a function that determines whether each seat can \"see\" the front-stage. A number can \"see\" the front-stage if it is strictly greater than the number before it.\n",
    "\n",
    "Everyone can see the front-stage in the example below:\n",
    "\n",
    "# FRONT STAGE\n",
    "[[1, 2, 3, 2, 1, 1],\n",
    "[2, 4, 4, 3, 2, 2],\n",
    "[5, 5, 5, 5, 4, 4],\n",
    "[6, 6, 7, 6, 5, 5]]\n",
    "\n",
    "# Starting from the left, the 6 > 5 > 2 > 1, so all numbers can see.\n",
    "# 6 > 5 > 4 > 2 - so all numbers can see, etc.\n",
    "Not everyone can see the front-stage in the example below:\n",
    "\n",
    "# FRONT STAGE\n",
    "[[1, 2, 3, 2, 1, 1], \n",
    "[2, 4, 4, 3, 2, 2], \n",
    "[5, 5, 5, 10, 4, 4], \n",
    "[6, 6, 7, 6, 5, 5]]\n",
    "\n",
    "# The 10 is directly in front of the 6 and blocking its view.\n",
    "The function should return True if every number can see the front-stage, and False if even a single number cannot.\n",
    "\n",
    "Examples\n",
    "can_see_stage([\n",
    "  [1, 2, 3],\n",
    "  [4, 5, 6],\n",
    "  [7, 8, 9]\n",
    "]) ➞ True\n",
    "\n",
    "can_see_stage([\n",
    "  [0, 0, 0],\n",
    "  [1, 1, 1],\n",
    "  [2, 2, 2]\n",
    "]) ➞ True\n",
    "\n",
    "can_see_stage([\n",
    "  [2, 0, 0], \n",
    "  [1, 1, 1], \n",
    "  [2, 2, 2]\n",
    "]) ➞ False\n",
    "\n",
    "can_see_stage([\n",
    "  [1, 0, 0],\n",
    "  [1, 1, 1],\n",
    "  [2, 2, 2]\n",
    "]) ➞ False\n",
    "\n",
    "# Number must be strictly smaller than \n",
    "# the number directly behind it.\n",
    "Notes\n",
    "Numbers must be strictly greater than the number in front of it.\n",
    "All numbers within the lists will be whole numbers greater than or equal to zero.\n",
    "'''\n",
    "def can_see_stage(L):\n",
    "    \n",
    "    for i in range(len(L)):\n",
    "        mini = L[0][i]\n",
    "        for j in range(1,len(L[0])):\n",
    "            if L[j][i] > mini:\n",
    "                mini = L[j][i]\n",
    "            else:\n",
    "                return False\n",
    "    return True\n",
    "        \n",
    "can_see_stage([[1, 0, 0],[1, 1, 1],[2, 2, 2]])            \n",
    "            \n",
    "        \n"
   ]
  },
  {
   "cell_type": "code",
   "execution_count": 79,
   "id": "731ea001-0971-44be-88a9-de94836e2dbc",
   "metadata": {},
   "outputs": [
    {
     "data": {
      "text/plain": [
       "'lhe tutput os iot nery vegible'"
      ]
     },
     "execution_count": 79,
     "metadata": {},
     "output_type": "execute_result"
    }
   ],
   "source": [
    "'''\n",
    "9. Given a sentence, create a function which shifts the first letter of each word to the next word in the sentence (shifting right).\n",
    "\n",
    "Examples\n",
    "shift_sentence(\"create a function\") ➞ \"freate c aunction\"\n",
    "\n",
    "shift_sentence(\"it should shift the sentence\") ➞ \"st ihould shift she tentence\"\n",
    "\n",
    "shift_sentence(\"the output is not very legible\") ➞ \"lhe tutput os iot nery vegible\"\n",
    "\n",
    "shift_sentence(\"edabit\") ➞ \"edabit\"\n",
    "Notes\n",
    "The last word shifts its first letter to the first word in the sentence.\n",
    "All sentences will be given in lowercase.\n",
    "Note how single words remain untouched (example #4).\n",
    "'''\n",
    "\n",
    "def shift_sentence(S):\n",
    "    L = S.split(\" \")\n",
    "    for i,ch in enumerate(L):\n",
    "        L[i] = list(ch)\n",
    "\n",
    "    f_letters = []\n",
    "    for ch in L:\n",
    "        f_letters.append(ch[0])\n",
    "\n",
    "    x = f_letters.pop()\n",
    "    f_letters.insert(0,x)\n",
    "\n",
    "    for i,ch in enumerate(L):\n",
    "        L[i][0] = f_letters[i]\n",
    "        L[i] = ''.join(ch)\n",
    "\n",
    "    L = \" \".join(L) \n",
    "\n",
    "    return L\n",
    "        \n",
    "    \n",
    "    \n",
    "shift_sentence(\"the output is not very legible\") "
   ]
  },
  {
   "cell_type": "code",
   "execution_count": 46,
   "id": "e1668c90-424e-49d7-8580-953c67b3a667",
   "metadata": {},
   "outputs": [
    {
     "data": {
      "text/plain": [
       "'Hi there!'"
      ]
     },
     "execution_count": 46,
     "metadata": {},
     "output_type": "execute_result"
    }
   ],
   "source": [
    "'''\n",
    "10. It's time to send and receive secret messages.\n",
    "\n",
    "Create a single function that takes a string or a list and returns a coded or decoded message.\n",
    "\n",
    "The first letter of the string, or the first element of the list represents the Character Code of that letter. The next elements are the differences between the characters: e.g. A +3 --> C or z -1 --> y.\n",
    "\n",
    "Examples\n",
    "dif_ciph(\"Hello\") ➞ [72, 29, 7, 0, 3]\n",
    "# H = 72, the difference between the H and e is 29 (upper- and lowercase).\n",
    "# The difference between the two l's is obviously 0.\n",
    "\n",
    "dif_ciph([ 72, 33, -73, 84, -12, -3, 13, -13, -68 ]) ➞ \"Hi there!\"\n",
    "\n",
    "dif_ciph(\"Sunshine\") ➞ [83, 34, -7, 5, -11, 1, 5, -9]\n",
    "Notes\n",
    "The input of the function will always be a string or a list with numbers.\n",
    "'''\n",
    "def dif_ciph(L):\n",
    "    t=0\n",
    "    if type(L) is list:\n",
    "        S=''\n",
    "        S=''\n",
    "        for i,num in enumerate(L):\n",
    "            if i==0:\n",
    "                S+=chr(num)\n",
    "                nu = L[i]\n",
    "            else:\n",
    "                S+=chr(nu+num)\n",
    "                nu +=num\n",
    "        return S\n",
    "    else:\n",
    "        ans=[]\n",
    "        for i in L:\n",
    "            ans.append(ord(i)-t)\n",
    "            t=ord(i)\n",
    "        return ans\n",
    "dif_ciph(\"Sunshine\")         \n",
    "dif_ciph(\"Hello\")       \n",
    "dif_ciph([ 72, 33, -73, 84, -12, -3, 13, -13, -68 ])"
   ]
  },
  {
   "cell_type": "code",
   "execution_count": 41,
   "id": "8ee354ae-fd47-4f6b-9023-f6efd8583843",
   "metadata": {},
   "outputs": [
    {
     "name": "stdout",
     "output_type": "stream",
     "text": [
      "H\n",
      "Hi\n",
      "Hi \n",
      "Hi t\n",
      "Hi th\n",
      "Hi the\n",
      "Hi ther\n",
      "Hi there\n",
      "Hi there!\n"
     ]
    }
   ],
   "source": [
    "L = [ 72, 33, -73, 84, -12, -3, 13, -13, -68 ]\n",
    "S=''\n",
    "for i,num in enumerate(L):\n",
    "    if i==0:\n",
    "        S+=chr(num)\n",
    "        nu = L[i]\n",
    "    else:\n",
    "        S+=chr(nu+num)\n",
    "        nu +=num\n",
    "        \n",
    "        \n",
    "    print(S)"
   ]
  },
  {
   "cell_type": "code",
   "execution_count": 33,
   "id": "c84fd66f-8582-468c-a54d-a3a485816a9e",
   "metadata": {},
   "outputs": [
    {
     "data": {
      "text/plain": [
       "' '"
      ]
     },
     "execution_count": 33,
     "metadata": {},
     "output_type": "execute_result"
    }
   ],
   "source": [
    "s =''\n",
    "L = [ 72, 33, -73, 84, -12, -3, 13, -13, -68 ]\n",
    "s+=chr(105-73)\n",
    "\n",
    "s\n"
   ]
  },
  {
   "cell_type": "code",
   "execution_count": null,
   "id": "70f8f5c1-1935-4366-a5f6-323add46b81a",
   "metadata": {},
   "outputs": [],
   "source": []
  }
 ],
 "metadata": {
  "kernelspec": {
   "display_name": "Python 3 (ipykernel)",
   "language": "python",
   "name": "python3"
  },
  "language_info": {
   "codemirror_mode": {
    "name": "ipython",
    "version": 3
   },
   "file_extension": ".py",
   "mimetype": "text/x-python",
   "name": "python",
   "nbconvert_exporter": "python",
   "pygments_lexer": "ipython3",
   "version": "3.13.2"
  }
 },
 "nbformat": 4,
 "nbformat_minor": 5
}
