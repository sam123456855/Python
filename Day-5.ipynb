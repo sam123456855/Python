{
 "cells": [
  {
   "cell_type": "code",
   "execution_count": 2,
   "id": "1d33aac1-438b-43da-a7ba-c77135b10021",
   "metadata": {},
   "outputs": [
    {
     "name": "stdout",
     "output_type": "stream",
     "text": [
      "3\n",
      "4\n"
     ]
    }
   ],
   "source": [
    "import math\n",
    "\n",
    "print(math.floor(15/4))\n",
    "print(math.ceil(15/4))"
   ]
  },
  {
   "cell_type": "code",
   "execution_count": 3,
   "id": "6b633392-2edb-4d6b-b4fb-8d29cd7f756b",
   "metadata": {},
   "outputs": [
    {
     "name": "stdout",
     "output_type": "stream",
     "text": [
      "3\n"
     ]
    }
   ],
   "source": [
    "print(15//4)"
   ]
  },
  {
   "cell_type": "code",
   "execution_count": 6,
   "id": "8890d1f4-b19d-484c-86e4-24dad92fc880",
   "metadata": {},
   "outputs": [
    {
     "name": "stdout",
     "output_type": "stream",
     "text": [
      "[2, 3, 4, 3, 5, 7, 8, 3, 3, 3, 2]\n"
     ]
    }
   ],
   "source": [
    "L = [1,2,3,4,1,1,1,1,3,5,7,8,1,3,3,3,2,1,1,1,1,1,1]\n",
    "\n",
    "# in -- returns true if the value is present in the given sequence\n",
    "\n",
    "while 1 in L:\n",
    "    L.remove(1)\n",
    "\n",
    "print(L)"
   ]
  },
  {
   "cell_type": "code",
   "execution_count": 8,
   "id": "eeac835b-80cb-4a6c-b11b-8f015ce66f79",
   "metadata": {},
   "outputs": [
    {
     "data": {
      "text/plain": [
       "[1, 2, 3, 4, 1, 1, 1, 1]"
      ]
     },
     "execution_count": 8,
     "metadata": {},
     "output_type": "execute_result"
    }
   ],
   "source": [
    "# is -- returns true if operand on both sides have same data type\n",
    "\n",
    "L = [1,2,3,'hhallloo',4,1,1,'hello', True,'hi',1,1]\n",
    "\n",
    "J = [x for x in L if type(x) is int]\n",
    "J"
   ]
  },
  {
   "cell_type": "code",
   "execution_count": 12,
   "id": "8d3db061-b548-4d1f-8b5b-9c3a8b1030cb",
   "metadata": {},
   "outputs": [
    {
     "name": "stdin",
     "output_type": "stream",
     "text": [
      "Enter a nmbr 0000000012\n"
     ]
    },
    {
     "name": "stdout",
     "output_type": "stream",
     "text": [
      "dec\n"
     ]
    }
   ],
   "source": [
    "num = int(input(\"Enter a nmbr\"))\n",
    "\n",
    "#introduced only from python 3.10\n",
    "\n",
    "match num:\n",
    "    case 1:\n",
    "        print('jan')\n",
    "    case 2:\n",
    "        print('feb')\n",
    "    case 3:\n",
    "        print('mar')\n",
    "    case 4:\n",
    "        print('apr')\n",
    "    case 5:\n",
    "        print('may')\n",
    "    case 6:\n",
    "        print('jun')\n",
    "    case 7:\n",
    "        print('jul')\n",
    "    case 8:\n",
    "        print('aug')\n",
    "    case 9:\n",
    "        print('sep')\n",
    "    case 10:\n",
    "        print('oct')\n",
    "    case 11:\n",
    "        print('nov')\n",
    "    case 12:\n",
    "        print('dec')\n",
    "    case _:\n",
    "        print('Invalid')"
   ]
  },
  {
   "cell_type": "code",
   "execution_count": 13,
   "id": "d9efacf1-92f6-49d8-b1fc-c7f947c35a0b",
   "metadata": {},
   "outputs": [],
   "source": [
    "# pass -- valid statement will not take any action"
   ]
  },
  {
   "cell_type": "code",
   "execution_count": 36,
   "id": "3d646bc1-d647-44b5-9611-2e028000c9cb",
   "metadata": {},
   "outputs": [
    {
     "name": "stdin",
     "output_type": "stream",
     "text": [
      " 8\n"
     ]
    },
    {
     "name": "stdout",
     "output_type": "stream",
     "text": [
      "1\n",
      "2\n",
      "4\n",
      "7\n"
     ]
    }
   ],
   "source": [
    "n = int(input())\n",
    "temp=1\n",
    "for i in range(n+1):\n",
    "    temp+=i\n",
    "    if temp>n+1:\n",
    "        break\n",
    "    print(temp)"
   ]
  },
  {
   "cell_type": "code",
   "execution_count": 37,
   "id": "51ec385b-862d-4aca-af01-5f8415b36b47",
   "metadata": {
    "scrolled": true
   },
   "outputs": [
    {
     "name": "stdout",
     "output_type": "stream",
     "text": [
      "1\n",
      "2\n",
      "4\n",
      "7\n",
      "11\n",
      "16\n",
      "22\n"
     ]
    }
   ],
   "source": [
    "def seq(n):\n",
    "    n1,n2 = 1,0\n",
    "    while n1<n:\n",
    "        n1+=n2\n",
    "        yield n1\n",
    "        n2+=1\n",
    "L=seq(20)\n",
    "for i in L:\n",
    "    print(i)"
   ]
  },
  {
   "cell_type": "code",
   "execution_count": 38,
   "id": "df59828b-ba3b-4437-bd84-7bfb4e35fd11",
   "metadata": {},
   "outputs": [],
   "source": [
    "# type of parameter\n",
    "\n",
    "# required parameter  - -- append and remove\n",
    "# default pop(), .get -- without argument pops the last element wich is default\n",
    "# keyword parameter -- pd.read_excel('some excel file', sheey_name = 'sheetname')\n",
    "\n"
   ]
  },
  {
   "cell_type": "code",
   "execution_count": 39,
   "id": "3cdfe96d-8a9e-4774-a14b-3c7e51eed3e1",
   "metadata": {},
   "outputs": [],
   "source": [
    "a,b,*c = [1,2,3,4,5,6,7]"
   ]
  },
  {
   "cell_type": "code",
   "execution_count": 43,
   "id": "ed4e5fd5-2e66-4c35-a891-e6c420b304e5",
   "metadata": {},
   "outputs": [
    {
     "data": {
      "text/plain": [
       "list"
      ]
     },
     "execution_count": 43,
     "metadata": {},
     "output_type": "execute_result"
    }
   ],
   "source": [
    "type(c)\n"
   ]
  },
  {
   "cell_type": "code",
   "execution_count": 63,
   "id": "7d1eb1e2-d7d7-4680-923c-1b665efb7191",
   "metadata": {},
   "outputs": [],
   "source": [
    "def find_max(*args):\n",
    "    m, *args = args #refactoring args to remove the first element\n",
    "    for v in args: #args is type list\n",
    "        if m<v:\n",
    "            m=v\n",
    "    return m"
   ]
  },
  {
   "cell_type": "code",
   "execution_count": 64,
   "id": "1cbe9761-e682-43c9-a724-f29f365e6ea4",
   "metadata": {},
   "outputs": [
    {
     "data": {
      "text/plain": [
       "10"
      ]
     },
     "execution_count": 64,
     "metadata": {},
     "output_type": "execute_result"
    }
   ],
   "source": [
    "find_max(10,4,6,8,9,3,4,6)"
   ]
  },
  {
   "cell_type": "code",
   "execution_count": 3,
   "id": "a598d8d3-7bba-4332-8644-f566a33f813a",
   "metadata": {},
   "outputs": [
    {
     "name": "stdout",
     "output_type": "stream",
     "text": [
      "1\n",
      "joe\n",
      "12\n",
      "\n",
      "2\n",
      "adonai\n",
      "10\n",
      "\n",
      "3\n",
      "jeni\n",
      "16\n",
      "\n",
      "\n",
      "\n",
      "After sorting\n",
      "2\n",
      "adonai\n",
      "10\n",
      "\n",
      "1\n",
      "joe\n",
      "12\n",
      "\n",
      "3\n",
      "jeni\n",
      "16\n",
      "\n"
     ]
    }
   ],
   "source": [
    "class Student:\n",
    "    def __init__(self,id,name,age):\n",
    "        self.id = id\n",
    "        self.name = name\n",
    "        self.age = age\n",
    "\n",
    "    def __eq__(self,other):\n",
    "        return self.age == other.age\n",
    "\n",
    "    def __lt__(self,other):\n",
    "        return self.age<other.age\n",
    "\n",
    "s1 =  Student(1,'joe',12)\n",
    "s2 =  Student(2,'adonai',10)\n",
    "s3 =  Student(3,'jeni',16) \n",
    "\n",
    "listOfStudents = [s1,s2,s3]\n",
    "for i in listOfStudents:\n",
    "    print(i.id)\n",
    "    print(i.name)\n",
    "    print(i.age,end=\"\\n\\n\")\n",
    "\n",
    "listOfStudents.sort(key=lambda x:x.age)\n",
    "print(\"\\n\\nAfter sorting\")\n",
    "for i in listOfStudents:\n",
    "    print(i.id)\n",
    "    print(i.name)\n",
    "    print(i.age,end=\"\\n\\n\")"
   ]
  },
  {
   "cell_type": "code",
   "execution_count": 87,
   "id": "f83c6c6b-2b73-4070-8293-aa496f6a4f37",
   "metadata": {},
   "outputs": [
    {
     "name": "stdin",
     "output_type": "stream",
     "text": [
      "Enter the word:  apple\n"
     ]
    },
    {
     "name": "stdout",
     "output_type": "stream",
     "text": [
      "1lpp0aca\n"
     ]
    }
   ],
   "source": [
    "'''1. Make a function that encrypts a given input with these steps:\n",
    " \n",
    " Input: \"apple\"\n",
    " \n",
    " Step 1: Reverse the input: \"elppa\"\n",
    " \n",
    " Step 2: Replace all vowels using the following chart:\n",
    " \n",
    " a => 0\n",
    " e => 1\n",
    " i => 2\n",
    " o => 2\n",
    " u => 3\n",
    " \n",
    " # \"1lpp0\"\n",
    " '''\n",
    "\n",
    "st = input(\"Enter the word: \")\n",
    "rev = st[::-1]\n",
    "\n",
    "L = list(rev)\n",
    "\n",
    "D = {'a': '0','e': '1','i': '2','o': '3','u': '4',}\n",
    "\n",
    "for i,ch in enumerate(L):\n",
    "    if ch in D:\n",
    "        L[i] = D[ch]\n",
    "    else:\n",
    "        pass\n",
    "\n",
    "for i in L:\n",
    "    print(i,end=\"\")\n",
    "print('aca')"
   ]
  },
  {
   "cell_type": "code",
   "execution_count": 113,
   "id": "8d32fc2a-30f6-4c9d-86cb-550dcdd3b51d",
   "metadata": {},
   "outputs": [
    {
     "data": {
      "text/plain": [
       "\"2. A city skyline can be represented as a 2-D list with 1s representing buildings. In the example below, the height of the tallest building is 4 (second-most right column).\\n\\n [[0, 0, 0, 0, 0, 0],\\n [0, 0, 0, 0, 1, 0],\\n [0, 0, 1, 0, 1, 0],\\n [0, 1, 1, 1, 1, 0],\\n [1, 1, 1, 1, 1, 1]]\\n Create a function that takes a skyline (2-D list of 0's and 1's) and returns the height of the tallest skyscraper.\\n\\n Examples\\n tallest_skyscraper([\\n   [0, 0, 0, 0],\\n   [0, 1, 0, 0],\\n   [0, 1, 1, 0],\\n   [1, 1, 1, 1]\\n ]) ➞ 3\\n\\n tallest_skyscraper([\\n   [0, 1, 0, 0],\\n   [0, 1, 0, 0],\\n   [0, 1, 1, 0],\\n   [1, 1, 1, 1]\\n ]) ➞ 4\\n\\n tallest_skyscraper([\\n   [0, 0, 0, 0],\\n   [0, 0, 0, 0],\\n   [1, 1, 1, 0],\\n   [1, 1, 1, 1]\\n ]) ➞ 2\\n \""
      ]
     },
     "execution_count": 113,
     "metadata": {},
     "output_type": "execute_result"
    }
   ],
   "source": [
    "\n",
    "'''2. A city skyline can be represented as a 2-D list with 1s representing buildings. In the example below, the height of the tallest building is 4 (second-most right column).\n",
    " \n",
    " [[0, 0, 0, 0, 0, 0],\n",
    " [0, 0, 0, 0, 1, 0],\n",
    " [0, 0, 1, 0, 1, 0],\n",
    " [0, 1, 1, 1, 1, 0],\n",
    " [1, 1, 1, 1, 1, 1]]\n",
    " Create a function that takes a skyline (2-D list of 0's and 1's) and returns the height of the tallest skyscraper.\n",
    " \n",
    " Examples\n",
    " tallest_skyscraper([\n",
    "   [0, 0, 0, 0],\n",
    "   [0, 1, 0, 0],\n",
    "   [0, 1, 1, 0],\n",
    "   [1, 1, 1, 1]\n",
    " ]) ➞ 3\n",
    " \n",
    " tallest_skyscraper([\n",
    "   [0, 1, 0, 0],\n",
    "   [0, 1, 0, 0],\n",
    "   [0, 1, 1, 0],\n",
    "   [1, 1, 1, 1]\n",
    " ]) ➞ 4\n",
    " \n",
    " tallest_skyscraper([\n",
    "   [0, 0, 0, 0],\n",
    "   [0, 0, 0, 0],\n",
    "   [1, 1, 1, 0],\n",
    "   [1, 1, 1, 1]\n",
    " ]) ➞ 2\n",
    " '''\n"
   ]
  },
  {
   "cell_type": "code",
   "execution_count": 50,
   "id": "37434d89-d498-4a1a-84d3-df7cf817e44e",
   "metadata": {},
   "outputs": [
    {
     "name": "stdout",
     "output_type": "stream",
     "text": [
      "Tallest building 3 floors\n"
     ]
    }
   ],
   "source": [
    "L = [[0, 0, 0, 0, 0, 0],\n",
    " [0, 0, 0, 0, 0, 0],\n",
    " [0, 0, 0, 0, 1, 0],\n",
    " [0, 1, 1, 1, 1, 0],\n",
    " [1, 1, 1, 1, 1, 1]]\n",
    "\n",
    "le = len(L)\n",
    "p = 0\n",
    "\n",
    "for x in L:\n",
    "    \n",
    "    for y in x:\n",
    "        if y == 1:\n",
    "            print(f\"Tallest building {le} floors\")\n",
    "            p+=1\n",
    "            break\n",
    "    if p != 0:\n",
    "        \n",
    "        break\n",
    "    le-=1\n"
   ]
  },
  {
   "cell_type": "code",
   "execution_count": 73,
   "id": "429974b6-54e4-4cb7-b36a-6edf2494efa4",
   "metadata": {},
   "outputs": [
    {
     "name": "stdout",
     "output_type": "stream",
     "text": [
      "----- is - Wednesday!\n"
     ]
    }
   ],
   "source": [
    "'''3. Create a function that takes a string txt and censors any word from a given list lst. The text removed must be replaced by the given character char.\n",
    " \n",
    " Examples\n",
    " censor_string(\"Today is a Wednesday!\", [\"Today\", \"a\"], \"-\") ➞ \"----- is - Wednesday!\"\n",
    " \n",
    " censor_string(\"The cow jumped over the moon.\", [\"cow\", \"over\"], \"*\"), \"The *** jumped **** the moon.\")\n",
    " \n",
    " censor_string(\"Why did the chicken cross the road?\", [\"Did\", \"chicken\", \"road\"], \"*\") ➞ \"Why *** the ******* cross the ****?\"\n",
    " '''\n",
    "\n",
    "def gen(word,char):\n",
    "    le = len(word)\n",
    "    ans = \"\"\n",
    "    for i in range(le):\n",
    "        ans+=char\n",
    "    return ans\n",
    "\n",
    "def censor_string(string,strlst,char):\n",
    "    st_list = string.split(\" \")\n",
    "    ans = []\n",
    "    for i in st_list:\n",
    "        if i in strlst:\n",
    "            chars = gen(i,char)\n",
    "            ans.append(chars)\n",
    "        else:\n",
    "            ans.append(i)\n",
    "    res = \" \".join(ans)\n",
    "    print(res)\n",
    "censor_string(\"Today is a Wednesday!\", [\"Today\", \"a\"], \"-\")"
   ]
  },
  {
   "cell_type": "code",
   "execution_count": 78,
   "id": "ba4d90f9-ee11-4f2e-9377-e686af78fd8f",
   "metadata": {},
   "outputs": [
    {
     "data": {
      "text/plain": [
       "'Why did the +++++++ cross the ++++?'"
      ]
     },
     "execution_count": 78,
     "metadata": {},
     "output_type": "execute_result"
    }
   ],
   "source": [
    "def censor_string(text,strings,char):                         #SIR'S LOGIC\n",
    "    for string in strings:\n",
    "        if text.find(string) != -1:\n",
    "            text = text.replace(string,char*len(string))\n",
    "    return text\n",
    "\n",
    "censor_string(\"Why did the chicken cross the road?\", [\"Did\", \"chicken\", \"road\"], \"+\")"
   ]
  },
  {
   "cell_type": "code",
   "execution_count": 77,
   "id": "d74657b6-cd1f-4cd6-8e00-75518a16f26f",
   "metadata": {},
   "outputs": [
    {
     "name": "stdout",
     "output_type": "stream",
     "text": [
      "The @@@ jumped @@@@ the moon.\n"
     ]
    }
   ],
   "source": [
    "#REGULAR EXPRESSION\n",
    "\n",
    "def censor_string(text, strings, char):\n",
    "    import re\n",
    "    for string in strings:\n",
    "        sobj = re.search(r'(\\b{}\\b)'.format(string),text)\n",
    "        if sobj:\n",
    "            t = sobj.span(1)\n",
    "            repl = char*(t[1]-t[0])\n",
    "            text = re.sub(r'(\\b{}\\b)'.format(string),repl,text)\n",
    "    return text\n",
    "\n",
    "print(censor_string(\"The cow jumped over the moon.\", [\"cow\", \"over\"], \"@\"))"
   ]
  },
  {
   "cell_type": "code",
   "execution_count": 69,
   "id": "a50ee5a0-098f-44ca-bdea-12922f9d00c1",
   "metadata": {},
   "outputs": [
    {
     "name": "stdin",
     "output_type": "stream",
     "text": [
      "Enter the parse code:  Prince000SamRaj00034\n"
     ]
    },
    {
     "name": "stdout",
     "output_type": "stream",
     "text": [
      "{'name': 'Prince', 'lname': 'SamRaj', 'id': '34'}\n"
     ]
    }
   ],
   "source": [
    "'''4. Create a function which takes in an encoded string and returns a dictionary according to the following example:\n",
    " \n",
    " Examples\n",
    " parse_code(\"John000Doe000123\") ➞ {\n",
    "   \"first_name\": \"John\",\n",
    "   \"last_name\": \"Doe\",\n",
    "   \"id\": \"123\"\n",
    " }\n",
    " \n",
    " parse_code(\"michael0smith004331\") ➞ {\n",
    "   \"first_name\": \"michael\",\n",
    "   \"last_name\": \"smith\",\n",
    "   \"id\": \"4331\"\n",
    " }\n",
    " \n",
    " parse_code(\"Thomas00LEE0000043\") ➞ {\n",
    "   \"first_name\": \"Thomas\",\n",
    "   \"last_name\": \"LEE\",\n",
    "   \"id\": \"43\"\n",
    " }\n",
    " Notes\n",
    " The string will always be in the same format: first name, last name and id with zeros between them.\n",
    " id numbers will not contain any zeros.'''\n",
    "\n",
    "\n",
    "class Student:\n",
    "    def __init__(self,id,name,age):\n",
    "        self.name = name\n",
    "        self.lname = lname\n",
    "        self.id = id\n",
    "\n",
    "st = input(\"Enter the parse code: \")\n",
    "\n",
    "L = list(st.split(\"0\"))\n",
    "good = []\n",
    "for i in L:\n",
    "    if i != \"\":\n",
    "        good.append(i)\n",
    "\n",
    "Dic = {}\n",
    "\n",
    "Dic['name'] = good[0]\n",
    "Dic['lname'] = good[1]\n",
    "Dic['id'] = good[2]\n",
    "\n",
    "print(Dic)\n",
    "\n",
    "\n"
   ]
  },
  {
   "cell_type": "code",
   "execution_count": 71,
   "id": "fdebdd19-4123-45db-b2d3-0c67fce619f3",
   "metadata": {},
   "outputs": [
    {
     "name": "stdin",
     "output_type": "stream",
     "text": [
      "Enter the code jana000rdhanan0000076\n"
     ]
    },
    {
     "data": {
      "text/plain": [
       "{'firstname': 'jana', 'lastName': 'rdhanan', 'id': '76'}"
      ]
     },
     "execution_count": 71,
     "metadata": {},
     "output_type": "execute_result"
    }
   ],
   "source": [
    "def parse_code(string):                   #SIR'S LOGIC\n",
    "    k = ['firstname', 'lastName', 'id']\n",
    "    import re\n",
    "    val = re.split(r'0+',string)\n",
    "    return dict(zip(k,val))\n",
    "n = input(\"Enter the code\")\n",
    "D = parse_code(n)\n",
    "D"
   ]
  },
  {
   "cell_type": "code",
   "execution_count": 26,
   "id": "97d45c5d-476f-4e98-8f8f-bbadfde07c0d",
   "metadata": {},
   "outputs": [
    {
     "name": "stdout",
     "output_type": "stream",
     "text": [
      "[2, 9, 8, 3, 0, 0, 2]\n",
      "[0, 0, 2, 2, 3, 8, 9]\n",
      "9832200 - 22389 = 9809811\n"
     ]
    }
   ],
   "source": [
    "'''5.Given a number, return the difference between the maximum and minimum numbers that can be formed when the digits are rearranged.\n",
    " \n",
    " Examples\n",
    " rearranged_difference(972882) ➞ 760833\n",
    " # 988722 - 227889 = 760833\n",
    " \n",
    " rearranged_difference(3320707) ➞ 7709823\n",
    " # 7733200 - 23377 = 7709823\n",
    " \n",
    " rearranged_difference(90010) ➞ 90981\n",
    " # 91000 - 19 = 90981\n",
    " '''\n",
    "\n",
    "def Diff(N):\n",
    "    lst = []\n",
    "    i=0\n",
    "    temp = N\n",
    "    while N!= 0:\n",
    "        lst.append(N%10)\n",
    "        N = N//10\n",
    "        i+=1\n",
    "    print(lst)\n",
    "    \n",
    "    lst.sort()\n",
    "    print(lst)\n",
    "    inte = list(map(str, lst))\n",
    "    inte = ''.join(inte)\n",
    "    big = inte[::-1]\n",
    "    big = int(big)\n",
    "    inte = int(inte)\n",
    "    print(f\"{big} - {inte} = {big - inte}\")\n",
    "Diff(2003892)"
   ]
  }
 ],
 "metadata": {
  "kernelspec": {
   "display_name": "Python 3 (ipykernel)",
   "language": "python",
   "name": "python3"
  },
  "language_info": {
   "codemirror_mode": {
    "name": "ipython",
    "version": 3
   },
   "file_extension": ".py",
   "mimetype": "text/x-python",
   "name": "python",
   "nbconvert_exporter": "python",
   "pygments_lexer": "ipython3",
   "version": "3.13.2"
  }
 },
 "nbformat": 4,
 "nbformat_minor": 5
}
